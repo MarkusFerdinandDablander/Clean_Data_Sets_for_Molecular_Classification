{
 "cells": [
  {
   "cell_type": "markdown",
   "metadata": {
    "colab_type": "text",
    "collapsed": "true",
    "id": "6ponTMmSSEZs"
   },
   "source": [
    "# Import Packages"
   ]
  },
  {
   "cell_type": "code",
   "execution_count": 137,
   "metadata": {
    "colab": {},
    "colab_type": "code",
    "executionInfo": {
     "elapsed": 523,
     "status": "ok",
     "timestamp": 1599869431992,
     "user": {
      "displayName": "Markus Dablander",
      "photoUrl": "",
      "userId": "13467664559539683865"
     },
     "user_tz": -120
    },
    "id": "n2g6fdToSEZu"
   },
   "outputs": [],
   "source": [
    "# import packages\n",
    "\n",
    "# general tools\n",
    "import numpy as np\n",
    "import pandas as pd\n",
    "import matplotlib.pyplot as plt\n",
    "import math\n",
    "import sys\n",
    "from io import StringIO\n",
    "\n",
    "# RDkit\n",
    "from rdkit.Chem.Draw import IPythonConsole\n",
    "from rdkit.Chem import Draw\n",
    "from rdkit.Chem import AllChem as Chem"
   ]
  },
  {
   "cell_type": "markdown",
   "metadata": {},
   "source": [
    "# Prepare Data"
   ]
  },
  {
   "cell_type": "markdown",
   "metadata": {
    "collapsed": "true"
   },
   "source": [
    "## Prepare Data: ChEMBL_hERG_IC50_data"
   ]
  },
  {
   "cell_type": "code",
   "execution_count": 138,
   "metadata": {
    "colab": {
     "base_uri": "https://localhost:8080/",
     "height": 225
    },
    "colab_type": "code",
    "executionInfo": {
     "elapsed": 429,
     "status": "ok",
     "timestamp": 1599869437487,
     "user": {
      "displayName": "Markus Dablander",
      "photoUrl": "",
      "userId": "13467664559539683865"
     },
     "user_tz": -120
    },
    "id": "FpdNzlmISEaA",
    "outputId": "c37aae09-ccfe-4f8a-dccc-6006309b2074"
   },
   "outputs": [
    {
     "name": "stdout",
     "output_type": "stream",
     "text": [
      "Number of Molecules =  9887\n"
     ]
    },
    {
     "data": {
      "text/html": [
       "<div>\n",
       "<style scoped>\n",
       "    .dataframe tbody tr th:only-of-type {\n",
       "        vertical-align: middle;\n",
       "    }\n",
       "\n",
       "    .dataframe tbody tr th {\n",
       "        vertical-align: top;\n",
       "    }\n",
       "\n",
       "    .dataframe thead th {\n",
       "        text-align: right;\n",
       "    }\n",
       "</style>\n",
       "<table border=\"1\" class=\"dataframe\">\n",
       "  <thead>\n",
       "    <tr style=\"text-align: right;\">\n",
       "      <th></th>\n",
       "      <th>Smiles</th>\n",
       "      <th>Class</th>\n",
       "      <th>Value_type</th>\n",
       "      <th>Relation</th>\n",
       "      <th>Activity</th>\n",
       "      <th>Unit</th>\n",
       "      <th>Assay_type</th>\n",
       "      <th>Assay_id</th>\n",
       "    </tr>\n",
       "  </thead>\n",
       "  <tbody>\n",
       "    <tr>\n",
       "      <th>0</th>\n",
       "      <td>O=C(CCCN1CC=C(n2c(=O)[nH]c3ccccc32)CC1)c1ccc(F...</td>\n",
       "      <td>1</td>\n",
       "      <td>IC50</td>\n",
       "      <td>=</td>\n",
       "      <td>32.2</td>\n",
       "      <td>nM</td>\n",
       "      <td>F</td>\n",
       "      <td>CHEMBL691014</td>\n",
       "    </tr>\n",
       "    <tr>\n",
       "      <th>1</th>\n",
       "      <td>O=C(O[C@@H]1C[C@@H]2C[C@H]3C[C@H](C1)N2CC3=O)c...</td>\n",
       "      <td>1</td>\n",
       "      <td>IC50</td>\n",
       "      <td>=</td>\n",
       "      <td>5950.0</td>\n",
       "      <td>nM</td>\n",
       "      <td>F</td>\n",
       "      <td>CHEMBL691013</td>\n",
       "    </tr>\n",
       "    <tr>\n",
       "      <th>2</th>\n",
       "      <td>COc1ccc(CCN(C)CCCC(C#N)(c2ccc(OC)c(OC)c2)C(C)C...</td>\n",
       "      <td>1</td>\n",
       "      <td>IC50</td>\n",
       "      <td>=</td>\n",
       "      <td>143.0</td>\n",
       "      <td>nM</td>\n",
       "      <td>F</td>\n",
       "      <td>CHEMBL691014</td>\n",
       "    </tr>\n",
       "    <tr>\n",
       "      <th>3</th>\n",
       "      <td>CCCCN(CCCC)CCC(O)c1cc2c(Cl)cc(Cl)cc2c2cc(C(F)(...</td>\n",
       "      <td>1</td>\n",
       "      <td>IC50</td>\n",
       "      <td>=</td>\n",
       "      <td>196.0</td>\n",
       "      <td>nM</td>\n",
       "      <td>F</td>\n",
       "      <td>CHEMBL877203</td>\n",
       "    </tr>\n",
       "    <tr>\n",
       "      <th>4</th>\n",
       "      <td>CCOC(=O)N1CCC(=C2c3ccc(Cl)cc3CCc3cccnc32)CC1</td>\n",
       "      <td>1</td>\n",
       "      <td>IC50</td>\n",
       "      <td>=</td>\n",
       "      <td>173.0</td>\n",
       "      <td>nM</td>\n",
       "      <td>F</td>\n",
       "      <td>CHEMBL691014</td>\n",
       "    </tr>\n",
       "    <tr>\n",
       "      <th>...</th>\n",
       "      <td>...</td>\n",
       "      <td>...</td>\n",
       "      <td>...</td>\n",
       "      <td>...</td>\n",
       "      <td>...</td>\n",
       "      <td>...</td>\n",
       "      <td>...</td>\n",
       "      <td>...</td>\n",
       "    </tr>\n",
       "    <tr>\n",
       "      <th>9882</th>\n",
       "      <td>O=c1cc(NC2CCN(S(=O)(=O)C(F)(F)F)CC2)c2cc(C(c3c...</td>\n",
       "      <td>0</td>\n",
       "      <td>IC50</td>\n",
       "      <td>&gt;</td>\n",
       "      <td>50000.0</td>\n",
       "      <td>nM</td>\n",
       "      <td>B</td>\n",
       "      <td>CHEMBL4276288</td>\n",
       "    </tr>\n",
       "    <tr>\n",
       "      <th>9883</th>\n",
       "      <td>Cc1nc2n(c(=O)c1CCN1CCC(c3noc4cc(F)ccc34)CC1)CCCC2</td>\n",
       "      <td>1</td>\n",
       "      <td>IC50</td>\n",
       "      <td>=</td>\n",
       "      <td>167.1</td>\n",
       "      <td>nM</td>\n",
       "      <td>B</td>\n",
       "      <td>CHEMBL4276588</td>\n",
       "    </tr>\n",
       "    <tr>\n",
       "      <th>9884</th>\n",
       "      <td>O=C(CCCN1CCC(c2noc3cc(F)ccc23)CC1)c1cc2c3c(c1)...</td>\n",
       "      <td>1</td>\n",
       "      <td>IC50</td>\n",
       "      <td>=</td>\n",
       "      <td>823.7</td>\n",
       "      <td>nM</td>\n",
       "      <td>B</td>\n",
       "      <td>CHEMBL4276588</td>\n",
       "    </tr>\n",
       "    <tr>\n",
       "      <th>9885</th>\n",
       "      <td>O=C(CCCCN1CCC(c2noc3cc(F)ccc23)CC1)c1cc2c3c(c1...</td>\n",
       "      <td>1</td>\n",
       "      <td>IC50</td>\n",
       "      <td>=</td>\n",
       "      <td>2905.4</td>\n",
       "      <td>nM</td>\n",
       "      <td>B</td>\n",
       "      <td>CHEMBL4276588</td>\n",
       "    </tr>\n",
       "    <tr>\n",
       "      <th>9886</th>\n",
       "      <td>O=C1CCc2cc(C(O)CCCN3CCC(c4noc5cc(F)ccc45)CC3)c...</td>\n",
       "      <td>1</td>\n",
       "      <td>IC50</td>\n",
       "      <td>=</td>\n",
       "      <td>1899.6</td>\n",
       "      <td>nM</td>\n",
       "      <td>B</td>\n",
       "      <td>CHEMBL4276588</td>\n",
       "    </tr>\n",
       "  </tbody>\n",
       "</table>\n",
       "<p>9887 rows × 8 columns</p>\n",
       "</div>"
      ],
      "text/plain": [
       "                                                 Smiles  Class Value_type  \\\n",
       "0     O=C(CCCN1CC=C(n2c(=O)[nH]c3ccccc32)CC1)c1ccc(F...      1       IC50   \n",
       "1     O=C(O[C@@H]1C[C@@H]2C[C@H]3C[C@H](C1)N2CC3=O)c...      1       IC50   \n",
       "2     COc1ccc(CCN(C)CCCC(C#N)(c2ccc(OC)c(OC)c2)C(C)C...      1       IC50   \n",
       "3     CCCCN(CCCC)CCC(O)c1cc2c(Cl)cc(Cl)cc2c2cc(C(F)(...      1       IC50   \n",
       "4          CCOC(=O)N1CCC(=C2c3ccc(Cl)cc3CCc3cccnc32)CC1      1       IC50   \n",
       "...                                                 ...    ...        ...   \n",
       "9882  O=c1cc(NC2CCN(S(=O)(=O)C(F)(F)F)CC2)c2cc(C(c3c...      0       IC50   \n",
       "9883  Cc1nc2n(c(=O)c1CCN1CCC(c3noc4cc(F)ccc34)CC1)CCCC2      1       IC50   \n",
       "9884  O=C(CCCN1CCC(c2noc3cc(F)ccc23)CC1)c1cc2c3c(c1)...      1       IC50   \n",
       "9885  O=C(CCCCN1CCC(c2noc3cc(F)ccc23)CC1)c1cc2c3c(c1...      1       IC50   \n",
       "9886  O=C1CCc2cc(C(O)CCCN3CCC(c4noc5cc(F)ccc45)CC3)c...      1       IC50   \n",
       "\n",
       "     Relation  Activity Unit Assay_type       Assay_id  \n",
       "0           =      32.2   nM          F   CHEMBL691014  \n",
       "1           =    5950.0   nM          F   CHEMBL691013  \n",
       "2           =     143.0   nM          F   CHEMBL691014  \n",
       "3           =     196.0   nM          F   CHEMBL877203  \n",
       "4           =     173.0   nM          F   CHEMBL691014  \n",
       "...       ...       ...  ...        ...            ...  \n",
       "9882        >   50000.0   nM          B  CHEMBL4276288  \n",
       "9883        =     167.1   nM          B  CHEMBL4276588  \n",
       "9884        =     823.7   nM          B  CHEMBL4276588  \n",
       "9885        =    2905.4   nM          B  CHEMBL4276588  \n",
       "9886        =    1899.6   nM          B  CHEMBL4276588  \n",
       "\n",
       "[9887 rows x 8 columns]"
      ]
     },
     "metadata": {},
     "output_type": "display_data"
    }
   ],
   "source": [
    "# import data\n",
    "\n",
    "dataframe = pd.read_csv(\"data/ChEMBL_hERG/ChEMBL_hERG_IC50_data.csv\")\n",
    "\n",
    "print(\"Number of Molecules = \", len(dataframe))\n",
    "display(dataframe)"
   ]
  },
  {
   "cell_type": "code",
   "execution_count": 139,
   "metadata": {
    "colab": {
     "base_uri": "https://localhost:8080/",
     "height": 276
    },
    "colab_type": "code",
    "executionInfo": {
     "elapsed": 2024,
     "status": "ok",
     "timestamp": 1599858873012,
     "user": {
      "displayName": "Markus Dablander",
      "photoUrl": "",
      "userId": "13467664559539683865"
     },
     "user_tz": -120
    },
    "id": "BIm1m_9NSEaG",
    "outputId": "b8cea951-b524-4fc0-c760-db6be2b78673"
   },
   "outputs": [
    {
     "data": {
      "text/html": [
       "<div>\n",
       "<style scoped>\n",
       "    .dataframe tbody tr th:only-of-type {\n",
       "        vertical-align: middle;\n",
       "    }\n",
       "\n",
       "    .dataframe tbody tr th {\n",
       "        vertical-align: top;\n",
       "    }\n",
       "\n",
       "    .dataframe thead th {\n",
       "        text-align: right;\n",
       "    }\n",
       "</style>\n",
       "<table border=\"1\" class=\"dataframe\">\n",
       "  <thead>\n",
       "    <tr style=\"text-align: right;\">\n",
       "      <th></th>\n",
       "      <th>Smiles</th>\n",
       "      <th>Class</th>\n",
       "      <th>Value_type</th>\n",
       "      <th>Relation</th>\n",
       "      <th>Activity</th>\n",
       "      <th>Unit</th>\n",
       "      <th>Assay_type</th>\n",
       "      <th>Assay_id</th>\n",
       "    </tr>\n",
       "  </thead>\n",
       "  <tbody>\n",
       "  </tbody>\n",
       "</table>\n",
       "</div>"
      ],
      "text/plain": [
       "Empty DataFrame\n",
       "Columns: [Smiles, Class, Value_type, Relation, Activity, Unit, Assay_type, Assay_id]\n",
       "Index: []"
      ]
     },
     "metadata": {},
     "output_type": "display_data"
    },
    {
     "data": {
      "text/html": [
       "<div>\n",
       "<style scoped>\n",
       "    .dataframe tbody tr th:only-of-type {\n",
       "        vertical-align: middle;\n",
       "    }\n",
       "\n",
       "    .dataframe tbody tr th {\n",
       "        vertical-align: top;\n",
       "    }\n",
       "\n",
       "    .dataframe thead th {\n",
       "        text-align: right;\n",
       "    }\n",
       "</style>\n",
       "<table border=\"1\" class=\"dataframe\">\n",
       "  <thead>\n",
       "    <tr style=\"text-align: right;\">\n",
       "      <th></th>\n",
       "      <th>Smiles</th>\n",
       "      <th>Class</th>\n",
       "      <th>Value_type</th>\n",
       "      <th>Relation</th>\n",
       "      <th>Activity</th>\n",
       "      <th>Unit</th>\n",
       "      <th>Assay_type</th>\n",
       "      <th>Assay_id</th>\n",
       "    </tr>\n",
       "  </thead>\n",
       "  <tbody>\n",
       "  </tbody>\n",
       "</table>\n",
       "</div>"
      ],
      "text/plain": [
       "Empty DataFrame\n",
       "Columns: [Smiles, Class, Value_type, Relation, Activity, Unit, Assay_type, Assay_id]\n",
       "Index: []"
      ]
     },
     "metadata": {},
     "output_type": "display_data"
    },
    {
     "data": {
      "text/html": [
       "<div>\n",
       "<style scoped>\n",
       "    .dataframe tbody tr th:only-of-type {\n",
       "        vertical-align: middle;\n",
       "    }\n",
       "\n",
       "    .dataframe tbody tr th {\n",
       "        vertical-align: top;\n",
       "    }\n",
       "\n",
       "    .dataframe thead th {\n",
       "        text-align: right;\n",
       "    }\n",
       "</style>\n",
       "<table border=\"1\" class=\"dataframe\">\n",
       "  <thead>\n",
       "    <tr style=\"text-align: right;\">\n",
       "      <th></th>\n",
       "      <th>Smiles</th>\n",
       "      <th>Class</th>\n",
       "      <th>Value_type</th>\n",
       "      <th>Relation</th>\n",
       "      <th>Activity</th>\n",
       "      <th>Unit</th>\n",
       "      <th>Assay_type</th>\n",
       "      <th>Assay_id</th>\n",
       "    </tr>\n",
       "  </thead>\n",
       "  <tbody>\n",
       "  </tbody>\n",
       "</table>\n",
       "</div>"
      ],
      "text/plain": [
       "Empty DataFrame\n",
       "Columns: [Smiles, Class, Value_type, Relation, Activity, Unit, Assay_type, Assay_id]\n",
       "Index: []"
      ]
     },
     "metadata": {},
     "output_type": "display_data"
    },
    {
     "data": {
      "text/html": [
       "<div>\n",
       "<style scoped>\n",
       "    .dataframe tbody tr th:only-of-type {\n",
       "        vertical-align: middle;\n",
       "    }\n",
       "\n",
       "    .dataframe tbody tr th {\n",
       "        vertical-align: top;\n",
       "    }\n",
       "\n",
       "    .dataframe thead th {\n",
       "        text-align: right;\n",
       "    }\n",
       "</style>\n",
       "<table border=\"1\" class=\"dataframe\">\n",
       "  <thead>\n",
       "    <tr style=\"text-align: right;\">\n",
       "      <th></th>\n",
       "      <th>Smiles</th>\n",
       "      <th>Class</th>\n",
       "      <th>Value_type</th>\n",
       "      <th>Relation</th>\n",
       "      <th>Activity</th>\n",
       "      <th>Unit</th>\n",
       "      <th>Assay_type</th>\n",
       "      <th>Assay_id</th>\n",
       "    </tr>\n",
       "  </thead>\n",
       "  <tbody>\n",
       "  </tbody>\n",
       "</table>\n",
       "</div>"
      ],
      "text/plain": [
       "Empty DataFrame\n",
       "Columns: [Smiles, Class, Value_type, Relation, Activity, Unit, Assay_type, Assay_id]\n",
       "Index: []"
      ]
     },
     "metadata": {},
     "output_type": "display_data"
    },
    {
     "data": {
      "text/html": [
       "<div>\n",
       "<style scoped>\n",
       "    .dataframe tbody tr th:only-of-type {\n",
       "        vertical-align: middle;\n",
       "    }\n",
       "\n",
       "    .dataframe tbody tr th {\n",
       "        vertical-align: top;\n",
       "    }\n",
       "\n",
       "    .dataframe thead th {\n",
       "        text-align: right;\n",
       "    }\n",
       "</style>\n",
       "<table border=\"1\" class=\"dataframe\">\n",
       "  <thead>\n",
       "    <tr style=\"text-align: right;\">\n",
       "      <th></th>\n",
       "      <th>Smiles</th>\n",
       "      <th>Class</th>\n",
       "      <th>Value_type</th>\n",
       "      <th>Relation</th>\n",
       "      <th>Activity</th>\n",
       "      <th>Unit</th>\n",
       "      <th>Assay_type</th>\n",
       "      <th>Assay_id</th>\n",
       "    </tr>\n",
       "  </thead>\n",
       "  <tbody>\n",
       "  </tbody>\n",
       "</table>\n",
       "</div>"
      ],
      "text/plain": [
       "Empty DataFrame\n",
       "Columns: [Smiles, Class, Value_type, Relation, Activity, Unit, Assay_type, Assay_id]\n",
       "Index: []"
      ]
     },
     "metadata": {},
     "output_type": "display_data"
    },
    {
     "data": {
      "text/html": [
       "<div>\n",
       "<style scoped>\n",
       "    .dataframe tbody tr th:only-of-type {\n",
       "        vertical-align: middle;\n",
       "    }\n",
       "\n",
       "    .dataframe tbody tr th {\n",
       "        vertical-align: top;\n",
       "    }\n",
       "\n",
       "    .dataframe thead th {\n",
       "        text-align: right;\n",
       "    }\n",
       "</style>\n",
       "<table border=\"1\" class=\"dataframe\">\n",
       "  <thead>\n",
       "    <tr style=\"text-align: right;\">\n",
       "      <th></th>\n",
       "      <th>Smiles</th>\n",
       "      <th>Class</th>\n",
       "      <th>Value_type</th>\n",
       "      <th>Relation</th>\n",
       "      <th>Activity</th>\n",
       "      <th>Unit</th>\n",
       "      <th>Assay_type</th>\n",
       "      <th>Assay_id</th>\n",
       "    </tr>\n",
       "  </thead>\n",
       "  <tbody>\n",
       "  </tbody>\n",
       "</table>\n",
       "</div>"
      ],
      "text/plain": [
       "Empty DataFrame\n",
       "Columns: [Smiles, Class, Value_type, Relation, Activity, Unit, Assay_type, Assay_id]\n",
       "Index: []"
      ]
     },
     "metadata": {},
     "output_type": "display_data"
    },
    {
     "data": {
      "text/html": [
       "<div>\n",
       "<style scoped>\n",
       "    .dataframe tbody tr th:only-of-type {\n",
       "        vertical-align: middle;\n",
       "    }\n",
       "\n",
       "    .dataframe tbody tr th {\n",
       "        vertical-align: top;\n",
       "    }\n",
       "\n",
       "    .dataframe thead th {\n",
       "        text-align: right;\n",
       "    }\n",
       "</style>\n",
       "<table border=\"1\" class=\"dataframe\">\n",
       "  <thead>\n",
       "    <tr style=\"text-align: right;\">\n",
       "      <th></th>\n",
       "      <th>Smiles</th>\n",
       "      <th>Class</th>\n",
       "      <th>Value_type</th>\n",
       "      <th>Relation</th>\n",
       "      <th>Activity</th>\n",
       "      <th>Unit</th>\n",
       "      <th>Assay_type</th>\n",
       "      <th>Assay_id</th>\n",
       "    </tr>\n",
       "  </thead>\n",
       "  <tbody>\n",
       "  </tbody>\n",
       "</table>\n",
       "</div>"
      ],
      "text/plain": [
       "Empty DataFrame\n",
       "Columns: [Smiles, Class, Value_type, Relation, Activity, Unit, Assay_type, Assay_id]\n",
       "Index: []"
      ]
     },
     "metadata": {},
     "output_type": "display_data"
    },
    {
     "data": {
      "text/html": [
       "<div>\n",
       "<style scoped>\n",
       "    .dataframe tbody tr th:only-of-type {\n",
       "        vertical-align: middle;\n",
       "    }\n",
       "\n",
       "    .dataframe tbody tr th {\n",
       "        vertical-align: top;\n",
       "    }\n",
       "\n",
       "    .dataframe thead th {\n",
       "        text-align: right;\n",
       "    }\n",
       "</style>\n",
       "<table border=\"1\" class=\"dataframe\">\n",
       "  <thead>\n",
       "    <tr style=\"text-align: right;\">\n",
       "      <th></th>\n",
       "      <th>Smiles</th>\n",
       "      <th>Class</th>\n",
       "      <th>Value_type</th>\n",
       "      <th>Relation</th>\n",
       "      <th>Activity</th>\n",
       "      <th>Unit</th>\n",
       "      <th>Assay_type</th>\n",
       "      <th>Assay_id</th>\n",
       "    </tr>\n",
       "  </thead>\n",
       "  <tbody>\n",
       "  </tbody>\n",
       "</table>\n",
       "</div>"
      ],
      "text/plain": [
       "Empty DataFrame\n",
       "Columns: [Smiles, Class, Value_type, Relation, Activity, Unit, Assay_type, Assay_id]\n",
       "Index: []"
      ]
     },
     "metadata": {},
     "output_type": "display_data"
    }
   ],
   "source": [
    "# check for missing values (i.e. NA values)\n",
    "\n",
    "display(dataframe[dataframe['Smiles'].isnull()])\n",
    "display(dataframe[dataframe['Class'].isnull()])\n",
    "display(dataframe[dataframe['Value_type'].isnull()])\n",
    "display(dataframe[dataframe['Relation'].isnull()])\n",
    "display(dataframe[dataframe['Activity'].isnull()])\n",
    "display(dataframe[dataframe['Unit'].isnull()])\n",
    "display(dataframe[dataframe['Assay_type'].isnull()])\n",
    "display(dataframe[dataframe['Assay_id'].isnull()])"
   ]
  },
  {
   "cell_type": "code",
   "execution_count": 140,
   "metadata": {},
   "outputs": [
    {
     "name": "stdout",
     "output_type": "stream",
     "text": [
      "9887\n"
     ]
    }
   ],
   "source": [
    "# filter out Smiles which produce error messages in rdkit\n",
    "\n",
    "bad_smiles = []\n",
    "\n",
    "for k in range(len(dataframe[\"Smiles\"].values)):\n",
    "\n",
    "    smiles = dataframe[\"Smiles\"].values[k]\n",
    "\n",
    "    sio = sys.stderr = StringIO()\n",
    "    Chem.MolFromSmiles(smiles)\n",
    "    error_message = sio.getvalue()\n",
    "    \n",
    "    if error_message != \"\" and error_message[0:13] != \"RDKit WARNING\":\n",
    "        #print(error_message)\n",
    "        #print(smiles, \"\\n \\n \\n \\n\")\n",
    "        bad_smiles.append(smiles)\n",
    "\n",
    "dataframe = dataframe[dataframe[\"Smiles\"].isin(bad_smiles) == False]\n",
    "\n",
    "print(len(dataframe))"
   ]
  },
  {
   "cell_type": "code",
   "execution_count": 141,
   "metadata": {},
   "outputs": [
    {
     "name": "stdout",
     "output_type": "stream",
     "text": [
      "N_positive =  5013\n",
      "N_negative =  4874\n",
      "Total fraction of positives =  0.5070294325882472\n"
     ]
    }
   ],
   "source": [
    "# compute number of positive and negative instances\n",
    "\n",
    "N_positive = int(np.sum(dataframe[\"Class\"].values))\n",
    "N_negative = len(dataframe[\"Class\"]) - N_positive\n",
    "\n",
    "print(\"N_positive = \", N_positive)\n",
    "print(\"N_negative = \", N_negative)\n",
    "print(\"Total fraction of positives = \", N_positive/(N_positive + N_negative))"
   ]
  },
  {
   "cell_type": "code",
   "execution_count": 9,
   "metadata": {
    "colab": {},
    "colab_type": "code",
    "executionInfo": {
     "elapsed": 645,
     "status": "ok",
     "timestamp": 1599869440512,
     "user": {
      "displayName": "Markus Dablander",
      "photoUrl": "",
      "userId": "13467664559539683865"
     },
     "user_tz": -120
    },
    "id": "X2XcwuHnSEaT"
   },
   "outputs": [
    {
     "name": "stdout",
     "output_type": "stream",
     "text": [
      "N_positive_delete =  139\n"
     ]
    }
   ],
   "source": [
    "# create balanced data set by undersampling the positive class so that number of molecules becomes exactly the same in each class\n",
    "\n",
    "N_positive_delete = len(dataframe[\"Class\"].values) - 2*len(dataframe[dataframe[\"Class\"] == 0].values)\n",
    "\n",
    "dataframe = dataframe.drop(dataframe[dataframe[\"Class\"] == 1].sample(n = N_positive_delete, random_state = 42).index)\n",
    "\n",
    "print(\"N_positive_delete = \", N_positive_delete)"
   ]
  },
  {
   "cell_type": "code",
   "execution_count": 10,
   "metadata": {
    "colab": {},
    "colab_type": "code",
    "id": "38gzsYLYSEaY"
   },
   "outputs": [],
   "source": [
    "# reduce size of data set if wanted\n",
    "\n",
    "N_delete = 4174 + 200 - 500\n",
    "dataframe = dataframe.drop(dataframe[dataframe[\"Class\"] == 1].sample(n = N_delete, random_state = 42).index)\n",
    "dataframe = dataframe.drop(dataframe[dataframe[\"Class\"] == 0].sample(n = N_delete, random_state = 42).index)"
   ]
  },
  {
   "cell_type": "code",
   "execution_count": 11,
   "metadata": {},
   "outputs": [
    {
     "name": "stdout",
     "output_type": "stream",
     "text": [
      "Number of Molecules =  2000\n"
     ]
    }
   ],
   "source": [
    "# define number of molecules\n",
    "\n",
    "N_molecules = len(dataframe[\"Class\"].values)\n",
    "\n",
    "print(\"Number of Molecules = \", N_molecules)"
   ]
  },
  {
   "cell_type": "code",
   "execution_count": 12,
   "metadata": {
    "colab": {
     "base_uri": "https://localhost:8080/",
     "height": 459
    },
    "colab_type": "code",
    "executionInfo": {
     "elapsed": 3083,
     "status": "ok",
     "timestamp": 1599602486383,
     "user": {
      "displayName": "Markus Dablander",
      "photoUrl": "",
      "userId": "13467664559539683865"
     },
     "user_tz": -120
    },
    "id": "3Cioh0NKSEal",
    "outputId": "48b2b178-cc92-4cc0-b8db-c1cec4d138f4"
   },
   "outputs": [
    {
     "name": "stdout",
     "output_type": "stream",
     "text": [
      "1451\n"
     ]
    },
    {
     "data": {
      "image/png": "[encoded data removed]",
      "text/plain": [
       "<Figure size 1080x432 with 1 Axes>"
      ]
     },
     "metadata": {
      "needs_background": "light"
     },
     "output_type": "display_data"
    }
   ],
   "source": [
    "# plot histogram for IC50 values for all IC50 values smaller than 100000\n",
    "\n",
    "y_vals = dataframe[dataframe[\"Relation\"] == \"=\"].loc[:,\"Activity\"].values\n",
    "y_vals = y_vals[y_vals <100000]\n",
    "print(len(y_vals))\n",
    "\n",
    "plt.figure(figsize = (15,6))\n",
    "plt.hist(y_vals, bins = 150)\n",
    "plt.xlabel(\"\\n  IC50 Values for hERG Inhibition\", fontsize = 16)\n",
    "plt.ylabel(\"Number of Compounds \\n\", fontsize = 16)\n",
    "plt.xticks(fontsize=14, rotation=0)\n",
    "plt.yticks(fontsize=14, rotation=0)\n",
    "\n",
    "plt.tight_layout()\n",
    "plt.plot();"
   ]
  },
  {
   "cell_type": "code",
   "execution_count": 13,
   "metadata": {
    "colab": {
     "base_uri": "https://localhost:8080/",
     "height": 90
    },
    "colab_type": "code",
    "executionInfo": {
     "elapsed": 771,
     "status": "ok",
     "timestamp": 1599869443976,
     "user": {
      "displayName": "Markus Dablander",
      "photoUrl": "",
      "userId": "13467664559539683865"
     },
     "user_tz": -120
    },
    "id": "M1aIBqplSEaq",
    "outputId": "d9c43474-c7b7-4622-da65-6ebe36c9c3a1"
   },
   "outputs": [
    {
     "name": "stdout",
     "output_type": "stream",
     "text": [
      "Number of Positives =  1000\n",
      "Fraction of Positives =  0.5\n",
      "Shape of y =  (2000,)\n",
      "Shape of Y =  (2000, 1)\n",
      "\n",
      " y =  [1 1 1 ... 1 0 0]\n"
     ]
    }
   ],
   "source": [
    "# construct target variable y/Y (hERG inhibition)\n",
    "\n",
    "# extract labels\n",
    "y = dataframe.loc[:,\"Class\"].values\n",
    "Y = np.reshape(y, (len(y), 1))\n",
    "\n",
    "print(\"Number of Positives = \", np.sum(y))\n",
    "print(\"Fraction of Positives = \", np.sum(y)/N_molecules)\n",
    "\n",
    "\n",
    "print(\"Shape of y = \", y.shape)\n",
    "print(\"Shape of Y = \", Y.shape)\n",
    "\n",
    "print(\"\\n y = \", y)\n"
   ]
  },
  {
   "cell_type": "code",
   "execution_count": 14,
   "metadata": {
    "colab": {
     "base_uri": "https://localhost:8080/",
     "height": 222
    },
    "colab_type": "code",
    "executionInfo": {
     "elapsed": 444,
     "status": "ok",
     "timestamp": 1599869444377,
     "user": {
      "displayName": "Markus Dablander",
      "photoUrl": "",
      "userId": "13467664559539683865"
     },
     "user_tz": -120
    },
    "id": "PB82_jFUSEav",
    "outputId": "f151bbf0-8894-45c1-bd95-e747bc7c74b5"
   },
   "outputs": [
    {
     "name": "stdout",
     "output_type": "stream",
     "text": [
      "                  Smiles String\n",
      "CCCCN(CCCC)CCC(O)c1cc2c(Cl)cc(Cl)cc2c2cc(C(F)(F)F)ccc12\n"
     ]
    },
    {
     "data": {
      "image/png": "[encoded data removed]",
      "text/plain": [
       "<rdkit.Chem.rdchem.Mol at 0x7fee0cec9440>"
      ]
     },
     "metadata": {},
     "output_type": "display_data"
    },
    {
     "name": "stdout",
     "output_type": "stream",
     "text": [
      "Shape of x_smiles =  (2000,)\n",
      "Shape of X_smiles =  (2000, 1)\n",
      "\n",
      " x_smiles =  ['CCCCN(CCCC)CCC(O)c1cc2c(Cl)cc(Cl)cc2c2cc(C(F)(F)F)ccc12'\n",
      " 'CCOC(=O)N1CCC(=C2c3ccc(Cl)cc3CCc3cccnc32)CC1'\n",
      " 'O=C1NCCN1CCN1CCC(c2cn(-c3ccc(F)cc3)c3ccc(Cl)cc23)CC1'\n",
      " 'CN(C)CCC=C1c2ccccc2CCc2ccccc21'\n",
      " 'COc1c(N2CCNC(C)C2)c(F)cc2c(=O)c(C(=O)O)cn(C3CC3)c12'\n",
      " 'CC(C)COCC(CN(Cc1ccccc1)c1ccccc1)N1CCCC1'\n",
      " 'CN(CCOc1ccc(NS(C)(=O)=O)cc1)CCc1ccc(NS(C)(=O)=O)cc1'\n",
      " 'Cc1c(F)c(N2CCNC(C)C2)cc2c1c(=O)c(C(=O)O)cn2C1CC1'\n",
      " 'C1CCC(C(CC2CCCCN2)C2CCCCC2)CC1'\n",
      " 'CN1CCN(CCCCN2C(=O)CN(/N=C/c3ccc(-c4ccc(Cl)cc4)o3)C2=O)CC1']\n"
     ]
    }
   ],
   "source": [
    "# extract Smiles strings\n",
    "\n",
    "X_smiles = np.reshape(dataframe[\"Smiles\"].values, (N_molecules, 1))\n",
    "x_smiles = X_smiles[:,0]\n",
    "\n",
    "print(\"                  Smiles String\")\n",
    "print(X_smiles[0:1][0][0])\n",
    "\n",
    "for s in x_smiles[0:1]:\n",
    "    molecule = Chem.MolFromSmiles(s)\n",
    "    display(molecule)\n",
    "    \n",
    "print(\"Shape of x_smiles = \", x_smiles.shape)\n",
    "print(\"Shape of X_smiles = \", X_smiles.shape)\n",
    "\n",
    "print(\"\\n x_smiles = \", x_smiles[0:10])"
   ]
  },
  {
   "cell_type": "markdown",
   "metadata": {
    "collapsed": "true"
   },
   "source": [
    "## Prepare Data: ChEMBL_SARS_CoV_2_Caco_2"
   ]
  },
  {
   "cell_type": "code",
   "execution_count": 142,
   "metadata": {
    "colab": {
     "base_uri": "https://localhost:8080/",
     "height": 225
    },
    "colab_type": "code",
    "executionInfo": {
     "elapsed": 429,
     "status": "ok",
     "timestamp": 1599869437487,
     "user": {
      "displayName": "Markus Dablander",
      "photoUrl": "",
      "userId": "13467664559539683865"
     },
     "user_tz": -120
    },
    "id": "FpdNzlmISEaA",
    "outputId": "c37aae09-ccfe-4f8a-dccc-6006309b2074"
   },
   "outputs": [
    {
     "name": "stdout",
     "output_type": "stream",
     "text": [
      "Number of Molecules =  5632\n"
     ]
    },
    {
     "data": {
      "text/html": [
       "<div>\n",
       "<style scoped>\n",
       "    .dataframe tbody tr th:only-of-type {\n",
       "        vertical-align: middle;\n",
       "    }\n",
       "\n",
       "    .dataframe tbody tr th {\n",
       "        vertical-align: top;\n",
       "    }\n",
       "\n",
       "    .dataframe thead th {\n",
       "        text-align: right;\n",
       "    }\n",
       "</style>\n",
       "<table border=\"1\" class=\"dataframe\">\n",
       "  <thead>\n",
       "    <tr style=\"text-align: right;\">\n",
       "      <th></th>\n",
       "      <th>Molecule ChEMBL ID</th>\n",
       "      <th>Molecule Name</th>\n",
       "      <th>Molecule Max Phase</th>\n",
       "      <th>Molecular Weight</th>\n",
       "      <th>#RO5 Violations</th>\n",
       "      <th>AlogP</th>\n",
       "      <th>Compound Key</th>\n",
       "      <th>Smiles</th>\n",
       "      <th>Standard Relation</th>\n",
       "      <th>Standard Value</th>\n",
       "      <th>Standard Units</th>\n",
       "    </tr>\n",
       "  </thead>\n",
       "  <tbody>\n",
       "    <tr>\n",
       "      <th>0</th>\n",
       "      <td>CHEMBL4303167</td>\n",
       "      <td>NaN</td>\n",
       "      <td>0</td>\n",
       "      <td>1093.33</td>\n",
       "      <td>None</td>\n",
       "      <td>None</td>\n",
       "      <td>CASPOFUNGIN (ACETATE)</td>\n",
       "      <td>CCC(C)CC(C)CCCCCCCCC(=O)N[C@H]1C[C@@H](O)[C@@H...</td>\n",
       "      <td>='</td>\n",
       "      <td>39.79</td>\n",
       "      <td>%</td>\n",
       "    </tr>\n",
       "    <tr>\n",
       "      <th>1</th>\n",
       "      <td>CHEMBL299879</td>\n",
       "      <td>NaN</td>\n",
       "      <td>0</td>\n",
       "      <td>471.62</td>\n",
       "      <td>0</td>\n",
       "      <td>04.07</td>\n",
       "      <td>NTNCB</td>\n",
       "      <td>O=[N+]([O-])c1ccccc1S(=O)(=O)NC[C@H]1CC[C@H](C...</td>\n",
       "      <td>='</td>\n",
       "      <td>92.74</td>\n",
       "      <td>%</td>\n",
       "    </tr>\n",
       "    <tr>\n",
       "      <th>2</th>\n",
       "      <td>CHEMBL555654</td>\n",
       "      <td>ADIPHENINE HYDROCHLORIDE</td>\n",
       "      <td>0</td>\n",
       "      <td>347.89</td>\n",
       "      <td>0</td>\n",
       "      <td>3.7</td>\n",
       "      <td>ADIPHENINE HYDROCHLORIDE</td>\n",
       "      <td>CCN(CC)CCOC(=O)C(c1ccccc1)c1ccccc1.Cl</td>\n",
       "      <td>='</td>\n",
       "      <td>0.38</td>\n",
       "      <td>%</td>\n",
       "    </tr>\n",
       "    <tr>\n",
       "      <th>3</th>\n",
       "      <td>CHEMBL173929</td>\n",
       "      <td>LUTEIN</td>\n",
       "      <td>3</td>\n",
       "      <td>568.89</td>\n",
       "      <td>2</td>\n",
       "      <td>10.4</td>\n",
       "      <td>LUTEIN</td>\n",
       "      <td>CC1=C[C@H](O)CC(C)(C)[C@H]1/C=C/C(C)=C/C=C/C(C...</td>\n",
       "      <td>='</td>\n",
       "      <td>17.37</td>\n",
       "      <td>%</td>\n",
       "    </tr>\n",
       "    <tr>\n",
       "      <th>4</th>\n",
       "      <td>CHEMBL435734</td>\n",
       "      <td>ARCTIGENIN</td>\n",
       "      <td>0</td>\n",
       "      <td>372.42</td>\n",
       "      <td>0</td>\n",
       "      <td>2.99</td>\n",
       "      <td>Arctigenin</td>\n",
       "      <td>COc1cc(C[C@H]2C(=O)OC[C@@H]2Cc2ccc(OC)c(OC)c2)...</td>\n",
       "      <td>='</td>\n",
       "      <td>0.61</td>\n",
       "      <td>%</td>\n",
       "    </tr>\n",
       "    <tr>\n",
       "      <th>...</th>\n",
       "      <td>...</td>\n",
       "      <td>...</td>\n",
       "      <td>...</td>\n",
       "      <td>...</td>\n",
       "      <td>...</td>\n",
       "      <td>...</td>\n",
       "      <td>...</td>\n",
       "      <td>...</td>\n",
       "      <td>...</td>\n",
       "      <td>...</td>\n",
       "      <td>...</td>\n",
       "    </tr>\n",
       "    <tr>\n",
       "      <th>5627</th>\n",
       "      <td>CHEMBL1449747</td>\n",
       "      <td>NaN</td>\n",
       "      <td>0</td>\n",
       "      <td>353.23</td>\n",
       "      <td>0</td>\n",
       "      <td>4.36</td>\n",
       "      <td>MDIVI-1</td>\n",
       "      <td>COc1cc(-n2c(=S)[nH]c3ccccc3c2=O)c(Cl)cc1Cl</td>\n",
       "      <td>='</td>\n",
       "      <td>34.05</td>\n",
       "      <td>%</td>\n",
       "    </tr>\n",
       "    <tr>\n",
       "      <th>5628</th>\n",
       "      <td>CHEMBL1134</td>\n",
       "      <td>DECAMETHONIUM BROMIDE</td>\n",
       "      <td>4</td>\n",
       "      <td>418.3</td>\n",
       "      <td>0</td>\n",
       "      <td>3.52</td>\n",
       "      <td>DECAMETHONIUM BROMIDE</td>\n",
       "      <td>C[N+](C)(C)CCCCCCCCCC[N+](C)(C)C.[Br-].[Br-]</td>\n",
       "      <td>='</td>\n",
       "      <td>-0.43</td>\n",
       "      <td>%</td>\n",
       "    </tr>\n",
       "    <tr>\n",
       "      <th>5629</th>\n",
       "      <td>CHEMBL1564377</td>\n",
       "      <td>NaN</td>\n",
       "      <td>0</td>\n",
       "      <td>116.12</td>\n",
       "      <td>0</td>\n",
       "      <td>-1.06</td>\n",
       "      <td>HA-966-(S)-(-)</td>\n",
       "      <td>N[C@H]1CCN(O)C1=O</td>\n",
       "      <td>='</td>\n",
       "      <td>9.13</td>\n",
       "      <td>%</td>\n",
       "    </tr>\n",
       "    <tr>\n",
       "      <th>5630</th>\n",
       "      <td>CHEMBL1601669</td>\n",
       "      <td>ALFACALCIDOL</td>\n",
       "      <td>4</td>\n",
       "      <td>400.65</td>\n",
       "      <td>1</td>\n",
       "      <td>6.59</td>\n",
       "      <td>ALFACALCIDOL</td>\n",
       "      <td>C=C1/C(=C\\C=C2/CCC[C@@]3(C)[C@H]2CC[C@@H]3[C@H...</td>\n",
       "      <td>='</td>\n",
       "      <td>-5.42</td>\n",
       "      <td>%</td>\n",
       "    </tr>\n",
       "    <tr>\n",
       "      <th>5631</th>\n",
       "      <td>CHEMBL349803</td>\n",
       "      <td>PIRETANIDE</td>\n",
       "      <td>4</td>\n",
       "      <td>362.41</td>\n",
       "      <td>0</td>\n",
       "      <td>2.42</td>\n",
       "      <td>PIRETANIDE</td>\n",
       "      <td>NS(=O)(=O)c1cc(C(=O)O)cc(N2CCCC2)c1Oc1ccccc1</td>\n",
       "      <td>='</td>\n",
       "      <td>17.35</td>\n",
       "      <td>%</td>\n",
       "    </tr>\n",
       "  </tbody>\n",
       "</table>\n",
       "<p>5632 rows × 11 columns</p>\n",
       "</div>"
      ],
      "text/plain": [
       "     Molecule ChEMBL ID             Molecule Name  Molecule Max Phase  \\\n",
       "0         CHEMBL4303167                       NaN                   0   \n",
       "1          CHEMBL299879                       NaN                   0   \n",
       "2          CHEMBL555654  ADIPHENINE HYDROCHLORIDE                   0   \n",
       "3          CHEMBL173929                    LUTEIN                   3   \n",
       "4          CHEMBL435734                ARCTIGENIN                   0   \n",
       "...                 ...                       ...                 ...   \n",
       "5627      CHEMBL1449747                       NaN                   0   \n",
       "5628         CHEMBL1134     DECAMETHONIUM BROMIDE                   4   \n",
       "5629      CHEMBL1564377                       NaN                   0   \n",
       "5630      CHEMBL1601669              ALFACALCIDOL                   4   \n",
       "5631       CHEMBL349803                PIRETANIDE                   4   \n",
       "\n",
       "     Molecular Weight #RO5 Violations  AlogP              Compound Key  \\\n",
       "0             1093.33            None   None     CASPOFUNGIN (ACETATE)   \n",
       "1              471.62               0  04.07                     NTNCB   \n",
       "2              347.89               0    3.7  ADIPHENINE HYDROCHLORIDE   \n",
       "3              568.89               2   10.4                    LUTEIN   \n",
       "4              372.42               0   2.99                Arctigenin   \n",
       "...               ...             ...    ...                       ...   \n",
       "5627           353.23               0   4.36                   MDIVI-1   \n",
       "5628            418.3               0   3.52     DECAMETHONIUM BROMIDE   \n",
       "5629           116.12               0  -1.06            HA-966-(S)-(-)   \n",
       "5630           400.65               1   6.59              ALFACALCIDOL   \n",
       "5631           362.41               0   2.42                PIRETANIDE   \n",
       "\n",
       "                                                 Smiles Standard Relation  \\\n",
       "0     CCC(C)CC(C)CCCCCCCCC(=O)N[C@H]1C[C@@H](O)[C@@H...                ='   \n",
       "1     O=[N+]([O-])c1ccccc1S(=O)(=O)NC[C@H]1CC[C@H](C...                ='   \n",
       "2                 CCN(CC)CCOC(=O)C(c1ccccc1)c1ccccc1.Cl                ='   \n",
       "3     CC1=C[C@H](O)CC(C)(C)[C@H]1/C=C/C(C)=C/C=C/C(C...                ='   \n",
       "4     COc1cc(C[C@H]2C(=O)OC[C@@H]2Cc2ccc(OC)c(OC)c2)...                ='   \n",
       "...                                                 ...               ...   \n",
       "5627         COc1cc(-n2c(=S)[nH]c3ccccc3c2=O)c(Cl)cc1Cl                ='   \n",
       "5628       C[N+](C)(C)CCCCCCCCCC[N+](C)(C)C.[Br-].[Br-]                ='   \n",
       "5629                                  N[C@H]1CCN(O)C1=O                ='   \n",
       "5630  C=C1/C(=C\\C=C2/CCC[C@@]3(C)[C@H]2CC[C@@H]3[C@H...                ='   \n",
       "5631       NS(=O)(=O)c1cc(C(=O)O)cc(N2CCCC2)c1Oc1ccccc1                ='   \n",
       "\n",
       "      Standard Value Standard Units  \n",
       "0              39.79              %  \n",
       "1              92.74              %  \n",
       "2               0.38              %  \n",
       "3              17.37              %  \n",
       "4               0.61              %  \n",
       "...              ...            ...  \n",
       "5627           34.05              %  \n",
       "5628           -0.43              %  \n",
       "5629            9.13              %  \n",
       "5630           -5.42              %  \n",
       "5631           17.35              %  \n",
       "\n",
       "[5632 rows x 11 columns]"
      ]
     },
     "metadata": {},
     "output_type": "display_data"
    }
   ],
   "source": [
    "# import data\n",
    "\n",
    "dataframe = pd.read_csv(\"data/ChEMBL_SARS_CoV_2_Caco_2/ChEMBL4303805_essential_all_smiles.csv\")\n",
    "\n",
    "print(\"Number of Molecules = \", len(dataframe))\n",
    "display(dataframe)"
   ]
  },
  {
   "cell_type": "code",
   "execution_count": 143,
   "metadata": {
    "colab": {
     "base_uri": "https://localhost:8080/",
     "height": 276
    },
    "colab_type": "code",
    "executionInfo": {
     "elapsed": 2024,
     "status": "ok",
     "timestamp": 1599858873012,
     "user": {
      "displayName": "Markus Dablander",
      "photoUrl": "",
      "userId": "13467664559539683865"
     },
     "user_tz": -120
    },
    "id": "BIm1m_9NSEaG",
    "outputId": "b8cea951-b524-4fc0-c760-db6be2b78673"
   },
   "outputs": [
    {
     "data": {
      "text/html": [
       "<div>\n",
       "<style scoped>\n",
       "    .dataframe tbody tr th:only-of-type {\n",
       "        vertical-align: middle;\n",
       "    }\n",
       "\n",
       "    .dataframe tbody tr th {\n",
       "        vertical-align: top;\n",
       "    }\n",
       "\n",
       "    .dataframe thead th {\n",
       "        text-align: right;\n",
       "    }\n",
       "</style>\n",
       "<table border=\"1\" class=\"dataframe\">\n",
       "  <thead>\n",
       "    <tr style=\"text-align: right;\">\n",
       "      <th></th>\n",
       "      <th>Molecule ChEMBL ID</th>\n",
       "      <th>Molecule Name</th>\n",
       "      <th>Molecule Max Phase</th>\n",
       "      <th>Molecular Weight</th>\n",
       "      <th>#RO5 Violations</th>\n",
       "      <th>AlogP</th>\n",
       "      <th>Compound Key</th>\n",
       "      <th>Smiles</th>\n",
       "      <th>Standard Relation</th>\n",
       "      <th>Standard Value</th>\n",
       "      <th>Standard Units</th>\n",
       "    </tr>\n",
       "  </thead>\n",
       "  <tbody>\n",
       "  </tbody>\n",
       "</table>\n",
       "</div>"
      ],
      "text/plain": [
       "Empty DataFrame\n",
       "Columns: [Molecule ChEMBL ID, Molecule Name, Molecule Max Phase, Molecular Weight, #RO5 Violations, AlogP, Compound Key, Smiles, Standard Relation, Standard Value, Standard Units]\n",
       "Index: []"
      ]
     },
     "metadata": {},
     "output_type": "display_data"
    },
    {
     "data": {
      "text/html": [
       "<div>\n",
       "<style scoped>\n",
       "    .dataframe tbody tr th:only-of-type {\n",
       "        vertical-align: middle;\n",
       "    }\n",
       "\n",
       "    .dataframe tbody tr th {\n",
       "        vertical-align: top;\n",
       "    }\n",
       "\n",
       "    .dataframe thead th {\n",
       "        text-align: right;\n",
       "    }\n",
       "</style>\n",
       "<table border=\"1\" class=\"dataframe\">\n",
       "  <thead>\n",
       "    <tr style=\"text-align: right;\">\n",
       "      <th></th>\n",
       "      <th>Molecule ChEMBL ID</th>\n",
       "      <th>Molecule Name</th>\n",
       "      <th>Molecule Max Phase</th>\n",
       "      <th>Molecular Weight</th>\n",
       "      <th>#RO5 Violations</th>\n",
       "      <th>AlogP</th>\n",
       "      <th>Compound Key</th>\n",
       "      <th>Smiles</th>\n",
       "      <th>Standard Relation</th>\n",
       "      <th>Standard Value</th>\n",
       "      <th>Standard Units</th>\n",
       "    </tr>\n",
       "  </thead>\n",
       "  <tbody>\n",
       "  </tbody>\n",
       "</table>\n",
       "</div>"
      ],
      "text/plain": [
       "Empty DataFrame\n",
       "Columns: [Molecule ChEMBL ID, Molecule Name, Molecule Max Phase, Molecular Weight, #RO5 Violations, AlogP, Compound Key, Smiles, Standard Relation, Standard Value, Standard Units]\n",
       "Index: []"
      ]
     },
     "metadata": {},
     "output_type": "display_data"
    }
   ],
   "source": [
    "# check for missing values (i.e. NA values)\n",
    "\n",
    "display(dataframe[dataframe['Smiles'].isnull()])\n",
    "display(dataframe[dataframe['Standard Value'].isnull()])"
   ]
  },
  {
   "cell_type": "code",
   "execution_count": 144,
   "metadata": {},
   "outputs": [
    {
     "name": "stdout",
     "output_type": "stream",
     "text": [
      "5632\n"
     ]
    }
   ],
   "source": [
    "# filter out Smiles which produce error messages in rdkit\n",
    "\n",
    "bad_smiles = []\n",
    "\n",
    "for k in range(len(dataframe[\"Smiles\"].values)):\n",
    "\n",
    "    smiles = dataframe[\"Smiles\"].values[k]\n",
    "    \n",
    "    sio = sys.stderr = StringIO()\n",
    "    Chem.MolFromSmiles(smiles)\n",
    "    error_message = sio.getvalue()\n",
    "    \n",
    "    if error_message != \"\" and error_message[0:13] != \"RDKit WARNING\":\n",
    "        #print(error_message)\n",
    "        #print(smiles, \"\\n \\n \\n \\n\")\n",
    "        bad_smiles.append(smiles)\n",
    "\n",
    "dataframe = dataframe[dataframe[\"Smiles\"].isin(bad_smiles) == False]\n",
    "\n",
    "print(len(dataframe))"
   ]
  },
  {
   "cell_type": "code",
   "execution_count": 145,
   "metadata": {},
   "outputs": [
    {
     "name": "stdout",
     "output_type": "stream",
     "text": [
      "Inhibitor Threshold =  75\n"
     ]
    }
   ],
   "source": [
    "# define inhibitor threshold value such that molecules with value >= inhibitor_threshold are counted as active\n",
    "\n",
    "inhibitor_threshold = 75 # corresponds to 75 % inhibition of of SARS-CoV-2 induced cytotoxicity\n",
    "\n",
    "print(\"Inhibitor Threshold = \", inhibitor_threshold)"
   ]
  },
  {
   "cell_type": "code",
   "execution_count": 146,
   "metadata": {},
   "outputs": [
    {
     "name": "stdout",
     "output_type": "stream",
     "text": [
      "N_positive =  273\n",
      "N_negative =  5359\n",
      "Total fraction of positives =  0.04847301136363636\n"
     ]
    }
   ],
   "source": [
    "# compute number of positive and negative instances\n",
    "\n",
    "N_positive = len(dataframe[dataframe[\"Standard Value\"] >= inhibitor_threshold].values)\n",
    "N_negative = len(dataframe[dataframe[\"Standard Value\"] < inhibitor_threshold].values)\n",
    "\n",
    "print(\"N_positive = \", N_positive)\n",
    "print(\"N_negative = \", N_negative)\n",
    "print(\"Total fraction of positives = \", N_positive/(N_positive + N_negative))"
   ]
  },
  {
   "cell_type": "code",
   "execution_count": 20,
   "metadata": {
    "colab": {},
    "colab_type": "code",
    "executionInfo": {
     "elapsed": 645,
     "status": "ok",
     "timestamp": 1599869440512,
     "user": {
      "displayName": "Markus Dablander",
      "photoUrl": "",
      "userId": "13467664559539683865"
     },
     "user_tz": -120
    },
    "id": "X2XcwuHnSEaT"
   },
   "outputs": [
    {
     "name": "stdout",
     "output_type": "stream",
     "text": [
      "N_negative_delete =  5086\n"
     ]
    }
   ],
   "source": [
    "# create balanced data set by undersampling the negative class which has value < inhibitor_threshold so that same number of molecules remains in each class\n",
    "\n",
    "N_negative_delete = len(dataframe[\"Standard Value\"].values) - 2*len(dataframe[dataframe[\"Standard Value\"] >= inhibitor_threshold].values)\n",
    "\n",
    "dataframe = dataframe.drop(dataframe[dataframe[\"Standard Value\"] < inhibitor_threshold].sample(n = N_negative_delete, random_state = 42).index)\n",
    "\n",
    "print(\"N_negative_delete = \", N_negative_delete)"
   ]
  },
  {
   "cell_type": "code",
   "execution_count": 21,
   "metadata": {},
   "outputs": [
    {
     "name": "stdout",
     "output_type": "stream",
     "text": [
      "Number of Molecules =  546\n"
     ]
    }
   ],
   "source": [
    "# define number of molecules\n",
    "\n",
    "N_molecules = len(dataframe[\"Smiles\"].values)\n",
    "\n",
    "print(\"Number of Molecules = \", N_molecules)"
   ]
  },
  {
   "cell_type": "code",
   "execution_count": 22,
   "metadata": {},
   "outputs": [
    {
     "name": "stdout",
     "output_type": "stream",
     "text": [
      "Number of Positives =  0.0\n",
      "Fraction of Positives =  0.0\n",
      "Shape of y =  (546,)\n",
      "Shape of Y =  (546, 1)\n",
      "\n",
      " y =  [0. 0. 0. 0. 0. 0. 0. 0. 0. 0. 0. 0. 0. 0. 0. 0. 0. 0. 0. 0.]\n"
     ]
    }
   ],
   "source": [
    "# construct target variable Y (inhibition of cytotoxicity)\n",
    "\n",
    "y_vals = np.reshape(dataframe[\"Standard Value\"].values, (N_molecules,))*0.01\n",
    "y = np.zeros(N_molecules)\n",
    "\n",
    "y[y_vals > inhibitor_threshold] = 1\n",
    "y[y_vals <= inhibitor_threshold] = 0\n",
    "\n",
    "# transform label to standard data type of numpy array filled with integers\n",
    "y = np.array(list(y))\n",
    "Y = np.reshape(y, (len(y), 1))\n",
    "\n",
    "print(\"Number of Positives = \", np.sum(y))\n",
    "print(\"Fraction of Positives = \", np.sum(y)/N_molecules)\n",
    "\n",
    "print(\"Shape of y = \", y.shape)\n",
    "print(\"Shape of Y = \", Y.shape)\n",
    "\n",
    "print(\"\\n y = \", y[0:20])"
   ]
  },
  {
   "cell_type": "code",
   "execution_count": 23,
   "metadata": {
    "colab": {
     "base_uri": "https://localhost:8080/",
     "height": 222
    },
    "colab_type": "code",
    "executionInfo": {
     "elapsed": 444,
     "status": "ok",
     "timestamp": 1599869444377,
     "user": {
      "displayName": "Markus Dablander",
      "photoUrl": "",
      "userId": "13467664559539683865"
     },
     "user_tz": -120
    },
    "id": "PB82_jFUSEav",
    "outputId": "f151bbf0-8894-45c1-bd95-e747bc7c74b5"
   },
   "outputs": [
    {
     "name": "stdout",
     "output_type": "stream",
     "text": [
      "                  Smiles String\n",
      "O=[N+]([O-])c1ccccc1S(=O)(=O)NC[C@H]1CC[C@H](CNCC2CCc3ccccc3C2)CC1\n"
     ]
    },
    {
     "data": {
      "image/png": "[encoded data removed]",
      "text/plain": [
       "<rdkit.Chem.rdchem.Mol at 0x7fee0df28d50>"
      ]
     },
     "metadata": {},
     "output_type": "display_data"
    },
    {
     "name": "stdout",
     "output_type": "stream",
     "text": [
      "Shape of x_smiles =  (546,)\n",
      "Shape of X_smiles =  (546, 1)\n",
      "\n",
      " x_smiles =  ['O=[N+]([O-])c1ccccc1S(=O)(=O)NC[C@H]1CC[C@H](CNCC2CCc3ccccc3C2)CC1'\n",
      " 'CN(C)CCNc1nc2cc(O)ccc2c2c1C(=O)c1ccccc1-2'\n",
      " 'CC[C@]12CCCN3CCc4c(n(c5ccccc45)[C@](O)(C(=O)OC)C1)[C@@H]32'\n",
      " 'C/C(=N\\\\NC(=S)N1CCC1)c1ccccn1'\n",
      " 'O=C(O)c1ccc2cc(-c3ccc(O)c(C45CC6CC(CC(C6)C4)C5)c3)ccc2c1'\n",
      " 'C[S@@+]([O-])CCCCN=C=S'\n",
      " 'O=C(CCCN1CCC2(CC1)C(=O)N(Cc1cccc(F)c1)CN2c1ccccc1)c1ccc(F)cc1'\n",
      " 'CCNC1=Nc2ccc(Cl)cc2C(C)(c2ccccc2)O1' 'C#CCN(C)Cc1ccccc1.Cl'\n",
      " 'C=CC(=O)Nc1cccc(Nc2nc(Nc3ccc(N4CCN(C(C)=O)CC4)cc3OC)ncc2C(F)(F)F)c1']\n"
     ]
    }
   ],
   "source": [
    "# extract Smiles strings and plot molecules\n",
    "\n",
    "X_smiles = np.reshape(dataframe[\"Smiles\"].values, (N_molecules, 1))\n",
    "x_smiles = X_smiles[:,0]\n",
    "\n",
    "print(\"                  Smiles String\")\n",
    "print(X_smiles[0:1][0][0])\n",
    "\n",
    "for s in x_smiles[0:1]:\n",
    "    molecule = Chem.MolFromSmiles(s)\n",
    "    display(molecule)\n",
    "    \n",
    "print(\"Shape of x_smiles = \", x_smiles.shape)\n",
    "print(\"Shape of X_smiles = \", X_smiles.shape)\n",
    "\n",
    "print(\"\\n x_smiles = \", x_smiles[0:10])"
   ]
  },
  {
   "cell_type": "markdown",
   "metadata": {
    "collapsed": "true"
   },
   "source": [
    "## Prepare Data: MoleculeNet_HIV"
   ]
  },
  {
   "cell_type": "code",
   "execution_count": 147,
   "metadata": {
    "colab": {
     "base_uri": "https://localhost:8080/",
     "height": 225
    },
    "colab_type": "code",
    "executionInfo": {
     "elapsed": 429,
     "status": "ok",
     "timestamp": 1599869437487,
     "user": {
      "displayName": "Markus Dablander",
      "photoUrl": "",
      "userId": "13467664559539683865"
     },
     "user_tz": -120
    },
    "id": "FpdNzlmISEaA",
    "outputId": "c37aae09-ccfe-4f8a-dccc-6006309b2074"
   },
   "outputs": [
    {
     "name": "stdout",
     "output_type": "stream",
     "text": [
      "Number of Molecules =  41127\n"
     ]
    },
    {
     "data": {
      "text/html": [
       "<div>\n",
       "<style scoped>\n",
       "    .dataframe tbody tr th:only-of-type {\n",
       "        vertical-align: middle;\n",
       "    }\n",
       "\n",
       "    .dataframe tbody tr th {\n",
       "        vertical-align: top;\n",
       "    }\n",
       "\n",
       "    .dataframe thead th {\n",
       "        text-align: right;\n",
       "    }\n",
       "</style>\n",
       "<table border=\"1\" class=\"dataframe\">\n",
       "  <thead>\n",
       "    <tr style=\"text-align: right;\">\n",
       "      <th></th>\n",
       "      <th>smiles</th>\n",
       "      <th>activity</th>\n",
       "      <th>HIV_active</th>\n",
       "    </tr>\n",
       "  </thead>\n",
       "  <tbody>\n",
       "    <tr>\n",
       "      <th>0</th>\n",
       "      <td>CCC1=[O+][Cu-3]2([O+]=C(CC)C1)[O+]=C(CC)CC(CC)...</td>\n",
       "      <td>CI</td>\n",
       "      <td>0</td>\n",
       "    </tr>\n",
       "    <tr>\n",
       "      <th>1</th>\n",
       "      <td>C(=Cc1ccccc1)C1=[O+][Cu-3]2([O+]=C(C=Cc3ccccc3...</td>\n",
       "      <td>CI</td>\n",
       "      <td>0</td>\n",
       "    </tr>\n",
       "    <tr>\n",
       "      <th>2</th>\n",
       "      <td>CC(=O)N1c2ccccc2Sc2c1ccc1ccccc21</td>\n",
       "      <td>CI</td>\n",
       "      <td>0</td>\n",
       "    </tr>\n",
       "    <tr>\n",
       "      <th>3</th>\n",
       "      <td>Nc1ccc(C=Cc2ccc(N)cc2S(=O)(=O)O)c(S(=O)(=O)O)c1</td>\n",
       "      <td>CI</td>\n",
       "      <td>0</td>\n",
       "    </tr>\n",
       "    <tr>\n",
       "      <th>4</th>\n",
       "      <td>O=S(=O)(O)CCS(=O)(=O)O</td>\n",
       "      <td>CI</td>\n",
       "      <td>0</td>\n",
       "    </tr>\n",
       "    <tr>\n",
       "      <th>...</th>\n",
       "      <td>...</td>\n",
       "      <td>...</td>\n",
       "      <td>...</td>\n",
       "    </tr>\n",
       "    <tr>\n",
       "      <th>41122</th>\n",
       "      <td>CCC1CCC2c3c([nH]c4ccc(C)cc34)C3C(=O)N(N(C)C)C(...</td>\n",
       "      <td>CI</td>\n",
       "      <td>0</td>\n",
       "    </tr>\n",
       "    <tr>\n",
       "      <th>41123</th>\n",
       "      <td>Cc1ccc2[nH]c3c(c2c1)C1CCC(C(C)(C)C)CC1C1C(=O)N...</td>\n",
       "      <td>CI</td>\n",
       "      <td>0</td>\n",
       "    </tr>\n",
       "    <tr>\n",
       "      <th>41124</th>\n",
       "      <td>Cc1ccc(N2C(=O)C3c4[nH]c5ccccc5c4C4CCC(C(C)(C)C...</td>\n",
       "      <td>CI</td>\n",
       "      <td>0</td>\n",
       "    </tr>\n",
       "    <tr>\n",
       "      <th>41125</th>\n",
       "      <td>Cc1cccc(N2C(=O)C3c4[nH]c5ccccc5c4C4CCC(C(C)(C)...</td>\n",
       "      <td>CI</td>\n",
       "      <td>0</td>\n",
       "    </tr>\n",
       "    <tr>\n",
       "      <th>41126</th>\n",
       "      <td>CCCCCC=C(c1cc(Cl)c(OC)c(-c2nc(C)no2)c1)c1cc(Cl...</td>\n",
       "      <td>CI</td>\n",
       "      <td>0</td>\n",
       "    </tr>\n",
       "  </tbody>\n",
       "</table>\n",
       "<p>41127 rows × 3 columns</p>\n",
       "</div>"
      ],
      "text/plain": [
       "                                                  smiles activity  HIV_active\n",
       "0      CCC1=[O+][Cu-3]2([O+]=C(CC)C1)[O+]=C(CC)CC(CC)...       CI           0\n",
       "1      C(=Cc1ccccc1)C1=[O+][Cu-3]2([O+]=C(C=Cc3ccccc3...       CI           0\n",
       "2                       CC(=O)N1c2ccccc2Sc2c1ccc1ccccc21       CI           0\n",
       "3        Nc1ccc(C=Cc2ccc(N)cc2S(=O)(=O)O)c(S(=O)(=O)O)c1       CI           0\n",
       "4                                 O=S(=O)(O)CCS(=O)(=O)O       CI           0\n",
       "...                                                  ...      ...         ...\n",
       "41122  CCC1CCC2c3c([nH]c4ccc(C)cc34)C3C(=O)N(N(C)C)C(...       CI           0\n",
       "41123  Cc1ccc2[nH]c3c(c2c1)C1CCC(C(C)(C)C)CC1C1C(=O)N...       CI           0\n",
       "41124  Cc1ccc(N2C(=O)C3c4[nH]c5ccccc5c4C4CCC(C(C)(C)C...       CI           0\n",
       "41125  Cc1cccc(N2C(=O)C3c4[nH]c5ccccc5c4C4CCC(C(C)(C)...       CI           0\n",
       "41126  CCCCCC=C(c1cc(Cl)c(OC)c(-c2nc(C)no2)c1)c1cc(Cl...       CI           0\n",
       "\n",
       "[41127 rows x 3 columns]"
      ]
     },
     "metadata": {},
     "output_type": "display_data"
    }
   ],
   "source": [
    "# import data\n",
    "\n",
    "dataframe = pd.read_csv(\"data/MoleculeNet_HIV/HIV.csv\")\n",
    "\n",
    "print(\"Number of Molecules = \", len(dataframe))\n",
    "display(dataframe)"
   ]
  },
  {
   "cell_type": "code",
   "execution_count": 148,
   "metadata": {
    "colab": {
     "base_uri": "https://localhost:8080/",
     "height": 276
    },
    "colab_type": "code",
    "executionInfo": {
     "elapsed": 2024,
     "status": "ok",
     "timestamp": 1599858873012,
     "user": {
      "displayName": "Markus Dablander",
      "photoUrl": "",
      "userId": "13467664559539683865"
     },
     "user_tz": -120
    },
    "id": "BIm1m_9NSEaG",
    "outputId": "b8cea951-b524-4fc0-c760-db6be2b78673"
   },
   "outputs": [
    {
     "data": {
      "text/html": [
       "<div>\n",
       "<style scoped>\n",
       "    .dataframe tbody tr th:only-of-type {\n",
       "        vertical-align: middle;\n",
       "    }\n",
       "\n",
       "    .dataframe tbody tr th {\n",
       "        vertical-align: top;\n",
       "    }\n",
       "\n",
       "    .dataframe thead th {\n",
       "        text-align: right;\n",
       "    }\n",
       "</style>\n",
       "<table border=\"1\" class=\"dataframe\">\n",
       "  <thead>\n",
       "    <tr style=\"text-align: right;\">\n",
       "      <th></th>\n",
       "      <th>smiles</th>\n",
       "      <th>activity</th>\n",
       "      <th>HIV_active</th>\n",
       "    </tr>\n",
       "  </thead>\n",
       "  <tbody>\n",
       "  </tbody>\n",
       "</table>\n",
       "</div>"
      ],
      "text/plain": [
       "Empty DataFrame\n",
       "Columns: [smiles, activity, HIV_active]\n",
       "Index: []"
      ]
     },
     "metadata": {},
     "output_type": "display_data"
    },
    {
     "data": {
      "text/html": [
       "<div>\n",
       "<style scoped>\n",
       "    .dataframe tbody tr th:only-of-type {\n",
       "        vertical-align: middle;\n",
       "    }\n",
       "\n",
       "    .dataframe tbody tr th {\n",
       "        vertical-align: top;\n",
       "    }\n",
       "\n",
       "    .dataframe thead th {\n",
       "        text-align: right;\n",
       "    }\n",
       "</style>\n",
       "<table border=\"1\" class=\"dataframe\">\n",
       "  <thead>\n",
       "    <tr style=\"text-align: right;\">\n",
       "      <th></th>\n",
       "      <th>smiles</th>\n",
       "      <th>activity</th>\n",
       "      <th>HIV_active</th>\n",
       "    </tr>\n",
       "  </thead>\n",
       "  <tbody>\n",
       "  </tbody>\n",
       "</table>\n",
       "</div>"
      ],
      "text/plain": [
       "Empty DataFrame\n",
       "Columns: [smiles, activity, HIV_active]\n",
       "Index: []"
      ]
     },
     "metadata": {},
     "output_type": "display_data"
    },
    {
     "data": {
      "text/html": [
       "<div>\n",
       "<style scoped>\n",
       "    .dataframe tbody tr th:only-of-type {\n",
       "        vertical-align: middle;\n",
       "    }\n",
       "\n",
       "    .dataframe tbody tr th {\n",
       "        vertical-align: top;\n",
       "    }\n",
       "\n",
       "    .dataframe thead th {\n",
       "        text-align: right;\n",
       "    }\n",
       "</style>\n",
       "<table border=\"1\" class=\"dataframe\">\n",
       "  <thead>\n",
       "    <tr style=\"text-align: right;\">\n",
       "      <th></th>\n",
       "      <th>smiles</th>\n",
       "      <th>activity</th>\n",
       "      <th>HIV_active</th>\n",
       "    </tr>\n",
       "  </thead>\n",
       "  <tbody>\n",
       "  </tbody>\n",
       "</table>\n",
       "</div>"
      ],
      "text/plain": [
       "Empty DataFrame\n",
       "Columns: [smiles, activity, HIV_active]\n",
       "Index: []"
      ]
     },
     "metadata": {},
     "output_type": "display_data"
    }
   ],
   "source": [
    "# check for missing values (i.e. NA values)\n",
    "\n",
    "display(dataframe[dataframe['smiles'].isnull()])\n",
    "display(dataframe[dataframe['activity'].isnull()])\n",
    "display(dataframe[dataframe['HIV_active'].isnull()])"
   ]
  },
  {
   "cell_type": "code",
   "execution_count": 149,
   "metadata": {
    "colab": {},
    "colab_type": "code",
    "id": "oFu7W-IlSEaN"
   },
   "outputs": [
    {
     "name": "stdout",
     "output_type": "stream",
     "text": [
      "41127\n"
     ]
    }
   ],
   "source": [
    "# filter out Smiles which produce error messages in rdkit\n",
    "\n",
    "bad_smiles = []\n",
    "\n",
    "for k in range(len(dataframe[\"smiles\"].values)):\n",
    "\n",
    "    smiles = dataframe[\"smiles\"].values[k]\n",
    "    \n",
    "    sio = sys.stderr = StringIO()\n",
    "    Chem.MolFromSmiles(smiles)\n",
    "    error_message = sio.getvalue()\n",
    "    \n",
    "    if error_message != \"\" and error_message[0:13] != \"RDKit WARNING\" :\n",
    "        print(k)\n",
    "        print(error_message)\n",
    "        print(smiles, \"\\n \\n \\n \\n\")\n",
    "        bad_smiles.append(smiles)\n",
    "\n",
    "dataframe = dataframe[dataframe[\"smiles\"].isin(bad_smiles) == False]\n",
    "\n",
    "print(len(dataframe))"
   ]
  },
  {
   "cell_type": "code",
   "execution_count": 151,
   "metadata": {},
   "outputs": [
    {
     "name": "stdout",
     "output_type": "stream",
     "text": [
      "N_positive =  1443\n",
      "N_negative =  39684\n",
      "Total fraction of positives =  0.03508643956524911\n"
     ]
    }
   ],
   "source": [
    "# compute number of positive and negative instances\n",
    "\n",
    "N_positive = int(np.sum(dataframe[\"HIV_active\"].values))\n",
    "N_negative = len(dataframe[\"HIV_active\"]) - N_positive\n",
    "\n",
    "print(\"N_positive = \", N_positive)\n",
    "print(\"N_negative = \", N_negative)\n",
    "print(\"Total fraction of positives = \", N_positive/(N_positive + N_negative))"
   ]
  },
  {
   "cell_type": "code",
   "execution_count": 28,
   "metadata": {
    "colab": {},
    "colab_type": "code",
    "executionInfo": {
     "elapsed": 645,
     "status": "ok",
     "timestamp": 1599869440512,
     "user": {
      "displayName": "Markus Dablander",
      "photoUrl": "",
      "userId": "13467664559539683865"
     },
     "user_tz": -120
    },
    "id": "X2XcwuHnSEaT"
   },
   "outputs": [
    {
     "name": "stdout",
     "output_type": "stream",
     "text": [
      "N_negative_delete =  38241\n"
     ]
    }
   ],
   "source": [
    "# create balanced data set by undersampling the negative class so that number of molecules becomes exactly the same in each class\n",
    "\n",
    "N_negative_delete = len(dataframe[\"HIV_active\"].values) - 2*len(dataframe[dataframe[\"HIV_active\"] == 1].values)\n",
    "\n",
    "dataframe = dataframe.drop(dataframe[dataframe[\"HIV_active\"] == 0].sample(n = N_negative_delete, random_state = 42).index)\n",
    "\n",
    "print(\"N_negative_delete = \", N_negative_delete)"
   ]
  },
  {
   "cell_type": "code",
   "execution_count": 29,
   "metadata": {},
   "outputs": [
    {
     "name": "stdout",
     "output_type": "stream",
     "text": [
      "Number of Molecules =  2886\n"
     ]
    }
   ],
   "source": [
    "# define number of molecules\n",
    "\n",
    "N_molecules = len(dataframe[\"HIV_active\"].values)\n",
    "\n",
    "print(\"Number of Molecules = \", N_molecules)"
   ]
  },
  {
   "cell_type": "code",
   "execution_count": 30,
   "metadata": {
    "colab": {
     "base_uri": "https://localhost:8080/",
     "height": 90
    },
    "colab_type": "code",
    "executionInfo": {
     "elapsed": 771,
     "status": "ok",
     "timestamp": 1599869443976,
     "user": {
      "displayName": "Markus Dablander",
      "photoUrl": "",
      "userId": "13467664559539683865"
     },
     "user_tz": -120
    },
    "id": "M1aIBqplSEaq",
    "outputId": "d9c43474-c7b7-4622-da65-6ebe36c9c3a1"
   },
   "outputs": [
    {
     "name": "stdout",
     "output_type": "stream",
     "text": [
      "Number of Positives =  1443\n",
      "Fraction of Positives =  0.5\n",
      "Shape of y =  (2886,)\n",
      "Shape of Y =  (2886, 1)\n",
      "\n",
      " y =  [0 1 1 ... 1 1 1]\n"
     ]
    }
   ],
   "source": [
    "# construct target variable y/Y (hERG inhibition)\n",
    "\n",
    "# extract labels\n",
    "y = dataframe.loc[:,\"HIV_active\"].values\n",
    "Y = np.reshape(y, (len(y), 1))\n",
    "\n",
    "print(\"Number of Positives = \", np.sum(y))\n",
    "print(\"Fraction of Positives = \", np.sum(y)/N_molecules)\n",
    "\n",
    "\n",
    "print(\"Shape of y = \", y.shape)\n",
    "print(\"Shape of Y = \", Y.shape)\n",
    "\n",
    "print(\"\\n y = \", y)\n"
   ]
  },
  {
   "cell_type": "code",
   "execution_count": 31,
   "metadata": {
    "colab": {
     "base_uri": "https://localhost:8080/",
     "height": 222
    },
    "colab_type": "code",
    "executionInfo": {
     "elapsed": 444,
     "status": "ok",
     "timestamp": 1599869444377,
     "user": {
      "displayName": "Markus Dablander",
      "photoUrl": "",
      "userId": "13467664559539683865"
     },
     "user_tz": -120
    },
    "id": "PB82_jFUSEav",
    "outputId": "f151bbf0-8894-45c1-bd95-e747bc7c74b5"
   },
   "outputs": [
    {
     "name": "stdout",
     "output_type": "stream",
     "text": [
      "                  Smiles String\n",
      "O=[N+]([O-])c1ccccc1SSc1ccccc1[N+](=O)[O-]\n"
     ]
    },
    {
     "data": {
      "image/png": "[encoded data removed]",
      "text/plain": [
       "<rdkit.Chem.rdchem.Mol at 0x7fee0c32c620>"
      ]
     },
     "metadata": {},
     "output_type": "display_data"
    },
    {
     "name": "stdout",
     "output_type": "stream",
     "text": [
      "Shape of x_smiles =  (2886,)\n",
      "Shape of X_smiles =  (2886, 1)\n",
      "\n",
      " x_smiles =  ['O=[N+]([O-])c1ccccc1SSc1ccccc1[N+](=O)[O-]'\n",
      " 'O=C(O)Cc1ccc(SSc2ccc(CC(=O)O)cc2)cc1' 'NNP(=S)(NN)c1ccccc1'\n",
      " 'Nc1c(Cl)cc(Cl)cc1C(=O)O' 'Nc1cc(Cl)c(S(=O)(=O)O)cc1Cl'\n",
      " 'O=C1O[Cu-5]2(O)(O)(OC1=O)OC(=O)C(=O)O2' 'O=Nc1ccc(O)c(N=O)c1O'\n",
      " 'O=S1(=O)CCCc2c1ccc1ccccc21' 'O=C1NC2NC(=O)NC2N1' 'N=C1NCCS1']\n"
     ]
    }
   ],
   "source": [
    "# extract Smiles strings\n",
    "\n",
    "X_smiles = np.reshape(dataframe[\"smiles\"].values, (N_molecules, 1))\n",
    "x_smiles = X_smiles[:,0]\n",
    "\n",
    "print(\"                  Smiles String\")\n",
    "print(X_smiles[0:1][0][0])\n",
    "\n",
    "for s in x_smiles[0:1]:\n",
    "    molecule = Chem.MolFromSmiles(s)\n",
    "    display(molecule)\n",
    "    \n",
    "print(\"Shape of x_smiles = \", x_smiles.shape)\n",
    "print(\"Shape of X_smiles = \", X_smiles.shape)\n",
    "\n",
    "print(\"\\n x_smiles = \", x_smiles[0:10])"
   ]
  },
  {
   "cell_type": "markdown",
   "metadata": {
    "collapsed": "true"
   },
   "source": [
    "## Prepare Data: MoleculeNet_BBBP"
   ]
  },
  {
   "cell_type": "code",
   "execution_count": 152,
   "metadata": {
    "colab": {
     "base_uri": "https://localhost:8080/",
     "height": 225
    },
    "colab_type": "code",
    "executionInfo": {
     "elapsed": 429,
     "status": "ok",
     "timestamp": 1599869437487,
     "user": {
      "displayName": "Markus Dablander",
      "photoUrl": "",
      "userId": "13467664559539683865"
     },
     "user_tz": -120
    },
    "id": "FpdNzlmISEaA",
    "outputId": "c37aae09-ccfe-4f8a-dccc-6006309b2074"
   },
   "outputs": [
    {
     "name": "stdout",
     "output_type": "stream",
     "text": [
      "Number of Molecules =  2050\n"
     ]
    },
    {
     "data": {
      "text/html": [
       "<div>\n",
       "<style scoped>\n",
       "    .dataframe tbody tr th:only-of-type {\n",
       "        vertical-align: middle;\n",
       "    }\n",
       "\n",
       "    .dataframe tbody tr th {\n",
       "        vertical-align: top;\n",
       "    }\n",
       "\n",
       "    .dataframe thead th {\n",
       "        text-align: right;\n",
       "    }\n",
       "</style>\n",
       "<table border=\"1\" class=\"dataframe\">\n",
       "  <thead>\n",
       "    <tr style=\"text-align: right;\">\n",
       "      <th></th>\n",
       "      <th>num</th>\n",
       "      <th>name</th>\n",
       "      <th>p_np</th>\n",
       "      <th>smiles</th>\n",
       "    </tr>\n",
       "  </thead>\n",
       "  <tbody>\n",
       "    <tr>\n",
       "      <th>0</th>\n",
       "      <td>1</td>\n",
       "      <td>Propanolol</td>\n",
       "      <td>1</td>\n",
       "      <td>[Cl].CC(C)NCC(O)COc1cccc2ccccc12</td>\n",
       "    </tr>\n",
       "    <tr>\n",
       "      <th>1</th>\n",
       "      <td>2</td>\n",
       "      <td>Terbutylchlorambucil</td>\n",
       "      <td>1</td>\n",
       "      <td>C(=O)(OC(C)(C)C)CCCc1ccc(cc1)N(CCCl)CCCl</td>\n",
       "    </tr>\n",
       "    <tr>\n",
       "      <th>2</th>\n",
       "      <td>3</td>\n",
       "      <td>40730</td>\n",
       "      <td>1</td>\n",
       "      <td>c12c3c(N4CCN(C)CC4)c(F)cc1c(c(C(O)=O)cn2C(C)CO...</td>\n",
       "    </tr>\n",
       "    <tr>\n",
       "      <th>3</th>\n",
       "      <td>4</td>\n",
       "      <td>24</td>\n",
       "      <td>1</td>\n",
       "      <td>C1CCN(CC1)Cc1cccc(c1)OCCCNC(=O)C</td>\n",
       "    </tr>\n",
       "    <tr>\n",
       "      <th>4</th>\n",
       "      <td>5</td>\n",
       "      <td>cloxacillin</td>\n",
       "      <td>1</td>\n",
       "      <td>Cc1onc(c2ccccc2Cl)c1C(=O)N[C@H]3[C@H]4SC(C)(C)...</td>\n",
       "    </tr>\n",
       "    <tr>\n",
       "      <th>...</th>\n",
       "      <td>...</td>\n",
       "      <td>...</td>\n",
       "      <td>...</td>\n",
       "      <td>...</td>\n",
       "    </tr>\n",
       "    <tr>\n",
       "      <th>2045</th>\n",
       "      <td>2049</td>\n",
       "      <td>licostinel</td>\n",
       "      <td>1</td>\n",
       "      <td>C1=C(Cl)C(=C(C2=C1NC(=O)C(N2)=O)[N+](=O)[O-])Cl</td>\n",
       "    </tr>\n",
       "    <tr>\n",
       "      <th>2046</th>\n",
       "      <td>2050</td>\n",
       "      <td>ademetionine(adenosyl-methionine)</td>\n",
       "      <td>1</td>\n",
       "      <td>[C@H]3([N]2C1=C(C(=NC=N1)N)N=C2)[C@@H]([C@@H](...</td>\n",
       "    </tr>\n",
       "    <tr>\n",
       "      <th>2047</th>\n",
       "      <td>2051</td>\n",
       "      <td>mesocarb</td>\n",
       "      <td>1</td>\n",
       "      <td>[O+]1=N[N](C=C1[N-]C(NC2=CC=CC=C2)=O)C(CC3=CC=...</td>\n",
       "    </tr>\n",
       "    <tr>\n",
       "      <th>2048</th>\n",
       "      <td>2052</td>\n",
       "      <td>tofisoline</td>\n",
       "      <td>1</td>\n",
       "      <td>C1=C(OC)C(=CC2=C1C(=[N+](C(=C2CC)C)[NH-])C3=CC...</td>\n",
       "    </tr>\n",
       "    <tr>\n",
       "      <th>2049</th>\n",
       "      <td>2053</td>\n",
       "      <td>azidamfenicol</td>\n",
       "      <td>1</td>\n",
       "      <td>[N+](=NCC(=O)N[C@@H]([C@H](O)C1=CC=C([N+]([O-]...</td>\n",
       "    </tr>\n",
       "  </tbody>\n",
       "</table>\n",
       "<p>2050 rows × 4 columns</p>\n",
       "</div>"
      ],
      "text/plain": [
       "       num                               name  p_np  \\\n",
       "0        1                         Propanolol     1   \n",
       "1        2               Terbutylchlorambucil     1   \n",
       "2        3                              40730     1   \n",
       "3        4                                 24     1   \n",
       "4        5                        cloxacillin     1   \n",
       "...    ...                                ...   ...   \n",
       "2045  2049                         licostinel     1   \n",
       "2046  2050  ademetionine(adenosyl-methionine)     1   \n",
       "2047  2051                           mesocarb     1   \n",
       "2048  2052                         tofisoline     1   \n",
       "2049  2053                      azidamfenicol     1   \n",
       "\n",
       "                                                 smiles  \n",
       "0                      [Cl].CC(C)NCC(O)COc1cccc2ccccc12  \n",
       "1              C(=O)(OC(C)(C)C)CCCc1ccc(cc1)N(CCCl)CCCl  \n",
       "2     c12c3c(N4CCN(C)CC4)c(F)cc1c(c(C(O)=O)cn2C(C)CO...  \n",
       "3                      C1CCN(CC1)Cc1cccc(c1)OCCCNC(=O)C  \n",
       "4     Cc1onc(c2ccccc2Cl)c1C(=O)N[C@H]3[C@H]4SC(C)(C)...  \n",
       "...                                                 ...  \n",
       "2045    C1=C(Cl)C(=C(C2=C1NC(=O)C(N2)=O)[N+](=O)[O-])Cl  \n",
       "2046  [C@H]3([N]2C1=C(C(=NC=N1)N)N=C2)[C@@H]([C@@H](...  \n",
       "2047  [O+]1=N[N](C=C1[N-]C(NC2=CC=CC=C2)=O)C(CC3=CC=...  \n",
       "2048  C1=C(OC)C(=CC2=C1C(=[N+](C(=C2CC)C)[NH-])C3=CC...  \n",
       "2049  [N+](=NCC(=O)N[C@@H]([C@H](O)C1=CC=C([N+]([O-]...  \n",
       "\n",
       "[2050 rows x 4 columns]"
      ]
     },
     "metadata": {},
     "output_type": "display_data"
    }
   ],
   "source": [
    "# import data\n",
    "\n",
    "dataframe = pd.read_csv(\"data/MoleculeNet_BBBP/BBBP.csv\")\n",
    "\n",
    "print(\"Number of Molecules = \", len(dataframe))\n",
    "display(dataframe)"
   ]
  },
  {
   "cell_type": "code",
   "execution_count": 153,
   "metadata": {
    "colab": {
     "base_uri": "https://localhost:8080/",
     "height": 276
    },
    "colab_type": "code",
    "executionInfo": {
     "elapsed": 2024,
     "status": "ok",
     "timestamp": 1599858873012,
     "user": {
      "displayName": "Markus Dablander",
      "photoUrl": "",
      "userId": "13467664559539683865"
     },
     "user_tz": -120
    },
    "id": "BIm1m_9NSEaG",
    "outputId": "b8cea951-b524-4fc0-c760-db6be2b78673"
   },
   "outputs": [
    {
     "data": {
      "text/html": [
       "<div>\n",
       "<style scoped>\n",
       "    .dataframe tbody tr th:only-of-type {\n",
       "        vertical-align: middle;\n",
       "    }\n",
       "\n",
       "    .dataframe tbody tr th {\n",
       "        vertical-align: top;\n",
       "    }\n",
       "\n",
       "    .dataframe thead th {\n",
       "        text-align: right;\n",
       "    }\n",
       "</style>\n",
       "<table border=\"1\" class=\"dataframe\">\n",
       "  <thead>\n",
       "    <tr style=\"text-align: right;\">\n",
       "      <th></th>\n",
       "      <th>num</th>\n",
       "      <th>name</th>\n",
       "      <th>p_np</th>\n",
       "      <th>smiles</th>\n",
       "    </tr>\n",
       "  </thead>\n",
       "  <tbody>\n",
       "  </tbody>\n",
       "</table>\n",
       "</div>"
      ],
      "text/plain": [
       "Empty DataFrame\n",
       "Columns: [num, name, p_np, smiles]\n",
       "Index: []"
      ]
     },
     "metadata": {},
     "output_type": "display_data"
    },
    {
     "data": {
      "text/html": [
       "<div>\n",
       "<style scoped>\n",
       "    .dataframe tbody tr th:only-of-type {\n",
       "        vertical-align: middle;\n",
       "    }\n",
       "\n",
       "    .dataframe tbody tr th {\n",
       "        vertical-align: top;\n",
       "    }\n",
       "\n",
       "    .dataframe thead th {\n",
       "        text-align: right;\n",
       "    }\n",
       "</style>\n",
       "<table border=\"1\" class=\"dataframe\">\n",
       "  <thead>\n",
       "    <tr style=\"text-align: right;\">\n",
       "      <th></th>\n",
       "      <th>num</th>\n",
       "      <th>name</th>\n",
       "      <th>p_np</th>\n",
       "      <th>smiles</th>\n",
       "    </tr>\n",
       "  </thead>\n",
       "  <tbody>\n",
       "  </tbody>\n",
       "</table>\n",
       "</div>"
      ],
      "text/plain": [
       "Empty DataFrame\n",
       "Columns: [num, name, p_np, smiles]\n",
       "Index: []"
      ]
     },
     "metadata": {},
     "output_type": "display_data"
    },
    {
     "data": {
      "text/html": [
       "<div>\n",
       "<style scoped>\n",
       "    .dataframe tbody tr th:only-of-type {\n",
       "        vertical-align: middle;\n",
       "    }\n",
       "\n",
       "    .dataframe tbody tr th {\n",
       "        vertical-align: top;\n",
       "    }\n",
       "\n",
       "    .dataframe thead th {\n",
       "        text-align: right;\n",
       "    }\n",
       "</style>\n",
       "<table border=\"1\" class=\"dataframe\">\n",
       "  <thead>\n",
       "    <tr style=\"text-align: right;\">\n",
       "      <th></th>\n",
       "      <th>num</th>\n",
       "      <th>name</th>\n",
       "      <th>p_np</th>\n",
       "      <th>smiles</th>\n",
       "    </tr>\n",
       "  </thead>\n",
       "  <tbody>\n",
       "  </tbody>\n",
       "</table>\n",
       "</div>"
      ],
      "text/plain": [
       "Empty DataFrame\n",
       "Columns: [num, name, p_np, smiles]\n",
       "Index: []"
      ]
     },
     "metadata": {},
     "output_type": "display_data"
    },
    {
     "data": {
      "text/html": [
       "<div>\n",
       "<style scoped>\n",
       "    .dataframe tbody tr th:only-of-type {\n",
       "        vertical-align: middle;\n",
       "    }\n",
       "\n",
       "    .dataframe tbody tr th {\n",
       "        vertical-align: top;\n",
       "    }\n",
       "\n",
       "    .dataframe thead th {\n",
       "        text-align: right;\n",
       "    }\n",
       "</style>\n",
       "<table border=\"1\" class=\"dataframe\">\n",
       "  <thead>\n",
       "    <tr style=\"text-align: right;\">\n",
       "      <th></th>\n",
       "      <th>num</th>\n",
       "      <th>name</th>\n",
       "      <th>p_np</th>\n",
       "      <th>smiles</th>\n",
       "    </tr>\n",
       "  </thead>\n",
       "  <tbody>\n",
       "  </tbody>\n",
       "</table>\n",
       "</div>"
      ],
      "text/plain": [
       "Empty DataFrame\n",
       "Columns: [num, name, p_np, smiles]\n",
       "Index: []"
      ]
     },
     "metadata": {},
     "output_type": "display_data"
    }
   ],
   "source": [
    "# check for missing values (i.e. NA values)\n",
    "\n",
    "display(dataframe[dataframe['smiles'].isnull()])\n",
    "display(dataframe[dataframe['p_np'].isnull()])\n",
    "display(dataframe[dataframe['name'].isnull()])\n",
    "display(dataframe[dataframe['num'].isnull()])"
   ]
  },
  {
   "cell_type": "code",
   "execution_count": 154,
   "metadata": {
    "colab": {},
    "colab_type": "code",
    "id": "oFu7W-IlSEaN"
   },
   "outputs": [
    {
     "name": "stdout",
     "output_type": "stream",
     "text": [
      "2039\n"
     ]
    }
   ],
   "source": [
    "# filter out Smiles which produce error messages in rdkit\n",
    "\n",
    "bad_smiles = []\n",
    "\n",
    "for k in range(len(dataframe[\"smiles\"].values)):\n",
    "\n",
    "    smiles = dataframe[\"smiles\"].values[k]\n",
    "    \n",
    "    sio = sys.stderr = StringIO()\n",
    "    Chem.MolFromSmiles(smiles)\n",
    "    error_message = sio.getvalue()\n",
    "    \n",
    "    if error_message != \"\" and error_message[0:13] != \"RDKit WARNING\":\n",
    "        #print(k)\n",
    "        #print(error_message)\n",
    "        #print(smiles, \"\\n \\n \\n \\n\")\n",
    "        bad_smiles.append(smiles)\n",
    "\n",
    "dataframe = dataframe[dataframe[\"smiles\"].isin(bad_smiles) == False]\n",
    "\n",
    "print(len(dataframe))"
   ]
  },
  {
   "cell_type": "code",
   "execution_count": 155,
   "metadata": {},
   "outputs": [
    {
     "name": "stdout",
     "output_type": "stream",
     "text": [
      "N_positive =  1560\n",
      "N_negative =  479\n",
      "Total fraction of positives =  0.7650809220205983\n"
     ]
    }
   ],
   "source": [
    "# compute number of positive and negative instances\n",
    "\n",
    "N_positive = int(np.sum(dataframe[\"p_np\"].values))\n",
    "N_negative = len(dataframe[\"p_np\"]) - N_positive\n",
    "\n",
    "print(\"N_positive = \", N_positive)\n",
    "print(\"N_negative = \", N_negative)\n",
    "print(\"Total fraction of positives = \", N_positive/(N_positive + N_negative))"
   ]
  },
  {
   "cell_type": "code",
   "execution_count": 37,
   "metadata": {
    "colab": {},
    "colab_type": "code",
    "executionInfo": {
     "elapsed": 645,
     "status": "ok",
     "timestamp": 1599869440512,
     "user": {
      "displayName": "Markus Dablander",
      "photoUrl": "",
      "userId": "13467664559539683865"
     },
     "user_tz": -120
    },
    "id": "X2XcwuHnSEaT"
   },
   "outputs": [
    {
     "name": "stdout",
     "output_type": "stream",
     "text": [
      "N_positive_delete =  1081\n"
     ]
    }
   ],
   "source": [
    "# create balanced data set by undersampling the positive class so that number of molecules becomes exactly the same in each class\n",
    "\n",
    "N_positive_delete = len(dataframe[\"p_np\"].values) - 2*len(dataframe[dataframe[\"p_np\"] == 0].values)\n",
    "\n",
    "dataframe = dataframe.drop(dataframe[dataframe[\"p_np\"] == 1].sample(n = N_positive_delete, random_state = 42).index)\n",
    "\n",
    "print(\"N_positive_delete = \", N_positive_delete)"
   ]
  },
  {
   "cell_type": "code",
   "execution_count": 38,
   "metadata": {},
   "outputs": [
    {
     "name": "stdout",
     "output_type": "stream",
     "text": [
      "Number of Molecules =  958\n"
     ]
    }
   ],
   "source": [
    "# define number of molecules\n",
    "\n",
    "N_molecules = len(dataframe[\"p_np\"].values)\n",
    "\n",
    "print(\"Number of Molecules = \", N_molecules)"
   ]
  },
  {
   "cell_type": "code",
   "execution_count": 39,
   "metadata": {
    "colab": {
     "base_uri": "https://localhost:8080/",
     "height": 90
    },
    "colab_type": "code",
    "executionInfo": {
     "elapsed": 771,
     "status": "ok",
     "timestamp": 1599869443976,
     "user": {
      "displayName": "Markus Dablander",
      "photoUrl": "",
      "userId": "13467664559539683865"
     },
     "user_tz": -120
    },
    "id": "M1aIBqplSEaq",
    "outputId": "d9c43474-c7b7-4622-da65-6ebe36c9c3a1"
   },
   "outputs": [
    {
     "name": "stdout",
     "output_type": "stream",
     "text": [
      "Number of Positives =  479\n",
      "Fraction of Positives =  0.5\n",
      "Shape of y =  (958,)\n",
      "Shape of Y =  (958, 1)\n",
      "\n",
      " y =  [1 1 1 0 1 1 1 1 1 1 1 0 1 1 0 1 0 1 0 1 1 1 1 1 0 1 0 1 0 0 1 0 0 0 0 0 0\n",
      " 0 0 1 1 1 1 0 1 0 0 0 0 0 0 0 0 0 0 0 0 0 1 0 0 0 0 0 0 0 0 0 0 0 0 0 0 1\n",
      " 1 1 1 1 0 0 0 1 0 0 0 0 0 0 0 0 0 1 1 0 0 0 0 0 0 0 0 0 0 0 0 0 0 0 0 0 1\n",
      " 1 1 0 1 1 1 0 0 0 0 0 0 0 0 0 0 0 1 1 1 1 1 1 0 0 0 0 0 0 0 0 0 0 0 0 0 0\n",
      " 0 1 0 0 0 0 0 0 0 0 0 0 0 0 0 0 0 0 0 0 0 0 0 0 0 0 0 0 0 0 0 0 1 0 0 0 0\n",
      " 0 0 0 0 0 0 0 0 0 0 1 1 1 1 0 1 0 1 0 0 0 0 0 0 0 0 0 0 1 1 0 1 0 1 0 0 1\n",
      " 0 0 0 0 0 0 0 0 0 0 1 0 0 1 0 0 0 0 0 0 0 0 0 0 1 0 1 0 1 1 0 0 0 0 0 0 0\n",
      " 0 0 0 0 0 0 0 0 0 0 0 1 1 1 1 1 1 0 0 1 1 1 1 1 1 0 0 0 1 1 1 1 1 1 0 0 0\n",
      " 0 0 0 0 1 1 1 1 0 1 0 0 0 0 0 0 0 1 1 1 0 0 1 0 0 0 0 0 1 1 1 0 0 0 0 0 0\n",
      " 0 1 1 1 0 0 0 0 0 0 0 0 1 1 1 1 1 1 1 0 0 1 1 1 1 1 1 1 0 0 0 1 1 0 1 1 0\n",
      " 1 0 0 1 0 1 1 0 0 0 0 0 0 0 0 0 0 0 0 0 0 0 0 0 0 0 0 0 0 0 0 0 0 0 0 0 0\n",
      " 0 0 0 0 0 0 0 0 0 0 0 0 0 0 0 0 0 0 0 0 0 0 0 0 0 0 0 0 0 0 0 0 0 0 0 0 0\n",
      " 0 0 0 0 0 0 0 0 0 0 0 0 0 0 0 0 0 0 0 0 0 0 0 0 0 0 0 0 0 0 0 0 0 0 0 0 0\n",
      " 0 0 0 0 0 0 0 0 0 0 0 0 0 0 0 0 0 0 0 0 0 0 0 0 0 0 0 0 0 0 0 0 0 0 0 0 0\n",
      " 0 0 0 0 0 0 0 0 0 0 0 0 0 0 0 0 0 0 0 0 0 0 0 0 0 0 0 0 0 0 0 0 0 0 0 0 0\n",
      " 0 0 0 0 0 0 0 0 0 0 0 0 0 0 0 0 0 0 0 0 0 0 0 0 0 0 0 0 0 0 0 0 0 0 0 0 0\n",
      " 0 0 0 0 0 0 0 0 0 1 1 1 1 1 1 1 1 1 1 1 1 1 1 1 1 1 1 1 1 1 1 1 1 1 1 1 1\n",
      " 1 1 1 1 1 1 1 1 1 1 1 1 1 1 1 1 1 1 1 1 1 1 1 1 1 1 1 1 1 1 1 1 1 1 1 1 1\n",
      " 1 1 1 1 1 1 1 1 1 1 1 1 1 1 1 1 1 1 1 1 1 1 1 1 1 1 1 1 1 1 1 1 1 1 1 1 1\n",
      " 1 1 1 1 1 1 1 1 1 1 1 1 1 1 1 1 1 1 1 1 1 1 1 1 1 1 1 1 1 1 1 1 1 1 1 1 1\n",
      " 1 1 1 1 1 1 1 1 1 1 1 1 1 1 1 1 1 1 1 1 1 1 1 1 1 1 1 1 1 1 1 1 1 1 1 1 1\n",
      " 1 1 1 1 1 1 1 1 1 1 1 1 1 1 1 1 1 1 1 1 1 1 1 1 1 1 1 1 1 1 1 1 1 1 1 1 1\n",
      " 1 1 1 1 1 1 1 1 1 1 1 1 1 1 1 1 1 1 1 1 1 1 1 1 1 1 1 1 1 1 1 1 1 1 1 1 1\n",
      " 1 1 1 1 1 1 1 1 1 1 1 1 1 1 1 1 1 1 1 1 1 1 1 1 1 1 1 1 1 1 1 1 1 1 1 1 1\n",
      " 1 1 1 1 1 1 1 1 1 1 1 1 1 1 1 1 1 1 1 1 1 1 1 1 1 1 1 1 1 1 1 1 1 1 1 1 1\n",
      " 1 1 1 1 1 1 1 1 1 1 1 1 1 1 1 1 1 1 1 1 1 1 1 1 1 1 1 1 1 1 1 1 1]\n"
     ]
    }
   ],
   "source": [
    "# construct target variable y/Y (hERG inhibition)\n",
    "\n",
    "# extract labels\n",
    "y = dataframe.loc[:,\"p_np\"].values\n",
    "Y = np.reshape(y, (len(y), 1))\n",
    "\n",
    "print(\"Number of Positives = \", np.sum(y))\n",
    "print(\"Fraction of Positives = \", np.sum(y)/N_molecules)\n",
    "\n",
    "\n",
    "print(\"Shape of y = \", y.shape)\n",
    "print(\"Shape of Y = \", Y.shape)\n",
    "\n",
    "print(\"\\n y = \", y)\n"
   ]
  },
  {
   "cell_type": "code",
   "execution_count": 40,
   "metadata": {
    "colab": {
     "base_uri": "https://localhost:8080/",
     "height": 222
    },
    "colab_type": "code",
    "executionInfo": {
     "elapsed": 444,
     "status": "ok",
     "timestamp": 1599869444377,
     "user": {
      "displayName": "Markus Dablander",
      "photoUrl": "",
      "userId": "13467664559539683865"
     },
     "user_tz": -120
    },
    "id": "PB82_jFUSEav",
    "outputId": "f151bbf0-8894-45c1-bd95-e747bc7c74b5"
   },
   "outputs": [
    {
     "name": "stdout",
     "output_type": "stream",
     "text": [
      "                  Smiles String\n",
      "C(=O)(OC(C)(C)C)CCCc1ccc(cc1)N(CCCl)CCCl\n"
     ]
    },
    {
     "data": {
      "image/png": "[encoded data removed]",
      "text/plain": [
       "<rdkit.Chem.rdchem.Mol at 0x7fee0c35f490>"
      ]
     },
     "metadata": {},
     "output_type": "display_data"
    },
    {
     "name": "stdout",
     "output_type": "stream",
     "text": [
      "Shape of x_smiles =  (958,)\n",
      "Shape of X_smiles =  (958, 1)\n",
      "\n",
      " x_smiles =  ['C(=O)(OC(C)(C)C)CCCc1ccc(cc1)N(CCCl)CCCl'\n",
      " 'Cc1onc(c2ccccc2Cl)c1C(=O)N[C@H]3[C@H]4SC(C)(C)[C@@H](N4C3=O)C(O)=O'\n",
      " 'COc1ccc(cc1)[C@@H]2Sc3ccccc3N(CCN(C)C)C(=O)[C@@H]2OC(C)=O'\n",
      " 'OCC(C)(O)c1onc(c2ncn3c2CN(C)C(c4c3cccc4Cl)=O)n1' 'C(Cl)Cl'\n",
      " 'CCC(=O)C(CC(C)N(C)C)(c1ccccc1)c2ccccc2'\n",
      " 'CCN1N=NN(CCN2CCC(CC2)(COC)N(C(=O)CC)c3ccccc3)C1=O'\n",
      " 'CN1C2CCC1CC(C2)OC(=O)[C@H](CO)c3ccccc3'\n",
      " 'COc1ccc(Cl)cc1C(=O)NCCc2ccc(cc2)[S](=O)(=O)NC(=O)NC3CCCCC3' 'CCCC(C)C']\n"
     ]
    }
   ],
   "source": [
    "# extract Smiles strings\n",
    "\n",
    "X_smiles = np.reshape(dataframe[\"smiles\"].values, (N_molecules, 1))\n",
    "x_smiles = X_smiles[:,0]\n",
    "\n",
    "print(\"                  Smiles String\")\n",
    "print(X_smiles[0:1][0][0])\n",
    "\n",
    "for s in x_smiles[0:1]:\n",
    "    molecule = Chem.MolFromSmiles(s)\n",
    "    display(molecule)\n",
    "    \n",
    "print(\"Shape of x_smiles = \", x_smiles.shape)\n",
    "print(\"Shape of X_smiles = \", X_smiles.shape)\n",
    "\n",
    "print(\"\\n x_smiles = \", x_smiles[0:10])"
   ]
  },
  {
   "cell_type": "markdown",
   "metadata": {
    "collapsed": "true"
   },
   "source": [
    "## Prepare Data: MoleculeNet_BACE"
   ]
  },
  {
   "cell_type": "code",
   "execution_count": 156,
   "metadata": {
    "colab": {
     "base_uri": "https://localhost:8080/",
     "height": 225
    },
    "colab_type": "code",
    "executionInfo": {
     "elapsed": 429,
     "status": "ok",
     "timestamp": 1599869437487,
     "user": {
      "displayName": "Markus Dablander",
      "photoUrl": "",
      "userId": "13467664559539683865"
     },
     "user_tz": -120
    },
    "id": "FpdNzlmISEaA",
    "outputId": "c37aae09-ccfe-4f8a-dccc-6006309b2074"
   },
   "outputs": [
    {
     "name": "stdout",
     "output_type": "stream",
     "text": [
      "Number of Molecules =  1513\n"
     ]
    },
    {
     "data": {
      "text/html": [
       "<div>\n",
       "<style scoped>\n",
       "    .dataframe tbody tr th:only-of-type {\n",
       "        vertical-align: middle;\n",
       "    }\n",
       "\n",
       "    .dataframe tbody tr th {\n",
       "        vertical-align: top;\n",
       "    }\n",
       "\n",
       "    .dataframe thead th {\n",
       "        text-align: right;\n",
       "    }\n",
       "</style>\n",
       "<table border=\"1\" class=\"dataframe\">\n",
       "  <thead>\n",
       "    <tr style=\"text-align: right;\">\n",
       "      <th></th>\n",
       "      <th>mol</th>\n",
       "      <th>CID</th>\n",
       "      <th>Class</th>\n",
       "      <th>Model</th>\n",
       "      <th>pIC50</th>\n",
       "      <th>MW</th>\n",
       "      <th>AlogP</th>\n",
       "      <th>HBA</th>\n",
       "      <th>HBD</th>\n",
       "      <th>RB</th>\n",
       "      <th>...</th>\n",
       "      <th>PEOE6 (PEOE6)</th>\n",
       "      <th>PEOE7 (PEOE7)</th>\n",
       "      <th>PEOE8 (PEOE8)</th>\n",
       "      <th>PEOE9 (PEOE9)</th>\n",
       "      <th>PEOE10 (PEOE10)</th>\n",
       "      <th>PEOE11 (PEOE11)</th>\n",
       "      <th>PEOE12 (PEOE12)</th>\n",
       "      <th>PEOE13 (PEOE13)</th>\n",
       "      <th>PEOE14 (PEOE14)</th>\n",
       "      <th>canvasUID</th>\n",
       "    </tr>\n",
       "  </thead>\n",
       "  <tbody>\n",
       "    <tr>\n",
       "      <th>0</th>\n",
       "      <td>O1CC[C@@H](NC(=O)[C@@H](Cc2cc3cc(ccc3nc2N)-c2c...</td>\n",
       "      <td>BACE_1</td>\n",
       "      <td>1</td>\n",
       "      <td>Train</td>\n",
       "      <td>9.154901</td>\n",
       "      <td>431.56979</td>\n",
       "      <td>4.4014</td>\n",
       "      <td>3</td>\n",
       "      <td>2</td>\n",
       "      <td>5</td>\n",
       "      <td>...</td>\n",
       "      <td>53.205711</td>\n",
       "      <td>78.640335</td>\n",
       "      <td>226.855410</td>\n",
       "      <td>107.434910</td>\n",
       "      <td>37.133846</td>\n",
       "      <td>0.000000</td>\n",
       "      <td>7.980170</td>\n",
       "      <td>0.000000</td>\n",
       "      <td>0.000000</td>\n",
       "      <td>1</td>\n",
       "    </tr>\n",
       "    <tr>\n",
       "      <th>1</th>\n",
       "      <td>Fc1cc(cc(F)c1)C[C@H](NC(=O)[C@@H](N1CC[C@](NC(...</td>\n",
       "      <td>BACE_2</td>\n",
       "      <td>1</td>\n",
       "      <td>Train</td>\n",
       "      <td>8.853872</td>\n",
       "      <td>657.81073</td>\n",
       "      <td>2.6412</td>\n",
       "      <td>5</td>\n",
       "      <td>4</td>\n",
       "      <td>16</td>\n",
       "      <td>...</td>\n",
       "      <td>73.817162</td>\n",
       "      <td>47.171600</td>\n",
       "      <td>365.676940</td>\n",
       "      <td>174.076750</td>\n",
       "      <td>34.923889</td>\n",
       "      <td>7.980170</td>\n",
       "      <td>24.148668</td>\n",
       "      <td>0.000000</td>\n",
       "      <td>24.663788</td>\n",
       "      <td>2</td>\n",
       "    </tr>\n",
       "    <tr>\n",
       "      <th>2</th>\n",
       "      <td>S1(=O)(=O)N(c2cc(cc3c2n(cc3CC)CC1)C(=O)N[C@H](...</td>\n",
       "      <td>BACE_3</td>\n",
       "      <td>1</td>\n",
       "      <td>Train</td>\n",
       "      <td>8.698970</td>\n",
       "      <td>591.74091</td>\n",
       "      <td>2.5499</td>\n",
       "      <td>4</td>\n",
       "      <td>3</td>\n",
       "      <td>11</td>\n",
       "      <td>...</td>\n",
       "      <td>70.365707</td>\n",
       "      <td>47.941147</td>\n",
       "      <td>192.406520</td>\n",
       "      <td>255.752550</td>\n",
       "      <td>23.654478</td>\n",
       "      <td>0.230159</td>\n",
       "      <td>15.879790</td>\n",
       "      <td>0.000000</td>\n",
       "      <td>24.663788</td>\n",
       "      <td>3</td>\n",
       "    </tr>\n",
       "    <tr>\n",
       "      <th>3</th>\n",
       "      <td>S1(=O)(=O)C[C@@H](Cc2cc(O[C@H](COCC)C(F)(F)F)c...</td>\n",
       "      <td>BACE_4</td>\n",
       "      <td>1</td>\n",
       "      <td>Train</td>\n",
       "      <td>8.698970</td>\n",
       "      <td>591.67828</td>\n",
       "      <td>3.1680</td>\n",
       "      <td>4</td>\n",
       "      <td>3</td>\n",
       "      <td>12</td>\n",
       "      <td>...</td>\n",
       "      <td>56.657166</td>\n",
       "      <td>37.954151</td>\n",
       "      <td>194.353040</td>\n",
       "      <td>202.763350</td>\n",
       "      <td>36.498634</td>\n",
       "      <td>0.980913</td>\n",
       "      <td>8.188327</td>\n",
       "      <td>0.000000</td>\n",
       "      <td>26.385181</td>\n",
       "      <td>4</td>\n",
       "    </tr>\n",
       "    <tr>\n",
       "      <th>4</th>\n",
       "      <td>S1(=O)(=O)N(c2cc(cc3c2n(cc3CC)CC1)C(=O)N[C@H](...</td>\n",
       "      <td>BACE_5</td>\n",
       "      <td>1</td>\n",
       "      <td>Train</td>\n",
       "      <td>8.698970</td>\n",
       "      <td>629.71283</td>\n",
       "      <td>3.5086</td>\n",
       "      <td>3</td>\n",
       "      <td>3</td>\n",
       "      <td>11</td>\n",
       "      <td>...</td>\n",
       "      <td>78.945702</td>\n",
       "      <td>39.361153</td>\n",
       "      <td>179.712880</td>\n",
       "      <td>220.461300</td>\n",
       "      <td>23.654478</td>\n",
       "      <td>0.230159</td>\n",
       "      <td>15.879790</td>\n",
       "      <td>0.000000</td>\n",
       "      <td>26.100143</td>\n",
       "      <td>5</td>\n",
       "    </tr>\n",
       "    <tr>\n",
       "      <th>...</th>\n",
       "      <td>...</td>\n",
       "      <td>...</td>\n",
       "      <td>...</td>\n",
       "      <td>...</td>\n",
       "      <td>...</td>\n",
       "      <td>...</td>\n",
       "      <td>...</td>\n",
       "      <td>...</td>\n",
       "      <td>...</td>\n",
       "      <td>...</td>\n",
       "      <td>...</td>\n",
       "      <td>...</td>\n",
       "      <td>...</td>\n",
       "      <td>...</td>\n",
       "      <td>...</td>\n",
       "      <td>...</td>\n",
       "      <td>...</td>\n",
       "      <td>...</td>\n",
       "      <td>...</td>\n",
       "      <td>...</td>\n",
       "      <td>...</td>\n",
       "    </tr>\n",
       "    <tr>\n",
       "      <th>1508</th>\n",
       "      <td>Clc1cc2nc(n(c2cc1)C(CC(=O)NCC1CCOCC1)CC)N</td>\n",
       "      <td>BACE_1543</td>\n",
       "      <td>0</td>\n",
       "      <td>Test</td>\n",
       "      <td>3.000000</td>\n",
       "      <td>364.86969</td>\n",
       "      <td>2.5942</td>\n",
       "      <td>3</td>\n",
       "      <td>2</td>\n",
       "      <td>6</td>\n",
       "      <td>...</td>\n",
       "      <td>37.212799</td>\n",
       "      <td>37.681076</td>\n",
       "      <td>180.226410</td>\n",
       "      <td>95.670128</td>\n",
       "      <td>30.107586</td>\n",
       "      <td>9.368159</td>\n",
       "      <td>7.980170</td>\n",
       "      <td>0.000000</td>\n",
       "      <td>0.000000</td>\n",
       "      <td>1543</td>\n",
       "    </tr>\n",
       "    <tr>\n",
       "      <th>1509</th>\n",
       "      <td>Clc1cc2nc(n(c2cc1)C(CC(=O)NCc1ncccc1)CC)N</td>\n",
       "      <td>BACE_1544</td>\n",
       "      <td>0</td>\n",
       "      <td>Test</td>\n",
       "      <td>3.000000</td>\n",
       "      <td>357.83731</td>\n",
       "      <td>2.8229</td>\n",
       "      <td>3</td>\n",
       "      <td>2</td>\n",
       "      <td>6</td>\n",
       "      <td>...</td>\n",
       "      <td>45.792797</td>\n",
       "      <td>47.349350</td>\n",
       "      <td>122.401500</td>\n",
       "      <td>99.877144</td>\n",
       "      <td>30.107586</td>\n",
       "      <td>9.368159</td>\n",
       "      <td>7.980170</td>\n",
       "      <td>0.000000</td>\n",
       "      <td>0.000000</td>\n",
       "      <td>1544</td>\n",
       "    </tr>\n",
       "    <tr>\n",
       "      <th>1510</th>\n",
       "      <td>Brc1cc(ccc1)C1CC1C=1N=C(N)N(C)C(=O)C=1</td>\n",
       "      <td>BACE_1545</td>\n",
       "      <td>0</td>\n",
       "      <td>Test</td>\n",
       "      <td>2.953115</td>\n",
       "      <td>320.18451</td>\n",
       "      <td>3.0895</td>\n",
       "      <td>2</td>\n",
       "      <td>1</td>\n",
       "      <td>2</td>\n",
       "      <td>...</td>\n",
       "      <td>47.790600</td>\n",
       "      <td>22.563574</td>\n",
       "      <td>96.290794</td>\n",
       "      <td>58.798935</td>\n",
       "      <td>20.071724</td>\n",
       "      <td>9.368159</td>\n",
       "      <td>0.000000</td>\n",
       "      <td>6.904104</td>\n",
       "      <td>0.000000</td>\n",
       "      <td>1545</td>\n",
       "    </tr>\n",
       "    <tr>\n",
       "      <th>1511</th>\n",
       "      <td>O=C1N(C)C(=NC(=C1)C1CC1c1cc(ccc1)-c1ccccc1)N</td>\n",
       "      <td>BACE_1546</td>\n",
       "      <td>0</td>\n",
       "      <td>Test</td>\n",
       "      <td>2.733298</td>\n",
       "      <td>317.38440</td>\n",
       "      <td>3.8595</td>\n",
       "      <td>2</td>\n",
       "      <td>1</td>\n",
       "      <td>3</td>\n",
       "      <td>...</td>\n",
       "      <td>77.219978</td>\n",
       "      <td>9.316234</td>\n",
       "      <td>95.907784</td>\n",
       "      <td>112.609720</td>\n",
       "      <td>20.071724</td>\n",
       "      <td>9.368159</td>\n",
       "      <td>0.000000</td>\n",
       "      <td>6.904104</td>\n",
       "      <td>0.000000</td>\n",
       "      <td>1546</td>\n",
       "    </tr>\n",
       "    <tr>\n",
       "      <th>1512</th>\n",
       "      <td>Clc1cc2nc(n(c2cc1)CCCC(=O)NCC1CC1)N</td>\n",
       "      <td>BACE_1547</td>\n",
       "      <td>0</td>\n",
       "      <td>Test</td>\n",
       "      <td>2.544546</td>\n",
       "      <td>306.79059</td>\n",
       "      <td>3.4271</td>\n",
       "      <td>2</td>\n",
       "      <td>2</td>\n",
       "      <td>6</td>\n",
       "      <td>...</td>\n",
       "      <td>26.907076</td>\n",
       "      <td>37.681076</td>\n",
       "      <td>161.450780</td>\n",
       "      <td>40.882919</td>\n",
       "      <td>30.107586</td>\n",
       "      <td>9.368159</td>\n",
       "      <td>7.980170</td>\n",
       "      <td>0.000000</td>\n",
       "      <td>0.000000</td>\n",
       "      <td>1547</td>\n",
       "    </tr>\n",
       "  </tbody>\n",
       "</table>\n",
       "<p>1513 rows × 595 columns</p>\n",
       "</div>"
      ],
      "text/plain": [
       "                                                    mol        CID  Class  \\\n",
       "0     O1CC[C@@H](NC(=O)[C@@H](Cc2cc3cc(ccc3nc2N)-c2c...     BACE_1      1   \n",
       "1     Fc1cc(cc(F)c1)C[C@H](NC(=O)[C@@H](N1CC[C@](NC(...     BACE_2      1   \n",
       "2     S1(=O)(=O)N(c2cc(cc3c2n(cc3CC)CC1)C(=O)N[C@H](...     BACE_3      1   \n",
       "3     S1(=O)(=O)C[C@@H](Cc2cc(O[C@H](COCC)C(F)(F)F)c...     BACE_4      1   \n",
       "4     S1(=O)(=O)N(c2cc(cc3c2n(cc3CC)CC1)C(=O)N[C@H](...     BACE_5      1   \n",
       "...                                                 ...        ...    ...   \n",
       "1508          Clc1cc2nc(n(c2cc1)C(CC(=O)NCC1CCOCC1)CC)N  BACE_1543      0   \n",
       "1509          Clc1cc2nc(n(c2cc1)C(CC(=O)NCc1ncccc1)CC)N  BACE_1544      0   \n",
       "1510             Brc1cc(ccc1)C1CC1C=1N=C(N)N(C)C(=O)C=1  BACE_1545      0   \n",
       "1511       O=C1N(C)C(=NC(=C1)C1CC1c1cc(ccc1)-c1ccccc1)N  BACE_1546      0   \n",
       "1512                Clc1cc2nc(n(c2cc1)CCCC(=O)NCC1CC1)N  BACE_1547      0   \n",
       "\n",
       "      Model     pIC50         MW   AlogP  HBA  HBD  RB  ...  PEOE6 (PEOE6)  \\\n",
       "0     Train  9.154901  431.56979  4.4014    3    2   5  ...      53.205711   \n",
       "1     Train  8.853872  657.81073  2.6412    5    4  16  ...      73.817162   \n",
       "2     Train  8.698970  591.74091  2.5499    4    3  11  ...      70.365707   \n",
       "3     Train  8.698970  591.67828  3.1680    4    3  12  ...      56.657166   \n",
       "4     Train  8.698970  629.71283  3.5086    3    3  11  ...      78.945702   \n",
       "...     ...       ...        ...     ...  ...  ...  ..  ...            ...   \n",
       "1508   Test  3.000000  364.86969  2.5942    3    2   6  ...      37.212799   \n",
       "1509   Test  3.000000  357.83731  2.8229    3    2   6  ...      45.792797   \n",
       "1510   Test  2.953115  320.18451  3.0895    2    1   2  ...      47.790600   \n",
       "1511   Test  2.733298  317.38440  3.8595    2    1   3  ...      77.219978   \n",
       "1512   Test  2.544546  306.79059  3.4271    2    2   6  ...      26.907076   \n",
       "\n",
       "      PEOE7 (PEOE7)  PEOE8 (PEOE8)  PEOE9 (PEOE9)  PEOE10 (PEOE10)  \\\n",
       "0         78.640335     226.855410     107.434910        37.133846   \n",
       "1         47.171600     365.676940     174.076750        34.923889   \n",
       "2         47.941147     192.406520     255.752550        23.654478   \n",
       "3         37.954151     194.353040     202.763350        36.498634   \n",
       "4         39.361153     179.712880     220.461300        23.654478   \n",
       "...             ...            ...            ...              ...   \n",
       "1508      37.681076     180.226410      95.670128        30.107586   \n",
       "1509      47.349350     122.401500      99.877144        30.107586   \n",
       "1510      22.563574      96.290794      58.798935        20.071724   \n",
       "1511       9.316234      95.907784     112.609720        20.071724   \n",
       "1512      37.681076     161.450780      40.882919        30.107586   \n",
       "\n",
       "      PEOE11 (PEOE11)  PEOE12 (PEOE12)  PEOE13 (PEOE13)  PEOE14 (PEOE14)  \\\n",
       "0            0.000000         7.980170         0.000000         0.000000   \n",
       "1            7.980170        24.148668         0.000000        24.663788   \n",
       "2            0.230159        15.879790         0.000000        24.663788   \n",
       "3            0.980913         8.188327         0.000000        26.385181   \n",
       "4            0.230159        15.879790         0.000000        26.100143   \n",
       "...               ...              ...              ...              ...   \n",
       "1508         9.368159         7.980170         0.000000         0.000000   \n",
       "1509         9.368159         7.980170         0.000000         0.000000   \n",
       "1510         9.368159         0.000000         6.904104         0.000000   \n",
       "1511         9.368159         0.000000         6.904104         0.000000   \n",
       "1512         9.368159         7.980170         0.000000         0.000000   \n",
       "\n",
       "      canvasUID  \n",
       "0             1  \n",
       "1             2  \n",
       "2             3  \n",
       "3             4  \n",
       "4             5  \n",
       "...         ...  \n",
       "1508       1543  \n",
       "1509       1544  \n",
       "1510       1545  \n",
       "1511       1546  \n",
       "1512       1547  \n",
       "\n",
       "[1513 rows x 595 columns]"
      ]
     },
     "metadata": {},
     "output_type": "display_data"
    }
   ],
   "source": [
    "# import data\n",
    "\n",
    "dataframe = pd.read_csv(\"data/MoleculeNet_BACE/BACE.csv\")\n",
    "\n",
    "print(\"Number of Molecules = \", len(dataframe))\n",
    "display(dataframe)"
   ]
  },
  {
   "cell_type": "code",
   "execution_count": 157,
   "metadata": {
    "colab": {
     "base_uri": "https://localhost:8080/",
     "height": 276
    },
    "colab_type": "code",
    "executionInfo": {
     "elapsed": 2024,
     "status": "ok",
     "timestamp": 1599858873012,
     "user": {
      "displayName": "Markus Dablander",
      "photoUrl": "",
      "userId": "13467664559539683865"
     },
     "user_tz": -120
    },
    "id": "BIm1m_9NSEaG",
    "outputId": "b8cea951-b524-4fc0-c760-db6be2b78673"
   },
   "outputs": [
    {
     "data": {
      "text/html": [
       "<div>\n",
       "<style scoped>\n",
       "    .dataframe tbody tr th:only-of-type {\n",
       "        vertical-align: middle;\n",
       "    }\n",
       "\n",
       "    .dataframe tbody tr th {\n",
       "        vertical-align: top;\n",
       "    }\n",
       "\n",
       "    .dataframe thead th {\n",
       "        text-align: right;\n",
       "    }\n",
       "</style>\n",
       "<table border=\"1\" class=\"dataframe\">\n",
       "  <thead>\n",
       "    <tr style=\"text-align: right;\">\n",
       "      <th></th>\n",
       "      <th>mol</th>\n",
       "      <th>CID</th>\n",
       "      <th>Class</th>\n",
       "      <th>Model</th>\n",
       "      <th>pIC50</th>\n",
       "      <th>MW</th>\n",
       "      <th>AlogP</th>\n",
       "      <th>HBA</th>\n",
       "      <th>HBD</th>\n",
       "      <th>RB</th>\n",
       "      <th>...</th>\n",
       "      <th>PEOE6 (PEOE6)</th>\n",
       "      <th>PEOE7 (PEOE7)</th>\n",
       "      <th>PEOE8 (PEOE8)</th>\n",
       "      <th>PEOE9 (PEOE9)</th>\n",
       "      <th>PEOE10 (PEOE10)</th>\n",
       "      <th>PEOE11 (PEOE11)</th>\n",
       "      <th>PEOE12 (PEOE12)</th>\n",
       "      <th>PEOE13 (PEOE13)</th>\n",
       "      <th>PEOE14 (PEOE14)</th>\n",
       "      <th>canvasUID</th>\n",
       "    </tr>\n",
       "  </thead>\n",
       "  <tbody>\n",
       "  </tbody>\n",
       "</table>\n",
       "<p>0 rows × 595 columns</p>\n",
       "</div>"
      ],
      "text/plain": [
       "Empty DataFrame\n",
       "Columns: [mol, CID, Class, Model, pIC50, MW, AlogP, HBA, HBD, RB, HeavyAtomCount, ChiralCenterCount, ChiralCenterCountAllPossible, RingCount, PSA, Estate, MR, Polar, sLi_Key, ssBe_Key, ssssBem_Key, sBH2_Key, ssBH_Key, sssB_Key, ssssBm_Key, sCH3_Key, dCH2_Key, ssCH2_Key, tCH_Key, dsCH_Key, aaCH_Key, sssCH_Key, ddC_Key, tsC_Key, dssC_Key, aasC_Key, aaaC_Key, ssssC_Key, sNH3_Key, sNH2_Key, ssNH2_Key, dNH_Key, ssNH_Key, aaNH_Key, tN_Key, sssNH_Key, dsN_Key, aaN_Key, sssN_Key, ddsN_Key, aasN_Key, ssssN_Key, daaN_Key, sOH_Key, dO_Key, ssO_Key, aaO_Key, aOm_Key, sOm_Key, sF_Key, sSiH3_Key, ssSiH2_Key, sssSiH_Key, ssssSi_Key, sPH2_Key, ssPH_Key, sssP_Key, dsssP_Key, ddsP_Key, sssssP_Key, sSH_Key, dS_Key, ssS_Key, aaS_Key, dssS_Key, ddssS_Key, ssssssS_Key, Sm_Key, sCl_Key, sGeH3_Key, ssGeH2_Key, sssGeH_Key, ssssGe_Key, sAsH2_Key, ssAsH_Key, sssAs_Key, dsssAs_Key, ddsAs_Key, sssssAs_Key, sSeH_Key, dSe_Key, ssSe_Key, aaSe_Key, dssSe_Key, ssssssSe_Key, ddssSe_Key, sBr_Key, sSnH3_Key, ssSnH2_Key, sssSnH_Key, ...]\n",
       "Index: []\n",
       "\n",
       "[0 rows x 595 columns]"
      ]
     },
     "metadata": {},
     "output_type": "display_data"
    },
    {
     "data": {
      "text/html": [
       "<div>\n",
       "<style scoped>\n",
       "    .dataframe tbody tr th:only-of-type {\n",
       "        vertical-align: middle;\n",
       "    }\n",
       "\n",
       "    .dataframe tbody tr th {\n",
       "        vertical-align: top;\n",
       "    }\n",
       "\n",
       "    .dataframe thead th {\n",
       "        text-align: right;\n",
       "    }\n",
       "</style>\n",
       "<table border=\"1\" class=\"dataframe\">\n",
       "  <thead>\n",
       "    <tr style=\"text-align: right;\">\n",
       "      <th></th>\n",
       "      <th>mol</th>\n",
       "      <th>CID</th>\n",
       "      <th>Class</th>\n",
       "      <th>Model</th>\n",
       "      <th>pIC50</th>\n",
       "      <th>MW</th>\n",
       "      <th>AlogP</th>\n",
       "      <th>HBA</th>\n",
       "      <th>HBD</th>\n",
       "      <th>RB</th>\n",
       "      <th>...</th>\n",
       "      <th>PEOE6 (PEOE6)</th>\n",
       "      <th>PEOE7 (PEOE7)</th>\n",
       "      <th>PEOE8 (PEOE8)</th>\n",
       "      <th>PEOE9 (PEOE9)</th>\n",
       "      <th>PEOE10 (PEOE10)</th>\n",
       "      <th>PEOE11 (PEOE11)</th>\n",
       "      <th>PEOE12 (PEOE12)</th>\n",
       "      <th>PEOE13 (PEOE13)</th>\n",
       "      <th>PEOE14 (PEOE14)</th>\n",
       "      <th>canvasUID</th>\n",
       "    </tr>\n",
       "  </thead>\n",
       "  <tbody>\n",
       "  </tbody>\n",
       "</table>\n",
       "<p>0 rows × 595 columns</p>\n",
       "</div>"
      ],
      "text/plain": [
       "Empty DataFrame\n",
       "Columns: [mol, CID, Class, Model, pIC50, MW, AlogP, HBA, HBD, RB, HeavyAtomCount, ChiralCenterCount, ChiralCenterCountAllPossible, RingCount, PSA, Estate, MR, Polar, sLi_Key, ssBe_Key, ssssBem_Key, sBH2_Key, ssBH_Key, sssB_Key, ssssBm_Key, sCH3_Key, dCH2_Key, ssCH2_Key, tCH_Key, dsCH_Key, aaCH_Key, sssCH_Key, ddC_Key, tsC_Key, dssC_Key, aasC_Key, aaaC_Key, ssssC_Key, sNH3_Key, sNH2_Key, ssNH2_Key, dNH_Key, ssNH_Key, aaNH_Key, tN_Key, sssNH_Key, dsN_Key, aaN_Key, sssN_Key, ddsN_Key, aasN_Key, ssssN_Key, daaN_Key, sOH_Key, dO_Key, ssO_Key, aaO_Key, aOm_Key, sOm_Key, sF_Key, sSiH3_Key, ssSiH2_Key, sssSiH_Key, ssssSi_Key, sPH2_Key, ssPH_Key, sssP_Key, dsssP_Key, ddsP_Key, sssssP_Key, sSH_Key, dS_Key, ssS_Key, aaS_Key, dssS_Key, ddssS_Key, ssssssS_Key, Sm_Key, sCl_Key, sGeH3_Key, ssGeH2_Key, sssGeH_Key, ssssGe_Key, sAsH2_Key, ssAsH_Key, sssAs_Key, dsssAs_Key, ddsAs_Key, sssssAs_Key, sSeH_Key, dSe_Key, ssSe_Key, aaSe_Key, dssSe_Key, ssssssSe_Key, ddssSe_Key, sBr_Key, sSnH3_Key, ssSnH2_Key, sssSnH_Key, ...]\n",
       "Index: []\n",
       "\n",
       "[0 rows x 595 columns]"
      ]
     },
     "metadata": {},
     "output_type": "display_data"
    }
   ],
   "source": [
    "# check for missing values (i.e. NA values)\n",
    "\n",
    "display(dataframe[dataframe['mol'].isnull()])\n",
    "display(dataframe[dataframe['Class'].isnull()])"
   ]
  },
  {
   "cell_type": "code",
   "execution_count": 158,
   "metadata": {
    "colab": {},
    "colab_type": "code",
    "id": "oFu7W-IlSEaN"
   },
   "outputs": [
    {
     "name": "stdout",
     "output_type": "stream",
     "text": [
      "1513\n"
     ]
    }
   ],
   "source": [
    "# filter out Smiles which produce error messages in rdkit\n",
    "\n",
    "bad_smiles = []\n",
    "\n",
    "for k in range(len(dataframe[\"mol\"].values)):\n",
    "\n",
    "    smiles = dataframe[\"mol\"].values[k]\n",
    "    \n",
    "    sio = sys.stderr = StringIO()\n",
    "    Chem.MolFromSmiles(smiles)\n",
    "    error_message = sio.getvalue()\n",
    "    \n",
    "    if error_message != \"\" and error_message[0:13] != \"RDKit WARNING\":\n",
    "        #print(error_message)\n",
    "        #print(smiles, \"\\n \\n \\n \\n\")\n",
    "        bad_smiles.append(smiles)\n",
    "\n",
    "dataframe = dataframe[dataframe[\"mol\"].isin(bad_smiles) == False]\n",
    "\n",
    "print(len(dataframe))"
   ]
  },
  {
   "cell_type": "code",
   "execution_count": 159,
   "metadata": {},
   "outputs": [
    {
     "name": "stdout",
     "output_type": "stream",
     "text": [
      "N_positive =  691\n",
      "N_negative =  822\n",
      "Total fraction of positives =  0.456708526107072\n"
     ]
    }
   ],
   "source": [
    "# compute number of positive and negative instances\n",
    "\n",
    "N_positive = int(np.sum(dataframe[\"Class\"].values))\n",
    "N_negative = len(dataframe[\"Class\"]) - N_positive\n",
    "\n",
    "print(\"N_positive = \", N_positive)\n",
    "print(\"N_negative = \", N_negative)\n",
    "print(\"Total fraction of positives = \", N_positive/(N_positive + N_negative))"
   ]
  },
  {
   "cell_type": "code",
   "execution_count": 45,
   "metadata": {
    "colab": {},
    "colab_type": "code",
    "executionInfo": {
     "elapsed": 645,
     "status": "ok",
     "timestamp": 1599869440512,
     "user": {
      "displayName": "Markus Dablander",
      "photoUrl": "",
      "userId": "13467664559539683865"
     },
     "user_tz": -120
    },
    "id": "X2XcwuHnSEaT"
   },
   "outputs": [
    {
     "name": "stdout",
     "output_type": "stream",
     "text": [
      "N_negative_delete =  131\n"
     ]
    }
   ],
   "source": [
    "# create balanced data set by undersampling the negative class so that number of molecules becomes exactly the same in each class\n",
    "\n",
    "N_negative_delete = len(dataframe[\"Class\"].values) - 2*len(dataframe[dataframe[\"Class\"] == 1].values)\n",
    "\n",
    "dataframe = dataframe.drop(dataframe[dataframe[\"Class\"] == 0].sample(n = N_negative_delete, random_state = 42).index)\n",
    "\n",
    "print(\"N_negative_delete = \", N_negative_delete)"
   ]
  },
  {
   "cell_type": "code",
   "execution_count": 46,
   "metadata": {},
   "outputs": [
    {
     "name": "stdout",
     "output_type": "stream",
     "text": [
      "Number of Molecules =  1382\n"
     ]
    }
   ],
   "source": [
    "# define number of molecules\n",
    "\n",
    "N_molecules = len(dataframe[\"Class\"].values)\n",
    "\n",
    "print(\"Number of Molecules = \", N_molecules)"
   ]
  },
  {
   "cell_type": "code",
   "execution_count": 47,
   "metadata": {
    "colab": {
     "base_uri": "https://localhost:8080/",
     "height": 90
    },
    "colab_type": "code",
    "executionInfo": {
     "elapsed": 771,
     "status": "ok",
     "timestamp": 1599869443976,
     "user": {
      "displayName": "Markus Dablander",
      "photoUrl": "",
      "userId": "13467664559539683865"
     },
     "user_tz": -120
    },
    "id": "M1aIBqplSEaq",
    "outputId": "d9c43474-c7b7-4622-da65-6ebe36c9c3a1"
   },
   "outputs": [
    {
     "name": "stdout",
     "output_type": "stream",
     "text": [
      "Number of Positives =  691\n",
      "Fraction of Positives =  0.5\n",
      "Shape of y =  (1382,)\n",
      "Shape of Y =  (1382, 1)\n",
      "\n",
      " y =  [1 1 1 ... 0 0 0]\n"
     ]
    }
   ],
   "source": [
    "# construct target variable y/Y (hERG inhibition)\n",
    "\n",
    "# extract labels\n",
    "y = dataframe.loc[:,\"Class\"].values\n",
    "Y = np.reshape(y, (len(y), 1))\n",
    "\n",
    "print(\"Number of Positives = \", np.sum(y))\n",
    "print(\"Fraction of Positives = \", np.sum(y)/N_molecules)\n",
    "\n",
    "\n",
    "print(\"Shape of y = \", y.shape)\n",
    "print(\"Shape of Y = \", Y.shape)\n",
    "\n",
    "print(\"\\n y = \", y)\n"
   ]
  },
  {
   "cell_type": "code",
   "execution_count": 48,
   "metadata": {
    "colab": {
     "base_uri": "https://localhost:8080/",
     "height": 222
    },
    "colab_type": "code",
    "executionInfo": {
     "elapsed": 444,
     "status": "ok",
     "timestamp": 1599869444377,
     "user": {
      "displayName": "Markus Dablander",
      "photoUrl": "",
      "userId": "13467664559539683865"
     },
     "user_tz": -120
    },
    "id": "PB82_jFUSEav",
    "outputId": "f151bbf0-8894-45c1-bd95-e747bc7c74b5"
   },
   "outputs": [
    {
     "name": "stdout",
     "output_type": "stream",
     "text": [
      "                  Smiles String\n",
      "O1CC[C@@H](NC(=O)[C@@H](Cc2cc3cc(ccc3nc2N)-c2ccccc2C)C)CC1(C)C\n"
     ]
    },
    {
     "data": {
      "image/png": "[encoded data removed]",
      "text/plain": [
       "<rdkit.Chem.rdchem.Mol at 0x7fee0c377e40>"
      ]
     },
     "metadata": {},
     "output_type": "display_data"
    },
    {
     "name": "stdout",
     "output_type": "stream",
     "text": [
      "Shape of x_smiles =  (1382,)\n",
      "Shape of X_smiles =  (1382, 1)\n",
      "\n",
      " x_smiles =  ['O1CC[C@@H](NC(=O)[C@@H](Cc2cc3cc(ccc3nc2N)-c2ccccc2C)C)CC1(C)C'\n",
      " 'Fc1cc(cc(F)c1)C[C@H](NC(=O)[C@@H](N1CC[C@](NC(=O)C)(CC(C)C)C1=O)CCc1ccccc1)[C@H](O)[C@@H]1[NH2+]C[C@H](OCCC)C1'\n",
      " 'S1(=O)(=O)N(c2cc(cc3c2n(cc3CC)CC1)C(=O)N[C@H]([C@H](O)C[NH2+]Cc1cc(OC)ccc1)Cc1ccccc1)C'\n",
      " 'S1(=O)(=O)C[C@@H](Cc2cc(O[C@H](COCC)C(F)(F)F)c(N)c(F)c2)[C@H](O)[C@@H]([NH2+]Cc2cc(ccc2)C(C)(C)C)C1'\n",
      " 'S1(=O)(=O)N(c2cc(cc3c2n(cc3CC)CC1)C(=O)N[C@H]([C@H](O)C[NH2+]Cc1cc(ccc1)C(F)(F)F)Cc1ccccc1)C'\n",
      " 'S1(=O)C[C@@H](Cc2cc(OC(C(F)(F)F)C(F)(F)F)c(N)c(F)c2)[C@H](O)[C@@H]([NH2+]Cc2cc(ccc2)C(C)(C)C)C1'\n",
      " 'S(=O)(=O)(CCCCC)C[C@@H](NC(=O)c1cccnc1)C(=O)N[C@H]([C@H](O)C[NH2+]Cc1cc(ccc1)CC)Cc1cc(F)cc(F)c1'\n",
      " 'Fc1c2c(ccc1)[C@@]([NH+]=C2N)(C=1C=C(C)C(=O)N(C=1)CC)c1cc(ccc1)-c1cc(cnc1)C#CC'\n",
      " 'O1c2c(cc(cc2)CC)[C@@H]([NH2+]C[C@@H](O)[C@H]2NC(=O)C=3C=CC(=O)N(CCCCc4cc(C2)ccc4)C=3)CC12CCC2'\n",
      " 'O=C1N(CCCC1)C(C)(C)[C@@H]1C[C@@H](CCC1)C(=O)N[C@H]([C@H](O)C[NH2+]Cc1cc(ccc1)C(C)C)Cc1ccccc1']\n"
     ]
    }
   ],
   "source": [
    "# extract Smiles strings\n",
    "\n",
    "X_smiles = np.reshape(dataframe[\"mol\"].values, (N_molecules, 1))\n",
    "x_smiles = X_smiles[:,0]\n",
    "\n",
    "print(\"                  Smiles String\")\n",
    "print(X_smiles[0:1][0][0])\n",
    "\n",
    "for s in x_smiles[0:1]:\n",
    "    molecule = Chem.MolFromSmiles(s)\n",
    "    display(molecule)\n",
    "    \n",
    "print(\"Shape of x_smiles = \", x_smiles.shape)\n",
    "print(\"Shape of X_smiles = \", X_smiles.shape)\n",
    "\n",
    "print(\"\\n x_smiles = \", x_smiles[0:10])"
   ]
  },
  {
   "cell_type": "markdown",
   "metadata": {
    "collapsed": "true"
   },
   "source": [
    "## Prepare Data: MoleculeNet_ClinTox"
   ]
  },
  {
   "cell_type": "code",
   "execution_count": 160,
   "metadata": {
    "colab": {
     "base_uri": "https://localhost:8080/",
     "height": 225
    },
    "colab_type": "code",
    "executionInfo": {
     "elapsed": 429,
     "status": "ok",
     "timestamp": 1599869437487,
     "user": {
      "displayName": "Markus Dablander",
      "photoUrl": "",
      "userId": "13467664559539683865"
     },
     "user_tz": -120
    },
    "id": "FpdNzlmISEaA",
    "outputId": "c37aae09-ccfe-4f8a-dccc-6006309b2074"
   },
   "outputs": [
    {
     "name": "stdout",
     "output_type": "stream",
     "text": [
      "Number of Molecules =  1484\n"
     ]
    },
    {
     "data": {
      "text/html": [
       "<div>\n",
       "<style scoped>\n",
       "    .dataframe tbody tr th:only-of-type {\n",
       "        vertical-align: middle;\n",
       "    }\n",
       "\n",
       "    .dataframe tbody tr th {\n",
       "        vertical-align: top;\n",
       "    }\n",
       "\n",
       "    .dataframe thead th {\n",
       "        text-align: right;\n",
       "    }\n",
       "</style>\n",
       "<table border=\"1\" class=\"dataframe\">\n",
       "  <thead>\n",
       "    <tr style=\"text-align: right;\">\n",
       "      <th></th>\n",
       "      <th>smiles</th>\n",
       "      <th>FDA_APPROVED</th>\n",
       "      <th>CT_TOX</th>\n",
       "    </tr>\n",
       "  </thead>\n",
       "  <tbody>\n",
       "    <tr>\n",
       "      <th>0</th>\n",
       "      <td>*C(=O)[C@H](CCCCNC(=O)OCCOC)NC(=O)OCCOC</td>\n",
       "      <td>1</td>\n",
       "      <td>0</td>\n",
       "    </tr>\n",
       "    <tr>\n",
       "      <th>1</th>\n",
       "      <td>[C@@H]1([C@@H]([C@@H]([C@H]([C@@H]([C@@H]1Cl)C...</td>\n",
       "      <td>1</td>\n",
       "      <td>0</td>\n",
       "    </tr>\n",
       "    <tr>\n",
       "      <th>2</th>\n",
       "      <td>[C@H]([C@@H]([C@@H](C(=O)[O-])O)O)([C@H](C(=O)...</td>\n",
       "      <td>1</td>\n",
       "      <td>0</td>\n",
       "    </tr>\n",
       "    <tr>\n",
       "      <th>3</th>\n",
       "      <td>[H]/[NH+]=C(/C1=CC(=O)/C(=C\\C=c2ccc(=C([NH3+])...</td>\n",
       "      <td>1</td>\n",
       "      <td>0</td>\n",
       "    </tr>\n",
       "    <tr>\n",
       "      <th>4</th>\n",
       "      <td>[H]/[NH+]=C(\\N)/c1ccc(cc1)OCCCCCOc2ccc(cc2)/C(...</td>\n",
       "      <td>1</td>\n",
       "      <td>0</td>\n",
       "    </tr>\n",
       "    <tr>\n",
       "      <th>...</th>\n",
       "      <td>...</td>\n",
       "      <td>...</td>\n",
       "      <td>...</td>\n",
       "    </tr>\n",
       "    <tr>\n",
       "      <th>1479</th>\n",
       "      <td>O[Si](=O)O</td>\n",
       "      <td>1</td>\n",
       "      <td>0</td>\n",
       "    </tr>\n",
       "    <tr>\n",
       "      <th>1480</th>\n",
       "      <td>O=[Ti]=O</td>\n",
       "      <td>1</td>\n",
       "      <td>0</td>\n",
       "    </tr>\n",
       "    <tr>\n",
       "      <th>1481</th>\n",
       "      <td>O=[Zn]</td>\n",
       "      <td>1</td>\n",
       "      <td>0</td>\n",
       "    </tr>\n",
       "    <tr>\n",
       "      <th>1482</th>\n",
       "      <td>OCl(=O)(=O)=O</td>\n",
       "      <td>1</td>\n",
       "      <td>0</td>\n",
       "    </tr>\n",
       "    <tr>\n",
       "      <th>1483</th>\n",
       "      <td>S=[Se]=S</td>\n",
       "      <td>1</td>\n",
       "      <td>0</td>\n",
       "    </tr>\n",
       "  </tbody>\n",
       "</table>\n",
       "<p>1484 rows × 3 columns</p>\n",
       "</div>"
      ],
      "text/plain": [
       "                                                 smiles  FDA_APPROVED  CT_TOX\n",
       "0               *C(=O)[C@H](CCCCNC(=O)OCCOC)NC(=O)OCCOC             1       0\n",
       "1     [C@@H]1([C@@H]([C@@H]([C@H]([C@@H]([C@@H]1Cl)C...             1       0\n",
       "2     [C@H]([C@@H]([C@@H](C(=O)[O-])O)O)([C@H](C(=O)...             1       0\n",
       "3     [H]/[NH+]=C(/C1=CC(=O)/C(=C\\C=c2ccc(=C([NH3+])...             1       0\n",
       "4     [H]/[NH+]=C(\\N)/c1ccc(cc1)OCCCCCOc2ccc(cc2)/C(...             1       0\n",
       "...                                                 ...           ...     ...\n",
       "1479                                         O[Si](=O)O             1       0\n",
       "1480                                           O=[Ti]=O             1       0\n",
       "1481                                             O=[Zn]             1       0\n",
       "1482                                      OCl(=O)(=O)=O             1       0\n",
       "1483                                           S=[Se]=S             1       0\n",
       "\n",
       "[1484 rows x 3 columns]"
      ]
     },
     "metadata": {},
     "output_type": "display_data"
    }
   ],
   "source": [
    "# import data\n",
    "\n",
    "dataframe = pd.read_csv(\"data/MoleculeNet_ClinTox/ClinTox.csv\")\n",
    "\n",
    "print(\"Number of Molecules = \", len(dataframe))\n",
    "display(dataframe)"
   ]
  },
  {
   "cell_type": "code",
   "execution_count": 161,
   "metadata": {},
   "outputs": [],
   "source": [
    "# choose target variable\n",
    "\n",
    "target = \"FDA_APPROVED\""
   ]
  },
  {
   "cell_type": "code",
   "execution_count": 162,
   "metadata": {
    "colab": {
     "base_uri": "https://localhost:8080/",
     "height": 276
    },
    "colab_type": "code",
    "executionInfo": {
     "elapsed": 2024,
     "status": "ok",
     "timestamp": 1599858873012,
     "user": {
      "displayName": "Markus Dablander",
      "photoUrl": "",
      "userId": "13467664559539683865"
     },
     "user_tz": -120
    },
    "id": "BIm1m_9NSEaG",
    "outputId": "b8cea951-b524-4fc0-c760-db6be2b78673"
   },
   "outputs": [
    {
     "data": {
      "text/html": [
       "<div>\n",
       "<style scoped>\n",
       "    .dataframe tbody tr th:only-of-type {\n",
       "        vertical-align: middle;\n",
       "    }\n",
       "\n",
       "    .dataframe tbody tr th {\n",
       "        vertical-align: top;\n",
       "    }\n",
       "\n",
       "    .dataframe thead th {\n",
       "        text-align: right;\n",
       "    }\n",
       "</style>\n",
       "<table border=\"1\" class=\"dataframe\">\n",
       "  <thead>\n",
       "    <tr style=\"text-align: right;\">\n",
       "      <th></th>\n",
       "      <th>smiles</th>\n",
       "      <th>FDA_APPROVED</th>\n",
       "      <th>CT_TOX</th>\n",
       "    </tr>\n",
       "  </thead>\n",
       "  <tbody>\n",
       "  </tbody>\n",
       "</table>\n",
       "</div>"
      ],
      "text/plain": [
       "Empty DataFrame\n",
       "Columns: [smiles, FDA_APPROVED, CT_TOX]\n",
       "Index: []"
      ]
     },
     "metadata": {},
     "output_type": "display_data"
    },
    {
     "data": {
      "text/html": [
       "<div>\n",
       "<style scoped>\n",
       "    .dataframe tbody tr th:only-of-type {\n",
       "        vertical-align: middle;\n",
       "    }\n",
       "\n",
       "    .dataframe tbody tr th {\n",
       "        vertical-align: top;\n",
       "    }\n",
       "\n",
       "    .dataframe thead th {\n",
       "        text-align: right;\n",
       "    }\n",
       "</style>\n",
       "<table border=\"1\" class=\"dataframe\">\n",
       "  <thead>\n",
       "    <tr style=\"text-align: right;\">\n",
       "      <th></th>\n",
       "      <th>smiles</th>\n",
       "      <th>FDA_APPROVED</th>\n",
       "      <th>CT_TOX</th>\n",
       "    </tr>\n",
       "  </thead>\n",
       "  <tbody>\n",
       "  </tbody>\n",
       "</table>\n",
       "</div>"
      ],
      "text/plain": [
       "Empty DataFrame\n",
       "Columns: [smiles, FDA_APPROVED, CT_TOX]\n",
       "Index: []"
      ]
     },
     "metadata": {},
     "output_type": "display_data"
    },
    {
     "data": {
      "text/html": [
       "<div>\n",
       "<style scoped>\n",
       "    .dataframe tbody tr th:only-of-type {\n",
       "        vertical-align: middle;\n",
       "    }\n",
       "\n",
       "    .dataframe tbody tr th {\n",
       "        vertical-align: top;\n",
       "    }\n",
       "\n",
       "    .dataframe thead th {\n",
       "        text-align: right;\n",
       "    }\n",
       "</style>\n",
       "<table border=\"1\" class=\"dataframe\">\n",
       "  <thead>\n",
       "    <tr style=\"text-align: right;\">\n",
       "      <th></th>\n",
       "      <th>smiles</th>\n",
       "      <th>FDA_APPROVED</th>\n",
       "      <th>CT_TOX</th>\n",
       "    </tr>\n",
       "  </thead>\n",
       "  <tbody>\n",
       "  </tbody>\n",
       "</table>\n",
       "</div>"
      ],
      "text/plain": [
       "Empty DataFrame\n",
       "Columns: [smiles, FDA_APPROVED, CT_TOX]\n",
       "Index: []"
      ]
     },
     "metadata": {},
     "output_type": "display_data"
    }
   ],
   "source": [
    "# check for missing values (i.e. NA values)\n",
    "\n",
    "display(dataframe[dataframe['smiles'].isnull()])\n",
    "display(dataframe[dataframe[target].isnull()])\n",
    "display(dataframe[dataframe['CT_TOX'].isnull()])"
   ]
  },
  {
   "cell_type": "code",
   "execution_count": 163,
   "metadata": {
    "colab": {},
    "colab_type": "code",
    "id": "oFu7W-IlSEaN"
   },
   "outputs": [
    {
     "name": "stdout",
     "output_type": "stream",
     "text": [
      "1478\n"
     ]
    }
   ],
   "source": [
    "# filter out Smiles which produce error messages in rdkit\n",
    "\n",
    "bad_smiles = []\n",
    "\n",
    "for k in range(len(dataframe[\"smiles\"].values)):\n",
    "\n",
    "    smiles = dataframe[\"smiles\"].values[k]\n",
    "    \n",
    "    sio = sys.stderr = StringIO()\n",
    "    Chem.MolFromSmiles(smiles)\n",
    "    error_message = sio.getvalue()\n",
    "    \n",
    "    if error_message != \"\" and error_message[0:13] != \"RDKit WARNING\":\n",
    "        #print(k)\n",
    "        #print(error_message)\n",
    "        #print(smiles, \"\\n \\n \\n \\n\")\n",
    "        bad_smiles.append(smiles)\n",
    "\n",
    "dataframe = dataframe[dataframe[\"smiles\"].isin(bad_smiles) == False]\n",
    "\n",
    "print(len(dataframe))"
   ]
  },
  {
   "cell_type": "code",
   "execution_count": 164,
   "metadata": {},
   "outputs": [
    {
     "name": "stdout",
     "output_type": "stream",
     "text": [
      "N_positive =  1384\n",
      "N_negative =  94\n",
      "Total fraction of positives =  0.9364005412719891\n"
     ]
    }
   ],
   "source": [
    "# compute number of positive and negative instances\n",
    "\n",
    "N_positive = int(np.sum(dataframe[target].values))\n",
    "N_negative = len(dataframe[target]) - N_positive\n",
    "\n",
    "print(\"N_positive = \", N_positive)\n",
    "print(\"N_negative = \", N_negative)\n",
    "print(\"Total fraction of positives = \", N_positive/(N_positive + N_negative))"
   ]
  },
  {
   "cell_type": "code",
   "execution_count": 54,
   "metadata": {
    "colab": {},
    "colab_type": "code",
    "executionInfo": {
     "elapsed": 645,
     "status": "ok",
     "timestamp": 1599869440512,
     "user": {
      "displayName": "Markus Dablander",
      "photoUrl": "",
      "userId": "13467664559539683865"
     },
     "user_tz": -120
    },
    "id": "X2XcwuHnSEaT"
   },
   "outputs": [
    {
     "name": "stdout",
     "output_type": "stream",
     "text": [
      "N_positive_delete =  1290\n"
     ]
    }
   ],
   "source": [
    "# create balanced data set by undersampling the larger class so that number of molecules becomes exactly the same in each class\n",
    "\n",
    "if N_positive < N_negative:\n",
    "    N_negative_delete = len(dataframe[target].values) - 2*len(dataframe[dataframe[target] == 1].values)\n",
    "    dataframe = dataframe.drop(dataframe[dataframe[target] == 0].sample(n = N_negative_delete, random_state = 42).index)\n",
    "    print(\"N_negative_delete = \", N_negative_delete)\n",
    "    \n",
    "if N_positive > N_negative:\n",
    "    N_positive_delete = len(dataframe[target].values) - 2*len(dataframe[dataframe[target] == 0].values)\n",
    "    dataframe = dataframe.drop(dataframe[dataframe[target] == 1].sample(n = N_positive_delete, random_state = 42).index)\n",
    "    print(\"N_positive_delete = \", N_positive_delete)\n",
    "    "
   ]
  },
  {
   "cell_type": "code",
   "execution_count": 55,
   "metadata": {},
   "outputs": [
    {
     "name": "stdout",
     "output_type": "stream",
     "text": [
      "Number of Molecules =  188\n"
     ]
    }
   ],
   "source": [
    "# define number of molecules\n",
    "\n",
    "N_molecules = len(dataframe[target].values)\n",
    "\n",
    "print(\"Number of Molecules = \", N_molecules)"
   ]
  },
  {
   "cell_type": "code",
   "execution_count": 56,
   "metadata": {
    "colab": {
     "base_uri": "https://localhost:8080/",
     "height": 90
    },
    "colab_type": "code",
    "executionInfo": {
     "elapsed": 771,
     "status": "ok",
     "timestamp": 1599869443976,
     "user": {
      "displayName": "Markus Dablander",
      "photoUrl": "",
      "userId": "13467664559539683865"
     },
     "user_tz": -120
    },
    "id": "M1aIBqplSEaq",
    "outputId": "d9c43474-c7b7-4622-da65-6ebe36c9c3a1"
   },
   "outputs": [
    {
     "name": "stdout",
     "output_type": "stream",
     "text": [
      "Number of Positives =  94\n",
      "Fraction of Positives =  0.5\n",
      "Shape of y =  (188,)\n",
      "Shape of Y =  (188, 1)\n",
      "\n",
      " y =  [0 0 0 1 1 1 1 1 1 0 1 1 0 0 0 1 1 0 0 0 1 1 0 1 1 0 0 0 0 1 1 1 0 1 1 1 1\n",
      " 0 1 0 1 0 0 0 0 1 1 1 0 0 0 0 0 0 1 1 1 0 1 0 0 0 1 1 1 1 0 0 0 1 0 1 1 1\n",
      " 1 1 1 1 0 0 0 1 0 0 1 0 0 1 1 0 0 1 1 1 1 0 1 1 1 0 0 1 0 1 1 0 1 0 1 0 0\n",
      " 0 1 0 1 0 0 0 0 0 0 1 1 1 0 1 1 1 0 0 1 1 1 1 1 1 1 1 0 0 0 1 1 1 1 1 1 1\n",
      " 1 1 0 0 0 0 0 0 1 1 0 1 1 0 0 0 0 0 0 1 1 0 0 0 0 0 0 0 0 1 1 0 0 1 1 0 0\n",
      " 0 0 1]\n"
     ]
    }
   ],
   "source": [
    "# construct target variable y/Y (hERG inhibition)\n",
    "\n",
    "# extract labels\n",
    "y = dataframe.loc[:,target].values\n",
    "Y = np.reshape(y, (len(y), 1))\n",
    "\n",
    "print(\"Number of Positives = \", np.sum(y))\n",
    "print(\"Fraction of Positives = \", np.sum(y)/N_molecules)\n",
    "\n",
    "\n",
    "print(\"Shape of y = \", y.shape)\n",
    "print(\"Shape of Y = \", Y.shape)\n",
    "\n",
    "print(\"\\n y = \", y)\n"
   ]
  },
  {
   "cell_type": "code",
   "execution_count": 57,
   "metadata": {
    "colab": {
     "base_uri": "https://localhost:8080/",
     "height": 222
    },
    "colab_type": "code",
    "executionInfo": {
     "elapsed": 444,
     "status": "ok",
     "timestamp": 1599869444377,
     "user": {
      "displayName": "Markus Dablander",
      "photoUrl": "",
      "userId": "13467664559539683865"
     },
     "user_tz": -120
    },
    "id": "PB82_jFUSEav",
    "outputId": "f151bbf0-8894-45c1-bd95-e747bc7c74b5"
   },
   "outputs": [
    {
     "name": "stdout",
     "output_type": "stream",
     "text": [
      "                  Smiles String\n",
      "[Se]\n"
     ]
    },
    {
     "data": {
      "image/png": "[encoded data removed]",
      "text/plain": [
       "<rdkit.Chem.rdchem.Mol at 0x7fee0c3e88a0>"
      ]
     },
     "metadata": {},
     "output_type": "display_data"
    },
    {
     "name": "stdout",
     "output_type": "stream",
     "text": [
      "Shape of x_smiles =  (188,)\n",
      "Shape of X_smiles =  (188, 1)\n",
      "\n",
      " x_smiles =  ['[Se]' 'B([C@H](CC(C)C)NC(=O)[C@H](CC1=CC=CC=C1)NC(=O)C2=NC=CN=C2)(O)O'\n",
      " 'B([C@H](CC(C)C)NC(=O)CNC(=O)C1=C(C=CC(=C1)Cl)Cl)(O)O'\n",
      " 'C#CC[NH2+][C@@H]1CCc2c1cccc2'\n",
      " 'C#CCC(Cc1cnc2c(n1)c(nc(n2)N)N)c3ccc(cc3)C(=O)N[C@@H](CCC(=O)[O-])C(=O)[O-]'\n",
      " 'C([C@@H]1[C@H]([C@@H]([C@H]([C@@H](O1)O[C@]2([C@H]([C@@H]([C@H](O2)OS(=O)(=O)O[Al](O)O)OS(=O)(=O)O[Al](O)O)OS(=O)(=O)O[Al](O)O)COS(=O)(=O)O[Al](O)O)OS(=O)(=O)O[Al](O)O)OS(=O)(=O)O[Al](O)O)OS(=O)(=O)O[Al](O)O)OS(=O)(=O)O[Al](O)O'\n",
      " 'C([C@@H]1[C@H]([C@@H]([C@H]([C@H](O1)O)F)O)O)O' 'C(C(CO)(CO)[NH3+])O'\n",
      " 'C(CS(=O)(=O)[O-])S' 'C1[C@@H]([C@H](O[C@H]1N2C=NC(=NC2=O)N)CO)O']\n"
     ]
    }
   ],
   "source": [
    "# extract Smiles strings\n",
    "\n",
    "X_smiles = np.reshape(dataframe[\"smiles\"].values, (N_molecules, 1))\n",
    "x_smiles = X_smiles[:,0]\n",
    "\n",
    "print(\"                  Smiles String\")\n",
    "print(X_smiles[0:1][0][0])\n",
    "\n",
    "for s in x_smiles[0:1]:\n",
    "    molecule = Chem.MolFromSmiles(s)\n",
    "    display(molecule)\n",
    "    \n",
    "print(\"Shape of x_smiles = \", x_smiles.shape)\n",
    "print(\"Shape of X_smiles = \", X_smiles.shape)\n",
    "\n",
    "print(\"\\n x_smiles = \", x_smiles[0:10])"
   ]
  },
  {
   "cell_type": "markdown",
   "metadata": {
    "collapsed": "true"
   },
   "source": [
    "## Prepare Data: MoleculeNet_Tox21"
   ]
  },
  {
   "cell_type": "code",
   "execution_count": 167,
   "metadata": {
    "colab": {
     "base_uri": "https://localhost:8080/",
     "height": 225
    },
    "colab_type": "code",
    "executionInfo": {
     "elapsed": 429,
     "status": "ok",
     "timestamp": 1599869437487,
     "user": {
      "displayName": "Markus Dablander",
      "photoUrl": "",
      "userId": "13467664559539683865"
     },
     "user_tz": -120
    },
    "id": "FpdNzlmISEaA",
    "outputId": "c37aae09-ccfe-4f8a-dccc-6006309b2074"
   },
   "outputs": [
    {
     "name": "stdout",
     "output_type": "stream",
     "text": [
      "Number of Molecules =  7831\n"
     ]
    },
    {
     "data": {
      "text/html": [
       "<div>\n",
       "<style scoped>\n",
       "    .dataframe tbody tr th:only-of-type {\n",
       "        vertical-align: middle;\n",
       "    }\n",
       "\n",
       "    .dataframe tbody tr th {\n",
       "        vertical-align: top;\n",
       "    }\n",
       "\n",
       "    .dataframe thead th {\n",
       "        text-align: right;\n",
       "    }\n",
       "</style>\n",
       "<table border=\"1\" class=\"dataframe\">\n",
       "  <thead>\n",
       "    <tr style=\"text-align: right;\">\n",
       "      <th></th>\n",
       "      <th>NR-AR</th>\n",
       "      <th>NR-AR-LBD</th>\n",
       "      <th>NR-AhR</th>\n",
       "      <th>NR-Aromatase</th>\n",
       "      <th>NR-ER</th>\n",
       "      <th>NR-ER-LBD</th>\n",
       "      <th>NR-PPAR-gamma</th>\n",
       "      <th>SR-ARE</th>\n",
       "      <th>SR-ATAD5</th>\n",
       "      <th>SR-HSE</th>\n",
       "      <th>SR-MMP</th>\n",
       "      <th>SR-p53</th>\n",
       "      <th>mol_id</th>\n",
       "      <th>smiles</th>\n",
       "    </tr>\n",
       "  </thead>\n",
       "  <tbody>\n",
       "    <tr>\n",
       "      <th>0</th>\n",
       "      <td>0.0</td>\n",
       "      <td>0.0</td>\n",
       "      <td>1.0</td>\n",
       "      <td>NaN</td>\n",
       "      <td>NaN</td>\n",
       "      <td>0.0</td>\n",
       "      <td>0.0</td>\n",
       "      <td>1.0</td>\n",
       "      <td>0.0</td>\n",
       "      <td>0.0</td>\n",
       "      <td>0.0</td>\n",
       "      <td>0.0</td>\n",
       "      <td>TOX3021</td>\n",
       "      <td>CCOc1ccc2nc(S(N)(=O)=O)sc2c1</td>\n",
       "    </tr>\n",
       "    <tr>\n",
       "      <th>1</th>\n",
       "      <td>0.0</td>\n",
       "      <td>0.0</td>\n",
       "      <td>0.0</td>\n",
       "      <td>0.0</td>\n",
       "      <td>0.0</td>\n",
       "      <td>0.0</td>\n",
       "      <td>0.0</td>\n",
       "      <td>NaN</td>\n",
       "      <td>0.0</td>\n",
       "      <td>NaN</td>\n",
       "      <td>0.0</td>\n",
       "      <td>0.0</td>\n",
       "      <td>TOX3020</td>\n",
       "      <td>CCN1C(=O)NC(c2ccccc2)C1=O</td>\n",
       "    </tr>\n",
       "    <tr>\n",
       "      <th>2</th>\n",
       "      <td>NaN</td>\n",
       "      <td>NaN</td>\n",
       "      <td>NaN</td>\n",
       "      <td>NaN</td>\n",
       "      <td>NaN</td>\n",
       "      <td>NaN</td>\n",
       "      <td>NaN</td>\n",
       "      <td>0.0</td>\n",
       "      <td>NaN</td>\n",
       "      <td>0.0</td>\n",
       "      <td>NaN</td>\n",
       "      <td>NaN</td>\n",
       "      <td>TOX3024</td>\n",
       "      <td>CC[C@]1(O)CC[C@H]2[C@@H]3CCC4=CCCC[C@@H]4[C@H]...</td>\n",
       "    </tr>\n",
       "    <tr>\n",
       "      <th>3</th>\n",
       "      <td>0.0</td>\n",
       "      <td>0.0</td>\n",
       "      <td>0.0</td>\n",
       "      <td>0.0</td>\n",
       "      <td>0.0</td>\n",
       "      <td>0.0</td>\n",
       "      <td>0.0</td>\n",
       "      <td>NaN</td>\n",
       "      <td>0.0</td>\n",
       "      <td>NaN</td>\n",
       "      <td>0.0</td>\n",
       "      <td>0.0</td>\n",
       "      <td>TOX3027</td>\n",
       "      <td>CCCN(CC)C(CC)C(=O)Nc1c(C)cccc1C</td>\n",
       "    </tr>\n",
       "    <tr>\n",
       "      <th>4</th>\n",
       "      <td>0.0</td>\n",
       "      <td>0.0</td>\n",
       "      <td>0.0</td>\n",
       "      <td>0.0</td>\n",
       "      <td>0.0</td>\n",
       "      <td>0.0</td>\n",
       "      <td>0.0</td>\n",
       "      <td>0.0</td>\n",
       "      <td>0.0</td>\n",
       "      <td>0.0</td>\n",
       "      <td>0.0</td>\n",
       "      <td>0.0</td>\n",
       "      <td>TOX20800</td>\n",
       "      <td>CC(O)(P(=O)(O)O)P(=O)(O)O</td>\n",
       "    </tr>\n",
       "    <tr>\n",
       "      <th>...</th>\n",
       "      <td>...</td>\n",
       "      <td>...</td>\n",
       "      <td>...</td>\n",
       "      <td>...</td>\n",
       "      <td>...</td>\n",
       "      <td>...</td>\n",
       "      <td>...</td>\n",
       "      <td>...</td>\n",
       "      <td>...</td>\n",
       "      <td>...</td>\n",
       "      <td>...</td>\n",
       "      <td>...</td>\n",
       "      <td>...</td>\n",
       "      <td>...</td>\n",
       "    </tr>\n",
       "    <tr>\n",
       "      <th>7826</th>\n",
       "      <td>NaN</td>\n",
       "      <td>NaN</td>\n",
       "      <td>NaN</td>\n",
       "      <td>NaN</td>\n",
       "      <td>NaN</td>\n",
       "      <td>NaN</td>\n",
       "      <td>NaN</td>\n",
       "      <td>0.0</td>\n",
       "      <td>NaN</td>\n",
       "      <td>0.0</td>\n",
       "      <td>NaN</td>\n",
       "      <td>NaN</td>\n",
       "      <td>TOX2725</td>\n",
       "      <td>CCOc1nc2cccc(C(=O)O)c2n1Cc1ccc(-c2ccccc2-c2nnn...</td>\n",
       "    </tr>\n",
       "    <tr>\n",
       "      <th>7827</th>\n",
       "      <td>1.0</td>\n",
       "      <td>1.0</td>\n",
       "      <td>0.0</td>\n",
       "      <td>0.0</td>\n",
       "      <td>1.0</td>\n",
       "      <td>0.0</td>\n",
       "      <td>NaN</td>\n",
       "      <td>NaN</td>\n",
       "      <td>0.0</td>\n",
       "      <td>0.0</td>\n",
       "      <td>NaN</td>\n",
       "      <td>0.0</td>\n",
       "      <td>TOX2370</td>\n",
       "      <td>CC(=O)[C@H]1CC[C@H]2[C@@H]3CCC4=CC(=O)CC[C@]4(...</td>\n",
       "    </tr>\n",
       "    <tr>\n",
       "      <th>7828</th>\n",
       "      <td>1.0</td>\n",
       "      <td>1.0</td>\n",
       "      <td>0.0</td>\n",
       "      <td>0.0</td>\n",
       "      <td>1.0</td>\n",
       "      <td>1.0</td>\n",
       "      <td>0.0</td>\n",
       "      <td>1.0</td>\n",
       "      <td>0.0</td>\n",
       "      <td>0.0</td>\n",
       "      <td>0.0</td>\n",
       "      <td>0.0</td>\n",
       "      <td>TOX2371</td>\n",
       "      <td>C[C@]12CC[C@H]3[C@@H](CCC4=CC(=O)CC[C@@]43C)[C...</td>\n",
       "    </tr>\n",
       "    <tr>\n",
       "      <th>7829</th>\n",
       "      <td>1.0</td>\n",
       "      <td>1.0</td>\n",
       "      <td>0.0</td>\n",
       "      <td>NaN</td>\n",
       "      <td>1.0</td>\n",
       "      <td>1.0</td>\n",
       "      <td>0.0</td>\n",
       "      <td>0.0</td>\n",
       "      <td>0.0</td>\n",
       "      <td>0.0</td>\n",
       "      <td>1.0</td>\n",
       "      <td>1.0</td>\n",
       "      <td>TOX2377</td>\n",
       "      <td>C[C@]12CC[C@@H]3c4ccc(O)cc4CC[C@H]3[C@@H]1CC[C...</td>\n",
       "    </tr>\n",
       "    <tr>\n",
       "      <th>7830</th>\n",
       "      <td>0.0</td>\n",
       "      <td>0.0</td>\n",
       "      <td>NaN</td>\n",
       "      <td>0.0</td>\n",
       "      <td>0.0</td>\n",
       "      <td>0.0</td>\n",
       "      <td>0.0</td>\n",
       "      <td>0.0</td>\n",
       "      <td>0.0</td>\n",
       "      <td>0.0</td>\n",
       "      <td>1.0</td>\n",
       "      <td>0.0</td>\n",
       "      <td>TOX2724</td>\n",
       "      <td>COc1ccc2c(c1OC)CN1CCc3cc4c(cc3C1C2)OCO4</td>\n",
       "    </tr>\n",
       "  </tbody>\n",
       "</table>\n",
       "<p>7831 rows × 14 columns</p>\n",
       "</div>"
      ],
      "text/plain": [
       "      NR-AR  NR-AR-LBD  NR-AhR  NR-Aromatase  NR-ER  NR-ER-LBD  NR-PPAR-gamma  \\\n",
       "0       0.0        0.0     1.0           NaN    NaN        0.0            0.0   \n",
       "1       0.0        0.0     0.0           0.0    0.0        0.0            0.0   \n",
       "2       NaN        NaN     NaN           NaN    NaN        NaN            NaN   \n",
       "3       0.0        0.0     0.0           0.0    0.0        0.0            0.0   \n",
       "4       0.0        0.0     0.0           0.0    0.0        0.0            0.0   \n",
       "...     ...        ...     ...           ...    ...        ...            ...   \n",
       "7826    NaN        NaN     NaN           NaN    NaN        NaN            NaN   \n",
       "7827    1.0        1.0     0.0           0.0    1.0        0.0            NaN   \n",
       "7828    1.0        1.0     0.0           0.0    1.0        1.0            0.0   \n",
       "7829    1.0        1.0     0.0           NaN    1.0        1.0            0.0   \n",
       "7830    0.0        0.0     NaN           0.0    0.0        0.0            0.0   \n",
       "\n",
       "      SR-ARE  SR-ATAD5  SR-HSE  SR-MMP  SR-p53    mol_id  \\\n",
       "0        1.0       0.0     0.0     0.0     0.0   TOX3021   \n",
       "1        NaN       0.0     NaN     0.0     0.0   TOX3020   \n",
       "2        0.0       NaN     0.0     NaN     NaN   TOX3024   \n",
       "3        NaN       0.0     NaN     0.0     0.0   TOX3027   \n",
       "4        0.0       0.0     0.0     0.0     0.0  TOX20800   \n",
       "...      ...       ...     ...     ...     ...       ...   \n",
       "7826     0.0       NaN     0.0     NaN     NaN   TOX2725   \n",
       "7827     NaN       0.0     0.0     NaN     0.0   TOX2370   \n",
       "7828     1.0       0.0     0.0     0.0     0.0   TOX2371   \n",
       "7829     0.0       0.0     0.0     1.0     1.0   TOX2377   \n",
       "7830     0.0       0.0     0.0     1.0     0.0   TOX2724   \n",
       "\n",
       "                                                 smiles  \n",
       "0                          CCOc1ccc2nc(S(N)(=O)=O)sc2c1  \n",
       "1                             CCN1C(=O)NC(c2ccccc2)C1=O  \n",
       "2     CC[C@]1(O)CC[C@H]2[C@@H]3CCC4=CCCC[C@@H]4[C@H]...  \n",
       "3                       CCCN(CC)C(CC)C(=O)Nc1c(C)cccc1C  \n",
       "4                             CC(O)(P(=O)(O)O)P(=O)(O)O  \n",
       "...                                                 ...  \n",
       "7826  CCOc1nc2cccc(C(=O)O)c2n1Cc1ccc(-c2ccccc2-c2nnn...  \n",
       "7827  CC(=O)[C@H]1CC[C@H]2[C@@H]3CCC4=CC(=O)CC[C@]4(...  \n",
       "7828  C[C@]12CC[C@H]3[C@@H](CCC4=CC(=O)CC[C@@]43C)[C...  \n",
       "7829  C[C@]12CC[C@@H]3c4ccc(O)cc4CC[C@H]3[C@@H]1CC[C...  \n",
       "7830            COc1ccc2c(c1OC)CN1CCc3cc4c(cc3C1C2)OCO4  \n",
       "\n",
       "[7831 rows x 14 columns]"
      ]
     },
     "metadata": {},
     "output_type": "display_data"
    }
   ],
   "source": [
    "# import data\n",
    "\n",
    "dataframe = pd.read_csv(\"data/MoleculeNet_Tox21/Tox21.csv\")\n",
    "\n",
    "print(\"Number of Molecules = \", len(dataframe))\n",
    "display(dataframe)"
   ]
  },
  {
   "cell_type": "code",
   "execution_count": 168,
   "metadata": {},
   "outputs": [],
   "source": [
    "# choose target variable\n",
    "\n",
    "target = \"NR-AR-LBD\""
   ]
  },
  {
   "cell_type": "code",
   "execution_count": 169,
   "metadata": {
    "colab": {
     "base_uri": "https://localhost:8080/",
     "height": 276
    },
    "colab_type": "code",
    "executionInfo": {
     "elapsed": 2024,
     "status": "ok",
     "timestamp": 1599858873012,
     "user": {
      "displayName": "Markus Dablander",
      "photoUrl": "",
      "userId": "13467664559539683865"
     },
     "user_tz": -120
    },
    "id": "BIm1m_9NSEaG",
    "outputId": "b8cea951-b524-4fc0-c760-db6be2b78673"
   },
   "outputs": [
    {
     "name": "stdout",
     "output_type": "stream",
     "text": [
      "Missing:  1073\n"
     ]
    },
    {
     "data": {
      "text/html": [
       "<div>\n",
       "<style scoped>\n",
       "    .dataframe tbody tr th:only-of-type {\n",
       "        vertical-align: middle;\n",
       "    }\n",
       "\n",
       "    .dataframe tbody tr th {\n",
       "        vertical-align: top;\n",
       "    }\n",
       "\n",
       "    .dataframe thead th {\n",
       "        text-align: right;\n",
       "    }\n",
       "</style>\n",
       "<table border=\"1\" class=\"dataframe\">\n",
       "  <thead>\n",
       "    <tr style=\"text-align: right;\">\n",
       "      <th></th>\n",
       "      <th>NR-AR</th>\n",
       "      <th>NR-AR-LBD</th>\n",
       "      <th>NR-AhR</th>\n",
       "      <th>NR-Aromatase</th>\n",
       "      <th>NR-ER</th>\n",
       "      <th>NR-ER-LBD</th>\n",
       "      <th>NR-PPAR-gamma</th>\n",
       "      <th>SR-ARE</th>\n",
       "      <th>SR-ATAD5</th>\n",
       "      <th>SR-HSE</th>\n",
       "      <th>SR-MMP</th>\n",
       "      <th>SR-p53</th>\n",
       "      <th>mol_id</th>\n",
       "      <th>smiles</th>\n",
       "    </tr>\n",
       "  </thead>\n",
       "  <tbody>\n",
       "  </tbody>\n",
       "</table>\n",
       "</div>"
      ],
      "text/plain": [
       "Empty DataFrame\n",
       "Columns: [NR-AR, NR-AR-LBD, NR-AhR, NR-Aromatase, NR-ER, NR-ER-LBD, NR-PPAR-gamma, SR-ARE, SR-ATAD5, SR-HSE, SR-MMP, SR-p53, mol_id, smiles]\n",
       "Index: []"
      ]
     },
     "metadata": {},
     "output_type": "display_data"
    },
    {
     "data": {
      "text/html": [
       "<div>\n",
       "<style scoped>\n",
       "    .dataframe tbody tr th:only-of-type {\n",
       "        vertical-align: middle;\n",
       "    }\n",
       "\n",
       "    .dataframe tbody tr th {\n",
       "        vertical-align: top;\n",
       "    }\n",
       "\n",
       "    .dataframe thead th {\n",
       "        text-align: right;\n",
       "    }\n",
       "</style>\n",
       "<table border=\"1\" class=\"dataframe\">\n",
       "  <thead>\n",
       "    <tr style=\"text-align: right;\">\n",
       "      <th></th>\n",
       "      <th>NR-AR</th>\n",
       "      <th>NR-AR-LBD</th>\n",
       "      <th>NR-AhR</th>\n",
       "      <th>NR-Aromatase</th>\n",
       "      <th>NR-ER</th>\n",
       "      <th>NR-ER-LBD</th>\n",
       "      <th>NR-PPAR-gamma</th>\n",
       "      <th>SR-ARE</th>\n",
       "      <th>SR-ATAD5</th>\n",
       "      <th>SR-HSE</th>\n",
       "      <th>SR-MMP</th>\n",
       "      <th>SR-p53</th>\n",
       "      <th>mol_id</th>\n",
       "      <th>smiles</th>\n",
       "    </tr>\n",
       "  </thead>\n",
       "  <tbody>\n",
       "    <tr>\n",
       "      <th>2</th>\n",
       "      <td>NaN</td>\n",
       "      <td>NaN</td>\n",
       "      <td>NaN</td>\n",
       "      <td>NaN</td>\n",
       "      <td>NaN</td>\n",
       "      <td>NaN</td>\n",
       "      <td>NaN</td>\n",
       "      <td>0.0</td>\n",
       "      <td>NaN</td>\n",
       "      <td>0.0</td>\n",
       "      <td>NaN</td>\n",
       "      <td>NaN</td>\n",
       "      <td>TOX3024</td>\n",
       "      <td>CC[C@]1(O)CC[C@H]2[C@@H]3CCC4=CCCC[C@@H]4[C@H]...</td>\n",
       "    </tr>\n",
       "    <tr>\n",
       "      <th>7</th>\n",
       "      <td>0.0</td>\n",
       "      <td>NaN</td>\n",
       "      <td>0.0</td>\n",
       "      <td>NaN</td>\n",
       "      <td>1.0</td>\n",
       "      <td>NaN</td>\n",
       "      <td>NaN</td>\n",
       "      <td>1.0</td>\n",
       "      <td>0.0</td>\n",
       "      <td>1.0</td>\n",
       "      <td>0.0</td>\n",
       "      <td>1.0</td>\n",
       "      <td>TOX25232</td>\n",
       "      <td>O=C(O)Cc1cc(I)c(Oc2ccc(O)c(I)c2)c(I)c1</td>\n",
       "    </tr>\n",
       "    <tr>\n",
       "      <th>9</th>\n",
       "      <td>NaN</td>\n",
       "      <td>NaN</td>\n",
       "      <td>NaN</td>\n",
       "      <td>NaN</td>\n",
       "      <td>NaN</td>\n",
       "      <td>NaN</td>\n",
       "      <td>NaN</td>\n",
       "      <td>0.0</td>\n",
       "      <td>NaN</td>\n",
       "      <td>0.0</td>\n",
       "      <td>NaN</td>\n",
       "      <td>NaN</td>\n",
       "      <td>TOX22517</td>\n",
       "      <td>CCCCCCCC(=O)[O-].CCCCCCCC(=O)[O-].[Zn+2]</td>\n",
       "    </tr>\n",
       "    <tr>\n",
       "      <th>19</th>\n",
       "      <td>NaN</td>\n",
       "      <td>NaN</td>\n",
       "      <td>NaN</td>\n",
       "      <td>NaN</td>\n",
       "      <td>NaN</td>\n",
       "      <td>NaN</td>\n",
       "      <td>NaN</td>\n",
       "      <td>0.0</td>\n",
       "      <td>NaN</td>\n",
       "      <td>0.0</td>\n",
       "      <td>NaN</td>\n",
       "      <td>NaN</td>\n",
       "      <td>TOX26526</td>\n",
       "      <td>CCOC(=O)c1cccnc1</td>\n",
       "    </tr>\n",
       "    <tr>\n",
       "      <th>33</th>\n",
       "      <td>0.0</td>\n",
       "      <td>NaN</td>\n",
       "      <td>1.0</td>\n",
       "      <td>NaN</td>\n",
       "      <td>NaN</td>\n",
       "      <td>0.0</td>\n",
       "      <td>NaN</td>\n",
       "      <td>1.0</td>\n",
       "      <td>0.0</td>\n",
       "      <td>0.0</td>\n",
       "      <td>1.0</td>\n",
       "      <td>1.0</td>\n",
       "      <td>TOX1106</td>\n",
       "      <td>Oc1c(Cl)c(Cl)c(Cl)c(Cl)c1Cl</td>\n",
       "    </tr>\n",
       "    <tr>\n",
       "      <th>...</th>\n",
       "      <td>...</td>\n",
       "      <td>...</td>\n",
       "      <td>...</td>\n",
       "      <td>...</td>\n",
       "      <td>...</td>\n",
       "      <td>...</td>\n",
       "      <td>...</td>\n",
       "      <td>...</td>\n",
       "      <td>...</td>\n",
       "      <td>...</td>\n",
       "      <td>...</td>\n",
       "      <td>...</td>\n",
       "      <td>...</td>\n",
       "      <td>...</td>\n",
       "    </tr>\n",
       "    <tr>\n",
       "      <th>7795</th>\n",
       "      <td>0.0</td>\n",
       "      <td>NaN</td>\n",
       "      <td>0.0</td>\n",
       "      <td>0.0</td>\n",
       "      <td>0.0</td>\n",
       "      <td>NaN</td>\n",
       "      <td>NaN</td>\n",
       "      <td>NaN</td>\n",
       "      <td>0.0</td>\n",
       "      <td>NaN</td>\n",
       "      <td>0.0</td>\n",
       "      <td>NaN</td>\n",
       "      <td>TOX27854</td>\n",
       "      <td>CN1CCc2cc3c(cc2C1O)OCO3</td>\n",
       "    </tr>\n",
       "    <tr>\n",
       "      <th>7798</th>\n",
       "      <td>0.0</td>\n",
       "      <td>NaN</td>\n",
       "      <td>NaN</td>\n",
       "      <td>NaN</td>\n",
       "      <td>NaN</td>\n",
       "      <td>NaN</td>\n",
       "      <td>NaN</td>\n",
       "      <td>NaN</td>\n",
       "      <td>NaN</td>\n",
       "      <td>1.0</td>\n",
       "      <td>1.0</td>\n",
       "      <td>NaN</td>\n",
       "      <td>TOX9602</td>\n",
       "      <td>CCCC(c1cc(C(C)(C)C)c(O)cc1C)c1cc(C(C)(C)C)c(O)...</td>\n",
       "    </tr>\n",
       "    <tr>\n",
       "      <th>7799</th>\n",
       "      <td>NaN</td>\n",
       "      <td>NaN</td>\n",
       "      <td>NaN</td>\n",
       "      <td>NaN</td>\n",
       "      <td>NaN</td>\n",
       "      <td>NaN</td>\n",
       "      <td>NaN</td>\n",
       "      <td>0.0</td>\n",
       "      <td>NaN</td>\n",
       "      <td>0.0</td>\n",
       "      <td>NaN</td>\n",
       "      <td>NaN</td>\n",
       "      <td>TOX25983</td>\n",
       "      <td>O=c1[nH]cnc2nc[nH]c12</td>\n",
       "    </tr>\n",
       "    <tr>\n",
       "      <th>7801</th>\n",
       "      <td>NaN</td>\n",
       "      <td>NaN</td>\n",
       "      <td>NaN</td>\n",
       "      <td>NaN</td>\n",
       "      <td>NaN</td>\n",
       "      <td>NaN</td>\n",
       "      <td>NaN</td>\n",
       "      <td>0.0</td>\n",
       "      <td>NaN</td>\n",
       "      <td>0.0</td>\n",
       "      <td>NaN</td>\n",
       "      <td>NaN</td>\n",
       "      <td>TOX25987</td>\n",
       "      <td>CN1CC(=O)NC1=N</td>\n",
       "    </tr>\n",
       "    <tr>\n",
       "      <th>7826</th>\n",
       "      <td>NaN</td>\n",
       "      <td>NaN</td>\n",
       "      <td>NaN</td>\n",
       "      <td>NaN</td>\n",
       "      <td>NaN</td>\n",
       "      <td>NaN</td>\n",
       "      <td>NaN</td>\n",
       "      <td>0.0</td>\n",
       "      <td>NaN</td>\n",
       "      <td>0.0</td>\n",
       "      <td>NaN</td>\n",
       "      <td>NaN</td>\n",
       "      <td>TOX2725</td>\n",
       "      <td>CCOc1nc2cccc(C(=O)O)c2n1Cc1ccc(-c2ccccc2-c2nnn...</td>\n",
       "    </tr>\n",
       "  </tbody>\n",
       "</table>\n",
       "<p>1073 rows × 14 columns</p>\n",
       "</div>"
      ],
      "text/plain": [
       "      NR-AR  NR-AR-LBD  NR-AhR  NR-Aromatase  NR-ER  NR-ER-LBD  NR-PPAR-gamma  \\\n",
       "2       NaN        NaN     NaN           NaN    NaN        NaN            NaN   \n",
       "7       0.0        NaN     0.0           NaN    1.0        NaN            NaN   \n",
       "9       NaN        NaN     NaN           NaN    NaN        NaN            NaN   \n",
       "19      NaN        NaN     NaN           NaN    NaN        NaN            NaN   \n",
       "33      0.0        NaN     1.0           NaN    NaN        0.0            NaN   \n",
       "...     ...        ...     ...           ...    ...        ...            ...   \n",
       "7795    0.0        NaN     0.0           0.0    0.0        NaN            NaN   \n",
       "7798    0.0        NaN     NaN           NaN    NaN        NaN            NaN   \n",
       "7799    NaN        NaN     NaN           NaN    NaN        NaN            NaN   \n",
       "7801    NaN        NaN     NaN           NaN    NaN        NaN            NaN   \n",
       "7826    NaN        NaN     NaN           NaN    NaN        NaN            NaN   \n",
       "\n",
       "      SR-ARE  SR-ATAD5  SR-HSE  SR-MMP  SR-p53    mol_id  \\\n",
       "2        0.0       NaN     0.0     NaN     NaN   TOX3024   \n",
       "7        1.0       0.0     1.0     0.0     1.0  TOX25232   \n",
       "9        0.0       NaN     0.0     NaN     NaN  TOX22517   \n",
       "19       0.0       NaN     0.0     NaN     NaN  TOX26526   \n",
       "33       1.0       0.0     0.0     1.0     1.0   TOX1106   \n",
       "...      ...       ...     ...     ...     ...       ...   \n",
       "7795     NaN       0.0     NaN     0.0     NaN  TOX27854   \n",
       "7798     NaN       NaN     1.0     1.0     NaN   TOX9602   \n",
       "7799     0.0       NaN     0.0     NaN     NaN  TOX25983   \n",
       "7801     0.0       NaN     0.0     NaN     NaN  TOX25987   \n",
       "7826     0.0       NaN     0.0     NaN     NaN   TOX2725   \n",
       "\n",
       "                                                 smiles  \n",
       "2     CC[C@]1(O)CC[C@H]2[C@@H]3CCC4=CCCC[C@@H]4[C@H]...  \n",
       "7                O=C(O)Cc1cc(I)c(Oc2ccc(O)c(I)c2)c(I)c1  \n",
       "9              CCCCCCCC(=O)[O-].CCCCCCCC(=O)[O-].[Zn+2]  \n",
       "19                                     CCOC(=O)c1cccnc1  \n",
       "33                          Oc1c(Cl)c(Cl)c(Cl)c(Cl)c1Cl  \n",
       "...                                                 ...  \n",
       "7795                            CN1CCc2cc3c(cc2C1O)OCO3  \n",
       "7798  CCCC(c1cc(C(C)(C)C)c(O)cc1C)c1cc(C(C)(C)C)c(O)...  \n",
       "7799                              O=c1[nH]cnc2nc[nH]c12  \n",
       "7801                                     CN1CC(=O)NC1=N  \n",
       "7826  CCOc1nc2cccc(C(=O)O)c2n1Cc1ccc(-c2ccccc2-c2nnn...  \n",
       "\n",
       "[1073 rows x 14 columns]"
      ]
     },
     "metadata": {},
     "output_type": "display_data"
    }
   ],
   "source": [
    "# check for missing values (i.e. NA values)\n",
    "\n",
    "print(\"Missing: \", len(dataframe[dataframe[target].isnull()]))\n",
    "display(dataframe[dataframe['smiles'].isnull()])\n",
    "display(dataframe[dataframe[target].isnull()])\n"
   ]
  },
  {
   "cell_type": "code",
   "execution_count": 170,
   "metadata": {},
   "outputs": [],
   "source": [
    "# remove rows corresponding to NaNs for target variable\n",
    "\n",
    "NaN_indices = dataframe[dataframe[target].isnull()].index\n",
    "dataframe = dataframe.drop(NaN_indices)"
   ]
  },
  {
   "cell_type": "code",
   "execution_count": 171,
   "metadata": {
    "colab": {},
    "colab_type": "code",
    "id": "oFu7W-IlSEaN"
   },
   "outputs": [
    {
     "name": "stdout",
     "output_type": "stream",
     "text": [
      "6758\n"
     ]
    }
   ],
   "source": [
    "# filter out Smiles which produce error messages in rdkit\n",
    "\n",
    "bad_smiles = []\n",
    "\n",
    "for k in range(len(dataframe[\"smiles\"].values)):\n",
    "\n",
    "    smiles = dataframe[\"smiles\"].values[k]\n",
    "    \n",
    "    sio = sys.stderr = StringIO()\n",
    "    Chem.MolFromSmiles(smiles)\n",
    "    error_message = sio.getvalue()\n",
    "    \n",
    "    if error_message != \"\" and error_message[0:13] != \"RDKit WARNING\":\n",
    "        #print(k)\n",
    "        #print(error_message)\n",
    "        #print(smiles, \"\\n \\n \\n \\n\")\n",
    "        bad_smiles.append(smiles)\n",
    "\n",
    "dataframe = dataframe[dataframe[\"smiles\"].isin(bad_smiles) == False]\n",
    "\n",
    "print(len(dataframe))"
   ]
  },
  {
   "cell_type": "code",
   "execution_count": 172,
   "metadata": {},
   "outputs": [
    {
     "name": "stdout",
     "output_type": "stream",
     "text": [
      "N_positive =  237\n",
      "N_negative =  6521\n",
      "Total fraction of positives =  0.03506954720331459\n"
     ]
    }
   ],
   "source": [
    "# compute number of positive and negative instances\n",
    "\n",
    "N_positive = int(np.sum(dataframe[target].values))\n",
    "N_negative = len(dataframe[target]) - N_positive\n",
    "\n",
    "print(\"N_positive = \", N_positive)\n",
    "print(\"N_negative = \", N_negative)\n",
    "print(\"Total fraction of positives = \", N_positive/(N_positive + N_negative))"
   ]
  },
  {
   "cell_type": "code",
   "execution_count": 64,
   "metadata": {
    "colab": {},
    "colab_type": "code",
    "executionInfo": {
     "elapsed": 645,
     "status": "ok",
     "timestamp": 1599869440512,
     "user": {
      "displayName": "Markus Dablander",
      "photoUrl": "",
      "userId": "13467664559539683865"
     },
     "user_tz": -120
    },
    "id": "X2XcwuHnSEaT"
   },
   "outputs": [
    {
     "name": "stdout",
     "output_type": "stream",
     "text": [
      "N_negative_delete =  6284\n"
     ]
    }
   ],
   "source": [
    "# create balanced data set by undersampling the larger class so that number of molecules becomes exactly the same in each class\n",
    "\n",
    "if N_positive < N_negative:\n",
    "    N_negative_delete = len(dataframe[target].values) - 2*len(dataframe[dataframe[target] == 1].values)\n",
    "    dataframe = dataframe.drop(dataframe[dataframe[target] == 0].sample(n = N_negative_delete, random_state = 42).index)\n",
    "    print(\"N_negative_delete = \", N_negative_delete)\n",
    "    \n",
    "if N_positive > N_negative:\n",
    "    N_positive_delete = len(dataframe[target].values) - 2*len(dataframe[dataframe[target] == 0].values)\n",
    "    dataframe = dataframe.drop(dataframe[dataframe[target] == 1].sample(n = N_positive_delete, random_state = 42).index)\n",
    "    print(\"N_positive_delete = \", N_positive_delete)\n",
    "    "
   ]
  },
  {
   "cell_type": "code",
   "execution_count": 65,
   "metadata": {},
   "outputs": [
    {
     "name": "stdout",
     "output_type": "stream",
     "text": [
      "Number of Molecules =  474\n"
     ]
    }
   ],
   "source": [
    "# define number of molecules\n",
    "\n",
    "N_molecules = len(dataframe[target].values)\n",
    "\n",
    "print(\"Number of Molecules = \", N_molecules)"
   ]
  },
  {
   "cell_type": "code",
   "execution_count": 66,
   "metadata": {
    "colab": {
     "base_uri": "https://localhost:8080/",
     "height": 90
    },
    "colab_type": "code",
    "executionInfo": {
     "elapsed": 771,
     "status": "ok",
     "timestamp": 1599869443976,
     "user": {
      "displayName": "Markus Dablander",
      "photoUrl": "",
      "userId": "13467664559539683865"
     },
     "user_tz": -120
    },
    "id": "M1aIBqplSEaq",
    "outputId": "d9c43474-c7b7-4622-da65-6ebe36c9c3a1"
   },
   "outputs": [
    {
     "name": "stdout",
     "output_type": "stream",
     "text": [
      "Number of Positives =  237\n",
      "Fraction of Positives =  0.5\n",
      "Shape of y =  (474,)\n",
      "Shape of Y =  (474, 1)\n",
      "\n",
      " y =  [0 0 1 0 1 0 0 0 1 0 1 1 0 1 0 1 1 0 0 1 1 1 0 1 0 0 1 0 1 1 1 1 1 0 1 0 1\n",
      " 1 0 0 0 0 1 1 0 0 1 0 0 0 0 1 0 0 1 1 0 1 0 1 0 0 0 0 1 0 1 0 1 1 1 1 0 1\n",
      " 1 1 1 1 0 1 0 0 0 1 0 1 1 1 0 1 1 1 1 1 1 0 1 0 0 0 1 1 0 0 1 0 1 0 0 0 1\n",
      " 1 0 1 0 1 0 1 1 0 0 0 0 1 1 0 0 1 1 0 1 1 0 1 1 0 1 0 1 0 0 0 0 0 1 1 0 1\n",
      " 1 1 1 0 1 0 1 1 0 0 1 1 0 0 1 1 0 1 1 1 1 1 0 0 0 1 0 0 1 0 1 1 0 0 0 0 0\n",
      " 0 0 0 1 0 0 0 1 1 0 0 1 1 0 1 0 1 1 0 0 1 1 0 0 0 0 0 0 0 1 1 0 1 1 0 1 0\n",
      " 1 1 0 0 1 1 0 0 1 0 1 1 1 1 0 0 0 0 1 0 1 0 0 1 0 1 1 0 0 1 0 1 1 1 0 0 0\n",
      " 0 0 1 0 0 1 1 1 0 1 0 1 1 1 1 1 0 1 1 1 1 1 0 1 0 1 1 1 0 1 1 1 0 1 1 0 0\n",
      " 1 1 1 1 1 1 0 1 1 1 1 1 1 1 1 0 1 0 1 0 0 0 0 0 0 1 1 1 0 1 1 0 0 0 1 1 1\n",
      " 0 0 1 1 0 0 1 1 0 1 0 1 0 1 0 0 0 1 1 1 1 1 1 0 0 0 0 0 1 0 1 0 1 1 0 0 0\n",
      " 0 0 0 1 1 0 0 0 0 0 0 1 0 0 0 0 1 1 0 0 0 1 1 0 1 0 0 0 1 0 0 0 0 0 0 1 0\n",
      " 1 0 0 1 1 0 1 0 0 1 1 1 1 0 0 0 1 0 1 1 1 0 0 0 0 1 0 1 1 1 1 1 1 0 0 1 0\n",
      " 1 0 0 0 0 1 1 0 1 1 0 1 0 1 1 0 0 0 0 1 0 0 1 0 1 0 1 1 1 1]\n"
     ]
    }
   ],
   "source": [
    "# construct target variable y/Y (hERG inhibition)\n",
    "\n",
    "# extract labels\n",
    "y = dataframe.loc[:,target].values.astype(int)\n",
    "Y = np.reshape(y, (len(y), 1))\n",
    "\n",
    "print(\"Number of Positives = \", np.sum(y))\n",
    "print(\"Fraction of Positives = \", np.sum(y)/N_molecules)\n",
    "\n",
    "\n",
    "print(\"Shape of y = \", y.shape)\n",
    "print(\"Shape of Y = \", Y.shape)\n",
    "\n",
    "print(\"\\n y = \", y)\n"
   ]
  },
  {
   "cell_type": "code",
   "execution_count": 67,
   "metadata": {
    "colab": {
     "base_uri": "https://localhost:8080/",
     "height": 222
    },
    "colab_type": "code",
    "executionInfo": {
     "elapsed": 444,
     "status": "ok",
     "timestamp": 1599869444377,
     "user": {
      "displayName": "Markus Dablander",
      "photoUrl": "",
      "userId": "13467664559539683865"
     },
     "user_tz": -120
    },
    "id": "PB82_jFUSEav",
    "outputId": "f151bbf0-8894-45c1-bd95-e747bc7c74b5"
   },
   "outputs": [
    {
     "name": "stdout",
     "output_type": "stream",
     "text": [
      "                  Smiles String\n",
      "CC(C)N(c1ccccc1)C(C)C\n"
     ]
    },
    {
     "data": {
      "image/png": "[encoded data removed]",
      "text/plain": [
       "<rdkit.Chem.rdchem.Mol at 0x7fee0d344670>"
      ]
     },
     "metadata": {},
     "output_type": "display_data"
    },
    {
     "name": "stdout",
     "output_type": "stream",
     "text": [
      "Shape of x_smiles =  (474,)\n",
      "Shape of X_smiles =  (474, 1)\n",
      "\n",
      " x_smiles =  ['CC(C)N(c1ccccc1)C(C)C' 'CCC(COC(=O)CCS)(COC(=O)CCS)COC(=O)CCS'\n",
      " 'C[C@]12CC[C@H]3[C@@H](CC[C@@]45O[C@@H]4C(O)=C(C#N)C[C@]35C)[C@@H]1CC[C@@H]2O'\n",
      " 'ONc1ccccc1'\n",
      " 'C[C@]12C[C@H](O)[C@H]3[C@@H](CCC4=CC(=O)CC[C@@]43C)[C@@H]1CC[C@]2(O)C(=O)COP(=O)([O-])[O-]'\n",
      " 'O=C1CCCN1' 'O=c1n(CCO)c(=O)n(CCO)c(=O)n1CCO'\n",
      " 'O=c1oc2cc(O)ccc2c2oc3cc(O)ccc3c12'\n",
      " 'CCC(=O)N(c1ccccc1)C1CCN(CCc2ccccc2)CC1'\n",
      " 'CCOP(=S)(NC(C)C)Oc1ccccc1C(=O)OC(C)C']\n"
     ]
    }
   ],
   "source": [
    "# extract Smiles strings\n",
    "\n",
    "X_smiles = np.reshape(dataframe[\"smiles\"].values, (N_molecules, 1))\n",
    "x_smiles = X_smiles[:,0]\n",
    "\n",
    "print(\"                  Smiles String\")\n",
    "print(X_smiles[0:1][0][0])\n",
    "\n",
    "for s in x_smiles[0:1]:\n",
    "    molecule = Chem.MolFromSmiles(s)\n",
    "    display(molecule)\n",
    "    \n",
    "print(\"Shape of x_smiles = \", x_smiles.shape)\n",
    "print(\"Shape of X_smiles = \", X_smiles.shape)\n",
    "\n",
    "print(\"\\n x_smiles = \", x_smiles[0:10])"
   ]
  },
  {
   "cell_type": "markdown",
   "metadata": {
    "collapsed": "true"
   },
   "source": [
    "## Prepare Data: MoleculeNet_SIDER"
   ]
  },
  {
   "cell_type": "code",
   "execution_count": 173,
   "metadata": {
    "colab": {
     "base_uri": "https://localhost:8080/",
     "height": 225
    },
    "colab_type": "code",
    "executionInfo": {
     "elapsed": 429,
     "status": "ok",
     "timestamp": 1599869437487,
     "user": {
      "displayName": "Markus Dablander",
      "photoUrl": "",
      "userId": "13467664559539683865"
     },
     "user_tz": -120
    },
    "id": "FpdNzlmISEaA",
    "outputId": "c37aae09-ccfe-4f8a-dccc-6006309b2074"
   },
   "outputs": [
    {
     "name": "stdout",
     "output_type": "stream",
     "text": [
      "Number of Molecules =  1427 \n",
      "\n",
      "Targets = \n",
      "\n"
     ]
    },
    {
     "data": {
      "text/plain": [
       "['Hepatobiliary disorders',\n",
       " 'Metabolism and nutrition disorders',\n",
       " 'Product issues',\n",
       " 'Eye disorders',\n",
       " 'Investigations',\n",
       " 'Musculoskeletal and connective tissue disorders',\n",
       " 'Gastrointestinal disorders',\n",
       " 'Social circumstances',\n",
       " 'Immune system disorders',\n",
       " 'Reproductive system and breast disorders',\n",
       " 'Neoplasms benign, malignant and unspecified (incl cysts and polyps)',\n",
       " 'General disorders and administration site conditions',\n",
       " 'Endocrine disorders',\n",
       " 'Surgical and medical procedures',\n",
       " 'Vascular disorders',\n",
       " 'Blood and lymphatic system disorders',\n",
       " 'Skin and subcutaneous tissue disorders',\n",
       " 'Congenital, familial and genetic disorders',\n",
       " 'Infections and infestations',\n",
       " 'Respiratory, thoracic and mediastinal disorders',\n",
       " 'Psychiatric disorders',\n",
       " 'Renal and urinary disorders',\n",
       " 'Pregnancy, puerperium and perinatal conditions',\n",
       " 'Ear and labyrinth disorders',\n",
       " 'Cardiac disorders',\n",
       " 'Nervous system disorders',\n",
       " 'Injury, poisoning and procedural complications']"
      ]
     },
     "metadata": {},
     "output_type": "display_data"
    },
    {
     "data": {
      "text/html": [
       "<div>\n",
       "<style scoped>\n",
       "    .dataframe tbody tr th:only-of-type {\n",
       "        vertical-align: middle;\n",
       "    }\n",
       "\n",
       "    .dataframe tbody tr th {\n",
       "        vertical-align: top;\n",
       "    }\n",
       "\n",
       "    .dataframe thead th {\n",
       "        text-align: right;\n",
       "    }\n",
       "</style>\n",
       "<table border=\"1\" class=\"dataframe\">\n",
       "  <thead>\n",
       "    <tr style=\"text-align: right;\">\n",
       "      <th></th>\n",
       "      <th>smiles</th>\n",
       "      <th>Hepatobiliary disorders</th>\n",
       "      <th>Metabolism and nutrition disorders</th>\n",
       "      <th>Product issues</th>\n",
       "      <th>Eye disorders</th>\n",
       "      <th>Investigations</th>\n",
       "      <th>Musculoskeletal and connective tissue disorders</th>\n",
       "      <th>Gastrointestinal disorders</th>\n",
       "      <th>Social circumstances</th>\n",
       "      <th>Immune system disorders</th>\n",
       "      <th>...</th>\n",
       "      <th>Congenital, familial and genetic disorders</th>\n",
       "      <th>Infections and infestations</th>\n",
       "      <th>Respiratory, thoracic and mediastinal disorders</th>\n",
       "      <th>Psychiatric disorders</th>\n",
       "      <th>Renal and urinary disorders</th>\n",
       "      <th>Pregnancy, puerperium and perinatal conditions</th>\n",
       "      <th>Ear and labyrinth disorders</th>\n",
       "      <th>Cardiac disorders</th>\n",
       "      <th>Nervous system disorders</th>\n",
       "      <th>Injury, poisoning and procedural complications</th>\n",
       "    </tr>\n",
       "  </thead>\n",
       "  <tbody>\n",
       "    <tr>\n",
       "      <th>0</th>\n",
       "      <td>C(CNCCNCCNCCN)N</td>\n",
       "      <td>1</td>\n",
       "      <td>1</td>\n",
       "      <td>0</td>\n",
       "      <td>0</td>\n",
       "      <td>1</td>\n",
       "      <td>1</td>\n",
       "      <td>1</td>\n",
       "      <td>0</td>\n",
       "      <td>0</td>\n",
       "      <td>...</td>\n",
       "      <td>0</td>\n",
       "      <td>0</td>\n",
       "      <td>1</td>\n",
       "      <td>1</td>\n",
       "      <td>0</td>\n",
       "      <td>0</td>\n",
       "      <td>1</td>\n",
       "      <td>1</td>\n",
       "      <td>1</td>\n",
       "      <td>0</td>\n",
       "    </tr>\n",
       "    <tr>\n",
       "      <th>1</th>\n",
       "      <td>CC(C)(C)C1=CC(=C(C=C1NC(=O)C2=CNC3=CC=CC=C3C2=...</td>\n",
       "      <td>0</td>\n",
       "      <td>1</td>\n",
       "      <td>0</td>\n",
       "      <td>0</td>\n",
       "      <td>1</td>\n",
       "      <td>1</td>\n",
       "      <td>1</td>\n",
       "      <td>0</td>\n",
       "      <td>0</td>\n",
       "      <td>...</td>\n",
       "      <td>0</td>\n",
       "      <td>1</td>\n",
       "      <td>1</td>\n",
       "      <td>0</td>\n",
       "      <td>0</td>\n",
       "      <td>0</td>\n",
       "      <td>1</td>\n",
       "      <td>0</td>\n",
       "      <td>1</td>\n",
       "      <td>0</td>\n",
       "    </tr>\n",
       "    <tr>\n",
       "      <th>2</th>\n",
       "      <td>CC[C@]12CC(=C)[C@H]3[C@H]([C@@H]1CC[C@]2(C#C)O...</td>\n",
       "      <td>0</td>\n",
       "      <td>1</td>\n",
       "      <td>0</td>\n",
       "      <td>1</td>\n",
       "      <td>1</td>\n",
       "      <td>0</td>\n",
       "      <td>1</td>\n",
       "      <td>0</td>\n",
       "      <td>1</td>\n",
       "      <td>...</td>\n",
       "      <td>0</td>\n",
       "      <td>0</td>\n",
       "      <td>0</td>\n",
       "      <td>1</td>\n",
       "      <td>0</td>\n",
       "      <td>0</td>\n",
       "      <td>0</td>\n",
       "      <td>0</td>\n",
       "      <td>1</td>\n",
       "      <td>0</td>\n",
       "    </tr>\n",
       "    <tr>\n",
       "      <th>3</th>\n",
       "      <td>CCC12CC(=C)C3C(C1CC[C@]2(C#C)O)CCC4=CC(=O)CCC34</td>\n",
       "      <td>1</td>\n",
       "      <td>1</td>\n",
       "      <td>0</td>\n",
       "      <td>1</td>\n",
       "      <td>1</td>\n",
       "      <td>1</td>\n",
       "      <td>1</td>\n",
       "      <td>0</td>\n",
       "      <td>1</td>\n",
       "      <td>...</td>\n",
       "      <td>1</td>\n",
       "      <td>1</td>\n",
       "      <td>1</td>\n",
       "      <td>1</td>\n",
       "      <td>1</td>\n",
       "      <td>1</td>\n",
       "      <td>0</td>\n",
       "      <td>0</td>\n",
       "      <td>1</td>\n",
       "      <td>1</td>\n",
       "    </tr>\n",
       "    <tr>\n",
       "      <th>4</th>\n",
       "      <td>C1C(C2=CC=CC=C2N(C3=CC=CC=C31)C(=O)N)O</td>\n",
       "      <td>1</td>\n",
       "      <td>1</td>\n",
       "      <td>0</td>\n",
       "      <td>1</td>\n",
       "      <td>1</td>\n",
       "      <td>1</td>\n",
       "      <td>1</td>\n",
       "      <td>0</td>\n",
       "      <td>1</td>\n",
       "      <td>...</td>\n",
       "      <td>0</td>\n",
       "      <td>1</td>\n",
       "      <td>1</td>\n",
       "      <td>1</td>\n",
       "      <td>0</td>\n",
       "      <td>0</td>\n",
       "      <td>1</td>\n",
       "      <td>0</td>\n",
       "      <td>1</td>\n",
       "      <td>0</td>\n",
       "    </tr>\n",
       "    <tr>\n",
       "      <th>...</th>\n",
       "      <td>...</td>\n",
       "      <td>...</td>\n",
       "      <td>...</td>\n",
       "      <td>...</td>\n",
       "      <td>...</td>\n",
       "      <td>...</td>\n",
       "      <td>...</td>\n",
       "      <td>...</td>\n",
       "      <td>...</td>\n",
       "      <td>...</td>\n",
       "      <td>...</td>\n",
       "      <td>...</td>\n",
       "      <td>...</td>\n",
       "      <td>...</td>\n",
       "      <td>...</td>\n",
       "      <td>...</td>\n",
       "      <td>...</td>\n",
       "      <td>...</td>\n",
       "      <td>...</td>\n",
       "      <td>...</td>\n",
       "      <td>...</td>\n",
       "    </tr>\n",
       "    <tr>\n",
       "      <th>1422</th>\n",
       "      <td>C[C@H]1CN(CC[C@@]1(C)C2=CC(=CC=C2)O)C[C@H](CC3...</td>\n",
       "      <td>0</td>\n",
       "      <td>1</td>\n",
       "      <td>0</td>\n",
       "      <td>0</td>\n",
       "      <td>0</td>\n",
       "      <td>1</td>\n",
       "      <td>1</td>\n",
       "      <td>0</td>\n",
       "      <td>0</td>\n",
       "      <td>...</td>\n",
       "      <td>0</td>\n",
       "      <td>0</td>\n",
       "      <td>0</td>\n",
       "      <td>0</td>\n",
       "      <td>1</td>\n",
       "      <td>0</td>\n",
       "      <td>0</td>\n",
       "      <td>0</td>\n",
       "      <td>0</td>\n",
       "      <td>0</td>\n",
       "    </tr>\n",
       "    <tr>\n",
       "      <th>1423</th>\n",
       "      <td>CC[C@@H]1[C@@]2([C@@H]([C@@H](C(=O)[C@@H](C[C@...</td>\n",
       "      <td>1</td>\n",
       "      <td>1</td>\n",
       "      <td>0</td>\n",
       "      <td>1</td>\n",
       "      <td>1</td>\n",
       "      <td>1</td>\n",
       "      <td>1</td>\n",
       "      <td>0</td>\n",
       "      <td>1</td>\n",
       "      <td>...</td>\n",
       "      <td>0</td>\n",
       "      <td>1</td>\n",
       "      <td>1</td>\n",
       "      <td>1</td>\n",
       "      <td>1</td>\n",
       "      <td>0</td>\n",
       "      <td>1</td>\n",
       "      <td>1</td>\n",
       "      <td>1</td>\n",
       "      <td>1</td>\n",
       "    </tr>\n",
       "    <tr>\n",
       "      <th>1424</th>\n",
       "      <td>CCOC1=CC=C(C=C1)CC2=C(C=CC(=C2)[C@H]3[C@@H]([C...</td>\n",
       "      <td>1</td>\n",
       "      <td>1</td>\n",
       "      <td>0</td>\n",
       "      <td>0</td>\n",
       "      <td>1</td>\n",
       "      <td>1</td>\n",
       "      <td>1</td>\n",
       "      <td>0</td>\n",
       "      <td>1</td>\n",
       "      <td>...</td>\n",
       "      <td>0</td>\n",
       "      <td>1</td>\n",
       "      <td>0</td>\n",
       "      <td>0</td>\n",
       "      <td>1</td>\n",
       "      <td>0</td>\n",
       "      <td>0</td>\n",
       "      <td>1</td>\n",
       "      <td>1</td>\n",
       "      <td>1</td>\n",
       "    </tr>\n",
       "    <tr>\n",
       "      <th>1425</th>\n",
       "      <td>C1CN(CCC1N2C3=CC=CC=C3NC2=O)CCCC(C4=CC=C(C=C4)...</td>\n",
       "      <td>0</td>\n",
       "      <td>1</td>\n",
       "      <td>0</td>\n",
       "      <td>1</td>\n",
       "      <td>1</td>\n",
       "      <td>1</td>\n",
       "      <td>1</td>\n",
       "      <td>0</td>\n",
       "      <td>0</td>\n",
       "      <td>...</td>\n",
       "      <td>0</td>\n",
       "      <td>0</td>\n",
       "      <td>0</td>\n",
       "      <td>1</td>\n",
       "      <td>1</td>\n",
       "      <td>0</td>\n",
       "      <td>0</td>\n",
       "      <td>1</td>\n",
       "      <td>1</td>\n",
       "      <td>1</td>\n",
       "    </tr>\n",
       "    <tr>\n",
       "      <th>1426</th>\n",
       "      <td>CCC(=O)C(CC(C)N(C)C)(C1=CC=CC=C1)C2=CC=CC=C2</td>\n",
       "      <td>1</td>\n",
       "      <td>1</td>\n",
       "      <td>0</td>\n",
       "      <td>1</td>\n",
       "      <td>1</td>\n",
       "      <td>1</td>\n",
       "      <td>1</td>\n",
       "      <td>0</td>\n",
       "      <td>1</td>\n",
       "      <td>...</td>\n",
       "      <td>0</td>\n",
       "      <td>1</td>\n",
       "      <td>1</td>\n",
       "      <td>1</td>\n",
       "      <td>1</td>\n",
       "      <td>0</td>\n",
       "      <td>1</td>\n",
       "      <td>1</td>\n",
       "      <td>1</td>\n",
       "      <td>1</td>\n",
       "    </tr>\n",
       "  </tbody>\n",
       "</table>\n",
       "<p>1427 rows × 28 columns</p>\n",
       "</div>"
      ],
      "text/plain": [
       "                                                 smiles  \\\n",
       "0                                       C(CNCCNCCNCCN)N   \n",
       "1     CC(C)(C)C1=CC(=C(C=C1NC(=O)C2=CNC3=CC=CC=C3C2=...   \n",
       "2     CC[C@]12CC(=C)[C@H]3[C@H]([C@@H]1CC[C@]2(C#C)O...   \n",
       "3       CCC12CC(=C)C3C(C1CC[C@]2(C#C)O)CCC4=CC(=O)CCC34   \n",
       "4                C1C(C2=CC=CC=C2N(C3=CC=CC=C31)C(=O)N)O   \n",
       "...                                                 ...   \n",
       "1422  C[C@H]1CN(CC[C@@]1(C)C2=CC(=CC=C2)O)C[C@H](CC3...   \n",
       "1423  CC[C@@H]1[C@@]2([C@@H]([C@@H](C(=O)[C@@H](C[C@...   \n",
       "1424  CCOC1=CC=C(C=C1)CC2=C(C=CC(=C2)[C@H]3[C@@H]([C...   \n",
       "1425  C1CN(CCC1N2C3=CC=CC=C3NC2=O)CCCC(C4=CC=C(C=C4)...   \n",
       "1426       CCC(=O)C(CC(C)N(C)C)(C1=CC=CC=C1)C2=CC=CC=C2   \n",
       "\n",
       "      Hepatobiliary disorders  Metabolism and nutrition disorders  \\\n",
       "0                           1                                   1   \n",
       "1                           0                                   1   \n",
       "2                           0                                   1   \n",
       "3                           1                                   1   \n",
       "4                           1                                   1   \n",
       "...                       ...                                 ...   \n",
       "1422                        0                                   1   \n",
       "1423                        1                                   1   \n",
       "1424                        1                                   1   \n",
       "1425                        0                                   1   \n",
       "1426                        1                                   1   \n",
       "\n",
       "      Product issues  Eye disorders  Investigations  \\\n",
       "0                  0              0               1   \n",
       "1                  0              0               1   \n",
       "2                  0              1               1   \n",
       "3                  0              1               1   \n",
       "4                  0              1               1   \n",
       "...              ...            ...             ...   \n",
       "1422               0              0               0   \n",
       "1423               0              1               1   \n",
       "1424               0              0               1   \n",
       "1425               0              1               1   \n",
       "1426               0              1               1   \n",
       "\n",
       "      Musculoskeletal and connective tissue disorders  \\\n",
       "0                                                   1   \n",
       "1                                                   1   \n",
       "2                                                   0   \n",
       "3                                                   1   \n",
       "4                                                   1   \n",
       "...                                               ...   \n",
       "1422                                                1   \n",
       "1423                                                1   \n",
       "1424                                                1   \n",
       "1425                                                1   \n",
       "1426                                                1   \n",
       "\n",
       "      Gastrointestinal disorders  Social circumstances  \\\n",
       "0                              1                     0   \n",
       "1                              1                     0   \n",
       "2                              1                     0   \n",
       "3                              1                     0   \n",
       "4                              1                     0   \n",
       "...                          ...                   ...   \n",
       "1422                           1                     0   \n",
       "1423                           1                     0   \n",
       "1424                           1                     0   \n",
       "1425                           1                     0   \n",
       "1426                           1                     0   \n",
       "\n",
       "      Immune system disorders  ...  \\\n",
       "0                           0  ...   \n",
       "1                           0  ...   \n",
       "2                           1  ...   \n",
       "3                           1  ...   \n",
       "4                           1  ...   \n",
       "...                       ...  ...   \n",
       "1422                        0  ...   \n",
       "1423                        1  ...   \n",
       "1424                        1  ...   \n",
       "1425                        0  ...   \n",
       "1426                        1  ...   \n",
       "\n",
       "      Congenital, familial and genetic disorders  Infections and infestations  \\\n",
       "0                                              0                            0   \n",
       "1                                              0                            1   \n",
       "2                                              0                            0   \n",
       "3                                              1                            1   \n",
       "4                                              0                            1   \n",
       "...                                          ...                          ...   \n",
       "1422                                           0                            0   \n",
       "1423                                           0                            1   \n",
       "1424                                           0                            1   \n",
       "1425                                           0                            0   \n",
       "1426                                           0                            1   \n",
       "\n",
       "      Respiratory, thoracic and mediastinal disorders  Psychiatric disorders  \\\n",
       "0                                                   1                      1   \n",
       "1                                                   1                      0   \n",
       "2                                                   0                      1   \n",
       "3                                                   1                      1   \n",
       "4                                                   1                      1   \n",
       "...                                               ...                    ...   \n",
       "1422                                                0                      0   \n",
       "1423                                                1                      1   \n",
       "1424                                                0                      0   \n",
       "1425                                                0                      1   \n",
       "1426                                                1                      1   \n",
       "\n",
       "      Renal and urinary disorders  \\\n",
       "0                               0   \n",
       "1                               0   \n",
       "2                               0   \n",
       "3                               1   \n",
       "4                               0   \n",
       "...                           ...   \n",
       "1422                            1   \n",
       "1423                            1   \n",
       "1424                            1   \n",
       "1425                            1   \n",
       "1426                            1   \n",
       "\n",
       "      Pregnancy, puerperium and perinatal conditions  \\\n",
       "0                                                  0   \n",
       "1                                                  0   \n",
       "2                                                  0   \n",
       "3                                                  1   \n",
       "4                                                  0   \n",
       "...                                              ...   \n",
       "1422                                               0   \n",
       "1423                                               0   \n",
       "1424                                               0   \n",
       "1425                                               0   \n",
       "1426                                               0   \n",
       "\n",
       "      Ear and labyrinth disorders  Cardiac disorders  \\\n",
       "0                               1                  1   \n",
       "1                               1                  0   \n",
       "2                               0                  0   \n",
       "3                               0                  0   \n",
       "4                               1                  0   \n",
       "...                           ...                ...   \n",
       "1422                            0                  0   \n",
       "1423                            1                  1   \n",
       "1424                            0                  1   \n",
       "1425                            0                  1   \n",
       "1426                            1                  1   \n",
       "\n",
       "      Nervous system disorders  Injury, poisoning and procedural complications  \n",
       "0                            1                                               0  \n",
       "1                            1                                               0  \n",
       "2                            1                                               0  \n",
       "3                            1                                               1  \n",
       "4                            1                                               0  \n",
       "...                        ...                                             ...  \n",
       "1422                         0                                               0  \n",
       "1423                         1                                               1  \n",
       "1424                         1                                               1  \n",
       "1425                         1                                               1  \n",
       "1426                         1                                               1  \n",
       "\n",
       "[1427 rows x 28 columns]"
      ]
     },
     "metadata": {},
     "output_type": "display_data"
    }
   ],
   "source": [
    "# import data\n",
    "\n",
    "dataframe = pd.read_csv(\"data/MoleculeNet_SIDER/SIDER.csv\")\n",
    "\n",
    "print(\"Number of Molecules = \", len(dataframe), \"\\n\")\n",
    "\n",
    "print(\"Targets = \\n\")\n",
    "display(list(dataframe.columns.values[1:]))\n",
    "\n",
    "display(dataframe)"
   ]
  },
  {
   "cell_type": "code",
   "execution_count": 174,
   "metadata": {},
   "outputs": [],
   "source": [
    "# choose target variable\n",
    "\n",
    "target = 'Immune system disorders'"
   ]
  },
  {
   "cell_type": "code",
   "execution_count": 175,
   "metadata": {
    "colab": {
     "base_uri": "https://localhost:8080/",
     "height": 276
    },
    "colab_type": "code",
    "executionInfo": {
     "elapsed": 2024,
     "status": "ok",
     "timestamp": 1599858873012,
     "user": {
      "displayName": "Markus Dablander",
      "photoUrl": "",
      "userId": "13467664559539683865"
     },
     "user_tz": -120
    },
    "id": "BIm1m_9NSEaG",
    "outputId": "b8cea951-b524-4fc0-c760-db6be2b78673"
   },
   "outputs": [
    {
     "name": "stdout",
     "output_type": "stream",
     "text": [
      "Missing:  0\n"
     ]
    },
    {
     "data": {
      "text/html": [
       "<div>\n",
       "<style scoped>\n",
       "    .dataframe tbody tr th:only-of-type {\n",
       "        vertical-align: middle;\n",
       "    }\n",
       "\n",
       "    .dataframe tbody tr th {\n",
       "        vertical-align: top;\n",
       "    }\n",
       "\n",
       "    .dataframe thead th {\n",
       "        text-align: right;\n",
       "    }\n",
       "</style>\n",
       "<table border=\"1\" class=\"dataframe\">\n",
       "  <thead>\n",
       "    <tr style=\"text-align: right;\">\n",
       "      <th></th>\n",
       "      <th>smiles</th>\n",
       "      <th>Hepatobiliary disorders</th>\n",
       "      <th>Metabolism and nutrition disorders</th>\n",
       "      <th>Product issues</th>\n",
       "      <th>Eye disorders</th>\n",
       "      <th>Investigations</th>\n",
       "      <th>Musculoskeletal and connective tissue disorders</th>\n",
       "      <th>Gastrointestinal disorders</th>\n",
       "      <th>Social circumstances</th>\n",
       "      <th>Immune system disorders</th>\n",
       "      <th>...</th>\n",
       "      <th>Congenital, familial and genetic disorders</th>\n",
       "      <th>Infections and infestations</th>\n",
       "      <th>Respiratory, thoracic and mediastinal disorders</th>\n",
       "      <th>Psychiatric disorders</th>\n",
       "      <th>Renal and urinary disorders</th>\n",
       "      <th>Pregnancy, puerperium and perinatal conditions</th>\n",
       "      <th>Ear and labyrinth disorders</th>\n",
       "      <th>Cardiac disorders</th>\n",
       "      <th>Nervous system disorders</th>\n",
       "      <th>Injury, poisoning and procedural complications</th>\n",
       "    </tr>\n",
       "  </thead>\n",
       "  <tbody>\n",
       "  </tbody>\n",
       "</table>\n",
       "<p>0 rows × 28 columns</p>\n",
       "</div>"
      ],
      "text/plain": [
       "Empty DataFrame\n",
       "Columns: [smiles, Hepatobiliary disorders, Metabolism and nutrition disorders, Product issues, Eye disorders, Investigations, Musculoskeletal and connective tissue disorders, Gastrointestinal disorders, Social circumstances, Immune system disorders, Reproductive system and breast disorders, Neoplasms benign, malignant and unspecified (incl cysts and polyps), General disorders and administration site conditions, Endocrine disorders, Surgical and medical procedures, Vascular disorders, Blood and lymphatic system disorders, Skin and subcutaneous tissue disorders, Congenital, familial and genetic disorders, Infections and infestations, Respiratory, thoracic and mediastinal disorders, Psychiatric disorders, Renal and urinary disorders, Pregnancy, puerperium and perinatal conditions, Ear and labyrinth disorders, Cardiac disorders, Nervous system disorders, Injury, poisoning and procedural complications]\n",
       "Index: []\n",
       "\n",
       "[0 rows x 28 columns]"
      ]
     },
     "metadata": {},
     "output_type": "display_data"
    },
    {
     "data": {
      "text/html": [
       "<div>\n",
       "<style scoped>\n",
       "    .dataframe tbody tr th:only-of-type {\n",
       "        vertical-align: middle;\n",
       "    }\n",
       "\n",
       "    .dataframe tbody tr th {\n",
       "        vertical-align: top;\n",
       "    }\n",
       "\n",
       "    .dataframe thead th {\n",
       "        text-align: right;\n",
       "    }\n",
       "</style>\n",
       "<table border=\"1\" class=\"dataframe\">\n",
       "  <thead>\n",
       "    <tr style=\"text-align: right;\">\n",
       "      <th></th>\n",
       "      <th>smiles</th>\n",
       "      <th>Hepatobiliary disorders</th>\n",
       "      <th>Metabolism and nutrition disorders</th>\n",
       "      <th>Product issues</th>\n",
       "      <th>Eye disorders</th>\n",
       "      <th>Investigations</th>\n",
       "      <th>Musculoskeletal and connective tissue disorders</th>\n",
       "      <th>Gastrointestinal disorders</th>\n",
       "      <th>Social circumstances</th>\n",
       "      <th>Immune system disorders</th>\n",
       "      <th>...</th>\n",
       "      <th>Congenital, familial and genetic disorders</th>\n",
       "      <th>Infections and infestations</th>\n",
       "      <th>Respiratory, thoracic and mediastinal disorders</th>\n",
       "      <th>Psychiatric disorders</th>\n",
       "      <th>Renal and urinary disorders</th>\n",
       "      <th>Pregnancy, puerperium and perinatal conditions</th>\n",
       "      <th>Ear and labyrinth disorders</th>\n",
       "      <th>Cardiac disorders</th>\n",
       "      <th>Nervous system disorders</th>\n",
       "      <th>Injury, poisoning and procedural complications</th>\n",
       "    </tr>\n",
       "  </thead>\n",
       "  <tbody>\n",
       "  </tbody>\n",
       "</table>\n",
       "<p>0 rows × 28 columns</p>\n",
       "</div>"
      ],
      "text/plain": [
       "Empty DataFrame\n",
       "Columns: [smiles, Hepatobiliary disorders, Metabolism and nutrition disorders, Product issues, Eye disorders, Investigations, Musculoskeletal and connective tissue disorders, Gastrointestinal disorders, Social circumstances, Immune system disorders, Reproductive system and breast disorders, Neoplasms benign, malignant and unspecified (incl cysts and polyps), General disorders and administration site conditions, Endocrine disorders, Surgical and medical procedures, Vascular disorders, Blood and lymphatic system disorders, Skin and subcutaneous tissue disorders, Congenital, familial and genetic disorders, Infections and infestations, Respiratory, thoracic and mediastinal disorders, Psychiatric disorders, Renal and urinary disorders, Pregnancy, puerperium and perinatal conditions, Ear and labyrinth disorders, Cardiac disorders, Nervous system disorders, Injury, poisoning and procedural complications]\n",
       "Index: []\n",
       "\n",
       "[0 rows x 28 columns]"
      ]
     },
     "metadata": {},
     "output_type": "display_data"
    }
   ],
   "source": [
    "# check for missing values (i.e. NA values)\n",
    "\n",
    "print(\"Missing: \", len(dataframe[dataframe[target].isnull()]))\n",
    "display(dataframe[dataframe['smiles'].isnull()])\n",
    "display(dataframe[dataframe[target].isnull()])\n"
   ]
  },
  {
   "cell_type": "code",
   "execution_count": 176,
   "metadata": {},
   "outputs": [],
   "source": [
    "# remove rows corresponding to NaNs for target variable\n",
    "\n",
    "NaN_indices = dataframe[dataframe[target].isnull()].index\n",
    "dataframe = dataframe.drop(NaN_indices)"
   ]
  },
  {
   "cell_type": "code",
   "execution_count": 177,
   "metadata": {
    "colab": {},
    "colab_type": "code",
    "id": "oFu7W-IlSEaN"
   },
   "outputs": [
    {
     "name": "stdout",
     "output_type": "stream",
     "text": [
      "1427\n"
     ]
    }
   ],
   "source": [
    "# filter out Smiles which produce error messages in rdkit\n",
    "\n",
    "bad_smiles = []\n",
    "\n",
    "for k in range(len(dataframe[\"smiles\"].values)):\n",
    "\n",
    "    smiles = dataframe[\"smiles\"].values[k]\n",
    "    \n",
    "    sio = sys.stderr = StringIO()\n",
    "    Chem.MolFromSmiles(smiles)\n",
    "    error_message = sio.getvalue()\n",
    "    \n",
    "    if error_message != \"\" and error_message[0:13] != \"RDKit WARNING\":\n",
    "        #print(k)\n",
    "        #print(error_message)\n",
    "        #print(smiles, \"\\n \\n \\n \\n\")\n",
    "        bad_smiles.append(smiles)\n",
    "\n",
    "dataframe = dataframe[dataframe[\"smiles\"].isin(bad_smiles) == False]\n",
    "\n",
    "print(len(dataframe))"
   ]
  },
  {
   "cell_type": "code",
   "execution_count": 178,
   "metadata": {},
   "outputs": [
    {
     "name": "stdout",
     "output_type": "stream",
     "text": [
      "N_positive =  1024\n",
      "N_negative =  403\n",
      "Total fraction of positives =  0.7175893482831114\n"
     ]
    }
   ],
   "source": [
    "# compute number of positive and negative instances\n",
    "\n",
    "N_positive = int(np.sum(dataframe[target].values))\n",
    "N_negative = len(dataframe[target]) - N_positive\n",
    "\n",
    "print(\"N_positive = \", N_positive)\n",
    "print(\"N_negative = \", N_negative)\n",
    "print(\"Total fraction of positives = \", N_positive/(N_positive + N_negative))"
   ]
  },
  {
   "cell_type": "code",
   "execution_count": 74,
   "metadata": {
    "colab": {},
    "colab_type": "code",
    "executionInfo": {
     "elapsed": 645,
     "status": "ok",
     "timestamp": 1599869440512,
     "user": {
      "displayName": "Markus Dablander",
      "photoUrl": "",
      "userId": "13467664559539683865"
     },
     "user_tz": -120
    },
    "id": "X2XcwuHnSEaT"
   },
   "outputs": [
    {
     "name": "stdout",
     "output_type": "stream",
     "text": [
      "N_positive_delete =  621\n"
     ]
    }
   ],
   "source": [
    "# create balanced data set by undersampling the larger class so that number of molecules becomes exactly the same in each class\n",
    "\n",
    "if N_positive < N_negative:\n",
    "    N_negative_delete = len(dataframe[target].values) - 2*len(dataframe[dataframe[target] == 1].values)\n",
    "    dataframe = dataframe.drop(dataframe[dataframe[target] == 0].sample(n = N_negative_delete, random_state = 42).index)\n",
    "    print(\"N_negative_delete = \", N_negative_delete)\n",
    "    \n",
    "if N_positive > N_negative:\n",
    "    N_positive_delete = len(dataframe[target].values) - 2*len(dataframe[dataframe[target] == 0].values)\n",
    "    dataframe = dataframe.drop(dataframe[dataframe[target] == 1].sample(n = N_positive_delete, random_state = 42).index)\n",
    "    print(\"N_positive_delete = \", N_positive_delete)\n",
    "    "
   ]
  },
  {
   "cell_type": "code",
   "execution_count": 75,
   "metadata": {},
   "outputs": [
    {
     "name": "stdout",
     "output_type": "stream",
     "text": [
      "Number of Molecules =  806\n"
     ]
    }
   ],
   "source": [
    "# define number of molecules\n",
    "\n",
    "N_molecules = len(dataframe[target].values)\n",
    "\n",
    "print(\"Number of Molecules = \", N_molecules)"
   ]
  },
  {
   "cell_type": "code",
   "execution_count": 76,
   "metadata": {
    "colab": {
     "base_uri": "https://localhost:8080/",
     "height": 90
    },
    "colab_type": "code",
    "executionInfo": {
     "elapsed": 771,
     "status": "ok",
     "timestamp": 1599869443976,
     "user": {
      "displayName": "Markus Dablander",
      "photoUrl": "",
      "userId": "13467664559539683865"
     },
     "user_tz": -120
    },
    "id": "M1aIBqplSEaq",
    "outputId": "d9c43474-c7b7-4622-da65-6ebe36c9c3a1"
   },
   "outputs": [
    {
     "name": "stdout",
     "output_type": "stream",
     "text": [
      "Number of Positives =  403\n",
      "Fraction of Positives =  0.5\n",
      "Shape of y =  (806,)\n",
      "Shape of Y =  (806, 1)\n",
      "\n",
      " y =  [0 0 1 1 1 0 1 1 1 0 0 1 1 1 1 0 0 0 0 0 1 0 0 0 1 1 1 1 0 0 0 0 0 0 0 1 0\n",
      " 0 1 0 1 1 1 1 1 0 0 0 0 0 0 1 0 0 1 0 1 0 0 1 0 1 1 0 0 0 0 0 0 1 0 0 1 0\n",
      " 1 1 0 0 0 0 0 1 1 0 1 1 0 1 1 0 1 0 0 1 0 1 1 1 1 1 1 0 0 0 0 0 0 0 0 1 1\n",
      " 0 0 0 0 1 1 0 0 1 0 0 0 1 0 0 1 1 1 0 0 1 0 0 1 1 0 1 1 0 0 0 0 1 0 0 1 1\n",
      " 0 0 0 0 1 0 1 1 0 0 1 1 0 1 1 0 0 0 1 1 0 1 1 1 1 1 1 0 0 0 0 1 1 0 1 1 0\n",
      " 0 0 1 0 1 1 0 1 1 1 1 0 0 0 0 1 0 0 1 1 1 0 0 1 0 1 1 1 0 0 0 1 0 0 1 1 1\n",
      " 1 1 1 1 0 0 1 1 0 0 0 1 0 0 1 1 0 1 0 1 1 0 0 1 1 0 0 1 0 1 0 0 1 0 0 0 1\n",
      " 0 0 0 0 1 1 1 1 0 1 1 0 0 0 0 0 0 0 1 1 0 1 0 0 0 0 0 1 1 0 1 0 1 0 0 0 0\n",
      " 1 1 0 0 0 1 1 1 0 1 0 1 0 1 1 0 1 0 1 1 1 0 1 1 1 1 0 1 0 1 0 1 1 1 0 1 0\n",
      " 0 0 0 1 1 1 1 1 1 1 1 1 1 1 0 0 1 0 0 0 1 0 0 0 1 0 1 1 1 1 1 1 0 1 0 1 1\n",
      " 1 1 1 1 1 1 0 1 1 1 0 0 0 1 1 0 0 1 0 1 1 0 0 1 0 0 0 0 1 0 0 0 0 0 0 0 1\n",
      " 0 0 0 1 0 1 0 1 0 1 1 1 1 1 1 1 1 1 0 1 1 1 1 0 1 0 1 0 0 1 0 0 0 0 0 1 1\n",
      " 0 1 1 1 1 1 0 0 1 0 0 0 1 1 1 0 1 0 0 0 0 1 1 0 1 1 0 1 1 1 0 1 1 1 0 1 1\n",
      " 0 0 1 1 1 0 1 1 0 0 1 1 1 0 1 1 1 0 0 1 0 0 0 1 1 1 0 0 1 0 0 0 1 1 0 1 0\n",
      " 0 0 1 1 0 0 1 0 0 0 1 1 1 0 0 1 1 1 1 1 1 1 0 1 1 0 0 0 0 0 1 0 1 1 0 0 0\n",
      " 0 0 1 0 1 0 1 1 0 1 1 0 1 0 1 1 0 1 1 1 1 1 0 0 1 1 0 1 1 1 1 1 0 0 1 0 1\n",
      " 0 1 1 0 0 1 1 1 1 0 1 1 0 1 0 1 1 0 0 1 0 1 1 1 1 1 0 1 0 1 0 0 0 0 1 1 0\n",
      " 1 1 0 1 1 0 0 1 0 0 1 0 0 0 1 1 1 0 0 0 1 0 1 0 1 0 0 0 0 1 1 0 1 1 1 1 1\n",
      " 0 1 0 1 0 0 0 0 1 0 1 0 0 0 1 0 0 1 0 1 1 1 1 0 1 0 0 1 0 1 0 0 1 1 1 0 1\n",
      " 0 0 1 1 1 1 1 1 0 0 1 1 0 0 0 0 0 1 1 0 1 0 1 1 1 1 0 1 0 0 0 1 0 0 1 1 1\n",
      " 1 0 0 1 1 1 0 0 1 1 1 0 0 1 0 0 0 1 0 0 1 0 0 0 0 0 1 0 1 0 0 1 0 1 1 0 1\n",
      " 0 0 1 1 1 1 0 0 1 0 1 1 1 0 1 1 0 0 0 0 1 0 0 0 0 1 0 0 0]\n"
     ]
    }
   ],
   "source": [
    "# construct target variable y/Y (hERG inhibition)\n",
    "\n",
    "# extract labels\n",
    "y = dataframe.loc[:,target].values.astype(int)\n",
    "Y = np.reshape(y, (len(y), 1))\n",
    "\n",
    "print(\"Number of Positives = \", np.sum(y))\n",
    "print(\"Fraction of Positives = \", np.sum(y)/N_molecules)\n",
    "\n",
    "\n",
    "print(\"Shape of y = \", y.shape)\n",
    "print(\"Shape of Y = \", Y.shape)\n",
    "\n",
    "print(\"\\n y = \", y)\n"
   ]
  },
  {
   "cell_type": "code",
   "execution_count": 77,
   "metadata": {
    "colab": {
     "base_uri": "https://localhost:8080/",
     "height": 222
    },
    "colab_type": "code",
    "executionInfo": {
     "elapsed": 444,
     "status": "ok",
     "timestamp": 1599869444377,
     "user": {
      "displayName": "Markus Dablander",
      "photoUrl": "",
      "userId": "13467664559539683865"
     },
     "user_tz": -120
    },
    "id": "PB82_jFUSEav",
    "outputId": "f151bbf0-8894-45c1-bd95-e747bc7c74b5"
   },
   "outputs": [
    {
     "name": "stdout",
     "output_type": "stream",
     "text": [
      "                  Smiles String\n",
      "C(CNCCNCCNCCN)N\n"
     ]
    },
    {
     "data": {
      "image/png": "[encoded data removed]",
      "text/plain": [
       "<rdkit.Chem.rdchem.Mol at 0x7fee0c138d00>"
      ]
     },
     "metadata": {},
     "output_type": "display_data"
    },
    {
     "name": "stdout",
     "output_type": "stream",
     "text": [
      "Shape of x_smiles =  (806,)\n",
      "Shape of X_smiles =  (806, 1)\n",
      "\n",
      " x_smiles =  ['C(CNCCNCCNCCN)N'\n",
      " 'CC(C)(C)C1=CC(=C(C=C1NC(=O)C2=CNC3=CC=CC=C3C2=O)O)C(C)(C)C'\n",
      " 'CCC12CC(=C)C3C(C1CC[C@]2(C#C)O)CCC4=CC(=O)CCC34'\n",
      " 'CC1CC2C3CCC4=CC(=O)C=CC4([C@]3(C(CC2([C@]1(C(=O)CCl)O)C)O)F)C'\n",
      " 'CC(C)CN(C[C@H]([C@H](CC1=CC=CC=C1)NC(=O)O[C@H]2CO[C@@H]3[C@H]2CCO3)O)S(=O)(=O)C4=CC=C(C=C4)N'\n",
      " 'C1CC[C@H]([C@@H](C1)CN2CCN(CC2)C3=NSC4=CC=CC=C43)CN5C(=O)[C@H]6[C@@H]7CC[C@@H](C7)[C@H]6C5=O'\n",
      " 'C[N+](C)(C)CC(CC(=O)O)O' 'CN1C2=C(C=C(C=C2)N(CCCl)CCCl)N=C1CCCC(=O)O'\n",
      " 'C(CC(=O)O)CN'\n",
      " 'C[C@H]1C[C@H]2[C@@H]3C[C@@H](C4=CC(=O)C=C[C@@]4([C@]3([C@H](C[C@@]2([C@]1(C(=O)CCl)O)C)O)F)C)F']\n"
     ]
    }
   ],
   "source": [
    "# extract Smiles strings\n",
    "\n",
    "X_smiles = np.reshape(dataframe[\"smiles\"].values, (N_molecules, 1))\n",
    "x_smiles = X_smiles[:,0]\n",
    "\n",
    "print(\"                  Smiles String\")\n",
    "print(X_smiles[0:1][0][0])\n",
    "\n",
    "for s in x_smiles[0:1]:\n",
    "    molecule = Chem.MolFromSmiles(s)\n",
    "    display(molecule)\n",
    "    \n",
    "print(\"Shape of x_smiles = \", x_smiles.shape)\n",
    "print(\"Shape of X_smiles = \", X_smiles.shape)\n",
    "\n",
    "print(\"\\n x_smiles = \", x_smiles[0:10])"
   ]
  },
  {
   "cell_type": "markdown",
   "metadata": {
    "collapsed": "true"
   },
   "source": [
    "## Prepare Data: MoleculeNet_MUV"
   ]
  },
  {
   "cell_type": "code",
   "execution_count": 179,
   "metadata": {
    "colab": {
     "base_uri": "https://localhost:8080/",
     "height": 225
    },
    "colab_type": "code",
    "executionInfo": {
     "elapsed": 429,
     "status": "ok",
     "timestamp": 1599869437487,
     "user": {
      "displayName": "Markus Dablander",
      "photoUrl": "",
      "userId": "13467664559539683865"
     },
     "user_tz": -120
    },
    "id": "FpdNzlmISEaA",
    "outputId": "c37aae09-ccfe-4f8a-dccc-6006309b2074"
   },
   "outputs": [
    {
     "name": "stdout",
     "output_type": "stream",
     "text": [
      "Number of Molecules =  93087 \n",
      "\n",
      "Targets = \n",
      "\n"
     ]
    },
    {
     "data": {
      "text/plain": [
       "['MUV-466',\n",
       " 'MUV-548',\n",
       " 'MUV-600',\n",
       " 'MUV-644',\n",
       " 'MUV-652',\n",
       " 'MUV-689',\n",
       " 'MUV-692',\n",
       " 'MUV-712',\n",
       " 'MUV-713',\n",
       " 'MUV-733',\n",
       " 'MUV-737',\n",
       " 'MUV-810',\n",
       " 'MUV-832',\n",
       " 'MUV-846',\n",
       " 'MUV-852',\n",
       " 'MUV-858',\n",
       " 'MUV-859']"
      ]
     },
     "metadata": {},
     "output_type": "display_data"
    },
    {
     "data": {
      "text/html": [
       "<div>\n",
       "<style scoped>\n",
       "    .dataframe tbody tr th:only-of-type {\n",
       "        vertical-align: middle;\n",
       "    }\n",
       "\n",
       "    .dataframe tbody tr th {\n",
       "        vertical-align: top;\n",
       "    }\n",
       "\n",
       "    .dataframe thead th {\n",
       "        text-align: right;\n",
       "    }\n",
       "</style>\n",
       "<table border=\"1\" class=\"dataframe\">\n",
       "  <thead>\n",
       "    <tr style=\"text-align: right;\">\n",
       "      <th></th>\n",
       "      <th>MUV-466</th>\n",
       "      <th>MUV-548</th>\n",
       "      <th>MUV-600</th>\n",
       "      <th>MUV-644</th>\n",
       "      <th>MUV-652</th>\n",
       "      <th>MUV-689</th>\n",
       "      <th>MUV-692</th>\n",
       "      <th>MUV-712</th>\n",
       "      <th>MUV-713</th>\n",
       "      <th>MUV-733</th>\n",
       "      <th>MUV-737</th>\n",
       "      <th>MUV-810</th>\n",
       "      <th>MUV-832</th>\n",
       "      <th>MUV-846</th>\n",
       "      <th>MUV-852</th>\n",
       "      <th>MUV-858</th>\n",
       "      <th>MUV-859</th>\n",
       "      <th>mol_id</th>\n",
       "      <th>smiles</th>\n",
       "    </tr>\n",
       "  </thead>\n",
       "  <tbody>\n",
       "    <tr>\n",
       "      <th>0</th>\n",
       "      <td>NaN</td>\n",
       "      <td>NaN</td>\n",
       "      <td>NaN</td>\n",
       "      <td>NaN</td>\n",
       "      <td>NaN</td>\n",
       "      <td>NaN</td>\n",
       "      <td>NaN</td>\n",
       "      <td>0.0</td>\n",
       "      <td>NaN</td>\n",
       "      <td>NaN</td>\n",
       "      <td>NaN</td>\n",
       "      <td>0.0</td>\n",
       "      <td>NaN</td>\n",
       "      <td>NaN</td>\n",
       "      <td>NaN</td>\n",
       "      <td>NaN</td>\n",
       "      <td>NaN</td>\n",
       "      <td>CID2999678</td>\n",
       "      <td>Cc1cccc(N2CCN(C(=O)C34CC5CC(CC(C5)C3)C4)CC2)c1C</td>\n",
       "    </tr>\n",
       "    <tr>\n",
       "      <th>1</th>\n",
       "      <td>0.0</td>\n",
       "      <td>0.0</td>\n",
       "      <td>NaN</td>\n",
       "      <td>NaN</td>\n",
       "      <td>0.0</td>\n",
       "      <td>0.0</td>\n",
       "      <td>0.0</td>\n",
       "      <td>NaN</td>\n",
       "      <td>NaN</td>\n",
       "      <td>NaN</td>\n",
       "      <td>0.0</td>\n",
       "      <td>NaN</td>\n",
       "      <td>0.0</td>\n",
       "      <td>NaN</td>\n",
       "      <td>NaN</td>\n",
       "      <td>0.0</td>\n",
       "      <td>0.0</td>\n",
       "      <td>CID2999679</td>\n",
       "      <td>Cn1ccnc1SCC(=O)Nc1ccc(Oc2ccccc2)cc1</td>\n",
       "    </tr>\n",
       "    <tr>\n",
       "      <th>2</th>\n",
       "      <td>NaN</td>\n",
       "      <td>NaN</td>\n",
       "      <td>0.0</td>\n",
       "      <td>NaN</td>\n",
       "      <td>NaN</td>\n",
       "      <td>NaN</td>\n",
       "      <td>NaN</td>\n",
       "      <td>NaN</td>\n",
       "      <td>NaN</td>\n",
       "      <td>NaN</td>\n",
       "      <td>NaN</td>\n",
       "      <td>NaN</td>\n",
       "      <td>NaN</td>\n",
       "      <td>NaN</td>\n",
       "      <td>NaN</td>\n",
       "      <td>NaN</td>\n",
       "      <td>0.0</td>\n",
       "      <td>CID2999672</td>\n",
       "      <td>COc1cc2c(cc1NC(=O)CN1C(=O)NC3(CCc4ccccc43)C1=O...</td>\n",
       "    </tr>\n",
       "    <tr>\n",
       "      <th>3</th>\n",
       "      <td>NaN</td>\n",
       "      <td>0.0</td>\n",
       "      <td>0.0</td>\n",
       "      <td>NaN</td>\n",
       "      <td>NaN</td>\n",
       "      <td>0.0</td>\n",
       "      <td>NaN</td>\n",
       "      <td>NaN</td>\n",
       "      <td>NaN</td>\n",
       "      <td>NaN</td>\n",
       "      <td>NaN</td>\n",
       "      <td>NaN</td>\n",
       "      <td>NaN</td>\n",
       "      <td>NaN</td>\n",
       "      <td>NaN</td>\n",
       "      <td>0.0</td>\n",
       "      <td>NaN</td>\n",
       "      <td>CID5390002</td>\n",
       "      <td>O=C1/C(=C/NC2CCS(=O)(=O)C2)c2ccccc2C(=O)N1c1cc...</td>\n",
       "    </tr>\n",
       "    <tr>\n",
       "      <th>4</th>\n",
       "      <td>0.0</td>\n",
       "      <td>NaN</td>\n",
       "      <td>NaN</td>\n",
       "      <td>NaN</td>\n",
       "      <td>0.0</td>\n",
       "      <td>NaN</td>\n",
       "      <td>0.0</td>\n",
       "      <td>0.0</td>\n",
       "      <td>NaN</td>\n",
       "      <td>NaN</td>\n",
       "      <td>NaN</td>\n",
       "      <td>NaN</td>\n",
       "      <td>NaN</td>\n",
       "      <td>NaN</td>\n",
       "      <td>NaN</td>\n",
       "      <td>NaN</td>\n",
       "      <td>NaN</td>\n",
       "      <td>CID2999670</td>\n",
       "      <td>NC(=O)NC(Cc1ccccc1)C(=O)O</td>\n",
       "    </tr>\n",
       "    <tr>\n",
       "      <th>...</th>\n",
       "      <td>...</td>\n",
       "      <td>...</td>\n",
       "      <td>...</td>\n",
       "      <td>...</td>\n",
       "      <td>...</td>\n",
       "      <td>...</td>\n",
       "      <td>...</td>\n",
       "      <td>...</td>\n",
       "      <td>...</td>\n",
       "      <td>...</td>\n",
       "      <td>...</td>\n",
       "      <td>...</td>\n",
       "      <td>...</td>\n",
       "      <td>...</td>\n",
       "      <td>...</td>\n",
       "      <td>...</td>\n",
       "      <td>...</td>\n",
       "      <td>...</td>\n",
       "      <td>...</td>\n",
       "    </tr>\n",
       "    <tr>\n",
       "      <th>93082</th>\n",
       "      <td>NaN</td>\n",
       "      <td>NaN</td>\n",
       "      <td>NaN</td>\n",
       "      <td>NaN</td>\n",
       "      <td>NaN</td>\n",
       "      <td>NaN</td>\n",
       "      <td>NaN</td>\n",
       "      <td>NaN</td>\n",
       "      <td>NaN</td>\n",
       "      <td>NaN</td>\n",
       "      <td>NaN</td>\n",
       "      <td>NaN</td>\n",
       "      <td>NaN</td>\n",
       "      <td>0.0</td>\n",
       "      <td>NaN</td>\n",
       "      <td>NaN</td>\n",
       "      <td>NaN</td>\n",
       "      <td>CID2957283</td>\n",
       "      <td>O=C(NCc1ccccc1Cl)C1CCCO1</td>\n",
       "    </tr>\n",
       "    <tr>\n",
       "      <th>93083</th>\n",
       "      <td>NaN</td>\n",
       "      <td>NaN</td>\n",
       "      <td>NaN</td>\n",
       "      <td>NaN</td>\n",
       "      <td>NaN</td>\n",
       "      <td>NaN</td>\n",
       "      <td>NaN</td>\n",
       "      <td>0.0</td>\n",
       "      <td>NaN</td>\n",
       "      <td>NaN</td>\n",
       "      <td>NaN</td>\n",
       "      <td>NaN</td>\n",
       "      <td>NaN</td>\n",
       "      <td>NaN</td>\n",
       "      <td>NaN</td>\n",
       "      <td>NaN</td>\n",
       "      <td>NaN</td>\n",
       "      <td>CID414138</td>\n",
       "      <td>COc1cc(NCCCCCN2C(=O)c3ccccc3C2=O)c2ncccc2c1</td>\n",
       "    </tr>\n",
       "    <tr>\n",
       "      <th>93084</th>\n",
       "      <td>NaN</td>\n",
       "      <td>NaN</td>\n",
       "      <td>NaN</td>\n",
       "      <td>NaN</td>\n",
       "      <td>NaN</td>\n",
       "      <td>NaN</td>\n",
       "      <td>NaN</td>\n",
       "      <td>NaN</td>\n",
       "      <td>NaN</td>\n",
       "      <td>NaN</td>\n",
       "      <td>NaN</td>\n",
       "      <td>NaN</td>\n",
       "      <td>NaN</td>\n",
       "      <td>0.0</td>\n",
       "      <td>NaN</td>\n",
       "      <td>NaN</td>\n",
       "      <td>NaN</td>\n",
       "      <td>CID718652</td>\n",
       "      <td>CCN(CC)c1ccc(/C=C2/C(=O)ON=C2C)cc1</td>\n",
       "    </tr>\n",
       "    <tr>\n",
       "      <th>93085</th>\n",
       "      <td>NaN</td>\n",
       "      <td>NaN</td>\n",
       "      <td>NaN</td>\n",
       "      <td>NaN</td>\n",
       "      <td>NaN</td>\n",
       "      <td>NaN</td>\n",
       "      <td>NaN</td>\n",
       "      <td>NaN</td>\n",
       "      <td>NaN</td>\n",
       "      <td>NaN</td>\n",
       "      <td>NaN</td>\n",
       "      <td>NaN</td>\n",
       "      <td>NaN</td>\n",
       "      <td>NaN</td>\n",
       "      <td>0.0</td>\n",
       "      <td>NaN</td>\n",
       "      <td>NaN</td>\n",
       "      <td>CID2446949</td>\n",
       "      <td>Cc1cc(=O)oc2cc(OCC(=O)c3ccc4c(c3)NC(=O)CO4)ccc12</td>\n",
       "    </tr>\n",
       "    <tr>\n",
       "      <th>93086</th>\n",
       "      <td>NaN</td>\n",
       "      <td>NaN</td>\n",
       "      <td>NaN</td>\n",
       "      <td>NaN</td>\n",
       "      <td>NaN</td>\n",
       "      <td>NaN</td>\n",
       "      <td>NaN</td>\n",
       "      <td>NaN</td>\n",
       "      <td>NaN</td>\n",
       "      <td>NaN</td>\n",
       "      <td>NaN</td>\n",
       "      <td>NaN</td>\n",
       "      <td>NaN</td>\n",
       "      <td>NaN</td>\n",
       "      <td>0.0</td>\n",
       "      <td>NaN</td>\n",
       "      <td>NaN</td>\n",
       "      <td>CID844405</td>\n",
       "      <td>COc1ccc([N+](=O)[O-])cc1NC(=O)c1ccc(C)o1</td>\n",
       "    </tr>\n",
       "  </tbody>\n",
       "</table>\n",
       "<p>93087 rows × 19 columns</p>\n",
       "</div>"
      ],
      "text/plain": [
       "       MUV-466  MUV-548  MUV-600  MUV-644  MUV-652  MUV-689  MUV-692  MUV-712  \\\n",
       "0          NaN      NaN      NaN      NaN      NaN      NaN      NaN      0.0   \n",
       "1          0.0      0.0      NaN      NaN      0.0      0.0      0.0      NaN   \n",
       "2          NaN      NaN      0.0      NaN      NaN      NaN      NaN      NaN   \n",
       "3          NaN      0.0      0.0      NaN      NaN      0.0      NaN      NaN   \n",
       "4          0.0      NaN      NaN      NaN      0.0      NaN      0.0      0.0   \n",
       "...        ...      ...      ...      ...      ...      ...      ...      ...   \n",
       "93082      NaN      NaN      NaN      NaN      NaN      NaN      NaN      NaN   \n",
       "93083      NaN      NaN      NaN      NaN      NaN      NaN      NaN      0.0   \n",
       "93084      NaN      NaN      NaN      NaN      NaN      NaN      NaN      NaN   \n",
       "93085      NaN      NaN      NaN      NaN      NaN      NaN      NaN      NaN   \n",
       "93086      NaN      NaN      NaN      NaN      NaN      NaN      NaN      NaN   \n",
       "\n",
       "       MUV-713  MUV-733  MUV-737  MUV-810  MUV-832  MUV-846  MUV-852  MUV-858  \\\n",
       "0          NaN      NaN      NaN      0.0      NaN      NaN      NaN      NaN   \n",
       "1          NaN      NaN      0.0      NaN      0.0      NaN      NaN      0.0   \n",
       "2          NaN      NaN      NaN      NaN      NaN      NaN      NaN      NaN   \n",
       "3          NaN      NaN      NaN      NaN      NaN      NaN      NaN      0.0   \n",
       "4          NaN      NaN      NaN      NaN      NaN      NaN      NaN      NaN   \n",
       "...        ...      ...      ...      ...      ...      ...      ...      ...   \n",
       "93082      NaN      NaN      NaN      NaN      NaN      0.0      NaN      NaN   \n",
       "93083      NaN      NaN      NaN      NaN      NaN      NaN      NaN      NaN   \n",
       "93084      NaN      NaN      NaN      NaN      NaN      0.0      NaN      NaN   \n",
       "93085      NaN      NaN      NaN      NaN      NaN      NaN      0.0      NaN   \n",
       "93086      NaN      NaN      NaN      NaN      NaN      NaN      0.0      NaN   \n",
       "\n",
       "       MUV-859      mol_id                                             smiles  \n",
       "0          NaN  CID2999678    Cc1cccc(N2CCN(C(=O)C34CC5CC(CC(C5)C3)C4)CC2)c1C  \n",
       "1          0.0  CID2999679                Cn1ccnc1SCC(=O)Nc1ccc(Oc2ccccc2)cc1  \n",
       "2          0.0  CID2999672  COc1cc2c(cc1NC(=O)CN1C(=O)NC3(CCc4ccccc43)C1=O...  \n",
       "3          NaN  CID5390002  O=C1/C(=C/NC2CCS(=O)(=O)C2)c2ccccc2C(=O)N1c1cc...  \n",
       "4          NaN  CID2999670                          NC(=O)NC(Cc1ccccc1)C(=O)O  \n",
       "...        ...         ...                                                ...  \n",
       "93082      NaN  CID2957283                           O=C(NCc1ccccc1Cl)C1CCCO1  \n",
       "93083      NaN   CID414138        COc1cc(NCCCCCN2C(=O)c3ccccc3C2=O)c2ncccc2c1  \n",
       "93084      NaN   CID718652                 CCN(CC)c1ccc(/C=C2/C(=O)ON=C2C)cc1  \n",
       "93085      NaN  CID2446949   Cc1cc(=O)oc2cc(OCC(=O)c3ccc4c(c3)NC(=O)CO4)ccc12  \n",
       "93086      NaN   CID844405           COc1ccc([N+](=O)[O-])cc1NC(=O)c1ccc(C)o1  \n",
       "\n",
       "[93087 rows x 19 columns]"
      ]
     },
     "metadata": {},
     "output_type": "display_data"
    }
   ],
   "source": [
    "# import data\n",
    "\n",
    "dataframe = pd.read_csv(\"data/MoleculeNet_MUV/MUV.csv\")\n",
    "\n",
    "print(\"Number of Molecules = \", len(dataframe), \"\\n\")\n",
    "\n",
    "print(\"Targets = \\n\")\n",
    "display(list(dataframe.columns.values[:-2]))\n",
    "\n",
    "display(dataframe)"
   ]
  },
  {
   "cell_type": "code",
   "execution_count": 180,
   "metadata": {},
   "outputs": [],
   "source": [
    "# choose target variable\n",
    "\n",
    "target = 'MUV-466'"
   ]
  },
  {
   "cell_type": "code",
   "execution_count": 181,
   "metadata": {
    "colab": {
     "base_uri": "https://localhost:8080/",
     "height": 276
    },
    "colab_type": "code",
    "executionInfo": {
     "elapsed": 2024,
     "status": "ok",
     "timestamp": 1599858873012,
     "user": {
      "displayName": "Markus Dablander",
      "photoUrl": "",
      "userId": "13467664559539683865"
     },
     "user_tz": -120
    },
    "id": "BIm1m_9NSEaG",
    "outputId": "b8cea951-b524-4fc0-c760-db6be2b78673"
   },
   "outputs": [
    {
     "name": "stdout",
     "output_type": "stream",
     "text": [
      "Missing:  78246\n"
     ]
    },
    {
     "data": {
      "text/html": [
       "<div>\n",
       "<style scoped>\n",
       "    .dataframe tbody tr th:only-of-type {\n",
       "        vertical-align: middle;\n",
       "    }\n",
       "\n",
       "    .dataframe tbody tr th {\n",
       "        vertical-align: top;\n",
       "    }\n",
       "\n",
       "    .dataframe thead th {\n",
       "        text-align: right;\n",
       "    }\n",
       "</style>\n",
       "<table border=\"1\" class=\"dataframe\">\n",
       "  <thead>\n",
       "    <tr style=\"text-align: right;\">\n",
       "      <th></th>\n",
       "      <th>MUV-466</th>\n",
       "      <th>MUV-548</th>\n",
       "      <th>MUV-600</th>\n",
       "      <th>MUV-644</th>\n",
       "      <th>MUV-652</th>\n",
       "      <th>MUV-689</th>\n",
       "      <th>MUV-692</th>\n",
       "      <th>MUV-712</th>\n",
       "      <th>MUV-713</th>\n",
       "      <th>MUV-733</th>\n",
       "      <th>MUV-737</th>\n",
       "      <th>MUV-810</th>\n",
       "      <th>MUV-832</th>\n",
       "      <th>MUV-846</th>\n",
       "      <th>MUV-852</th>\n",
       "      <th>MUV-858</th>\n",
       "      <th>MUV-859</th>\n",
       "      <th>mol_id</th>\n",
       "      <th>smiles</th>\n",
       "    </tr>\n",
       "  </thead>\n",
       "  <tbody>\n",
       "  </tbody>\n",
       "</table>\n",
       "</div>"
      ],
      "text/plain": [
       "Empty DataFrame\n",
       "Columns: [MUV-466, MUV-548, MUV-600, MUV-644, MUV-652, MUV-689, MUV-692, MUV-712, MUV-713, MUV-733, MUV-737, MUV-810, MUV-832, MUV-846, MUV-852, MUV-858, MUV-859, mol_id, smiles]\n",
       "Index: []"
      ]
     },
     "metadata": {},
     "output_type": "display_data"
    },
    {
     "data": {
      "text/html": [
       "<div>\n",
       "<style scoped>\n",
       "    .dataframe tbody tr th:only-of-type {\n",
       "        vertical-align: middle;\n",
       "    }\n",
       "\n",
       "    .dataframe tbody tr th {\n",
       "        vertical-align: top;\n",
       "    }\n",
       "\n",
       "    .dataframe thead th {\n",
       "        text-align: right;\n",
       "    }\n",
       "</style>\n",
       "<table border=\"1\" class=\"dataframe\">\n",
       "  <thead>\n",
       "    <tr style=\"text-align: right;\">\n",
       "      <th></th>\n",
       "      <th>MUV-466</th>\n",
       "      <th>MUV-548</th>\n",
       "      <th>MUV-600</th>\n",
       "      <th>MUV-644</th>\n",
       "      <th>MUV-652</th>\n",
       "      <th>MUV-689</th>\n",
       "      <th>MUV-692</th>\n",
       "      <th>MUV-712</th>\n",
       "      <th>MUV-713</th>\n",
       "      <th>MUV-733</th>\n",
       "      <th>MUV-737</th>\n",
       "      <th>MUV-810</th>\n",
       "      <th>MUV-832</th>\n",
       "      <th>MUV-846</th>\n",
       "      <th>MUV-852</th>\n",
       "      <th>MUV-858</th>\n",
       "      <th>MUV-859</th>\n",
       "      <th>mol_id</th>\n",
       "      <th>smiles</th>\n",
       "    </tr>\n",
       "  </thead>\n",
       "  <tbody>\n",
       "  </tbody>\n",
       "</table>\n",
       "</div>"
      ],
      "text/plain": [
       "Empty DataFrame\n",
       "Columns: [MUV-466, MUV-548, MUV-600, MUV-644, MUV-652, MUV-689, MUV-692, MUV-712, MUV-713, MUV-733, MUV-737, MUV-810, MUV-832, MUV-846, MUV-852, MUV-858, MUV-859, mol_id, smiles]\n",
       "Index: []"
      ]
     },
     "metadata": {},
     "output_type": "display_data"
    },
    {
     "data": {
      "text/html": [
       "<div>\n",
       "<style scoped>\n",
       "    .dataframe tbody tr th:only-of-type {\n",
       "        vertical-align: middle;\n",
       "    }\n",
       "\n",
       "    .dataframe tbody tr th {\n",
       "        vertical-align: top;\n",
       "    }\n",
       "\n",
       "    .dataframe thead th {\n",
       "        text-align: right;\n",
       "    }\n",
       "</style>\n",
       "<table border=\"1\" class=\"dataframe\">\n",
       "  <thead>\n",
       "    <tr style=\"text-align: right;\">\n",
       "      <th></th>\n",
       "      <th>MUV-466</th>\n",
       "      <th>MUV-548</th>\n",
       "      <th>MUV-600</th>\n",
       "      <th>MUV-644</th>\n",
       "      <th>MUV-652</th>\n",
       "      <th>MUV-689</th>\n",
       "      <th>MUV-692</th>\n",
       "      <th>MUV-712</th>\n",
       "      <th>MUV-713</th>\n",
       "      <th>MUV-733</th>\n",
       "      <th>MUV-737</th>\n",
       "      <th>MUV-810</th>\n",
       "      <th>MUV-832</th>\n",
       "      <th>MUV-846</th>\n",
       "      <th>MUV-852</th>\n",
       "      <th>MUV-858</th>\n",
       "      <th>MUV-859</th>\n",
       "      <th>mol_id</th>\n",
       "      <th>smiles</th>\n",
       "    </tr>\n",
       "  </thead>\n",
       "  <tbody>\n",
       "    <tr>\n",
       "      <th>0</th>\n",
       "      <td>NaN</td>\n",
       "      <td>NaN</td>\n",
       "      <td>NaN</td>\n",
       "      <td>NaN</td>\n",
       "      <td>NaN</td>\n",
       "      <td>NaN</td>\n",
       "      <td>NaN</td>\n",
       "      <td>0.0</td>\n",
       "      <td>NaN</td>\n",
       "      <td>NaN</td>\n",
       "      <td>NaN</td>\n",
       "      <td>0.0</td>\n",
       "      <td>NaN</td>\n",
       "      <td>NaN</td>\n",
       "      <td>NaN</td>\n",
       "      <td>NaN</td>\n",
       "      <td>NaN</td>\n",
       "      <td>CID2999678</td>\n",
       "      <td>Cc1cccc(N2CCN(C(=O)C34CC5CC(CC(C5)C3)C4)CC2)c1C</td>\n",
       "    </tr>\n",
       "    <tr>\n",
       "      <th>2</th>\n",
       "      <td>NaN</td>\n",
       "      <td>NaN</td>\n",
       "      <td>0.0</td>\n",
       "      <td>NaN</td>\n",
       "      <td>NaN</td>\n",
       "      <td>NaN</td>\n",
       "      <td>NaN</td>\n",
       "      <td>NaN</td>\n",
       "      <td>NaN</td>\n",
       "      <td>NaN</td>\n",
       "      <td>NaN</td>\n",
       "      <td>NaN</td>\n",
       "      <td>NaN</td>\n",
       "      <td>NaN</td>\n",
       "      <td>NaN</td>\n",
       "      <td>NaN</td>\n",
       "      <td>0.0</td>\n",
       "      <td>CID2999672</td>\n",
       "      <td>COc1cc2c(cc1NC(=O)CN1C(=O)NC3(CCc4ccccc43)C1=O...</td>\n",
       "    </tr>\n",
       "    <tr>\n",
       "      <th>3</th>\n",
       "      <td>NaN</td>\n",
       "      <td>0.0</td>\n",
       "      <td>0.0</td>\n",
       "      <td>NaN</td>\n",
       "      <td>NaN</td>\n",
       "      <td>0.0</td>\n",
       "      <td>NaN</td>\n",
       "      <td>NaN</td>\n",
       "      <td>NaN</td>\n",
       "      <td>NaN</td>\n",
       "      <td>NaN</td>\n",
       "      <td>NaN</td>\n",
       "      <td>NaN</td>\n",
       "      <td>NaN</td>\n",
       "      <td>NaN</td>\n",
       "      <td>0.0</td>\n",
       "      <td>NaN</td>\n",
       "      <td>CID5390002</td>\n",
       "      <td>O=C1/C(=C/NC2CCS(=O)(=O)C2)c2ccccc2C(=O)N1c1cc...</td>\n",
       "    </tr>\n",
       "    <tr>\n",
       "      <th>5</th>\n",
       "      <td>NaN</td>\n",
       "      <td>NaN</td>\n",
       "      <td>NaN</td>\n",
       "      <td>NaN</td>\n",
       "      <td>NaN</td>\n",
       "      <td>NaN</td>\n",
       "      <td>0.0</td>\n",
       "      <td>NaN</td>\n",
       "      <td>0.0</td>\n",
       "      <td>0.0</td>\n",
       "      <td>NaN</td>\n",
       "      <td>NaN</td>\n",
       "      <td>NaN</td>\n",
       "      <td>NaN</td>\n",
       "      <td>NaN</td>\n",
       "      <td>0.0</td>\n",
       "      <td>NaN</td>\n",
       "      <td>CID2999671</td>\n",
       "      <td>CCn1c(CSc2nccn2C)nc2cc(C(=O)O)ccc21</td>\n",
       "    </tr>\n",
       "    <tr>\n",
       "      <th>6</th>\n",
       "      <td>NaN</td>\n",
       "      <td>NaN</td>\n",
       "      <td>0.0</td>\n",
       "      <td>0.0</td>\n",
       "      <td>NaN</td>\n",
       "      <td>NaN</td>\n",
       "      <td>NaN</td>\n",
       "      <td>0.0</td>\n",
       "      <td>NaN</td>\n",
       "      <td>NaN</td>\n",
       "      <td>0.0</td>\n",
       "      <td>NaN</td>\n",
       "      <td>0.0</td>\n",
       "      <td>NaN</td>\n",
       "      <td>NaN</td>\n",
       "      <td>0.0</td>\n",
       "      <td>NaN</td>\n",
       "      <td>CID5390007</td>\n",
       "      <td>CCc1cccc2c1NC(=O)C21C2C(=O)N(Cc3ccccc3)C(=O)C2...</td>\n",
       "    </tr>\n",
       "    <tr>\n",
       "      <th>...</th>\n",
       "      <td>...</td>\n",
       "      <td>...</td>\n",
       "      <td>...</td>\n",
       "      <td>...</td>\n",
       "      <td>...</td>\n",
       "      <td>...</td>\n",
       "      <td>...</td>\n",
       "      <td>...</td>\n",
       "      <td>...</td>\n",
       "      <td>...</td>\n",
       "      <td>...</td>\n",
       "      <td>...</td>\n",
       "      <td>...</td>\n",
       "      <td>...</td>\n",
       "      <td>...</td>\n",
       "      <td>...</td>\n",
       "      <td>...</td>\n",
       "      <td>...</td>\n",
       "      <td>...</td>\n",
       "    </tr>\n",
       "    <tr>\n",
       "      <th>93082</th>\n",
       "      <td>NaN</td>\n",
       "      <td>NaN</td>\n",
       "      <td>NaN</td>\n",
       "      <td>NaN</td>\n",
       "      <td>NaN</td>\n",
       "      <td>NaN</td>\n",
       "      <td>NaN</td>\n",
       "      <td>NaN</td>\n",
       "      <td>NaN</td>\n",
       "      <td>NaN</td>\n",
       "      <td>NaN</td>\n",
       "      <td>NaN</td>\n",
       "      <td>NaN</td>\n",
       "      <td>0.0</td>\n",
       "      <td>NaN</td>\n",
       "      <td>NaN</td>\n",
       "      <td>NaN</td>\n",
       "      <td>CID2957283</td>\n",
       "      <td>O=C(NCc1ccccc1Cl)C1CCCO1</td>\n",
       "    </tr>\n",
       "    <tr>\n",
       "      <th>93083</th>\n",
       "      <td>NaN</td>\n",
       "      <td>NaN</td>\n",
       "      <td>NaN</td>\n",
       "      <td>NaN</td>\n",
       "      <td>NaN</td>\n",
       "      <td>NaN</td>\n",
       "      <td>NaN</td>\n",
       "      <td>0.0</td>\n",
       "      <td>NaN</td>\n",
       "      <td>NaN</td>\n",
       "      <td>NaN</td>\n",
       "      <td>NaN</td>\n",
       "      <td>NaN</td>\n",
       "      <td>NaN</td>\n",
       "      <td>NaN</td>\n",
       "      <td>NaN</td>\n",
       "      <td>NaN</td>\n",
       "      <td>CID414138</td>\n",
       "      <td>COc1cc(NCCCCCN2C(=O)c3ccccc3C2=O)c2ncccc2c1</td>\n",
       "    </tr>\n",
       "    <tr>\n",
       "      <th>93084</th>\n",
       "      <td>NaN</td>\n",
       "      <td>NaN</td>\n",
       "      <td>NaN</td>\n",
       "      <td>NaN</td>\n",
       "      <td>NaN</td>\n",
       "      <td>NaN</td>\n",
       "      <td>NaN</td>\n",
       "      <td>NaN</td>\n",
       "      <td>NaN</td>\n",
       "      <td>NaN</td>\n",
       "      <td>NaN</td>\n",
       "      <td>NaN</td>\n",
       "      <td>NaN</td>\n",
       "      <td>0.0</td>\n",
       "      <td>NaN</td>\n",
       "      <td>NaN</td>\n",
       "      <td>NaN</td>\n",
       "      <td>CID718652</td>\n",
       "      <td>CCN(CC)c1ccc(/C=C2/C(=O)ON=C2C)cc1</td>\n",
       "    </tr>\n",
       "    <tr>\n",
       "      <th>93085</th>\n",
       "      <td>NaN</td>\n",
       "      <td>NaN</td>\n",
       "      <td>NaN</td>\n",
       "      <td>NaN</td>\n",
       "      <td>NaN</td>\n",
       "      <td>NaN</td>\n",
       "      <td>NaN</td>\n",
       "      <td>NaN</td>\n",
       "      <td>NaN</td>\n",
       "      <td>NaN</td>\n",
       "      <td>NaN</td>\n",
       "      <td>NaN</td>\n",
       "      <td>NaN</td>\n",
       "      <td>NaN</td>\n",
       "      <td>0.0</td>\n",
       "      <td>NaN</td>\n",
       "      <td>NaN</td>\n",
       "      <td>CID2446949</td>\n",
       "      <td>Cc1cc(=O)oc2cc(OCC(=O)c3ccc4c(c3)NC(=O)CO4)ccc12</td>\n",
       "    </tr>\n",
       "    <tr>\n",
       "      <th>93086</th>\n",
       "      <td>NaN</td>\n",
       "      <td>NaN</td>\n",
       "      <td>NaN</td>\n",
       "      <td>NaN</td>\n",
       "      <td>NaN</td>\n",
       "      <td>NaN</td>\n",
       "      <td>NaN</td>\n",
       "      <td>NaN</td>\n",
       "      <td>NaN</td>\n",
       "      <td>NaN</td>\n",
       "      <td>NaN</td>\n",
       "      <td>NaN</td>\n",
       "      <td>NaN</td>\n",
       "      <td>NaN</td>\n",
       "      <td>0.0</td>\n",
       "      <td>NaN</td>\n",
       "      <td>NaN</td>\n",
       "      <td>CID844405</td>\n",
       "      <td>COc1ccc([N+](=O)[O-])cc1NC(=O)c1ccc(C)o1</td>\n",
       "    </tr>\n",
       "  </tbody>\n",
       "</table>\n",
       "<p>78246 rows × 19 columns</p>\n",
       "</div>"
      ],
      "text/plain": [
       "       MUV-466  MUV-548  MUV-600  MUV-644  MUV-652  MUV-689  MUV-692  MUV-712  \\\n",
       "0          NaN      NaN      NaN      NaN      NaN      NaN      NaN      0.0   \n",
       "2          NaN      NaN      0.0      NaN      NaN      NaN      NaN      NaN   \n",
       "3          NaN      0.0      0.0      NaN      NaN      0.0      NaN      NaN   \n",
       "5          NaN      NaN      NaN      NaN      NaN      NaN      0.0      NaN   \n",
       "6          NaN      NaN      0.0      0.0      NaN      NaN      NaN      0.0   \n",
       "...        ...      ...      ...      ...      ...      ...      ...      ...   \n",
       "93082      NaN      NaN      NaN      NaN      NaN      NaN      NaN      NaN   \n",
       "93083      NaN      NaN      NaN      NaN      NaN      NaN      NaN      0.0   \n",
       "93084      NaN      NaN      NaN      NaN      NaN      NaN      NaN      NaN   \n",
       "93085      NaN      NaN      NaN      NaN      NaN      NaN      NaN      NaN   \n",
       "93086      NaN      NaN      NaN      NaN      NaN      NaN      NaN      NaN   \n",
       "\n",
       "       MUV-713  MUV-733  MUV-737  MUV-810  MUV-832  MUV-846  MUV-852  MUV-858  \\\n",
       "0          NaN      NaN      NaN      0.0      NaN      NaN      NaN      NaN   \n",
       "2          NaN      NaN      NaN      NaN      NaN      NaN      NaN      NaN   \n",
       "3          NaN      NaN      NaN      NaN      NaN      NaN      NaN      0.0   \n",
       "5          0.0      0.0      NaN      NaN      NaN      NaN      NaN      0.0   \n",
       "6          NaN      NaN      0.0      NaN      0.0      NaN      NaN      0.0   \n",
       "...        ...      ...      ...      ...      ...      ...      ...      ...   \n",
       "93082      NaN      NaN      NaN      NaN      NaN      0.0      NaN      NaN   \n",
       "93083      NaN      NaN      NaN      NaN      NaN      NaN      NaN      NaN   \n",
       "93084      NaN      NaN      NaN      NaN      NaN      0.0      NaN      NaN   \n",
       "93085      NaN      NaN      NaN      NaN      NaN      NaN      0.0      NaN   \n",
       "93086      NaN      NaN      NaN      NaN      NaN      NaN      0.0      NaN   \n",
       "\n",
       "       MUV-859      mol_id                                             smiles  \n",
       "0          NaN  CID2999678    Cc1cccc(N2CCN(C(=O)C34CC5CC(CC(C5)C3)C4)CC2)c1C  \n",
       "2          0.0  CID2999672  COc1cc2c(cc1NC(=O)CN1C(=O)NC3(CCc4ccccc43)C1=O...  \n",
       "3          NaN  CID5390002  O=C1/C(=C/NC2CCS(=O)(=O)C2)c2ccccc2C(=O)N1c1cc...  \n",
       "5          NaN  CID2999671                CCn1c(CSc2nccn2C)nc2cc(C(=O)O)ccc21  \n",
       "6          NaN  CID5390007  CCc1cccc2c1NC(=O)C21C2C(=O)N(Cc3ccccc3)C(=O)C2...  \n",
       "...        ...         ...                                                ...  \n",
       "93082      NaN  CID2957283                           O=C(NCc1ccccc1Cl)C1CCCO1  \n",
       "93083      NaN   CID414138        COc1cc(NCCCCCN2C(=O)c3ccccc3C2=O)c2ncccc2c1  \n",
       "93084      NaN   CID718652                 CCN(CC)c1ccc(/C=C2/C(=O)ON=C2C)cc1  \n",
       "93085      NaN  CID2446949   Cc1cc(=O)oc2cc(OCC(=O)c3ccc4c(c3)NC(=O)CO4)ccc12  \n",
       "93086      NaN   CID844405           COc1ccc([N+](=O)[O-])cc1NC(=O)c1ccc(C)o1  \n",
       "\n",
       "[78246 rows x 19 columns]"
      ]
     },
     "metadata": {},
     "output_type": "display_data"
    }
   ],
   "source": [
    "# check for missing values (i.e. NA values)\n",
    "\n",
    "print(\"Missing: \", len(dataframe[dataframe[target].isnull()]))\n",
    "display(dataframe[dataframe['smiles'].isnull()])\n",
    "display(dataframe[dataframe['mol_id'].isnull()])\n",
    "display(dataframe[dataframe[target].isnull()])\n"
   ]
  },
  {
   "cell_type": "code",
   "execution_count": 182,
   "metadata": {},
   "outputs": [],
   "source": [
    "# remove rows corresponding to NaNs for target variable\n",
    "\n",
    "NaN_indices = dataframe[dataframe[target].isnull()].index\n",
    "dataframe = dataframe.drop(NaN_indices)"
   ]
  },
  {
   "cell_type": "code",
   "execution_count": 183,
   "metadata": {
    "colab": {},
    "colab_type": "code",
    "id": "oFu7W-IlSEaN"
   },
   "outputs": [
    {
     "name": "stdout",
     "output_type": "stream",
     "text": [
      "14841\n"
     ]
    }
   ],
   "source": [
    "# filter out Smiles which produce error messages in rdkit\n",
    "\n",
    "bad_smiles = []\n",
    "\n",
    "for k in range(len(dataframe[\"smiles\"].values)):\n",
    "\n",
    "    smiles = dataframe[\"smiles\"].values[k]\n",
    "    \n",
    "    sio = sys.stderr = StringIO()\n",
    "    Chem.MolFromSmiles(smiles)\n",
    "    error_message = sio.getvalue()\n",
    "    \n",
    "    if error_message != \"\" and error_message[0:13] != \"RDKit WARNING\":\n",
    "        #print(k)\n",
    "        #print(error_message)\n",
    "        #print(smiles, \"\\n \\n \\n \\n\")\n",
    "        bad_smiles.append(smiles)\n",
    "\n",
    "dataframe = dataframe[dataframe[\"smiles\"].isin(bad_smiles) == False]\n",
    "\n",
    "print(len(dataframe))"
   ]
  },
  {
   "cell_type": "code",
   "execution_count": 184,
   "metadata": {},
   "outputs": [
    {
     "name": "stdout",
     "output_type": "stream",
     "text": [
      "N_positive =  27\n",
      "N_negative =  14814\n",
      "Total fraction of positives =  0.0018192844147968466\n"
     ]
    }
   ],
   "source": [
    "# compute number of positive and negative instances\n",
    "\n",
    "N_positive = int(np.sum(dataframe[target].values))\n",
    "N_negative = len(dataframe[target]) - N_positive\n",
    "\n",
    "print(\"N_positive = \", N_positive)\n",
    "print(\"N_negative = \", N_negative)\n",
    "print(\"Total fraction of positives = \", N_positive/(N_positive + N_negative))"
   ]
  },
  {
   "cell_type": "code",
   "execution_count": 84,
   "metadata": {
    "colab": {},
    "colab_type": "code",
    "executionInfo": {
     "elapsed": 645,
     "status": "ok",
     "timestamp": 1599869440512,
     "user": {
      "displayName": "Markus Dablander",
      "photoUrl": "",
      "userId": "13467664559539683865"
     },
     "user_tz": -120
    },
    "id": "X2XcwuHnSEaT"
   },
   "outputs": [
    {
     "name": "stdout",
     "output_type": "stream",
     "text": [
      "N_negative_delete =  14787\n"
     ]
    }
   ],
   "source": [
    "# create balanced data set by undersampling the larger class so that number of molecules becomes exactly the same in each class\n",
    "\n",
    "if N_positive < N_negative:\n",
    "    N_negative_delete = len(dataframe[target].values) - 2*len(dataframe[dataframe[target] == 1].values)\n",
    "    dataframe = dataframe.drop(dataframe[dataframe[target] == 0].sample(n = N_negative_delete, random_state = 42).index)\n",
    "    print(\"N_negative_delete = \", N_negative_delete)\n",
    "    \n",
    "if N_positive > N_negative:\n",
    "    N_positive_delete = len(dataframe[target].values) - 2*len(dataframe[dataframe[target] == 0].values)\n",
    "    dataframe = dataframe.drop(dataframe[dataframe[target] == 1].sample(n = N_positive_delete, random_state = 42).index)\n",
    "    print(\"N_positive_delete = \", N_positive_delete)\n",
    "    "
   ]
  },
  {
   "cell_type": "code",
   "execution_count": 85,
   "metadata": {},
   "outputs": [
    {
     "name": "stdout",
     "output_type": "stream",
     "text": [
      "Number of Molecules =  54\n"
     ]
    }
   ],
   "source": [
    "# define number of molecules\n",
    "\n",
    "N_molecules = len(dataframe[target].values)\n",
    "\n",
    "print(\"Number of Molecules = \", N_molecules)"
   ]
  },
  {
   "cell_type": "code",
   "execution_count": 86,
   "metadata": {
    "colab": {
     "base_uri": "https://localhost:8080/",
     "height": 90
    },
    "colab_type": "code",
    "executionInfo": {
     "elapsed": 771,
     "status": "ok",
     "timestamp": 1599869443976,
     "user": {
      "displayName": "Markus Dablander",
      "photoUrl": "",
      "userId": "13467664559539683865"
     },
     "user_tz": -120
    },
    "id": "M1aIBqplSEaq",
    "outputId": "d9c43474-c7b7-4622-da65-6ebe36c9c3a1"
   },
   "outputs": [
    {
     "name": "stdout",
     "output_type": "stream",
     "text": [
      "Number of Positives =  27\n",
      "Fraction of Positives =  0.5\n",
      "Shape of y =  (54,)\n",
      "Shape of Y =  (54, 1)\n",
      "\n",
      " y =  [0 1 0 0 0 1 1 0 1 1 1 0 1 0 1 1 0 1 0 0 0 0 1 0 1 0 0 1 1 0 1 1 0 1 1 1 1\n",
      " 0 0 0 0 0 0 1 1 1 0 0 1 1 0 1 0 1]\n"
     ]
    }
   ],
   "source": [
    "# construct target variable y/Y (hERG inhibition)\n",
    "\n",
    "# extract labels\n",
    "y = dataframe.loc[:,target].values.astype(int)\n",
    "Y = np.reshape(y, (len(y), 1))\n",
    "\n",
    "print(\"Number of Positives = \", np.sum(y))\n",
    "print(\"Fraction of Positives = \", np.sum(y)/N_molecules)\n",
    "\n",
    "\n",
    "print(\"Shape of y = \", y.shape)\n",
    "print(\"Shape of Y = \", Y.shape)\n",
    "\n",
    "print(\"\\n y = \", y)\n"
   ]
  },
  {
   "cell_type": "code",
   "execution_count": 87,
   "metadata": {
    "colab": {
     "base_uri": "https://localhost:8080/",
     "height": 222
    },
    "colab_type": "code",
    "executionInfo": {
     "elapsed": 444,
     "status": "ok",
     "timestamp": 1599869444377,
     "user": {
      "displayName": "Markus Dablander",
      "photoUrl": "",
      "userId": "13467664559539683865"
     },
     "user_tz": -120
    },
    "id": "PB82_jFUSEav",
    "outputId": "f151bbf0-8894-45c1-bd95-e747bc7c74b5"
   },
   "outputs": [
    {
     "name": "stdout",
     "output_type": "stream",
     "text": [
      "                  Smiles String\n",
      "CN(C)c1oc(-c2ccc(OCc3ccc(Cl)cc3)cc2)nc1C#N\n"
     ]
    },
    {
     "data": {
      "image/png": "[encoded data removed]",
      "text/plain": [
       "<rdkit.Chem.rdchem.Mol at 0x7fee0c151030>"
      ]
     },
     "metadata": {},
     "output_type": "display_data"
    },
    {
     "name": "stdout",
     "output_type": "stream",
     "text": [
      "Shape of x_smiles =  (54,)\n",
      "Shape of X_smiles =  (54, 1)\n",
      "\n",
      " x_smiles =  ['CN(C)c1oc(-c2ccc(OCc3ccc(Cl)cc3)cc2)nc1C#N'\n",
      " 'CCOc1ccc(C(=O)Nc2c(C(N)=O)oc3ccccc23)cc1'\n",
      " 'Cc1[nH]n(-c2ccccc2)c(=O)c1-c1ccccc1'\n",
      " 'Cc1c(Cl)cccc1N(CC(=O)NC1CCCCC1)S(C)(=O)=O'\n",
      " 'COc1cccc(OC)c1-c1nnc(-c2cn(C)c3ccccc23)o1'\n",
      " 'CCCC(=O)Nc1ccc2oc(-c3ccc(OC)c(Br)c3)nc2c1'\n",
      " 'O=C(CSc1nnc(Cn2nnc3ccccc32)o1)N(Cc1ccc(F)cc1)c1ccccc1'\n",
      " 'Cn1c(=O)[nH]c(=O)c2c1nc(Br)n2CCCO' 'Cc1ccc(OCc2nc(-c3ccccc3)no2)c(C)c1'\n",
      " 'COc1ccccc1-c1cc(C(=O)Nc2ccccc2SC)no1']\n"
     ]
    }
   ],
   "source": [
    "# extract Smiles strings\n",
    "\n",
    "X_smiles = np.reshape(dataframe[\"smiles\"].values, (N_molecules, 1))\n",
    "x_smiles = X_smiles[:,0]\n",
    "\n",
    "print(\"                  Smiles String\")\n",
    "print(X_smiles[0:1][0][0])\n",
    "\n",
    "for s in x_smiles[0:1]:\n",
    "    molecule = Chem.MolFromSmiles(s)\n",
    "    display(molecule)\n",
    "    \n",
    "print(\"Shape of x_smiles = \", x_smiles.shape)\n",
    "print(\"Shape of X_smiles = \", X_smiles.shape)\n",
    "\n",
    "print(\"\\n x_smiles = \", x_smiles[0:10])"
   ]
  },
  {
   "cell_type": "markdown",
   "metadata": {
    "collapsed": "true"
   },
   "source": [
    "## Prepare Data: Benchmark_Paper_2018_hERG_T2"
   ]
  },
  {
   "cell_type": "code",
   "execution_count": 193,
   "metadata": {
    "colab": {
     "base_uri": "https://localhost:8080/",
     "height": 225
    },
    "colab_type": "code",
    "executionInfo": {
     "elapsed": 429,
     "status": "ok",
     "timestamp": 1599869437487,
     "user": {
      "displayName": "Markus Dablander",
      "photoUrl": "",
      "userId": "13467664559539683865"
     },
     "user_tz": -120
    },
    "id": "FpdNzlmISEaA",
    "outputId": "c37aae09-ccfe-4f8a-dccc-6006309b2074"
   },
   "outputs": [
    {
     "name": "stdout",
     "output_type": "stream",
     "text": [
      "Number of Molecules =  5804\n"
     ]
    },
    {
     "data": {
      "text/html": [
       "<div>\n",
       "<style scoped>\n",
       "    .dataframe tbody tr th:only-of-type {\n",
       "        vertical-align: middle;\n",
       "    }\n",
       "\n",
       "    .dataframe tbody tr th {\n",
       "        vertical-align: top;\n",
       "    }\n",
       "\n",
       "    .dataframe thead th {\n",
       "        text-align: right;\n",
       "    }\n",
       "</style>\n",
       "<table border=\"1\" class=\"dataframe\">\n",
       "  <thead>\n",
       "    <tr style=\"text-align: right;\">\n",
       "      <th></th>\n",
       "      <th>id</th>\n",
       "      <th>can_smiles</th>\n",
       "      <th>ac</th>\n",
       "    </tr>\n",
       "  </thead>\n",
       "  <tbody>\n",
       "    <tr>\n",
       "      <th>0</th>\n",
       "      <td>CHEMBL410234</td>\n",
       "      <td>Cc1cc(C)n(-c2cc(NC(=O)CCN(C)C)nc(-c3ccc(C)o3)n...</td>\n",
       "      <td>1</td>\n",
       "    </tr>\n",
       "    <tr>\n",
       "      <th>1</th>\n",
       "      <td>CHEMBL3609637</td>\n",
       "      <td>COc1cc(-c2cn(C3CCc4c(F)cccc4N(CC(F)(F)F)C3=O)n...</td>\n",
       "      <td>1</td>\n",
       "    </tr>\n",
       "    <tr>\n",
       "      <th>2</th>\n",
       "      <td>CHEMBL3609749</td>\n",
       "      <td>COc1cc(-c2cn(C3CCc4c(F)cccc4N(CC(F)(F)F)C3=O)n...</td>\n",
       "      <td>1</td>\n",
       "    </tr>\n",
       "    <tr>\n",
       "      <th>3</th>\n",
       "      <td>CHEMBL1080117</td>\n",
       "      <td>Cc1ccc2c(-c3nnc(SCCCN4CC5CC5(c5ccc(Cl)cc5)C4)n...</td>\n",
       "      <td>1</td>\n",
       "    </tr>\n",
       "    <tr>\n",
       "      <th>4</th>\n",
       "      <td>CHEMBL488069</td>\n",
       "      <td>CN(C)Cc1ccc(C(F)(F)F)cc1Oc1ccc(Cl)c(Cl)c1</td>\n",
       "      <td>1</td>\n",
       "    </tr>\n",
       "    <tr>\n",
       "      <th>...</th>\n",
       "      <td>...</td>\n",
       "      <td>...</td>\n",
       "      <td>...</td>\n",
       "    </tr>\n",
       "    <tr>\n",
       "      <th>5799</th>\n",
       "      <td>CHEMBL247690</td>\n",
       "      <td>O=C(NC1CCN(Cc2ccc(OCCCN3CCOCC3)c(F)c2)CC1)c1cc...</td>\n",
       "      <td>0</td>\n",
       "    </tr>\n",
       "    <tr>\n",
       "      <th>5800</th>\n",
       "      <td>CHEMBL2314058</td>\n",
       "      <td>O=C(N1CCc2ncc(C(F)(F)F)cc2C1)C12CCCC1CC(NC1CCC...</td>\n",
       "      <td>0</td>\n",
       "    </tr>\n",
       "    <tr>\n",
       "      <th>5801</th>\n",
       "      <td>CHEMBL2348780</td>\n",
       "      <td>CC1CC2C3CCC4=CC(=O)C=CC4(C)C3=CCC2(C)C1(O)C(=O)CO</td>\n",
       "      <td>0</td>\n",
       "    </tr>\n",
       "    <tr>\n",
       "      <th>5802</th>\n",
       "      <td>CHEMBL384111</td>\n",
       "      <td>O=C(NC1CCN(C2CCc3cc4oc(=O)[nH]c4cc32)CC1)c1cc(...</td>\n",
       "      <td>0</td>\n",
       "    </tr>\n",
       "    <tr>\n",
       "      <th>5803</th>\n",
       "      <td>CHEMBL657</td>\n",
       "      <td>CN(C)CCOC(c1ccccc1)c1ccccc1</td>\n",
       "      <td>0</td>\n",
       "    </tr>\n",
       "  </tbody>\n",
       "</table>\n",
       "<p>5804 rows × 3 columns</p>\n",
       "</div>"
      ],
      "text/plain": [
       "                 id                                         can_smiles  ac\n",
       "0      CHEMBL410234  Cc1cc(C)n(-c2cc(NC(=O)CCN(C)C)nc(-c3ccc(C)o3)n...   1\n",
       "1     CHEMBL3609637  COc1cc(-c2cn(C3CCc4c(F)cccc4N(CC(F)(F)F)C3=O)n...   1\n",
       "2     CHEMBL3609749  COc1cc(-c2cn(C3CCc4c(F)cccc4N(CC(F)(F)F)C3=O)n...   1\n",
       "3     CHEMBL1080117  Cc1ccc2c(-c3nnc(SCCCN4CC5CC5(c5ccc(Cl)cc5)C4)n...   1\n",
       "4      CHEMBL488069          CN(C)Cc1ccc(C(F)(F)F)cc1Oc1ccc(Cl)c(Cl)c1   1\n",
       "...             ...                                                ...  ..\n",
       "5799   CHEMBL247690  O=C(NC1CCN(Cc2ccc(OCCCN3CCOCC3)c(F)c2)CC1)c1cc...   0\n",
       "5800  CHEMBL2314058  O=C(N1CCc2ncc(C(F)(F)F)cc2C1)C12CCCC1CC(NC1CCC...   0\n",
       "5801  CHEMBL2348780  CC1CC2C3CCC4=CC(=O)C=CC4(C)C3=CCC2(C)C1(O)C(=O)CO   0\n",
       "5802   CHEMBL384111  O=C(NC1CCN(C2CCc3cc4oc(=O)[nH]c4cc32)CC1)c1cc(...   0\n",
       "5803      CHEMBL657                        CN(C)CCOC(c1ccccc1)c1ccccc1   0\n",
       "\n",
       "[5804 rows x 3 columns]"
      ]
     },
     "metadata": {},
     "output_type": "display_data"
    }
   ],
   "source": [
    "# import data\n",
    "\n",
    "dataframe = pd.read_csv(\"data/Benchmark_Paper_2018_hERG/datasets/training/chembl_training_T2.csv\")\n",
    "\n",
    "print(\"Number of Molecules = \", len(dataframe))\n",
    "display(dataframe)"
   ]
  },
  {
   "cell_type": "code",
   "execution_count": 194,
   "metadata": {
    "colab": {
     "base_uri": "https://localhost:8080/",
     "height": 276
    },
    "colab_type": "code",
    "executionInfo": {
     "elapsed": 2024,
     "status": "ok",
     "timestamp": 1599858873012,
     "user": {
      "displayName": "Markus Dablander",
      "photoUrl": "",
      "userId": "13467664559539683865"
     },
     "user_tz": -120
    },
    "id": "BIm1m_9NSEaG",
    "outputId": "b8cea951-b524-4fc0-c760-db6be2b78673"
   },
   "outputs": [
    {
     "data": {
      "text/html": [
       "<div>\n",
       "<style scoped>\n",
       "    .dataframe tbody tr th:only-of-type {\n",
       "        vertical-align: middle;\n",
       "    }\n",
       "\n",
       "    .dataframe tbody tr th {\n",
       "        vertical-align: top;\n",
       "    }\n",
       "\n",
       "    .dataframe thead th {\n",
       "        text-align: right;\n",
       "    }\n",
       "</style>\n",
       "<table border=\"1\" class=\"dataframe\">\n",
       "  <thead>\n",
       "    <tr style=\"text-align: right;\">\n",
       "      <th></th>\n",
       "      <th>id</th>\n",
       "      <th>can_smiles</th>\n",
       "      <th>ac</th>\n",
       "    </tr>\n",
       "  </thead>\n",
       "  <tbody>\n",
       "  </tbody>\n",
       "</table>\n",
       "</div>"
      ],
      "text/plain": [
       "Empty DataFrame\n",
       "Columns: [id, can_smiles, ac]\n",
       "Index: []"
      ]
     },
     "metadata": {},
     "output_type": "display_data"
    },
    {
     "data": {
      "text/html": [
       "<div>\n",
       "<style scoped>\n",
       "    .dataframe tbody tr th:only-of-type {\n",
       "        vertical-align: middle;\n",
       "    }\n",
       "\n",
       "    .dataframe tbody tr th {\n",
       "        vertical-align: top;\n",
       "    }\n",
       "\n",
       "    .dataframe thead th {\n",
       "        text-align: right;\n",
       "    }\n",
       "</style>\n",
       "<table border=\"1\" class=\"dataframe\">\n",
       "  <thead>\n",
       "    <tr style=\"text-align: right;\">\n",
       "      <th></th>\n",
       "      <th>id</th>\n",
       "      <th>can_smiles</th>\n",
       "      <th>ac</th>\n",
       "    </tr>\n",
       "  </thead>\n",
       "  <tbody>\n",
       "  </tbody>\n",
       "</table>\n",
       "</div>"
      ],
      "text/plain": [
       "Empty DataFrame\n",
       "Columns: [id, can_smiles, ac]\n",
       "Index: []"
      ]
     },
     "metadata": {},
     "output_type": "display_data"
    },
    {
     "data": {
      "text/html": [
       "<div>\n",
       "<style scoped>\n",
       "    .dataframe tbody tr th:only-of-type {\n",
       "        vertical-align: middle;\n",
       "    }\n",
       "\n",
       "    .dataframe tbody tr th {\n",
       "        vertical-align: top;\n",
       "    }\n",
       "\n",
       "    .dataframe thead th {\n",
       "        text-align: right;\n",
       "    }\n",
       "</style>\n",
       "<table border=\"1\" class=\"dataframe\">\n",
       "  <thead>\n",
       "    <tr style=\"text-align: right;\">\n",
       "      <th></th>\n",
       "      <th>id</th>\n",
       "      <th>can_smiles</th>\n",
       "      <th>ac</th>\n",
       "    </tr>\n",
       "  </thead>\n",
       "  <tbody>\n",
       "  </tbody>\n",
       "</table>\n",
       "</div>"
      ],
      "text/plain": [
       "Empty DataFrame\n",
       "Columns: [id, can_smiles, ac]\n",
       "Index: []"
      ]
     },
     "metadata": {},
     "output_type": "display_data"
    }
   ],
   "source": [
    "# check for missing values (i.e. NA values)\n",
    "\n",
    "display(dataframe[dataframe['id'].isnull()])\n",
    "display(dataframe[dataframe['can_smiles'].isnull()])\n",
    "display(dataframe[dataframe['ac'].isnull()])"
   ]
  },
  {
   "cell_type": "code",
   "execution_count": 195,
   "metadata": {
    "colab": {},
    "colab_type": "code",
    "id": "oFu7W-IlSEaN"
   },
   "outputs": [
    {
     "name": "stdout",
     "output_type": "stream",
     "text": [
      "5804\n"
     ]
    }
   ],
   "source": [
    "# filter out Smiles which produce error messages in rdkit\n",
    "\n",
    "bad_smiles = []\n",
    "\n",
    "for k in range(len(dataframe[\"can_smiles\"].values)):\n",
    "\n",
    "    smiles = dataframe[\"can_smiles\"].values[k]\n",
    "    \n",
    "    sio = sys.stderr = StringIO()\n",
    "    Chem.MolFromSmiles(smiles)\n",
    "    error_message = sio.getvalue()\n",
    "    \n",
    "    if error_message != \"\" and error_message[0:13] != \"RDKit WARNING\":\n",
    "        #print(error_message)\n",
    "        #print(smiles, \"\\n \\n \\n \\n\")\n",
    "        bad_smiles.append(smiles)\n",
    "\n",
    "dataframe = dataframe[dataframe[\"can_smiles\"].isin(bad_smiles) == False]\n",
    "\n",
    "print(len(dataframe))"
   ]
  },
  {
   "cell_type": "code",
   "execution_count": 196,
   "metadata": {},
   "outputs": [
    {
     "name": "stdout",
     "output_type": "stream",
     "text": [
      "N_positive =  4096\n",
      "N_negative =  1708\n",
      "Total fraction of positives =  0.7057201929703653\n"
     ]
    }
   ],
   "source": [
    "# compute number of positive and negative instances\n",
    "\n",
    "N_positive = int(np.sum(dataframe[\"ac\"].values))\n",
    "N_negative = len(dataframe[\"ac\"]) - N_positive\n",
    "\n",
    "print(\"N_positive = \", N_positive)\n",
    "print(\"N_negative = \", N_negative)\n",
    "print(\"Total fraction of positives = \", N_positive/(N_positive + N_negative))"
   ]
  },
  {
   "cell_type": "code",
   "execution_count": 92,
   "metadata": {
    "colab": {},
    "colab_type": "code",
    "executionInfo": {
     "elapsed": 645,
     "status": "ok",
     "timestamp": 1599869440512,
     "user": {
      "displayName": "Markus Dablander",
      "photoUrl": "",
      "userId": "13467664559539683865"
     },
     "user_tz": -120
    },
    "id": "X2XcwuHnSEaT"
   },
   "outputs": [
    {
     "name": "stdout",
     "output_type": "stream",
     "text": [
      "N_positive_delete =  2388\n"
     ]
    }
   ],
   "source": [
    "# create balanced data set by undersampling the positive class so that number of molecules becomes exactly the same in each class\n",
    "\n",
    "N_positive_delete = len(dataframe[\"ac\"].values) - 2*len(dataframe[dataframe[\"ac\"] == 0].values)\n",
    "\n",
    "dataframe = dataframe.drop(dataframe[dataframe[\"ac\"] == 1].sample(n = N_positive_delete, random_state = 42).index)\n",
    "\n",
    "print(\"N_positive_delete = \", N_positive_delete)"
   ]
  },
  {
   "cell_type": "code",
   "execution_count": 93,
   "metadata": {},
   "outputs": [
    {
     "name": "stdout",
     "output_type": "stream",
     "text": [
      "Number of Molecules =  3416\n"
     ]
    }
   ],
   "source": [
    "# define number of molecules\n",
    "\n",
    "N_molecules = len(dataframe[\"can_smiles\"].values)\n",
    "\n",
    "print(\"Number of Molecules = \", N_molecules)"
   ]
  },
  {
   "cell_type": "code",
   "execution_count": 94,
   "metadata": {
    "colab": {
     "base_uri": "https://localhost:8080/",
     "height": 90
    },
    "colab_type": "code",
    "executionInfo": {
     "elapsed": 771,
     "status": "ok",
     "timestamp": 1599869443976,
     "user": {
      "displayName": "Markus Dablander",
      "photoUrl": "",
      "userId": "13467664559539683865"
     },
     "user_tz": -120
    },
    "id": "M1aIBqplSEaq",
    "outputId": "d9c43474-c7b7-4622-da65-6ebe36c9c3a1"
   },
   "outputs": [
    {
     "name": "stdout",
     "output_type": "stream",
     "text": [
      "Number of Positives =  1708\n",
      "Fraction of Positives =  0.5\n",
      "Shape of y =  (3416,)\n",
      "Shape of Y =  (3416, 1)\n",
      "\n",
      " y =  [1 1 1 ... 0 0 0]\n"
     ]
    }
   ],
   "source": [
    "# construct target variable y/Y (hERG inhibition)\n",
    "\n",
    "# extract labels\n",
    "y = dataframe.loc[:,\"ac\"].values\n",
    "Y = np.reshape(y, (len(y), 1))\n",
    "\n",
    "print(\"Number of Positives = \", np.sum(y))\n",
    "print(\"Fraction of Positives = \", np.sum(y)/N_molecules)\n",
    "\n",
    "\n",
    "print(\"Shape of y = \", y.shape)\n",
    "print(\"Shape of Y = \", Y.shape)\n",
    "\n",
    "print(\"\\n y = \", y)\n"
   ]
  },
  {
   "cell_type": "code",
   "execution_count": 95,
   "metadata": {
    "colab": {
     "base_uri": "https://localhost:8080/",
     "height": 222
    },
    "colab_type": "code",
    "executionInfo": {
     "elapsed": 444,
     "status": "ok",
     "timestamp": 1599869444377,
     "user": {
      "displayName": "Markus Dablander",
      "photoUrl": "",
      "userId": "13467664559539683865"
     },
     "user_tz": -120
    },
    "id": "PB82_jFUSEav",
    "outputId": "f151bbf0-8894-45c1-bd95-e747bc7c74b5"
   },
   "outputs": [
    {
     "name": "stdout",
     "output_type": "stream",
     "text": [
      "                  Smiles String\n",
      "COc1cc(-c2cn(C3CCc4c(F)cccc4N(CC(F)(F)F)C3=O)nn2)ccc1-n1cnc(C)c1\n"
     ]
    },
    {
     "data": {
      "image/png": "[encoded data removed]",
      "text/plain": [
       "<rdkit.Chem.rdchem.Mol at 0x7fee0c0d6670>"
      ]
     },
     "metadata": {},
     "output_type": "display_data"
    },
    {
     "name": "stdout",
     "output_type": "stream",
     "text": [
      "Shape of x_smiles =  (3416,)\n",
      "Shape of X_smiles =  (3416, 1)\n",
      "\n",
      " x_smiles =  ['COc1cc(-c2cn(C3CCc4c(F)cccc4N(CC(F)(F)F)C3=O)nn2)ccc1-n1cnc(C)c1'\n",
      " 'COc1cc(-c2cn(C3CCc4c(F)cccc4N(CC(F)(F)F)C3=O)nn2)ccc1-n1cnc(C)c1'\n",
      " 'Cc1ccc2c(-c3nnc(SCCCN4CC5CC5(c5ccc(Cl)cc5)C4)n3C)cccc2n1'\n",
      " 'CN(C)Cc1ccc(C(F)(F)F)cc1Oc1ccc(Cl)c(Cl)c1'\n",
      " 'CCCN1C(=O)CC2(CCN(CC3CCN(C(=O)OCC)CC3)CC2)c2cccnc21'\n",
      " 'Cc1nc(C)c(-c2ccc3cc(CCN4CCCC4C)ccc3n2)cc1C#N'\n",
      " 'COc1nccnc1C(C)C1=C(CCN(C)C)Cc2cc(F)ccc21'\n",
      " 'O=C(NC(c1ccc(Cl)cc1)c1ccnc(F)c1)C1CCC(N2CCOCC2)CC1c1ccc(Br)cc1'\n",
      " 'O=C1CCc2ccc(F)cc2N1CCCN1CCC(n2c(=O)[nH]c3ccccc32)CC1'\n",
      " 'COc1cc(/C=C/c2nc(NCc3ccccc3)c3c4c(sc3n2)CCC4)ccc1-n1cnc(C)c1']\n"
     ]
    }
   ],
   "source": [
    "# extract Smiles strings\n",
    "\n",
    "X_smiles = np.reshape(dataframe[\"can_smiles\"].values, (N_molecules, 1))\n",
    "x_smiles = X_smiles[:,0]\n",
    "\n",
    "print(\"                  Smiles String\")\n",
    "print(X_smiles[0:1][0][0])\n",
    "\n",
    "for s in x_smiles[0:1]:\n",
    "    molecule = Chem.MolFromSmiles(s)\n",
    "    display(molecule)\n",
    "    \n",
    "print(\"Shape of x_smiles = \", x_smiles.shape)\n",
    "print(\"Shape of X_smiles = \", X_smiles.shape)\n",
    "\n",
    "print(\"\\n x_smiles = \", x_smiles[0:10])"
   ]
  },
  {
   "cell_type": "markdown",
   "metadata": {
    "collapsed": "true"
   },
   "source": [
    "## Prepare Data: Benchmark_Paper_2009_Ames_Mutagenicity"
   ]
  },
  {
   "cell_type": "code",
   "execution_count": 201,
   "metadata": {
    "colab": {
     "base_uri": "https://localhost:8080/",
     "height": 225
    },
    "colab_type": "code",
    "executionInfo": {
     "elapsed": 429,
     "status": "ok",
     "timestamp": 1599869437487,
     "user": {
      "displayName": "Markus Dablander",
      "photoUrl": "",
      "userId": "13467664559539683865"
     },
     "user_tz": -120
    },
    "id": "FpdNzlmISEaA",
    "outputId": "c37aae09-ccfe-4f8a-dccc-6006309b2074"
   },
   "outputs": [
    {
     "name": "stdout",
     "output_type": "stream",
     "text": [
      "Number of Molecules =  6512\n"
     ]
    },
    {
     "data": {
      "text/html": [
       "<div>\n",
       "<style scoped>\n",
       "    .dataframe tbody tr th:only-of-type {\n",
       "        vertical-align: middle;\n",
       "    }\n",
       "\n",
       "    .dataframe tbody tr th {\n",
       "        vertical-align: top;\n",
       "    }\n",
       "\n",
       "    .dataframe thead th {\n",
       "        text-align: right;\n",
       "    }\n",
       "</style>\n",
       "<table border=\"1\" class=\"dataframe\">\n",
       "  <thead>\n",
       "    <tr style=\"text-align: right;\">\n",
       "      <th></th>\n",
       "      <th>CAS_NO</th>\n",
       "      <th>Source</th>\n",
       "      <th>Activity</th>\n",
       "      <th>Steroid</th>\n",
       "      <th>WDI</th>\n",
       "      <th>Canonical_Smiles</th>\n",
       "      <th>REFERENCE</th>\n",
       "    </tr>\n",
       "  </thead>\n",
       "  <tbody>\n",
       "    <tr>\n",
       "      <th>0</th>\n",
       "      <td>2475-33-4</td>\n",
       "      <td>VITIC</td>\n",
       "      <td>0</td>\n",
       "      <td>-1</td>\n",
       "      <td>NaN</td>\n",
       "      <td>O=C1c2ccccc2C(=O)c3c1ccc4c3[nH]c5c6C(=O)c7cccc...</td>\n",
       "      <td>JUDSON, PN, COOKE, PA, DOERRER, NG, GREENE, N,...</td>\n",
       "    </tr>\n",
       "    <tr>\n",
       "      <th>1</th>\n",
       "      <td>820-75-7</td>\n",
       "      <td>CCRIS</td>\n",
       "      <td>1</td>\n",
       "      <td>-1</td>\n",
       "      <td>NaN</td>\n",
       "      <td>NNC(=O)CNC(=O)C=N#N</td>\n",
       "      <td>MCCANN,J, CHOI,E, YAMASAKI,E AND AMES,BN, DETE...</td>\n",
       "    </tr>\n",
       "    <tr>\n",
       "      <th>2</th>\n",
       "      <td>2435-76-9</td>\n",
       "      <td>CCRIS</td>\n",
       "      <td>1</td>\n",
       "      <td>-1</td>\n",
       "      <td>NaN</td>\n",
       "      <td>[N-]=[N+]=C1C=NC(=O)NC1=O</td>\n",
       "      <td>HIRAMOTO,K, KATO,T AND KIKUGAWA,K, MECHANISMS ...</td>\n",
       "    </tr>\n",
       "    <tr>\n",
       "      <th>3</th>\n",
       "      <td>817-99-2</td>\n",
       "      <td>CCRIS</td>\n",
       "      <td>1</td>\n",
       "      <td>-1</td>\n",
       "      <td>NaN</td>\n",
       "      <td>C(C(=O)N)NC(=O)C=[N+]=[N-]</td>\n",
       "      <td>MCCANN,J, CHOI,E, YAMASAKI,E AND AMES,BN, DETE...</td>\n",
       "    </tr>\n",
       "    <tr>\n",
       "      <th>4</th>\n",
       "      <td>116539-70-9</td>\n",
       "      <td>CCRIS</td>\n",
       "      <td>1</td>\n",
       "      <td>-1</td>\n",
       "      <td>NaN</td>\n",
       "      <td>CCCCN(CC(C1=CC(=C(C=C1)[O-])[N+]#N)O)N=O</td>\n",
       "      <td>KIKUGAWA,K, KATO,T AND TAKEDA,Y, FORMATION OF ...</td>\n",
       "    </tr>\n",
       "    <tr>\n",
       "      <th>...</th>\n",
       "      <td>...</td>\n",
       "      <td>...</td>\n",
       "      <td>...</td>\n",
       "      <td>...</td>\n",
       "      <td>...</td>\n",
       "      <td>...</td>\n",
       "      <td>...</td>\n",
       "    </tr>\n",
       "    <tr>\n",
       "      <th>6507</th>\n",
       "      <td>37319-17-8</td>\n",
       "      <td>CCRIS</td>\n",
       "      <td>0</td>\n",
       "      <td>-1</td>\n",
       "      <td>NaN</td>\n",
       "      <td>COC1COC(COCC2COC(OC)C(OS(=O)(=O)O)C2OS(=O)(=O)...</td>\n",
       "      <td>NCI/NTP CARCINOGENESIS TECHNICAL REPORT SERIES...</td>\n",
       "    </tr>\n",
       "    <tr>\n",
       "      <th>6508</th>\n",
       "      <td>117333-21-8</td>\n",
       "      <td>CCRIS</td>\n",
       "      <td>1</td>\n",
       "      <td>-1</td>\n",
       "      <td>NaN</td>\n",
       "      <td>OC(Cc1cn(N=O)c2ccccc12)C(=O)O</td>\n",
       "      <td>OHARA,H, MIZUNO,M, DANNO,G, KANAZAWA,K, YOSHIO...</td>\n",
       "    </tr>\n",
       "    <tr>\n",
       "      <th>6509</th>\n",
       "      <td>10605-21-7</td>\n",
       "      <td>VITIC</td>\n",
       "      <td>1</td>\n",
       "      <td>-1</td>\n",
       "      <td>CARBENDAZ</td>\n",
       "      <td>COC(=O)Nc1nc2ccccc2[nH]1</td>\n",
       "      <td>JUDSON, PN, COOKE, PA, DOERRER, NG, GREENE, N,...</td>\n",
       "    </tr>\n",
       "    <tr>\n",
       "      <th>6510</th>\n",
       "      <td>103393-71-1</td>\n",
       "      <td>EPA1</td>\n",
       "      <td>1</td>\n",
       "      <td>-1</td>\n",
       "      <td>NaN</td>\n",
       "      <td>ClCc1cccc2c3cccc4cccc(c12)c34</td>\n",
       "      <td>KAZIUS, J, MCGUIRE, R AND BURSI, R. DERIVATION...</td>\n",
       "    </tr>\n",
       "    <tr>\n",
       "      <th>6511</th>\n",
       "      <td>621-64-7</td>\n",
       "      <td>EPA1</td>\n",
       "      <td>1</td>\n",
       "      <td>-1</td>\n",
       "      <td>NaN</td>\n",
       "      <td>CCCN(CCC)N=O</td>\n",
       "      <td>KAZIUS, J, MCGUIRE, R AND BURSI, R. DERIVATION...</td>\n",
       "    </tr>\n",
       "  </tbody>\n",
       "</table>\n",
       "<p>6512 rows × 7 columns</p>\n",
       "</div>"
      ],
      "text/plain": [
       "           CAS_NO Source  Activity  Steroid        WDI  \\\n",
       "0       2475-33-4  VITIC         0       -1        NaN   \n",
       "1        820-75-7  CCRIS         1       -1        NaN   \n",
       "2       2435-76-9  CCRIS         1       -1        NaN   \n",
       "3        817-99-2  CCRIS         1       -1        NaN   \n",
       "4     116539-70-9  CCRIS         1       -1        NaN   \n",
       "...           ...    ...       ...      ...        ...   \n",
       "6507   37319-17-8  CCRIS         0       -1        NaN   \n",
       "6508  117333-21-8  CCRIS         1       -1        NaN   \n",
       "6509   10605-21-7  VITIC         1       -1  CARBENDAZ   \n",
       "6510  103393-71-1   EPA1         1       -1        NaN   \n",
       "6511     621-64-7   EPA1         1       -1        NaN   \n",
       "\n",
       "                                       Canonical_Smiles  \\\n",
       "0     O=C1c2ccccc2C(=O)c3c1ccc4c3[nH]c5c6C(=O)c7cccc...   \n",
       "1                                   NNC(=O)CNC(=O)C=N#N   \n",
       "2                             [N-]=[N+]=C1C=NC(=O)NC1=O   \n",
       "3                            C(C(=O)N)NC(=O)C=[N+]=[N-]   \n",
       "4              CCCCN(CC(C1=CC(=C(C=C1)[O-])[N+]#N)O)N=O   \n",
       "...                                                 ...   \n",
       "6507  COC1COC(COCC2COC(OC)C(OS(=O)(=O)O)C2OS(=O)(=O)...   \n",
       "6508                      OC(Cc1cn(N=O)c2ccccc12)C(=O)O   \n",
       "6509                           COC(=O)Nc1nc2ccccc2[nH]1   \n",
       "6510                      ClCc1cccc2c3cccc4cccc(c12)c34   \n",
       "6511                                       CCCN(CCC)N=O   \n",
       "\n",
       "                                              REFERENCE  \n",
       "0     JUDSON, PN, COOKE, PA, DOERRER, NG, GREENE, N,...  \n",
       "1     MCCANN,J, CHOI,E, YAMASAKI,E AND AMES,BN, DETE...  \n",
       "2     HIRAMOTO,K, KATO,T AND KIKUGAWA,K, MECHANISMS ...  \n",
       "3     MCCANN,J, CHOI,E, YAMASAKI,E AND AMES,BN, DETE...  \n",
       "4     KIKUGAWA,K, KATO,T AND TAKEDA,Y, FORMATION OF ...  \n",
       "...                                                 ...  \n",
       "6507  NCI/NTP CARCINOGENESIS TECHNICAL REPORT SERIES...  \n",
       "6508  OHARA,H, MIZUNO,M, DANNO,G, KANAZAWA,K, YOSHIO...  \n",
       "6509  JUDSON, PN, COOKE, PA, DOERRER, NG, GREENE, N,...  \n",
       "6510  KAZIUS, J, MCGUIRE, R AND BURSI, R. DERIVATION...  \n",
       "6511  KAZIUS, J, MCGUIRE, R AND BURSI, R. DERIVATION...  \n",
       "\n",
       "[6512 rows x 7 columns]"
      ]
     },
     "metadata": {},
     "output_type": "display_data"
    }
   ],
   "source": [
    "# import data\n",
    "\n",
    "dataframe = pd.read_csv(\"data/Benchmark_Paper_2009_Ames_Mutagenicity/Mutagenicity_N6512_repaired_six_smiles.csv\")\n",
    "\n",
    "print(\"Number of Molecules = \", len(dataframe))\n",
    "display(dataframe)"
   ]
  },
  {
   "cell_type": "code",
   "execution_count": 202,
   "metadata": {
    "colab": {
     "base_uri": "https://localhost:8080/",
     "height": 276
    },
    "colab_type": "code",
    "executionInfo": {
     "elapsed": 2024,
     "status": "ok",
     "timestamp": 1599858873012,
     "user": {
      "displayName": "Markus Dablander",
      "photoUrl": "",
      "userId": "13467664559539683865"
     },
     "user_tz": -120
    },
    "id": "BIm1m_9NSEaG",
    "outputId": "b8cea951-b524-4fc0-c760-db6be2b78673"
   },
   "outputs": [
    {
     "data": {
      "text/html": [
       "<div>\n",
       "<style scoped>\n",
       "    .dataframe tbody tr th:only-of-type {\n",
       "        vertical-align: middle;\n",
       "    }\n",
       "\n",
       "    .dataframe tbody tr th {\n",
       "        vertical-align: top;\n",
       "    }\n",
       "\n",
       "    .dataframe thead th {\n",
       "        text-align: right;\n",
       "    }\n",
       "</style>\n",
       "<table border=\"1\" class=\"dataframe\">\n",
       "  <thead>\n",
       "    <tr style=\"text-align: right;\">\n",
       "      <th></th>\n",
       "      <th>CAS_NO</th>\n",
       "      <th>Source</th>\n",
       "      <th>Activity</th>\n",
       "      <th>Steroid</th>\n",
       "      <th>WDI</th>\n",
       "      <th>Canonical_Smiles</th>\n",
       "      <th>REFERENCE</th>\n",
       "    </tr>\n",
       "  </thead>\n",
       "  <tbody>\n",
       "  </tbody>\n",
       "</table>\n",
       "</div>"
      ],
      "text/plain": [
       "Empty DataFrame\n",
       "Columns: [CAS_NO, Source, Activity, Steroid, WDI, Canonical_Smiles, REFERENCE]\n",
       "Index: []"
      ]
     },
     "metadata": {},
     "output_type": "display_data"
    },
    {
     "data": {
      "text/html": [
       "<div>\n",
       "<style scoped>\n",
       "    .dataframe tbody tr th:only-of-type {\n",
       "        vertical-align: middle;\n",
       "    }\n",
       "\n",
       "    .dataframe tbody tr th {\n",
       "        vertical-align: top;\n",
       "    }\n",
       "\n",
       "    .dataframe thead th {\n",
       "        text-align: right;\n",
       "    }\n",
       "</style>\n",
       "<table border=\"1\" class=\"dataframe\">\n",
       "  <thead>\n",
       "    <tr style=\"text-align: right;\">\n",
       "      <th></th>\n",
       "      <th>CAS_NO</th>\n",
       "      <th>Source</th>\n",
       "      <th>Activity</th>\n",
       "      <th>Steroid</th>\n",
       "      <th>WDI</th>\n",
       "      <th>Canonical_Smiles</th>\n",
       "      <th>REFERENCE</th>\n",
       "    </tr>\n",
       "  </thead>\n",
       "  <tbody>\n",
       "  </tbody>\n",
       "</table>\n",
       "</div>"
      ],
      "text/plain": [
       "Empty DataFrame\n",
       "Columns: [CAS_NO, Source, Activity, Steroid, WDI, Canonical_Smiles, REFERENCE]\n",
       "Index: []"
      ]
     },
     "metadata": {},
     "output_type": "display_data"
    }
   ],
   "source": [
    "# check for missing values (i.e. NA values)\n",
    "\n",
    "display(dataframe[dataframe['Canonical_Smiles'].isnull()])\n",
    "display(dataframe[dataframe['Activity'].isnull()])"
   ]
  },
  {
   "cell_type": "code",
   "execution_count": 203,
   "metadata": {
    "colab": {},
    "colab_type": "code",
    "id": "oFu7W-IlSEaN"
   },
   "outputs": [
    {
     "name": "stdout",
     "output_type": "stream",
     "text": [
      "6512\n"
     ]
    }
   ],
   "source": [
    "# filter out Smiles which produce error messages in rdkit\n",
    "\n",
    "bad_smiles = []\n",
    "\n",
    "for k in range(len(dataframe[\"Canonical_Smiles\"].values)):\n",
    "\n",
    "    smiles = dataframe[\"Canonical_Smiles\"].values[k]\n",
    "    \n",
    "    sio = sys.stderr = StringIO()\n",
    "    Chem.MolFromSmiles(smiles)\n",
    "    error_message = sio.getvalue()\n",
    "    \n",
    "    if error_message != \"\" and error_message[0:13] != \"RDKit WARNING\":\n",
    "        print(k)\n",
    "        print(error_message)\n",
    "        print(smiles, \"\\n \\n \\n \\n\")\n",
    "        bad_smiles.append(smiles)\n",
    "\n",
    "dataframe = dataframe[dataframe[\"Canonical_Smiles\"].isin(bad_smiles) == False]\n",
    "\n",
    "print(len(dataframe))"
   ]
  },
  {
   "cell_type": "code",
   "execution_count": 204,
   "metadata": {},
   "outputs": [
    {
     "name": "stdout",
     "output_type": "stream",
     "text": [
      "N_positive =  3503\n",
      "N_negative =  3009\n",
      "Total fraction of positives =  0.5379299754299754\n"
     ]
    }
   ],
   "source": [
    "# compute number of positive and negative instances\n",
    "\n",
    "N_positive = int(np.sum(dataframe[\"Activity\"].values))\n",
    "N_negative = len(dataframe[\"Activity\"]) - N_positive\n",
    "\n",
    "print(\"N_positive = \", N_positive)\n",
    "print(\"N_negative = \", N_negative)\n",
    "print(\"Total fraction of positives = \", N_positive/(N_positive + N_negative))"
   ]
  },
  {
   "cell_type": "code",
   "execution_count": 100,
   "metadata": {
    "colab": {},
    "colab_type": "code",
    "executionInfo": {
     "elapsed": 645,
     "status": "ok",
     "timestamp": 1599869440512,
     "user": {
      "displayName": "Markus Dablander",
      "photoUrl": "",
      "userId": "13467664559539683865"
     },
     "user_tz": -120
    },
    "id": "X2XcwuHnSEaT"
   },
   "outputs": [
    {
     "name": "stdout",
     "output_type": "stream",
     "text": [
      "N_positive_delete =  494\n"
     ]
    }
   ],
   "source": [
    "# create balanced data set by undersampling the positive class so that number of molecules becomes exactly the same in each class\n",
    "\n",
    "N_positive_delete = len(dataframe[\"Activity\"].values) - 2*len(dataframe[dataframe[\"Activity\"] == 0].values)\n",
    "\n",
    "dataframe = dataframe.drop(dataframe[dataframe[\"Activity\"] == 1].sample(n = N_positive_delete, random_state = 42).index)\n",
    "\n",
    "print(\"N_positive_delete = \", N_positive_delete)"
   ]
  },
  {
   "cell_type": "code",
   "execution_count": 101,
   "metadata": {},
   "outputs": [
    {
     "name": "stdout",
     "output_type": "stream",
     "text": [
      "Number of Molecules =  6018\n"
     ]
    }
   ],
   "source": [
    "# define number of molecules\n",
    "\n",
    "N_molecules = len(dataframe[\"Canonical_Smiles\"].values)\n",
    "\n",
    "print(\"Number of Molecules = \", N_molecules)"
   ]
  },
  {
   "cell_type": "code",
   "execution_count": 102,
   "metadata": {
    "colab": {
     "base_uri": "https://localhost:8080/",
     "height": 90
    },
    "colab_type": "code",
    "executionInfo": {
     "elapsed": 771,
     "status": "ok",
     "timestamp": 1599869443976,
     "user": {
      "displayName": "Markus Dablander",
      "photoUrl": "",
      "userId": "13467664559539683865"
     },
     "user_tz": -120
    },
    "id": "M1aIBqplSEaq",
    "outputId": "d9c43474-c7b7-4622-da65-6ebe36c9c3a1"
   },
   "outputs": [
    {
     "name": "stdout",
     "output_type": "stream",
     "text": [
      "Number of Positives =  3009\n",
      "Fraction of Positives =  0.5\n",
      "Shape of y =  (6018,)\n",
      "Shape of Y =  (6018, 1)\n",
      "\n",
      " y =  [0 1 1 ... 1 1 1]\n"
     ]
    }
   ],
   "source": [
    "# construct target variable y/Y (hERG inhibition)\n",
    "\n",
    "# extract labels\n",
    "y = dataframe.loc[:,\"Activity\"].values\n",
    "Y = np.reshape(y, (len(y), 1))\n",
    "\n",
    "print(\"Number of Positives = \", np.sum(y))\n",
    "print(\"Fraction of Positives = \", np.sum(y)/N_molecules)\n",
    "\n",
    "\n",
    "print(\"Shape of y = \", y.shape)\n",
    "print(\"Shape of Y = \", Y.shape)\n",
    "\n",
    "print(\"\\n y = \", y)\n"
   ]
  },
  {
   "cell_type": "code",
   "execution_count": 103,
   "metadata": {
    "colab": {
     "base_uri": "https://localhost:8080/",
     "height": 222
    },
    "colab_type": "code",
    "executionInfo": {
     "elapsed": 444,
     "status": "ok",
     "timestamp": 1599869444377,
     "user": {
      "displayName": "Markus Dablander",
      "photoUrl": "",
      "userId": "13467664559539683865"
     },
     "user_tz": -120
    },
    "id": "PB82_jFUSEav",
    "outputId": "f151bbf0-8894-45c1-bd95-e747bc7c74b5"
   },
   "outputs": [
    {
     "name": "stdout",
     "output_type": "stream",
     "text": [
      "                  Smiles String\n",
      "O=C1c2ccccc2C(=O)c3c1ccc4c3[nH]c5c6C(=O)c7ccccc7C(=O)c6c8[nH]c9c%10C(=O)c%11ccccc%11C(=O)c%10ccc9c8c45\n"
     ]
    },
    {
     "data": {
      "image/png": "[encoded data removed]",
      "text/plain": [
       "<rdkit.Chem.rdchem.Mol at 0x7fee0c144ee0>"
      ]
     },
     "metadata": {},
     "output_type": "display_data"
    },
    {
     "name": "stdout",
     "output_type": "stream",
     "text": [
      "Shape of x_smiles =  (6018,)\n",
      "Shape of X_smiles =  (6018, 1)\n",
      "\n",
      " x_smiles =  ['O=C1c2ccccc2C(=O)c3c1ccc4c3[nH]c5c6C(=O)c7ccccc7C(=O)c6c8[nH]c9c%10C(=O)c%11ccccc%11C(=O)c%10ccc9c8c45'\n",
      " 'NNC(=O)CNC(=O)C=N#N' '[N-]=[N+]=C1C=NC(=O)NC1=O'\n",
      " 'C(C(=O)N)NC(=O)C=[N+]=[N-]' 'CCCCN(CC(C1=CC(=C(C=C1)[O-])[N+]#N)O)N=O'\n",
      " 'C(C(C(=O)O)N)OC(=O)C=[N+]=[N-]' 'CCN(CC(C1=CC(=C(C=C1)[N+]#N)[O-])O)N=O'\n",
      " 'CC(=O)OC1(CCC2C3C=C(Cl)C4=CC(=O)OCC4(C)C3CCC12C)C(=O)C'\n",
      " 'Nc1nc(N)nc(N)n1' 'Cc1ccc(N=Nc2c(O)ccc3ccccc23)c(c1)[N+](=O)[O-]']\n"
     ]
    }
   ],
   "source": [
    "# extract Smiles strings\n",
    "\n",
    "X_smiles = np.reshape(dataframe[\"Canonical_Smiles\"].values, (N_molecules, 1))\n",
    "x_smiles = X_smiles[:,0]\n",
    "\n",
    "print(\"                  Smiles String\")\n",
    "print(X_smiles[0:1][0][0])\n",
    "\n",
    "for s in x_smiles[0:1]:\n",
    "    molecule = Chem.MolFromSmiles(s)\n",
    "    display(molecule)\n",
    "    \n",
    "print(\"Shape of x_smiles = \", x_smiles.shape)\n",
    "print(\"Shape of X_smiles = \", X_smiles.shape)\n",
    "\n",
    "print(\"\\n x_smiles = \", x_smiles[0:10])"
   ]
  },
  {
   "cell_type": "markdown",
   "metadata": {
    "collapsed": "true"
   },
   "source": [
    "## Prepare Data: PTC (MR/FR/MM/FM)"
   ]
  },
  {
   "cell_type": "code",
   "execution_count": 205,
   "metadata": {
    "colab": {
     "base_uri": "https://localhost:8080/",
     "height": 225
    },
    "colab_type": "code",
    "executionInfo": {
     "elapsed": 429,
     "status": "ok",
     "timestamp": 1599869437487,
     "user": {
      "displayName": "Markus Dablander",
      "photoUrl": "",
      "userId": "13467664559539683865"
     },
     "user_tz": -120
    },
    "id": "FpdNzlmISEaA",
    "outputId": "c37aae09-ccfe-4f8a-dccc-6006309b2074"
   },
   "outputs": [
    {
     "name": "stdout",
     "output_type": "stream",
     "text": [
      "Number of Molecules =  344\n"
     ]
    },
    {
     "data": {
      "text/html": [
       "<div>\n",
       "<style scoped>\n",
       "    .dataframe tbody tr th:only-of-type {\n",
       "        vertical-align: middle;\n",
       "    }\n",
       "\n",
       "    .dataframe tbody tr th {\n",
       "        vertical-align: top;\n",
       "    }\n",
       "\n",
       "    .dataframe thead th {\n",
       "        text-align: right;\n",
       "    }\n",
       "</style>\n",
       "<table border=\"1\" class=\"dataframe\">\n",
       "  <thead>\n",
       "    <tr style=\"text-align: right;\">\n",
       "      <th></th>\n",
       "      <th>nr</th>\n",
       "      <th>act</th>\n",
       "      <th>smiles</th>\n",
       "    </tr>\n",
       "  </thead>\n",
       "  <tbody>\n",
       "    <tr>\n",
       "      <th>0</th>\n",
       "      <td>TR000</td>\n",
       "      <td>1</td>\n",
       "      <td>ClC(Cl)Cl</td>\n",
       "    </tr>\n",
       "    <tr>\n",
       "      <th>1</th>\n",
       "      <td>TR001</td>\n",
       "      <td>1</td>\n",
       "      <td>C12(Cl)C3(Cl)C(=O)C4(Cl)C1(Cl)C5(Cl)C(Cl)(Cl)C...</td>\n",
       "    </tr>\n",
       "    <tr>\n",
       "      <th>2</th>\n",
       "      <td>TR002</td>\n",
       "      <td>0</td>\n",
       "      <td>C(Cl)=C(Cl)Cl</td>\n",
       "    </tr>\n",
       "    <tr>\n",
       "      <th>3</th>\n",
       "      <td>TR004</td>\n",
       "      <td>0</td>\n",
       "      <td>S=P(OC)(OC)SCC(=O)NC</td>\n",
       "    </tr>\n",
       "    <tr>\n",
       "      <th>4</th>\n",
       "      <td>TR006a</td>\n",
       "      <td>1</td>\n",
       "      <td>OC(=O)CN(CC(O)=O)CC(O)=O</td>\n",
       "    </tr>\n",
       "    <tr>\n",
       "      <th>...</th>\n",
       "      <td>...</td>\n",
       "      <td>...</td>\n",
       "      <td>...</td>\n",
       "    </tr>\n",
       "    <tr>\n",
       "      <th>339</th>\n",
       "      <td>TR494</td>\n",
       "      <td>1</td>\n",
       "      <td>c12ccccc1C(=O)c3ccccc3C2=O</td>\n",
       "    </tr>\n",
       "    <tr>\n",
       "      <th>340</th>\n",
       "      <td>TR495</td>\n",
       "      <td>0</td>\n",
       "      <td>O=NO[Na]</td>\n",
       "    </tr>\n",
       "    <tr>\n",
       "      <th>341</th>\n",
       "      <td>TR496</td>\n",
       "      <td>1</td>\n",
       "      <td>C(O)(=O)CC(CC(=O)OC(C(C)CCCC)C(CC(C)CC(O)CCCCC...</td>\n",
       "    </tr>\n",
       "    <tr>\n",
       "      <th>342</th>\n",
       "      <td>TR499</td>\n",
       "      <td>1</td>\n",
       "      <td>[In]#P</td>\n",
       "    </tr>\n",
       "    <tr>\n",
       "      <th>343</th>\n",
       "      <td>TR501</td>\n",
       "      <td>0</td>\n",
       "      <td>S(=O)(=O)(c1ccc(Cl)cc1)c2ccc(Cl)cc2</td>\n",
       "    </tr>\n",
       "  </tbody>\n",
       "</table>\n",
       "<p>344 rows × 3 columns</p>\n",
       "</div>"
      ],
      "text/plain": [
       "         nr  act                                             smiles\n",
       "0     TR000    1                                          ClC(Cl)Cl\n",
       "1     TR001    1  C12(Cl)C3(Cl)C(=O)C4(Cl)C1(Cl)C5(Cl)C(Cl)(Cl)C...\n",
       "2     TR002    0                                      C(Cl)=C(Cl)Cl\n",
       "3     TR004    0                               S=P(OC)(OC)SCC(=O)NC\n",
       "4    TR006a    1                           OC(=O)CN(CC(O)=O)CC(O)=O\n",
       "..      ...  ...                                                ...\n",
       "339   TR494    1                         c12ccccc1C(=O)c3ccccc3C2=O\n",
       "340   TR495    0                                           O=NO[Na]\n",
       "341   TR496    1  C(O)(=O)CC(CC(=O)OC(C(C)CCCC)C(CC(C)CC(O)CCCCC...\n",
       "342   TR499    1                                             [In]#P\n",
       "343   TR501    0                S(=O)(=O)(c1ccc(Cl)cc1)c2ccc(Cl)cc2\n",
       "\n",
       "[344 rows x 3 columns]"
      ]
     },
     "metadata": {},
     "output_type": "display_data"
    }
   ],
   "source": [
    "# import data\n",
    "\n",
    "# here we currently import MR (= Male Rat), but there are also FR, MM and FM\n",
    "\n",
    "dataframe = pd.read_csv(\"data/PCT/PTC_pn_MR.csv\")\n",
    "dataframe[\"act\"] = ((dataframe[\"act\"].values + 1)/2).astype(int) # convert labels -1/1 to 0/1\n",
    "\n",
    "print(\"Number of Molecules = \", len(dataframe))\n",
    "display(dataframe)"
   ]
  },
  {
   "cell_type": "code",
   "execution_count": 206,
   "metadata": {
    "colab": {
     "base_uri": "https://localhost:8080/",
     "height": 276
    },
    "colab_type": "code",
    "executionInfo": {
     "elapsed": 2024,
     "status": "ok",
     "timestamp": 1599858873012,
     "user": {
      "displayName": "Markus Dablander",
      "photoUrl": "",
      "userId": "13467664559539683865"
     },
     "user_tz": -120
    },
    "id": "BIm1m_9NSEaG",
    "outputId": "b8cea951-b524-4fc0-c760-db6be2b78673"
   },
   "outputs": [
    {
     "data": {
      "text/html": [
       "<div>\n",
       "<style scoped>\n",
       "    .dataframe tbody tr th:only-of-type {\n",
       "        vertical-align: middle;\n",
       "    }\n",
       "\n",
       "    .dataframe tbody tr th {\n",
       "        vertical-align: top;\n",
       "    }\n",
       "\n",
       "    .dataframe thead th {\n",
       "        text-align: right;\n",
       "    }\n",
       "</style>\n",
       "<table border=\"1\" class=\"dataframe\">\n",
       "  <thead>\n",
       "    <tr style=\"text-align: right;\">\n",
       "      <th></th>\n",
       "      <th>nr</th>\n",
       "      <th>act</th>\n",
       "      <th>smiles</th>\n",
       "    </tr>\n",
       "  </thead>\n",
       "  <tbody>\n",
       "  </tbody>\n",
       "</table>\n",
       "</div>"
      ],
      "text/plain": [
       "Empty DataFrame\n",
       "Columns: [nr, act, smiles]\n",
       "Index: []"
      ]
     },
     "metadata": {},
     "output_type": "display_data"
    },
    {
     "data": {
      "text/html": [
       "<div>\n",
       "<style scoped>\n",
       "    .dataframe tbody tr th:only-of-type {\n",
       "        vertical-align: middle;\n",
       "    }\n",
       "\n",
       "    .dataframe tbody tr th {\n",
       "        vertical-align: top;\n",
       "    }\n",
       "\n",
       "    .dataframe thead th {\n",
       "        text-align: right;\n",
       "    }\n",
       "</style>\n",
       "<table border=\"1\" class=\"dataframe\">\n",
       "  <thead>\n",
       "    <tr style=\"text-align: right;\">\n",
       "      <th></th>\n",
       "      <th>nr</th>\n",
       "      <th>act</th>\n",
       "      <th>smiles</th>\n",
       "    </tr>\n",
       "  </thead>\n",
       "  <tbody>\n",
       "  </tbody>\n",
       "</table>\n",
       "</div>"
      ],
      "text/plain": [
       "Empty DataFrame\n",
       "Columns: [nr, act, smiles]\n",
       "Index: []"
      ]
     },
     "metadata": {},
     "output_type": "display_data"
    },
    {
     "data": {
      "text/html": [
       "<div>\n",
       "<style scoped>\n",
       "    .dataframe tbody tr th:only-of-type {\n",
       "        vertical-align: middle;\n",
       "    }\n",
       "\n",
       "    .dataframe tbody tr th {\n",
       "        vertical-align: top;\n",
       "    }\n",
       "\n",
       "    .dataframe thead th {\n",
       "        text-align: right;\n",
       "    }\n",
       "</style>\n",
       "<table border=\"1\" class=\"dataframe\">\n",
       "  <thead>\n",
       "    <tr style=\"text-align: right;\">\n",
       "      <th></th>\n",
       "      <th>nr</th>\n",
       "      <th>act</th>\n",
       "      <th>smiles</th>\n",
       "    </tr>\n",
       "  </thead>\n",
       "  <tbody>\n",
       "  </tbody>\n",
       "</table>\n",
       "</div>"
      ],
      "text/plain": [
       "Empty DataFrame\n",
       "Columns: [nr, act, smiles]\n",
       "Index: []"
      ]
     },
     "metadata": {},
     "output_type": "display_data"
    }
   ],
   "source": [
    "# check for missing values (i.e. NA values)\n",
    "\n",
    "display(dataframe[dataframe['smiles'].isnull()])\n",
    "display(dataframe[dataframe['act'].isnull()])\n",
    "display(dataframe[dataframe['nr'].isnull()])"
   ]
  },
  {
   "cell_type": "code",
   "execution_count": 207,
   "metadata": {
    "colab": {},
    "colab_type": "code",
    "id": "oFu7W-IlSEaN"
   },
   "outputs": [
    {
     "name": "stdout",
     "output_type": "stream",
     "text": [
      "344\n"
     ]
    }
   ],
   "source": [
    "# filter out Smiles which produce error messages in rdkit\n",
    "\n",
    "bad_smiles = []\n",
    "\n",
    "for k in range(len(dataframe[\"smiles\"].values)):\n",
    "\n",
    "    smiles = dataframe[\"smiles\"].values[k]\n",
    "    \n",
    "    sio = sys.stderr = StringIO()\n",
    "    Chem.MolFromSmiles(smiles)\n",
    "    error_message = sio.getvalue()\n",
    "    \n",
    "    if error_message != \"\" and error_message[0:13] != \"RDKit WARNING\":\n",
    "        print(k)\n",
    "        #print(error_message)\n",
    "        print(smiles, \"\\n \\n \\n \\n\")\n",
    "        bad_smiles.append(smiles)\n",
    "\n",
    "dataframe = dataframe[dataframe[\"smiles\"].isin(bad_smiles) == False]\n",
    "\n",
    "print(len(dataframe))"
   ]
  },
  {
   "cell_type": "code",
   "execution_count": 208,
   "metadata": {},
   "outputs": [
    {
     "name": "stdout",
     "output_type": "stream",
     "text": [
      "N_positive =  152\n",
      "N_negative =  192\n",
      "Total fraction of positives =  0.4418604651162791\n"
     ]
    }
   ],
   "source": [
    "# compute number of positive and negative instances\n",
    "\n",
    "N_positive = int(np.sum(dataframe[\"act\"].values))\n",
    "N_negative = len(dataframe[\"act\"]) - N_positive\n",
    "\n",
    "print(\"N_positive = \", N_positive)\n",
    "print(\"N_negative = \", N_negative)\n",
    "print(\"Total fraction of positives = \", N_positive/(N_positive + N_negative))"
   ]
  },
  {
   "cell_type": "code",
   "execution_count": 108,
   "metadata": {
    "colab": {},
    "colab_type": "code",
    "executionInfo": {
     "elapsed": 645,
     "status": "ok",
     "timestamp": 1599869440512,
     "user": {
      "displayName": "Markus Dablander",
      "photoUrl": "",
      "userId": "13467664559539683865"
     },
     "user_tz": -120
    },
    "id": "X2XcwuHnSEaT"
   },
   "outputs": [
    {
     "name": "stdout",
     "output_type": "stream",
     "text": [
      "N_negative_delete =  40\n"
     ]
    }
   ],
   "source": [
    "# create balanced data set by undersampling the negative class so that number of molecules becomes exactly the same in each class\n",
    "\n",
    "N_negative_delete = len(dataframe[\"act\"].values) - 2*len(dataframe[dataframe[\"act\"] == 1].values)\n",
    "\n",
    "dataframe = dataframe.drop(dataframe[dataframe[\"act\"] == 0].sample(n = N_negative_delete, random_state = 42).index)\n",
    "\n",
    "print(\"N_negative_delete = \", N_negative_delete)"
   ]
  },
  {
   "cell_type": "code",
   "execution_count": 109,
   "metadata": {},
   "outputs": [
    {
     "name": "stdout",
     "output_type": "stream",
     "text": [
      "Number of Molecules =  304\n"
     ]
    }
   ],
   "source": [
    "# define number of molecules\n",
    "\n",
    "N_molecules = len(dataframe[\"smiles\"].values)\n",
    "\n",
    "print(\"Number of Molecules = \", N_molecules)"
   ]
  },
  {
   "cell_type": "code",
   "execution_count": 110,
   "metadata": {
    "colab": {
     "base_uri": "https://localhost:8080/",
     "height": 90
    },
    "colab_type": "code",
    "executionInfo": {
     "elapsed": 771,
     "status": "ok",
     "timestamp": 1599869443976,
     "user": {
      "displayName": "Markus Dablander",
      "photoUrl": "",
      "userId": "13467664559539683865"
     },
     "user_tz": -120
    },
    "id": "M1aIBqplSEaq",
    "outputId": "d9c43474-c7b7-4622-da65-6ebe36c9c3a1"
   },
   "outputs": [
    {
     "name": "stdout",
     "output_type": "stream",
     "text": [
      "Number of Positives =  152\n",
      "Fraction of Positives =  0.5\n",
      "Shape of y =  (304,)\n",
      "Shape of Y =  (304, 1)\n",
      "\n",
      " y =  [1 1 0 0 1 0 0 0 0 0 0 0 1 1 0 0 0 0 1 1 0 0 0 0 1 0 1 0 1 0 1 0 0 1 1 1 0\n",
      " 1 0 0 1 0 0 0 0 1 0 0 1 0 0 1 1 0 0 1 1 1 1 0 0 1 1 1 1 0 1 1 0 0 0 0 1 0\n",
      " 0 0 1 0 0 0 1 0 1 0 0 0 0 0 0 1 1 1 0 0 0 0 0 0 1 1 0 1 0 0 0 1 0 1 1 1 0\n",
      " 0 0 0 1 0 1 0 1 0 0 0 0 0 0 0 0 0 0 0 1 0 0 0 1 0 1 0 0 1 0 1 0 1 1 1 1 1\n",
      " 0 1 1 0 1 0 1 1 0 0 1 0 0 1 1 0 1 1 0 1 1 0 1 1 1 0 0 0 1 0 0 0 1 1 1 1 1\n",
      " 1 1 1 0 1 0 1 1 1 1 0 1 1 1 0 1 1 1 0 1 1 0 1 1 1 1 0 1 1 1 0 0 0 0 1 1 1\n",
      " 1 1 1 1 1 1 0 0 1 0 1 0 1 1 1 1 0 1 0 1 1 0 0 1 1 1 0 1 0 1 0 1 1 0 1 1 1\n",
      " 1 0 1 0 0 1 0 0 0 0 0 1 1 1 1 1 1 0 0 1 0 1 1 1 1 0 0 1 0 0 0 0 1 1 0 1 1\n",
      " 0 1 0 1 0 1 1 0]\n"
     ]
    }
   ],
   "source": [
    "# construct target variable y/Y (hERG inhibition)\n",
    "\n",
    "# extract labels\n",
    "y = dataframe.loc[:,\"act\"].values\n",
    "Y = np.reshape(y, (len(y), 1))\n",
    "\n",
    "print(\"Number of Positives = \", np.sum(y))\n",
    "print(\"Fraction of Positives = \", np.sum(y)/N_molecules)\n",
    "\n",
    "\n",
    "print(\"Shape of y = \", y.shape)\n",
    "print(\"Shape of Y = \", Y.shape)\n",
    "\n",
    "print(\"\\n y = \", y)\n"
   ]
  },
  {
   "cell_type": "code",
   "execution_count": 111,
   "metadata": {
    "colab": {
     "base_uri": "https://localhost:8080/",
     "height": 222
    },
    "colab_type": "code",
    "executionInfo": {
     "elapsed": 444,
     "status": "ok",
     "timestamp": 1599869444377,
     "user": {
      "displayName": "Markus Dablander",
      "photoUrl": "",
      "userId": "13467664559539683865"
     },
     "user_tz": -120
    },
    "id": "PB82_jFUSEav",
    "outputId": "f151bbf0-8894-45c1-bd95-e747bc7c74b5"
   },
   "outputs": [
    {
     "name": "stdout",
     "output_type": "stream",
     "text": [
      "                  Smiles String\n",
      "ClC(Cl)Cl\n"
     ]
    },
    {
     "data": {
      "image/png": "[encoded data removed]",
      "text/plain": [
       "<rdkit.Chem.rdchem.Mol at 0x7fee0c39e210>"
      ]
     },
     "metadata": {},
     "output_type": "display_data"
    },
    {
     "name": "stdout",
     "output_type": "stream",
     "text": [
      "Shape of x_smiles =  (304,)\n",
      "Shape of X_smiles =  (304, 1)\n",
      "\n",
      " x_smiles =  ['ClC(Cl)Cl'\n",
      " 'C12(Cl)C3(Cl)C(=O)C4(Cl)C1(Cl)C5(Cl)C(Cl)(Cl)C2(Cl)C3(Cl)C45Cl'\n",
      " 'C(Cl)=C(Cl)Cl' 'S=P(OC)(OC)SCC(=O)NC' 'OC(=O)CN(CC(O)=O)CC(O)=O'\n",
      " 'c1cccc(c1)CCNC(=N)NC(N)=N'\n",
      " 'C1(Cl)=C(Cl)C2(Cl)C3CC(Cl)C(Cl)C3C1(Cl)C2(Cl)Cl'\n",
      " 'ClC12C(Cl)=C(Cl)C(Cl)(C3C=CC(Cl)C13)C2(Cl)Cl'\n",
      " 'C(CN(CC(=O)O)CC(=O)O[Na])N(CC(=O)O[Na])CC(=O)O[Na]'\n",
      " 'C12(Cl)C(Cl)=C(Cl)C(Cl)(C1(Cl)Cl)C3C2C4CC3C5OC45']\n"
     ]
    }
   ],
   "source": [
    "# extract Smiles strings\n",
    "\n",
    "X_smiles = np.reshape(dataframe[\"smiles\"].values, (N_molecules, 1))\n",
    "x_smiles = X_smiles[:,0]\n",
    "\n",
    "print(\"                  Smiles String\")\n",
    "print(X_smiles[0:1][0][0])\n",
    "\n",
    "for s in x_smiles[0:1]:\n",
    "    molecule = Chem.MolFromSmiles(s)\n",
    "    display(molecule)\n",
    "    \n",
    "print(\"Shape of x_smiles = \", x_smiles.shape)\n",
    "print(\"Shape of X_smiles = \", X_smiles.shape)\n",
    "\n",
    "print(\"\\n x_smiles = \", x_smiles[0:10])"
   ]
  },
  {
   "cell_type": "markdown",
   "metadata": {
    "collapsed": "true"
   },
   "source": [
    "## Prepare Data: MUTAG"
   ]
  },
  {
   "cell_type": "code",
   "execution_count": 209,
   "metadata": {
    "colab": {
     "base_uri": "https://localhost:8080/",
     "height": 225
    },
    "colab_type": "code",
    "executionInfo": {
     "elapsed": 429,
     "status": "ok",
     "timestamp": 1599869437487,
     "user": {
      "displayName": "Markus Dablander",
      "photoUrl": "",
      "userId": "13467664559539683865"
     },
     "user_tz": -120
    },
    "id": "FpdNzlmISEaA",
    "outputId": "c37aae09-ccfe-4f8a-dccc-6006309b2074"
   },
   "outputs": [
    {
     "name": "stdout",
     "output_type": "stream",
     "text": [
      "Number of Molecules =  188\n"
     ]
    },
    {
     "data": {
      "text/html": [
       "<div>\n",
       "<style scoped>\n",
       "    .dataframe tbody tr th:only-of-type {\n",
       "        vertical-align: middle;\n",
       "    }\n",
       "\n",
       "    .dataframe tbody tr th {\n",
       "        vertical-align: top;\n",
       "    }\n",
       "\n",
       "    .dataframe thead th {\n",
       "        text-align: right;\n",
       "    }\n",
       "</style>\n",
       "<table border=\"1\" class=\"dataframe\">\n",
       "  <thead>\n",
       "    <tr style=\"text-align: right;\">\n",
       "      <th></th>\n",
       "      <th>nr</th>\n",
       "      <th>smiles</th>\n",
       "      <th>act</th>\n",
       "    </tr>\n",
       "  </thead>\n",
       "  <tbody>\n",
       "    <tr>\n",
       "      <th>0</th>\n",
       "      <td>0</td>\n",
       "      <td>c1ccc2c(c1)ccc3c2ccc(c3)[N+](=O)[O-]</td>\n",
       "      <td>1</td>\n",
       "    </tr>\n",
       "    <tr>\n",
       "      <th>1</th>\n",
       "      <td>1</td>\n",
       "      <td>c1cc2cccnc2c(c1)[N+](=O)[O-]</td>\n",
       "      <td>0</td>\n",
       "    </tr>\n",
       "    <tr>\n",
       "      <th>2</th>\n",
       "      <td>2</td>\n",
       "      <td>c1cc2c(cccn2)c(c1)[N+](=O)[O-]</td>\n",
       "      <td>0</td>\n",
       "    </tr>\n",
       "    <tr>\n",
       "      <th>3</th>\n",
       "      <td>3</td>\n",
       "      <td>c1ccc-2c(c1)-c3cccc4c3c2c(cc4)[N+](=O)[O-]</td>\n",
       "      <td>1</td>\n",
       "    </tr>\n",
       "    <tr>\n",
       "      <th>4</th>\n",
       "      <td>4</td>\n",
       "      <td>c1cc(c(cc1F)[N+](=O)[O-])F</td>\n",
       "      <td>0</td>\n",
       "    </tr>\n",
       "    <tr>\n",
       "      <th>...</th>\n",
       "      <td>...</td>\n",
       "      <td>...</td>\n",
       "      <td>...</td>\n",
       "    </tr>\n",
       "    <tr>\n",
       "      <th>183</th>\n",
       "      <td>183</td>\n",
       "      <td>c1cc2c(ccc-3c2c(c1)-c4c3cccc4[N+](=O)[O-])[N+]...</td>\n",
       "      <td>1</td>\n",
       "    </tr>\n",
       "    <tr>\n",
       "      <th>184</th>\n",
       "      <td>184</td>\n",
       "      <td>c1cc(c(cc1F)[N+](=O)[O-])[N+](=O)[O-]</td>\n",
       "      <td>0</td>\n",
       "    </tr>\n",
       "    <tr>\n",
       "      <th>185</th>\n",
       "      <td>185</td>\n",
       "      <td>c1cc2c(cc1[N+](=O)[O-])CCN2</td>\n",
       "      <td>0</td>\n",
       "    </tr>\n",
       "    <tr>\n",
       "      <th>186</th>\n",
       "      <td>186</td>\n",
       "      <td>c1ccc2c(c1)c3ccccc3c4c2ccc(c4)[N+](=O)[O-]</td>\n",
       "      <td>1</td>\n",
       "    </tr>\n",
       "    <tr>\n",
       "      <th>187</th>\n",
       "      <td>187</td>\n",
       "      <td>O=[N+]([O-])c1ccc2c(c1)[nH]c1ccccc12</td>\n",
       "      <td>0</td>\n",
       "    </tr>\n",
       "  </tbody>\n",
       "</table>\n",
       "<p>188 rows × 3 columns</p>\n",
       "</div>"
      ],
      "text/plain": [
       "      nr                                             smiles  act\n",
       "0      0               c1ccc2c(c1)ccc3c2ccc(c3)[N+](=O)[O-]    1\n",
       "1      1                       c1cc2cccnc2c(c1)[N+](=O)[O-]    0\n",
       "2      2                     c1cc2c(cccn2)c(c1)[N+](=O)[O-]    0\n",
       "3      3         c1ccc-2c(c1)-c3cccc4c3c2c(cc4)[N+](=O)[O-]    1\n",
       "4      4                         c1cc(c(cc1F)[N+](=O)[O-])F    0\n",
       "..   ...                                                ...  ...\n",
       "183  183  c1cc2c(ccc-3c2c(c1)-c4c3cccc4[N+](=O)[O-])[N+]...    1\n",
       "184  184              c1cc(c(cc1F)[N+](=O)[O-])[N+](=O)[O-]    0\n",
       "185  185                        c1cc2c(cc1[N+](=O)[O-])CCN2    0\n",
       "186  186         c1ccc2c(c1)c3ccccc3c4c2ccc(c4)[N+](=O)[O-]    1\n",
       "187  187               O=[N+]([O-])c1ccc2c(c1)[nH]c1ccccc12    0\n",
       "\n",
       "[188 rows x 3 columns]"
      ]
     },
     "metadata": {},
     "output_type": "display_data"
    }
   ],
   "source": [
    "# import data\n",
    "\n",
    "dataframe = pd.read_csv(\"data/MUTAG/MUTAG_188.csv\")\n",
    "\n",
    "print(\"Number of Molecules = \", len(dataframe))\n",
    "display(dataframe)"
   ]
  },
  {
   "cell_type": "code",
   "execution_count": 210,
   "metadata": {
    "colab": {
     "base_uri": "https://localhost:8080/",
     "height": 276
    },
    "colab_type": "code",
    "executionInfo": {
     "elapsed": 2024,
     "status": "ok",
     "timestamp": 1599858873012,
     "user": {
      "displayName": "Markus Dablander",
      "photoUrl": "",
      "userId": "13467664559539683865"
     },
     "user_tz": -120
    },
    "id": "BIm1m_9NSEaG",
    "outputId": "b8cea951-b524-4fc0-c760-db6be2b78673"
   },
   "outputs": [
    {
     "data": {
      "text/html": [
       "<div>\n",
       "<style scoped>\n",
       "    .dataframe tbody tr th:only-of-type {\n",
       "        vertical-align: middle;\n",
       "    }\n",
       "\n",
       "    .dataframe tbody tr th {\n",
       "        vertical-align: top;\n",
       "    }\n",
       "\n",
       "    .dataframe thead th {\n",
       "        text-align: right;\n",
       "    }\n",
       "</style>\n",
       "<table border=\"1\" class=\"dataframe\">\n",
       "  <thead>\n",
       "    <tr style=\"text-align: right;\">\n",
       "      <th></th>\n",
       "      <th>nr</th>\n",
       "      <th>smiles</th>\n",
       "      <th>act</th>\n",
       "    </tr>\n",
       "  </thead>\n",
       "  <tbody>\n",
       "  </tbody>\n",
       "</table>\n",
       "</div>"
      ],
      "text/plain": [
       "Empty DataFrame\n",
       "Columns: [nr, smiles, act]\n",
       "Index: []"
      ]
     },
     "metadata": {},
     "output_type": "display_data"
    },
    {
     "data": {
      "text/html": [
       "<div>\n",
       "<style scoped>\n",
       "    .dataframe tbody tr th:only-of-type {\n",
       "        vertical-align: middle;\n",
       "    }\n",
       "\n",
       "    .dataframe tbody tr th {\n",
       "        vertical-align: top;\n",
       "    }\n",
       "\n",
       "    .dataframe thead th {\n",
       "        text-align: right;\n",
       "    }\n",
       "</style>\n",
       "<table border=\"1\" class=\"dataframe\">\n",
       "  <thead>\n",
       "    <tr style=\"text-align: right;\">\n",
       "      <th></th>\n",
       "      <th>nr</th>\n",
       "      <th>smiles</th>\n",
       "      <th>act</th>\n",
       "    </tr>\n",
       "  </thead>\n",
       "  <tbody>\n",
       "  </tbody>\n",
       "</table>\n",
       "</div>"
      ],
      "text/plain": [
       "Empty DataFrame\n",
       "Columns: [nr, smiles, act]\n",
       "Index: []"
      ]
     },
     "metadata": {},
     "output_type": "display_data"
    },
    {
     "data": {
      "text/html": [
       "<div>\n",
       "<style scoped>\n",
       "    .dataframe tbody tr th:only-of-type {\n",
       "        vertical-align: middle;\n",
       "    }\n",
       "\n",
       "    .dataframe tbody tr th {\n",
       "        vertical-align: top;\n",
       "    }\n",
       "\n",
       "    .dataframe thead th {\n",
       "        text-align: right;\n",
       "    }\n",
       "</style>\n",
       "<table border=\"1\" class=\"dataframe\">\n",
       "  <thead>\n",
       "    <tr style=\"text-align: right;\">\n",
       "      <th></th>\n",
       "      <th>nr</th>\n",
       "      <th>smiles</th>\n",
       "      <th>act</th>\n",
       "    </tr>\n",
       "  </thead>\n",
       "  <tbody>\n",
       "  </tbody>\n",
       "</table>\n",
       "</div>"
      ],
      "text/plain": [
       "Empty DataFrame\n",
       "Columns: [nr, smiles, act]\n",
       "Index: []"
      ]
     },
     "metadata": {},
     "output_type": "display_data"
    }
   ],
   "source": [
    "# check for missing values (i.e. NA values)\n",
    "\n",
    "display(dataframe[dataframe['smiles'].isnull()])\n",
    "display(dataframe[dataframe['act'].isnull()])\n",
    "display(dataframe[dataframe['nr'].isnull()])"
   ]
  },
  {
   "cell_type": "code",
   "execution_count": 211,
   "metadata": {
    "colab": {},
    "colab_type": "code",
    "id": "oFu7W-IlSEaN"
   },
   "outputs": [
    {
     "name": "stdout",
     "output_type": "stream",
     "text": [
      "188\n"
     ]
    }
   ],
   "source": [
    "# filter out Smiles which produce error messages in rdkit\n",
    "\n",
    "bad_smiles = []\n",
    "\n",
    "for k in range(len(dataframe[\"smiles\"].values)):\n",
    "\n",
    "    smiles = dataframe[\"smiles\"].values[k]\n",
    "    \n",
    "    sio = sys.stderr = StringIO()\n",
    "    Chem.MolFromSmiles(smiles)\n",
    "    error_message = sio.getvalue()\n",
    "    \n",
    "    if error_message != \"\" and error_message[0:13] != \"RDKit WARNING\":\n",
    "        print(k)\n",
    "        print(error_message)\n",
    "        print(smiles, \"\\n \\n \\n \\n\")\n",
    "        bad_smiles.append(smiles)\n",
    "\n",
    "dataframe = dataframe[dataframe[\"smiles\"].isin(bad_smiles) == False]\n",
    "\n",
    "print(len(dataframe))"
   ]
  },
  {
   "cell_type": "code",
   "execution_count": 212,
   "metadata": {},
   "outputs": [
    {
     "name": "stdout",
     "output_type": "stream",
     "text": [
      "N_positive =  125\n",
      "N_negative =  63\n",
      "Total fraction of positives =  0.6648936170212766\n"
     ]
    }
   ],
   "source": [
    "# compute number of positive and negative instances\n",
    "\n",
    "N_positive = int(np.sum(dataframe[\"act\"].values))\n",
    "N_negative = len(dataframe[\"act\"]) - N_positive\n",
    "\n",
    "print(\"N_positive = \", N_positive)\n",
    "print(\"N_negative = \", N_negative)\n",
    "print(\"Total fraction of positives = \", N_positive/(N_positive + N_negative))"
   ]
  },
  {
   "cell_type": "code",
   "execution_count": 116,
   "metadata": {
    "colab": {},
    "colab_type": "code",
    "executionInfo": {
     "elapsed": 645,
     "status": "ok",
     "timestamp": 1599869440512,
     "user": {
      "displayName": "Markus Dablander",
      "photoUrl": "",
      "userId": "13467664559539683865"
     },
     "user_tz": -120
    },
    "id": "X2XcwuHnSEaT"
   },
   "outputs": [
    {
     "name": "stdout",
     "output_type": "stream",
     "text": [
      "N_positive_delete =  62\n"
     ]
    }
   ],
   "source": [
    "# create balanced data set by undersampling the positive class so that number of molecules becomes exactly the same in each class\n",
    "\n",
    "N_positive_delete = len(dataframe[\"act\"].values) - 2*len(dataframe[dataframe[\"act\"] == 0].values)\n",
    "\n",
    "dataframe = dataframe.drop(dataframe[dataframe[\"act\"] == 1].sample(n = N_positive_delete, random_state = 42).index)\n",
    "\n",
    "print(\"N_positive_delete = \", N_positive_delete)"
   ]
  },
  {
   "cell_type": "code",
   "execution_count": 117,
   "metadata": {},
   "outputs": [
    {
     "name": "stdout",
     "output_type": "stream",
     "text": [
      "Number of Molecules =  126\n"
     ]
    }
   ],
   "source": [
    "# define number of molecules\n",
    "\n",
    "N_molecules = len(dataframe[\"smiles\"].values)\n",
    "\n",
    "print(\"Number of Molecules = \", N_molecules)"
   ]
  },
  {
   "cell_type": "code",
   "execution_count": 118,
   "metadata": {
    "colab": {
     "base_uri": "https://localhost:8080/",
     "height": 90
    },
    "colab_type": "code",
    "executionInfo": {
     "elapsed": 771,
     "status": "ok",
     "timestamp": 1599869443976,
     "user": {
      "displayName": "Markus Dablander",
      "photoUrl": "",
      "userId": "13467664559539683865"
     },
     "user_tz": -120
    },
    "id": "M1aIBqplSEaq",
    "outputId": "d9c43474-c7b7-4622-da65-6ebe36c9c3a1"
   },
   "outputs": [
    {
     "name": "stdout",
     "output_type": "stream",
     "text": [
      "Number of Positives =  63\n",
      "Fraction of Positives =  0.5\n",
      "Shape of y =  (126,)\n",
      "Shape of Y =  (126, 1)\n",
      "\n",
      " y =  [0 0 1 0 1 0 1 0 1 0 1 0 0 1 1 1 1 1 1 0 0 0 0 0 0 1 1 1 1 0 1 1 0 1 0 0 1\n",
      " 1 0 1 1 0 1 0 0 0 1 1 1 0 1 1 0 0 1 1 0 1 0 1 1 1 1 1 0 0 0 0 1 0 1 1 0 0\n",
      " 1 0 0 1 1 1 0 0 0 0 0 0 1 0 0 0 0 0 0 1 0 1 1 0 1 1 0 0 0 1 1 1 0 1 1 1 1\n",
      " 1 1 0 1 1 0 1 0 1 0 0 0 0 1 0]\n"
     ]
    }
   ],
   "source": [
    "# construct target variable y/Y (hERG inhibition)\n",
    "\n",
    "# extract labels\n",
    "y = dataframe.loc[:,\"act\"].values\n",
    "Y = np.reshape(y, (len(y), 1))\n",
    "\n",
    "print(\"Number of Positives = \", np.sum(y))\n",
    "print(\"Fraction of Positives = \", np.sum(y)/N_molecules)\n",
    "\n",
    "\n",
    "print(\"Shape of y = \", y.shape)\n",
    "print(\"Shape of Y = \", Y.shape)\n",
    "\n",
    "print(\"\\n y = \", y)\n"
   ]
  },
  {
   "cell_type": "code",
   "execution_count": 119,
   "metadata": {
    "colab": {
     "base_uri": "https://localhost:8080/",
     "height": 222
    },
    "colab_type": "code",
    "executionInfo": {
     "elapsed": 444,
     "status": "ok",
     "timestamp": 1599869444377,
     "user": {
      "displayName": "Markus Dablander",
      "photoUrl": "",
      "userId": "13467664559539683865"
     },
     "user_tz": -120
    },
    "id": "PB82_jFUSEav",
    "outputId": "f151bbf0-8894-45c1-bd95-e747bc7c74b5"
   },
   "outputs": [
    {
     "name": "stdout",
     "output_type": "stream",
     "text": [
      "                  Smiles String\n",
      "c1cc2cccnc2c(c1)[N+](=O)[O-]\n"
     ]
    },
    {
     "data": {
      "image/png": "[encoded data removed]",
      "text/plain": [
       "<rdkit.Chem.rdchem.Mol at 0x7fee0c2baf30>"
      ]
     },
     "metadata": {},
     "output_type": "display_data"
    },
    {
     "name": "stdout",
     "output_type": "stream",
     "text": [
      "Shape of x_smiles =  (126,)\n",
      "Shape of X_smiles =  (126, 1)\n",
      "\n",
      " x_smiles =  ['c1cc2cccnc2c(c1)[N+](=O)[O-]' 'c1cc2c(cccn2)c(c1)[N+](=O)[O-]'\n",
      " 'c1ccc-2c(c1)-c3cccc4c3c2c(cc4)[N+](=O)[O-]' 'c1cc(c(cc1F)[N+](=O)[O-])F'\n",
      " 'c1cc2c(cc(c3c2c4c1c(cc(c4cc3)[N+](=O)[O-])[N+](=O)[O-])[N+](=O)[O-])[N+](=O)[O-]'\n",
      " 'Cc1cc(ccc1[N+](=O)[O-])c2ccccc2'\n",
      " 'CC(=O)Oc1ccc-2c(c1)Cc3c2ccc(c3)[N+](=O)[O-]'\n",
      " 'C1=CC2=NC=NC2C=C1[N+](=O)[O-]'\n",
      " 'c1cc2ccc(c3c2c4c1ccc(c4cc3)N)[N+](=O)[O-]'\n",
      " 'C[N+]1=C2C=C(C=CC2C=N1)[N+](=O)[O-]']\n"
     ]
    }
   ],
   "source": [
    "# extract Smiles strings\n",
    "\n",
    "X_smiles = np.reshape(dataframe[\"smiles\"].values, (N_molecules, 1))\n",
    "x_smiles = X_smiles[:,0]\n",
    "\n",
    "print(\"                  Smiles String\")\n",
    "print(X_smiles[0:1][0][0])\n",
    "\n",
    "for s in x_smiles[0:1]:\n",
    "    molecule = Chem.MolFromSmiles(s)\n",
    "    display(molecule)\n",
    "    \n",
    "print(\"Shape of x_smiles = \", x_smiles.shape)\n",
    "print(\"Shape of X_smiles = \", X_smiles.shape)\n",
    "\n",
    "print(\"\\n x_smiles = \", x_smiles[0:10])"
   ]
  },
  {
   "cell_type": "markdown",
   "metadata": {
    "collapsed": "true"
   },
   "source": [
    "## Prepare Data: Paper_2017_Life_Extension"
   ]
  },
  {
   "cell_type": "code",
   "execution_count": 220,
   "metadata": {
    "colab": {
     "base_uri": "https://localhost:8080/",
     "height": 225
    },
    "colab_type": "code",
    "executionInfo": {
     "elapsed": 429,
     "status": "ok",
     "timestamp": 1599869437487,
     "user": {
      "displayName": "Markus Dablander",
      "photoUrl": "",
      "userId": "13467664559539683865"
     },
     "user_tz": -120
    },
    "id": "FpdNzlmISEaA",
    "outputId": "c37aae09-ccfe-4f8a-dccc-6006309b2074"
   },
   "outputs": [
    {
     "name": "stdout",
     "output_type": "stream",
     "text": [
      "Number of Molecules =  1395\n"
     ]
    },
    {
     "data": {
      "text/html": [
       "<div>\n",
       "<style scoped>\n",
       "    .dataframe tbody tr th:only-of-type {\n",
       "        vertical-align: middle;\n",
       "    }\n",
       "\n",
       "    .dataframe tbody tr th {\n",
       "        vertical-align: top;\n",
       "    }\n",
       "\n",
       "    .dataframe thead th {\n",
       "        text-align: right;\n",
       "    }\n",
       "</style>\n",
       "<table border=\"1\" class=\"dataframe\">\n",
       "  <thead>\n",
       "    <tr style=\"text-align: right;\">\n",
       "      <th></th>\n",
       "      <th>nr</th>\n",
       "      <th>chemical_name</th>\n",
       "      <th>smiles</th>\n",
       "      <th>Reference</th>\n",
       "      <th>act</th>\n",
       "    </tr>\n",
       "  </thead>\n",
       "  <tbody>\n",
       "    <tr>\n",
       "      <th>0</th>\n",
       "      <td>0</td>\n",
       "      <td>Succinimide</td>\n",
       "      <td>O=C1NC(=O)CC1</td>\n",
       "      <td>Evason, K. et al., 2005. Anticonvulsant medica...</td>\n",
       "      <td>0</td>\n",
       "    </tr>\n",
       "    <tr>\n",
       "      <th>1</th>\n",
       "      <td>1</td>\n",
       "      <td>Flurazepam dihydrochloride</td>\n",
       "      <td>Clc1cc2c(N(CCN(CC)CC)C(=O)CN=C2c2ccccc2F)cc1</td>\n",
       "      <td>Kornfeld, K. &amp; Evason, K., 2006. Effects of an...</td>\n",
       "      <td>0</td>\n",
       "    </tr>\n",
       "    <tr>\n",
       "      <th>2</th>\n",
       "      <td>2</td>\n",
       "      <td>Betamethasone 17-valerate</td>\n",
       "      <td>FC12[C@@H]([C@@H]3C[C@H](C)C(OC(=O)CCCC)(C(=O)...</td>\n",
       "      <td>Kornfeld, K. &amp; Evason, K., 2006. Effects of an...</td>\n",
       "      <td>0</td>\n",
       "    </tr>\n",
       "    <tr>\n",
       "      <th>3</th>\n",
       "      <td>3</td>\n",
       "      <td>Liothyronine sodium salt</td>\n",
       "      <td>Ic1cc(cc(I)c1Oc1cc(I)c(O)cc1)C[C@@H](N)C(O)=O</td>\n",
       "      <td>Kornfeld, K. &amp; Evason, K., 2006. Effects of an...</td>\n",
       "      <td>0</td>\n",
       "    </tr>\n",
       "    <tr>\n",
       "      <th>4</th>\n",
       "      <td>4</td>\n",
       "      <td>Nadolol</td>\n",
       "      <td>O(C[C@H](O)CNC(C)(C)C)c1c2C[C@@H](O)[C@@H](O)C...</td>\n",
       "      <td>Kornfeld, K. &amp; Evason, K., 2006. Effects of an...</td>\n",
       "      <td>0</td>\n",
       "    </tr>\n",
       "    <tr>\n",
       "      <th>...</th>\n",
       "      <td>...</td>\n",
       "      <td>...</td>\n",
       "      <td>...</td>\n",
       "      <td>...</td>\n",
       "      <td>...</td>\n",
       "    </tr>\n",
       "    <tr>\n",
       "      <th>1390</th>\n",
       "      <td>1390</td>\n",
       "      <td>Ribose</td>\n",
       "      <td>C([C@@H]1[C@H]([C@H](C(O1)O)O)O)O</td>\n",
       "      <td>Barardo et al, The DrugAge database of aging-r...</td>\n",
       "      <td>1</td>\n",
       "    </tr>\n",
       "    <tr>\n",
       "      <th>1391</th>\n",
       "      <td>1391</td>\n",
       "      <td>Xylose</td>\n",
       "      <td>C1[C@H]([C@@H]([C@H]([C@H](O1)O)O)O)O</td>\n",
       "      <td>Barardo et al, The DrugAge database of aging-r...</td>\n",
       "      <td>1</td>\n",
       "    </tr>\n",
       "    <tr>\n",
       "      <th>1392</th>\n",
       "      <td>1392</td>\n",
       "      <td>Galactose</td>\n",
       "      <td>C([C@@H]1[C@@H]([C@@H]([C@H]([C@H](O1)O)O)O)O)O</td>\n",
       "      <td>Barardo et al, The DrugAge database of aging-r...</td>\n",
       "      <td>1</td>\n",
       "    </tr>\n",
       "    <tr>\n",
       "      <th>1393</th>\n",
       "      <td>1393</td>\n",
       "      <td>(S)-2-hydroxyglutarate</td>\n",
       "      <td>OC(=O)CC[C@H](O)C(O)=O</td>\n",
       "      <td>Barardo et al, The DrugAge database of aging-r...</td>\n",
       "      <td>1</td>\n",
       "    </tr>\n",
       "    <tr>\n",
       "      <th>1394</th>\n",
       "      <td>1394</td>\n",
       "      <td>Epicatechin</td>\n",
       "      <td>O1c2c(C[C@@H](O)[C@H]1c1cc(O)c(O)cc1)c(O)cc(O)c2</td>\n",
       "      <td>Barardo et al, The DrugAge database of aging-r...</td>\n",
       "      <td>1</td>\n",
       "    </tr>\n",
       "  </tbody>\n",
       "</table>\n",
       "<p>1395 rows × 5 columns</p>\n",
       "</div>"
      ],
      "text/plain": [
       "        nr               chemical_name  \\\n",
       "0        0                 Succinimide   \n",
       "1        1  Flurazepam dihydrochloride   \n",
       "2        2   Betamethasone 17-valerate   \n",
       "3        3    Liothyronine sodium salt   \n",
       "4        4                     Nadolol   \n",
       "...    ...                         ...   \n",
       "1390  1390                      Ribose   \n",
       "1391  1391                      Xylose   \n",
       "1392  1392                   Galactose   \n",
       "1393  1393      (S)-2-hydroxyglutarate   \n",
       "1394  1394                 Epicatechin   \n",
       "\n",
       "                                                 smiles  \\\n",
       "0                                         O=C1NC(=O)CC1   \n",
       "1          Clc1cc2c(N(CCN(CC)CC)C(=O)CN=C2c2ccccc2F)cc1   \n",
       "2     FC12[C@@H]([C@@H]3C[C@H](C)C(OC(=O)CCCC)(C(=O)...   \n",
       "3         Ic1cc(cc(I)c1Oc1cc(I)c(O)cc1)C[C@@H](N)C(O)=O   \n",
       "4     O(C[C@H](O)CNC(C)(C)C)c1c2C[C@@H](O)[C@@H](O)C...   \n",
       "...                                                 ...   \n",
       "1390                  C([C@@H]1[C@H]([C@H](C(O1)O)O)O)O   \n",
       "1391              C1[C@H]([C@@H]([C@H]([C@H](O1)O)O)O)O   \n",
       "1392    C([C@@H]1[C@@H]([C@@H]([C@H]([C@H](O1)O)O)O)O)O   \n",
       "1393                             OC(=O)CC[C@H](O)C(O)=O   \n",
       "1394   O1c2c(C[C@@H](O)[C@H]1c1cc(O)c(O)cc1)c(O)cc(O)c2   \n",
       "\n",
       "                                              Reference  act  \n",
       "0     Evason, K. et al., 2005. Anticonvulsant medica...    0  \n",
       "1     Kornfeld, K. & Evason, K., 2006. Effects of an...    0  \n",
       "2     Kornfeld, K. & Evason, K., 2006. Effects of an...    0  \n",
       "3     Kornfeld, K. & Evason, K., 2006. Effects of an...    0  \n",
       "4     Kornfeld, K. & Evason, K., 2006. Effects of an...    0  \n",
       "...                                                 ...  ...  \n",
       "1390  Barardo et al, The DrugAge database of aging-r...    1  \n",
       "1391  Barardo et al, The DrugAge database of aging-r...    1  \n",
       "1392  Barardo et al, The DrugAge database of aging-r...    1  \n",
       "1393  Barardo et al, The DrugAge database of aging-r...    1  \n",
       "1394  Barardo et al, The DrugAge database of aging-r...    1  \n",
       "\n",
       "[1395 rows x 5 columns]"
      ]
     },
     "metadata": {},
     "output_type": "display_data"
    }
   ],
   "source": [
    "# import data\n",
    "\n",
    "dataframe = pd.read_csv(\"data//Paper_2017_Life_Extension/2017_Life_Extension.csv\")\n",
    "\n",
    "print(\"Number of Molecules = \", len(dataframe))\n",
    "display(dataframe)"
   ]
  },
  {
   "cell_type": "code",
   "execution_count": 221,
   "metadata": {
    "colab": {
     "base_uri": "https://localhost:8080/",
     "height": 276
    },
    "colab_type": "code",
    "executionInfo": {
     "elapsed": 2024,
     "status": "ok",
     "timestamp": 1599858873012,
     "user": {
      "displayName": "Markus Dablander",
      "photoUrl": "",
      "userId": "13467664559539683865"
     },
     "user_tz": -120
    },
    "id": "BIm1m_9NSEaG",
    "outputId": "b8cea951-b524-4fc0-c760-db6be2b78673"
   },
   "outputs": [
    {
     "data": {
      "text/html": [
       "<div>\n",
       "<style scoped>\n",
       "    .dataframe tbody tr th:only-of-type {\n",
       "        vertical-align: middle;\n",
       "    }\n",
       "\n",
       "    .dataframe tbody tr th {\n",
       "        vertical-align: top;\n",
       "    }\n",
       "\n",
       "    .dataframe thead th {\n",
       "        text-align: right;\n",
       "    }\n",
       "</style>\n",
       "<table border=\"1\" class=\"dataframe\">\n",
       "  <thead>\n",
       "    <tr style=\"text-align: right;\">\n",
       "      <th></th>\n",
       "      <th>nr</th>\n",
       "      <th>chemical_name</th>\n",
       "      <th>smiles</th>\n",
       "      <th>Reference</th>\n",
       "      <th>act</th>\n",
       "    </tr>\n",
       "  </thead>\n",
       "  <tbody>\n",
       "  </tbody>\n",
       "</table>\n",
       "</div>"
      ],
      "text/plain": [
       "Empty DataFrame\n",
       "Columns: [nr, chemical_name, smiles, Reference, act]\n",
       "Index: []"
      ]
     },
     "metadata": {},
     "output_type": "display_data"
    },
    {
     "data": {
      "text/html": [
       "<div>\n",
       "<style scoped>\n",
       "    .dataframe tbody tr th:only-of-type {\n",
       "        vertical-align: middle;\n",
       "    }\n",
       "\n",
       "    .dataframe tbody tr th {\n",
       "        vertical-align: top;\n",
       "    }\n",
       "\n",
       "    .dataframe thead th {\n",
       "        text-align: right;\n",
       "    }\n",
       "</style>\n",
       "<table border=\"1\" class=\"dataframe\">\n",
       "  <thead>\n",
       "    <tr style=\"text-align: right;\">\n",
       "      <th></th>\n",
       "      <th>nr</th>\n",
       "      <th>chemical_name</th>\n",
       "      <th>smiles</th>\n",
       "      <th>Reference</th>\n",
       "      <th>act</th>\n",
       "    </tr>\n",
       "  </thead>\n",
       "  <tbody>\n",
       "  </tbody>\n",
       "</table>\n",
       "</div>"
      ],
      "text/plain": [
       "Empty DataFrame\n",
       "Columns: [nr, chemical_name, smiles, Reference, act]\n",
       "Index: []"
      ]
     },
     "metadata": {},
     "output_type": "display_data"
    },
    {
     "data": {
      "text/html": [
       "<div>\n",
       "<style scoped>\n",
       "    .dataframe tbody tr th:only-of-type {\n",
       "        vertical-align: middle;\n",
       "    }\n",
       "\n",
       "    .dataframe tbody tr th {\n",
       "        vertical-align: top;\n",
       "    }\n",
       "\n",
       "    .dataframe thead th {\n",
       "        text-align: right;\n",
       "    }\n",
       "</style>\n",
       "<table border=\"1\" class=\"dataframe\">\n",
       "  <thead>\n",
       "    <tr style=\"text-align: right;\">\n",
       "      <th></th>\n",
       "      <th>nr</th>\n",
       "      <th>chemical_name</th>\n",
       "      <th>smiles</th>\n",
       "      <th>Reference</th>\n",
       "      <th>act</th>\n",
       "    </tr>\n",
       "  </thead>\n",
       "  <tbody>\n",
       "  </tbody>\n",
       "</table>\n",
       "</div>"
      ],
      "text/plain": [
       "Empty DataFrame\n",
       "Columns: [nr, chemical_name, smiles, Reference, act]\n",
       "Index: []"
      ]
     },
     "metadata": {},
     "output_type": "display_data"
    },
    {
     "data": {
      "text/html": [
       "<div>\n",
       "<style scoped>\n",
       "    .dataframe tbody tr th:only-of-type {\n",
       "        vertical-align: middle;\n",
       "    }\n",
       "\n",
       "    .dataframe tbody tr th {\n",
       "        vertical-align: top;\n",
       "    }\n",
       "\n",
       "    .dataframe thead th {\n",
       "        text-align: right;\n",
       "    }\n",
       "</style>\n",
       "<table border=\"1\" class=\"dataframe\">\n",
       "  <thead>\n",
       "    <tr style=\"text-align: right;\">\n",
       "      <th></th>\n",
       "      <th>nr</th>\n",
       "      <th>chemical_name</th>\n",
       "      <th>smiles</th>\n",
       "      <th>Reference</th>\n",
       "      <th>act</th>\n",
       "    </tr>\n",
       "  </thead>\n",
       "  <tbody>\n",
       "  </tbody>\n",
       "</table>\n",
       "</div>"
      ],
      "text/plain": [
       "Empty DataFrame\n",
       "Columns: [nr, chemical_name, smiles, Reference, act]\n",
       "Index: []"
      ]
     },
     "metadata": {},
     "output_type": "display_data"
    }
   ],
   "source": [
    "# check for missing values (i.e. NA values)\n",
    "\n",
    "display(dataframe[dataframe['smiles'].isnull()])\n",
    "display(dataframe[dataframe['act'].isnull()])\n",
    "display(dataframe[dataframe['nr'].isnull()])\n",
    "display(dataframe[dataframe['chemical_name'].isnull()])"
   ]
  },
  {
   "cell_type": "code",
   "execution_count": 222,
   "metadata": {
    "colab": {},
    "colab_type": "code",
    "id": "oFu7W-IlSEaN"
   },
   "outputs": [
    {
     "name": "stdout",
     "output_type": "stream",
     "text": [
      "1395\n"
     ]
    }
   ],
   "source": [
    "# filter out Smiles which produce error messages in rdkit\n",
    "\n",
    "bad_smiles = []\n",
    "\n",
    "for k in range(len(dataframe[\"smiles\"].values)):\n",
    "\n",
    "    smiles = dataframe[\"smiles\"].values[k]\n",
    "    \n",
    "    sio = sys.stderr = StringIO()\n",
    "    Chem.MolFromSmiles(smiles)\n",
    "    error_message = sio.getvalue()\n",
    "    \n",
    "    if error_message != \"\" and error_message[0:13] != \"RDKit WARNING\":\n",
    "        print(k)\n",
    "        print(error_message)\n",
    "        print(smiles, \"\\n \\n \\n \\n\")\n",
    "        bad_smiles.append(smiles)\n",
    "\n",
    "dataframe = dataframe[dataframe[\"smiles\"].isin(bad_smiles) == False]\n",
    "\n",
    "print(len(dataframe))"
   ]
  },
  {
   "cell_type": "code",
   "execution_count": 223,
   "metadata": {},
   "outputs": [
    {
     "name": "stdout",
     "output_type": "stream",
     "text": [
      "N_positive =  229\n",
      "N_negative =  1166\n",
      "Total fraction of positives =  0.16415770609318997\n"
     ]
    }
   ],
   "source": [
    "# compute number of positive and negative instances\n",
    "\n",
    "N_positive = int(np.sum(dataframe[\"act\"].values))\n",
    "N_negative = len(dataframe[\"act\"]) - N_positive\n",
    "\n",
    "print(\"N_positive = \", N_positive)\n",
    "print(\"N_negative = \", N_negative)\n",
    "print(\"Total fraction of positives = \", N_positive/(N_positive + N_negative))"
   ]
  },
  {
   "cell_type": "code",
   "execution_count": 124,
   "metadata": {
    "colab": {},
    "colab_type": "code",
    "executionInfo": {
     "elapsed": 645,
     "status": "ok",
     "timestamp": 1599869440512,
     "user": {
      "displayName": "Markus Dablander",
      "photoUrl": "",
      "userId": "13467664559539683865"
     },
     "user_tz": -120
    },
    "id": "X2XcwuHnSEaT"
   },
   "outputs": [
    {
     "name": "stdout",
     "output_type": "stream",
     "text": [
      "N_negative_delete =  937\n"
     ]
    }
   ],
   "source": [
    "# create balanced data set by undersampling the negative class so that number of molecules becomes exactly the same in each class\n",
    "\n",
    "N_negative_delete = len(dataframe[\"act\"].values) - 2*len(dataframe[dataframe[\"act\"] == 1].values)\n",
    "\n",
    "dataframe = dataframe.drop(dataframe[dataframe[\"act\"] == 0].sample(n = N_negative_delete, random_state = 42).index)\n",
    "\n",
    "print(\"N_negative_delete = \", N_negative_delete) "
   ]
  },
  {
   "cell_type": "code",
   "execution_count": 125,
   "metadata": {},
   "outputs": [
    {
     "name": "stdout",
     "output_type": "stream",
     "text": [
      "Number of Molecules =  458\n"
     ]
    }
   ],
   "source": [
    "# define number of molecules\n",
    "\n",
    "N_molecules = len(dataframe[\"smiles\"].values)\n",
    "\n",
    "print(\"Number of Molecules = \", N_molecules)"
   ]
  },
  {
   "cell_type": "code",
   "execution_count": 126,
   "metadata": {
    "colab": {
     "base_uri": "https://localhost:8080/",
     "height": 90
    },
    "colab_type": "code",
    "executionInfo": {
     "elapsed": 771,
     "status": "ok",
     "timestamp": 1599869443976,
     "user": {
      "displayName": "Markus Dablander",
      "photoUrl": "",
      "userId": "13467664559539683865"
     },
     "user_tz": -120
    },
    "id": "M1aIBqplSEaq",
    "outputId": "d9c43474-c7b7-4622-da65-6ebe36c9c3a1"
   },
   "outputs": [
    {
     "name": "stdout",
     "output_type": "stream",
     "text": [
      "Number of Positives =  229\n",
      "Fraction of Positives =  0.5\n",
      "Shape of y =  (458,)\n",
      "Shape of Y =  (458, 1)\n",
      "\n",
      " y =  [0 0 0 0 0 0 0 0 0 0 0 0 0 0 0 0 0 0 0 0 0 0 0 0 0 0 0 0 0 0 0 0 0 0 0 0 0\n",
      " 0 0 0 0 0 0 0 0 0 0 0 0 0 0 0 0 0 0 0 0 0 0 0 0 0 0 0 0 0 0 0 0 0 0 0 0 0\n",
      " 0 0 0 0 0 0 0 0 0 0 0 0 0 0 0 0 0 0 0 0 0 0 0 0 0 0 0 0 0 0 0 0 0 0 0 0 0\n",
      " 0 0 0 0 0 0 0 0 0 0 0 0 0 0 0 0 0 0 0 0 0 0 0 0 0 0 0 0 0 0 0 0 0 0 0 0 0\n",
      " 0 0 0 0 0 0 0 0 0 0 0 0 0 0 0 0 0 0 0 0 0 0 0 0 0 0 0 0 0 0 0 0 0 0 0 0 0\n",
      " 0 0 0 0 0 0 0 0 0 0 0 0 0 0 0 0 0 0 0 0 0 0 0 0 0 0 0 0 0 0 0 0 0 0 0 0 0\n",
      " 0 0 0 0 0 0 0 1 1 1 1 1 1 1 1 1 1 1 1 1 1 1 1 1 1 1 1 1 1 1 1 1 1 1 1 1 1\n",
      " 1 1 1 1 1 1 1 1 1 1 1 1 1 1 1 1 1 1 1 1 1 1 1 1 1 1 1 1 1 1 1 1 1 1 1 1 1\n",
      " 1 1 1 1 1 1 1 1 1 1 1 1 1 1 1 1 1 1 1 1 1 1 1 1 1 1 1 1 1 1 1 1 1 1 1 1 1\n",
      " 1 1 1 1 1 1 1 1 1 1 1 1 1 1 1 1 1 1 1 1 1 1 1 1 1 1 1 1 1 1 1 1 1 1 1 1 1\n",
      " 1 1 1 1 1 1 1 1 1 1 1 1 1 1 1 1 1 1 1 1 1 1 1 1 1 1 1 1 1 1 1 1 1 1 1 1 1\n",
      " 1 1 1 1 1 1 1 1 1 1 1 1 1 1 1 1 1 1 1 1 1 1 1 1 1 1 1 1 1 1 1 1 1 1 1 1 1\n",
      " 1 1 1 1 1 1 1 1 1 1 1 1 1 1]\n"
     ]
    }
   ],
   "source": [
    "# construct target variable y/Y (hERG inhibition)\n",
    "\n",
    "# extract labels\n",
    "y = dataframe.loc[:,\"act\"].values\n",
    "Y = np.reshape(y, (len(y), 1))\n",
    "\n",
    "print(\"Number of Positives = \", np.sum(y))\n",
    "print(\"Fraction of Positives = \", np.sum(y)/N_molecules)\n",
    "\n",
    "\n",
    "print(\"Shape of y = \", y.shape)\n",
    "print(\"Shape of Y = \", Y.shape)\n",
    "\n",
    "print(\"\\n y = \", y)\n"
   ]
  },
  {
   "cell_type": "code",
   "execution_count": 127,
   "metadata": {
    "colab": {
     "base_uri": "https://localhost:8080/",
     "height": 222
    },
    "colab_type": "code",
    "executionInfo": {
     "elapsed": 444,
     "status": "ok",
     "timestamp": 1599869444377,
     "user": {
      "displayName": "Markus Dablander",
      "photoUrl": "",
      "userId": "13467664559539683865"
     },
     "user_tz": -120
    },
    "id": "PB82_jFUSEav",
    "outputId": "f151bbf0-8894-45c1-bd95-e747bc7c74b5"
   },
   "outputs": [
    {
     "name": "stdout",
     "output_type": "stream",
     "text": [
      "                  Smiles String\n",
      "Clc1cc2c(N(CCN(CC)CC)C(=O)CN=C2c2ccccc2F)cc1\n"
     ]
    },
    {
     "data": {
      "image/png": "[encoded data removed]",
      "text/plain": [
       "<rdkit.Chem.rdchem.Mol at 0x7fee0c09b1c0>"
      ]
     },
     "metadata": {},
     "output_type": "display_data"
    },
    {
     "name": "stdout",
     "output_type": "stream",
     "text": [
      "Shape of x_smiles =  (458,)\n",
      "Shape of X_smiles =  (458, 1)\n",
      "\n",
      " x_smiles =  ['Clc1cc2c(N(CCN(CC)CC)C(=O)CN=C2c2ccccc2F)cc1' 'OC(=O)c1ccc(N)cc1'\n",
      " 'OC(=O)CCC(=O)c1ccc(cc1)-c1ccccc1'\n",
      " 'O1CCN(CC1)C[C@@H](NC(=O)CCCCCCCCC)[C@H](O)c1ccccc1'\n",
      " '[Hg](Cl)c1ccc(cc1)C(O)=O' '[nH]1ncc2c1C[C@H]1[C@@H](N(CCC1)CCC)C2'\n",
      " 'Br\\\\C=C\\\\C1=CN([C@H]2O[C@H](CO)[C@H](O)C2)C(=O)NC1=O'\n",
      " 'Brc1ccc(cc1)\\\\C(=C\\\\CN(C)C)\\\\c1cccnc1'\n",
      " 'ClC=1CS[C@H]2N(C=1C(O)=O)C(=O)[C@@H]2NC(=O)[C@@H](N)c1ccccc1'\n",
      " 'Clc1c2c(cc(O)c1O)[C@H](CN(CC2)CC=C)c1ccccc1']\n"
     ]
    }
   ],
   "source": [
    "# extract Smiles strings\n",
    "\n",
    "X_smiles = np.reshape(dataframe[\"smiles\"].values, (N_molecules, 1))\n",
    "x_smiles = X_smiles[:,0]\n",
    "\n",
    "print(\"                  Smiles String\")\n",
    "print(X_smiles[0:1][0][0])\n",
    "\n",
    "for s in x_smiles[0:1]:\n",
    "    molecule = Chem.MolFromSmiles(s)\n",
    "    display(molecule)\n",
    "    \n",
    "print(\"Shape of x_smiles = \", x_smiles.shape)\n",
    "print(\"Shape of X_smiles = \", X_smiles.shape)\n",
    "\n",
    "print(\"\\n x_smiles = \", x_smiles[0:10])"
   ]
  },
  {
   "cell_type": "markdown",
   "metadata": {
    "collapsed": "true"
   },
   "source": [
    "## Prepare Data: Diamond_Light_Source_Sars_Cov_2_MPro"
   ]
  },
  {
   "cell_type": "code",
   "execution_count": 227,
   "metadata": {
    "colab": {
     "base_uri": "https://localhost:8080/",
     "height": 225
    },
    "colab_type": "code",
    "executionInfo": {
     "elapsed": 429,
     "status": "ok",
     "timestamp": 1599869437487,
     "user": {
      "displayName": "Markus Dablander",
      "photoUrl": "",
      "userId": "13467664559539683865"
     },
     "user_tz": -120
    },
    "id": "FpdNzlmISEaA",
    "outputId": "c37aae09-ccfe-4f8a-dccc-6006309b2074"
   },
   "outputs": [
    {
     "name": "stdout",
     "output_type": "stream",
     "text": [
      "Number of Molecules =  1755\n"
     ]
    },
    {
     "data": {
      "text/html": [
       "<div>\n",
       "<style scoped>\n",
       "    .dataframe tbody tr th:only-of-type {\n",
       "        vertical-align: middle;\n",
       "    }\n",
       "\n",
       "    .dataframe tbody tr th {\n",
       "        vertical-align: top;\n",
       "    }\n",
       "\n",
       "    .dataframe thead th {\n",
       "        text-align: right;\n",
       "    }\n",
       "</style>\n",
       "<table border=\"1\" class=\"dataframe\">\n",
       "  <thead>\n",
       "    <tr style=\"text-align: right;\">\n",
       "      <th></th>\n",
       "      <th>Unnamed: 0</th>\n",
       "      <th>Unnamed: 0.1</th>\n",
       "      <th>CrystalName</th>\n",
       "      <th>CompoundCode</th>\n",
       "      <th>smiles</th>\n",
       "      <th>MountingResult</th>\n",
       "      <th>DataCollectionOutcome</th>\n",
       "      <th>DataProcessingResolutionHigh</th>\n",
       "      <th>RefinementOutcome</th>\n",
       "      <th>Deposition_PDB_ID</th>\n",
       "      <th>Unnamed: 8</th>\n",
       "    </tr>\n",
       "  </thead>\n",
       "  <tbody>\n",
       "    <tr>\n",
       "      <th>0</th>\n",
       "      <td>0</td>\n",
       "      <td>32</td>\n",
       "      <td>Mpro-x0033</td>\n",
       "      <td>Z1992316315</td>\n",
       "      <td>CN1CCN(CCN)CC1(C)C</td>\n",
       "      <td>OK: No comment:No comment</td>\n",
       "      <td>success</td>\n",
       "      <td>1.97</td>\n",
       "      <td>0</td>\n",
       "      <td>None</td>\n",
       "      <td>NaN</td>\n",
       "    </tr>\n",
       "    <tr>\n",
       "      <th>1</th>\n",
       "      <td>1</td>\n",
       "      <td>33</td>\n",
       "      <td>Mpro-x0034</td>\n",
       "      <td>Z1787158625</td>\n",
       "      <td>CC(=O)NC1CCC(N)CC1</td>\n",
       "      <td>OK: No comment:No comment</td>\n",
       "      <td>success</td>\n",
       "      <td>1.91</td>\n",
       "      <td>0</td>\n",
       "      <td>None</td>\n",
       "      <td>NaN</td>\n",
       "    </tr>\n",
       "    <tr>\n",
       "      <th>2</th>\n",
       "      <td>2</td>\n",
       "      <td>34</td>\n",
       "      <td>Mpro-x0035</td>\n",
       "      <td>Z1275599911</td>\n",
       "      <td>CC(=O)N1CCCC2(C1)CCCCCC2</td>\n",
       "      <td>OK: No comment:No comment</td>\n",
       "      <td>success</td>\n",
       "      <td>1.79</td>\n",
       "      <td>0</td>\n",
       "      <td>None</td>\n",
       "      <td>NaN</td>\n",
       "    </tr>\n",
       "    <tr>\n",
       "      <th>3</th>\n",
       "      <td>3</td>\n",
       "      <td>35</td>\n",
       "      <td>Mpro-x0036</td>\n",
       "      <td>Z363104204</td>\n",
       "      <td>CNC(=O)C1=C(C)ON=C1C=2C=CC(F)=CC2</td>\n",
       "      <td>OK: No comment:No comment</td>\n",
       "      <td>success</td>\n",
       "      <td>2.07</td>\n",
       "      <td>0</td>\n",
       "      <td>None</td>\n",
       "      <td>NaN</td>\n",
       "    </tr>\n",
       "    <tr>\n",
       "      <th>4</th>\n",
       "      <td>4</td>\n",
       "      <td>37</td>\n",
       "      <td>Mpro-x0038</td>\n",
       "      <td>Z818727262</td>\n",
       "      <td>C(NC1CC1)C2CCOC2</td>\n",
       "      <td>OK: No comment:No comment</td>\n",
       "      <td>success</td>\n",
       "      <td>2.02</td>\n",
       "      <td>0</td>\n",
       "      <td>None</td>\n",
       "      <td>NaN</td>\n",
       "    </tr>\n",
       "    <tr>\n",
       "      <th>...</th>\n",
       "      <td>...</td>\n",
       "      <td>...</td>\n",
       "      <td>...</td>\n",
       "      <td>...</td>\n",
       "      <td>...</td>\n",
       "      <td>...</td>\n",
       "      <td>...</td>\n",
       "      <td>...</td>\n",
       "      <td>...</td>\n",
       "      <td>...</td>\n",
       "      <td>...</td>\n",
       "    </tr>\n",
       "    <tr>\n",
       "      <th>1750</th>\n",
       "      <td>1750</td>\n",
       "      <td>2392</td>\n",
       "      <td>Mpro-x2897</td>\n",
       "      <td>13 C08</td>\n",
       "      <td>O=C(C=C)N(CCN1C(NCC#C)=O)C2=C1C=CC=C2</td>\n",
       "      <td>OK: Clear:No comment</td>\n",
       "      <td>success</td>\n",
       "      <td>1.86</td>\n",
       "      <td>0</td>\n",
       "      <td>None</td>\n",
       "      <td>NaN</td>\n",
       "    </tr>\n",
       "    <tr>\n",
       "      <th>1751</th>\n",
       "      <td>1751</td>\n",
       "      <td>2393</td>\n",
       "      <td>Mpro-x2898</td>\n",
       "      <td>13 G08</td>\n",
       "      <td>O=C(C=C)N1CCCC2=C1C=CC(C(NCC3=CC=CC=C3)=O)=C2</td>\n",
       "      <td>OK: Clear:No comment</td>\n",
       "      <td>success</td>\n",
       "      <td>1.80</td>\n",
       "      <td>0</td>\n",
       "      <td>None</td>\n",
       "      <td>NaN</td>\n",
       "    </tr>\n",
       "    <tr>\n",
       "      <th>1752</th>\n",
       "      <td>1752</td>\n",
       "      <td>2394</td>\n",
       "      <td>Mpro-x2899</td>\n",
       "      <td>13 C09</td>\n",
       "      <td>O=C(C=C)N1CCN(C(NCCN)=O)C2=C1C=CC=C2</td>\n",
       "      <td>OK: Clear:No comment</td>\n",
       "      <td>success</td>\n",
       "      <td>2.03</td>\n",
       "      <td>0</td>\n",
       "      <td>None</td>\n",
       "      <td>NaN</td>\n",
       "    </tr>\n",
       "    <tr>\n",
       "      <th>1753</th>\n",
       "      <td>1753</td>\n",
       "      <td>2395</td>\n",
       "      <td>Mpro-x2900</td>\n",
       "      <td>13 F09</td>\n",
       "      <td>O=C(NCC#C)C1=CC2=C(N(C(C=C)=O)CCC2)C=C1</td>\n",
       "      <td>OK: Clear:No comment</td>\n",
       "      <td>success</td>\n",
       "      <td>1.92</td>\n",
       "      <td>0</td>\n",
       "      <td>None</td>\n",
       "      <td>NaN</td>\n",
       "    </tr>\n",
       "    <tr>\n",
       "      <th>1754</th>\n",
       "      <td>1754</td>\n",
       "      <td>2396</td>\n",
       "      <td>Mpro-x2901</td>\n",
       "      <td>13 H09</td>\n",
       "      <td>C=CC(N(CCC1)c(cc2)c1cc2C(N)=O)=O</td>\n",
       "      <td>OK: Clear:No comment</td>\n",
       "      <td>success</td>\n",
       "      <td>1.85</td>\n",
       "      <td>0</td>\n",
       "      <td>None</td>\n",
       "      <td>NaN</td>\n",
       "    </tr>\n",
       "  </tbody>\n",
       "</table>\n",
       "<p>1755 rows × 11 columns</p>\n",
       "</div>"
      ],
      "text/plain": [
       "      Unnamed: 0  Unnamed: 0.1 CrystalName CompoundCode  \\\n",
       "0              0            32  Mpro-x0033  Z1992316315   \n",
       "1              1            33  Mpro-x0034  Z1787158625   \n",
       "2              2            34  Mpro-x0035  Z1275599911   \n",
       "3              3            35  Mpro-x0036   Z363104204   \n",
       "4              4            37  Mpro-x0038   Z818727262   \n",
       "...          ...           ...         ...          ...   \n",
       "1750        1750          2392  Mpro-x2897      13 C08    \n",
       "1751        1751          2393  Mpro-x2898       13 G08   \n",
       "1752        1752          2394  Mpro-x2899       13 C09   \n",
       "1753        1753          2395  Mpro-x2900      13 F09    \n",
       "1754        1754          2396  Mpro-x2901       13 H09   \n",
       "\n",
       "                                             smiles  \\\n",
       "0                                CN1CCN(CCN)CC1(C)C   \n",
       "1                                CC(=O)NC1CCC(N)CC1   \n",
       "2                          CC(=O)N1CCCC2(C1)CCCCCC2   \n",
       "3                 CNC(=O)C1=C(C)ON=C1C=2C=CC(F)=CC2   \n",
       "4                                  C(NC1CC1)C2CCOC2   \n",
       "...                                             ...   \n",
       "1750          O=C(C=C)N(CCN1C(NCC#C)=O)C2=C1C=CC=C2   \n",
       "1751  O=C(C=C)N1CCCC2=C1C=CC(C(NCC3=CC=CC=C3)=O)=C2   \n",
       "1752           O=C(C=C)N1CCN(C(NCCN)=O)C2=C1C=CC=C2   \n",
       "1753        O=C(NCC#C)C1=CC2=C(N(C(C=C)=O)CCC2)C=C1   \n",
       "1754               C=CC(N(CCC1)c(cc2)c1cc2C(N)=O)=O   \n",
       "\n",
       "                 MountingResult DataCollectionOutcome  \\\n",
       "0     OK: No comment:No comment               success   \n",
       "1     OK: No comment:No comment               success   \n",
       "2     OK: No comment:No comment               success   \n",
       "3     OK: No comment:No comment               success   \n",
       "4     OK: No comment:No comment               success   \n",
       "...                         ...                   ...   \n",
       "1750       OK: Clear:No comment               success   \n",
       "1751       OK: Clear:No comment               success   \n",
       "1752       OK: Clear:No comment               success   \n",
       "1753       OK: Clear:No comment               success   \n",
       "1754       OK: Clear:No comment               success   \n",
       "\n",
       "      DataProcessingResolutionHigh  RefinementOutcome Deposition_PDB_ID  \\\n",
       "0                             1.97                  0              None   \n",
       "1                             1.91                  0              None   \n",
       "2                             1.79                  0              None   \n",
       "3                             2.07                  0              None   \n",
       "4                             2.02                  0              None   \n",
       "...                            ...                ...               ...   \n",
       "1750                          1.86                  0              None   \n",
       "1751                          1.80                  0              None   \n",
       "1752                          2.03                  0              None   \n",
       "1753                          1.92                  0              None   \n",
       "1754                          1.85                  0              None   \n",
       "\n",
       "     Unnamed: 8  \n",
       "0           NaN  \n",
       "1           NaN  \n",
       "2           NaN  \n",
       "3           NaN  \n",
       "4           NaN  \n",
       "...         ...  \n",
       "1750        NaN  \n",
       "1751        NaN  \n",
       "1752        NaN  \n",
       "1753        NaN  \n",
       "1754        NaN  \n",
       "\n",
       "[1755 rows x 11 columns]"
      ]
     },
     "metadata": {},
     "output_type": "display_data"
    }
   ],
   "source": [
    "# import data\n",
    "\n",
    "dataframe = pd.read_csv(\"data//Diamond_Light_Source_Sars_Cov_2_MPro/Mpro_hits_clean_data.csv\")\n",
    "\n",
    "print(\"Number of Molecules = \", len(dataframe))\n",
    "\n",
    "display(dataframe)"
   ]
  },
  {
   "cell_type": "code",
   "execution_count": 228,
   "metadata": {
    "colab": {
     "base_uri": "https://localhost:8080/",
     "height": 276
    },
    "colab_type": "code",
    "executionInfo": {
     "elapsed": 2024,
     "status": "ok",
     "timestamp": 1599858873012,
     "user": {
      "displayName": "Markus Dablander",
      "photoUrl": "",
      "userId": "13467664559539683865"
     },
     "user_tz": -120
    },
    "id": "BIm1m_9NSEaG",
    "outputId": "b8cea951-b524-4fc0-c760-db6be2b78673"
   },
   "outputs": [
    {
     "data": {
      "text/html": [
       "<div>\n",
       "<style scoped>\n",
       "    .dataframe tbody tr th:only-of-type {\n",
       "        vertical-align: middle;\n",
       "    }\n",
       "\n",
       "    .dataframe tbody tr th {\n",
       "        vertical-align: top;\n",
       "    }\n",
       "\n",
       "    .dataframe thead th {\n",
       "        text-align: right;\n",
       "    }\n",
       "</style>\n",
       "<table border=\"1\" class=\"dataframe\">\n",
       "  <thead>\n",
       "    <tr style=\"text-align: right;\">\n",
       "      <th></th>\n",
       "      <th>Unnamed: 0</th>\n",
       "      <th>Unnamed: 0.1</th>\n",
       "      <th>CrystalName</th>\n",
       "      <th>CompoundCode</th>\n",
       "      <th>smiles</th>\n",
       "      <th>MountingResult</th>\n",
       "      <th>DataCollectionOutcome</th>\n",
       "      <th>DataProcessingResolutionHigh</th>\n",
       "      <th>RefinementOutcome</th>\n",
       "      <th>Deposition_PDB_ID</th>\n",
       "      <th>Unnamed: 8</th>\n",
       "    </tr>\n",
       "  </thead>\n",
       "  <tbody>\n",
       "  </tbody>\n",
       "</table>\n",
       "</div>"
      ],
      "text/plain": [
       "Empty DataFrame\n",
       "Columns: [Unnamed: 0, Unnamed: 0.1, CrystalName, CompoundCode, smiles, MountingResult, DataCollectionOutcome, DataProcessingResolutionHigh, RefinementOutcome, Deposition_PDB_ID, Unnamed: 8]\n",
       "Index: []"
      ]
     },
     "metadata": {},
     "output_type": "display_data"
    },
    {
     "data": {
      "text/html": [
       "<div>\n",
       "<style scoped>\n",
       "    .dataframe tbody tr th:only-of-type {\n",
       "        vertical-align: middle;\n",
       "    }\n",
       "\n",
       "    .dataframe tbody tr th {\n",
       "        vertical-align: top;\n",
       "    }\n",
       "\n",
       "    .dataframe thead th {\n",
       "        text-align: right;\n",
       "    }\n",
       "</style>\n",
       "<table border=\"1\" class=\"dataframe\">\n",
       "  <thead>\n",
       "    <tr style=\"text-align: right;\">\n",
       "      <th></th>\n",
       "      <th>Unnamed: 0</th>\n",
       "      <th>Unnamed: 0.1</th>\n",
       "      <th>CrystalName</th>\n",
       "      <th>CompoundCode</th>\n",
       "      <th>smiles</th>\n",
       "      <th>MountingResult</th>\n",
       "      <th>DataCollectionOutcome</th>\n",
       "      <th>DataProcessingResolutionHigh</th>\n",
       "      <th>RefinementOutcome</th>\n",
       "      <th>Deposition_PDB_ID</th>\n",
       "      <th>Unnamed: 8</th>\n",
       "    </tr>\n",
       "  </thead>\n",
       "  <tbody>\n",
       "  </tbody>\n",
       "</table>\n",
       "</div>"
      ],
      "text/plain": [
       "Empty DataFrame\n",
       "Columns: [Unnamed: 0, Unnamed: 0.1, CrystalName, CompoundCode, smiles, MountingResult, DataCollectionOutcome, DataProcessingResolutionHigh, RefinementOutcome, Deposition_PDB_ID, Unnamed: 8]\n",
       "Index: []"
      ]
     },
     "metadata": {},
     "output_type": "display_data"
    }
   ],
   "source": [
    "# check for missing values (i.e. NA values)\n",
    "\n",
    "display(dataframe[dataframe['smiles'].isnull()])\n",
    "display(dataframe[dataframe['RefinementOutcome'].isnull()])"
   ]
  },
  {
   "cell_type": "code",
   "execution_count": 229,
   "metadata": {
    "colab": {},
    "colab_type": "code",
    "id": "oFu7W-IlSEaN"
   },
   "outputs": [
    {
     "name": "stdout",
     "output_type": "stream",
     "text": [
      "1755\n"
     ]
    }
   ],
   "source": [
    "# filter out Smiles which produce error messages in rdkit\n",
    "\n",
    "bad_smiles = []\n",
    "\n",
    "for k in range(len(dataframe[\"smiles\"].values)):\n",
    "\n",
    "    smiles = dataframe[\"smiles\"].values[k]\n",
    "    \n",
    "    sio = sys.stderr = StringIO()\n",
    "    Chem.MolFromSmiles(smiles)\n",
    "    error_message = sio.getvalue()\n",
    "    \n",
    "    if error_message != \"\" and error_message[0:13] != \"RDKit WARNING\":\n",
    "        print(k)\n",
    "        print(error_message)\n",
    "        print(smiles, \"\\n \\n \\n \\n\")\n",
    "        bad_smiles.append(smiles)\n",
    "\n",
    "dataframe = dataframe[dataframe[\"smiles\"].isin(bad_smiles) == False]\n",
    "\n",
    "print(len(dataframe))"
   ]
  },
  {
   "cell_type": "code",
   "execution_count": 230,
   "metadata": {},
   "outputs": [
    {
     "name": "stdout",
     "output_type": "stream",
     "text": [
      "N_positive =  113\n",
      "N_negative =  1642\n",
      "Total fraction of positives =  0.06438746438746439\n"
     ]
    }
   ],
   "source": [
    "# compute number of positive and negative instances\n",
    "\n",
    "N_positive = int(np.sum(dataframe[\"RefinementOutcome\"].values))\n",
    "N_negative = len(dataframe[\"RefinementOutcome\"]) - N_positive\n",
    "\n",
    "print(\"N_positive = \", N_positive)\n",
    "print(\"N_negative = \", N_negative)\n",
    "print(\"Total fraction of positives = \", N_positive/(N_positive + N_negative))"
   ]
  },
  {
   "cell_type": "code",
   "execution_count": 132,
   "metadata": {
    "colab": {},
    "colab_type": "code",
    "executionInfo": {
     "elapsed": 645,
     "status": "ok",
     "timestamp": 1599869440512,
     "user": {
      "displayName": "Markus Dablander",
      "photoUrl": "",
      "userId": "13467664559539683865"
     },
     "user_tz": -120
    },
    "id": "X2XcwuHnSEaT"
   },
   "outputs": [
    {
     "name": "stdout",
     "output_type": "stream",
     "text": [
      "N_negative_delete =  1529\n"
     ]
    }
   ],
   "source": [
    "# create balanced data set by undersampling the negative class so that number of molecules becomes exactly the same in each class\n",
    "\n",
    "N_negative_delete = len(dataframe[\"RefinementOutcome\"].values) - 2*len(dataframe[dataframe[\"RefinementOutcome\"] == 1].values)\n",
    "\n",
    "dataframe = dataframe.drop(dataframe[dataframe[\"RefinementOutcome\"] == 0].sample(n = N_negative_delete, random_state = 42).index)\n",
    "\n",
    "print(\"N_negative_delete = \", N_negative_delete) "
   ]
  },
  {
   "cell_type": "code",
   "execution_count": 133,
   "metadata": {},
   "outputs": [
    {
     "name": "stdout",
     "output_type": "stream",
     "text": [
      "Number of Molecules =  226\n"
     ]
    }
   ],
   "source": [
    "# define number of molecules\n",
    "\n",
    "N_molecules = len(dataframe[\"smiles\"].values)\n",
    "\n",
    "print(\"Number of Molecules = \", N_molecules)"
   ]
  },
  {
   "cell_type": "code",
   "execution_count": 134,
   "metadata": {
    "colab": {
     "base_uri": "https://localhost:8080/",
     "height": 90
    },
    "colab_type": "code",
    "executionInfo": {
     "elapsed": 771,
     "status": "ok",
     "timestamp": 1599869443976,
     "user": {
      "displayName": "Markus Dablander",
      "photoUrl": "",
      "userId": "13467664559539683865"
     },
     "user_tz": -120
    },
    "id": "M1aIBqplSEaq",
    "outputId": "d9c43474-c7b7-4622-da65-6ebe36c9c3a1"
   },
   "outputs": [
    {
     "name": "stdout",
     "output_type": "stream",
     "text": [
      "Number of Positives =  113\n",
      "Fraction of Positives =  0.5\n",
      "Shape of y =  (226,)\n",
      "Shape of Y =  (226, 1)\n",
      "\n",
      " y =  [0 0 0 0 0 1 1 1 0 0 0 1 1 1 0 0 1 1 0 0 0 0 0 0 0 1 0 0 1 0 1 1 0 1 0 1 1\n",
      " 1 1 1 0 0 1 1 0 1 0 1 1 0 0 0 1 0 1 0 0 0 0 0 0 0 0 1 1 1 1 1 0 0 0 1 1 1\n",
      " 1 1 0 1 1 1 1 1 1 1 1 1 0 1 1 1 0 0 0 1 0 1 0 0 0 1 0 0 0 1 1 1 0 1 1 1 0\n",
      " 1 0 0 0 0 0 1 1 0 1 0 1 0 1 1 1 0 0 1 0 0 1 1 1 0 1 0 0 0 1 0 1 0 0 1 1 1\n",
      " 1 0 1 0 1 1 1 1 1 1 1 1 0 0 0 1 0 1 1 1 0 1 0 0 1 1 0 1 0 0 0 0 0 0 0 1 1\n",
      " 1 0 1 1 0 1 0 1 0 1 0 0 1 1 1 0 1 0 0 1 0 0 1 1 0 0 0 1 1 0 1 0 1 0 1 1 0\n",
      " 0 0 0 0]\n"
     ]
    }
   ],
   "source": [
    "# construct target variable y/Y (hERG inhibition)\n",
    "\n",
    "# extract labels\n",
    "y = dataframe.loc[:,\"RefinementOutcome\"].values\n",
    "Y = np.reshape(y, (len(y), 1))\n",
    "\n",
    "print(\"Number of Positives = \", np.sum(y))\n",
    "print(\"Fraction of Positives = \", np.sum(y)/N_molecules)\n",
    "\n",
    "\n",
    "print(\"Shape of y = \", y.shape)\n",
    "print(\"Shape of Y = \", Y.shape)\n",
    "\n",
    "print(\"\\n y = \", y)\n"
   ]
  },
  {
   "cell_type": "code",
   "execution_count": 135,
   "metadata": {
    "colab": {
     "base_uri": "https://localhost:8080/",
     "height": 222
    },
    "colab_type": "code",
    "executionInfo": {
     "elapsed": 444,
     "status": "ok",
     "timestamp": 1599869444377,
     "user": {
      "displayName": "Markus Dablander",
      "photoUrl": "",
      "userId": "13467664559539683865"
     },
     "user_tz": -120
    },
    "id": "PB82_jFUSEav",
    "outputId": "f151bbf0-8894-45c1-bd95-e747bc7c74b5"
   },
   "outputs": [
    {
     "name": "stdout",
     "output_type": "stream",
     "text": [
      "                  Smiles String\n",
      "CNC(=O)C=1C=CC=C(N1)C(=O)O\n"
     ]
    },
    {
     "data": {
      "image/png": "[encoded data removed]",
      "text/plain": [
       "<rdkit.Chem.rdchem.Mol at 0x7fee0c14d350>"
      ]
     },
     "metadata": {},
     "output_type": "display_data"
    },
    {
     "name": "stdout",
     "output_type": "stream",
     "text": [
      "Shape of x_smiles =  (226,)\n",
      "Shape of X_smiles =  (226, 1)\n",
      "\n",
      " x_smiles =  ['CNC(=O)C=1C=CC=C(N1)C(=O)O' 'COC=1C=CC(CCC2(C)NC(=O)NC2=O)=CC1'\n",
      " 'CC(NC(=O)C)C1=NN=C2C=CC=CN12' 'CC(=O)N1CCN(CC1)C=2C=CC(Cl)=CC2'\n",
      " 'CN(C)S(=O)(=O)N1CCN(C)CC1' 'CS(=O)(=O)NCCC=1C=CC=CC1'\n",
      " 'CC(=O)NCCC1=CNC=2C=CC(F)=CC12' 'CC(=O)NC=1C=NC=CC1C'\n",
      " 'CCCC1=CC(=O)OC=2C=C(OC(=O)C)C=CC12' 'CNCC=1C=CC(=CC1)C(F)(F)F']\n"
     ]
    }
   ],
   "source": [
    "# extract Smiles strings\n",
    "\n",
    "X_smiles = np.reshape(dataframe[\"smiles\"].values, (N_molecules, 1))\n",
    "x_smiles = X_smiles[:,0]\n",
    "\n",
    "print(\"                  Smiles String\")\n",
    "print(X_smiles[0:1][0][0])\n",
    "\n",
    "for s in x_smiles[0:1]:\n",
    "    molecule = Chem.MolFromSmiles(s)\n",
    "    display(molecule)\n",
    "    \n",
    "print(\"Shape of x_smiles = \", x_smiles.shape)\n",
    "print(\"Shape of X_smiles = \", X_smiles.shape)\n",
    "\n",
    "print(\"\\n x_smiles = \", x_smiles[0:10])"
   ]
  },
  {
   "cell_type": "markdown",
   "metadata": {
    "collapsed": "true"
   },
   "source": [
    "# Use Classification Method"
   ]
  },
  {
   "cell_type": "markdown",
   "metadata": {},
   "source": [
    "## Implement your favourite classification method here"
   ]
  },
  {
   "cell_type": "code",
   "execution_count": null,
   "metadata": {},
   "outputs": [],
   "source": []
  }
 ],
 "metadata": {
  "accelerator": "GPU",
  "colab": {
   "collapsed_sections": [
    "kee2e-GFy3LW",
    "goBvy2nHSEbU",
    "UkiCM3e9Gd7O",
    "ZnOzpAwWGf6x",
    "RUdRr7rTSEc6",
    "7HanBbXV2txi"
   ],
   "name": "Colab_LMP_ChEMBL_hERG_data.ipynb",
   "provenance": []
  },
  "kernelspec": {
   "display_name": "Python 3",
   "language": "python",
   "name": "python3"
  },
  "language_info": {
   "codemirror_mode": {
    "name": "ipython",
    "version": 3
   },
   "file_extension": ".py",
   "mimetype": "text/x-python",
   "name": "python",
   "nbconvert_exporter": "python",
   "pygments_lexer": "ipython3",
   "version": "3.7.7"
  }
 },
 "nbformat": 4,
 "nbformat_minor": 4
}
